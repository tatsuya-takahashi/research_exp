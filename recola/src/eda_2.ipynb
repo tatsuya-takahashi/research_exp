{
 "cells": [
  {
   "cell_type": "markdown",
   "metadata": {},
   "source": [
    "# EDA2"
   ]
  },
  {
   "cell_type": "markdown",
   "metadata": {},
   "source": [
    "- VAD後のデータ分析，可視化等\r\n",
    "- SVRは別\r\n",
    "- 元の音源の読み込みと，VAD後のcsvを読み込んで，区間を見る\r\n",
    "- labelのつき方とか"
   ]
  },
  {
   "cell_type": "markdown",
   "metadata": {},
   "source": [
    "## Library"
   ]
  },
  {
   "cell_type": "code",
   "execution_count": 8,
   "metadata": {},
   "outputs": [],
   "source": [
    "# library\r\n",
    "import pandas as pd\r\n",
    "import numpy as np\r\n",
    "import pathlib\r\n",
    "import plotly.express as px\r\n",
    "from sklearn.cluster import KMeans\r\n",
    "from scipy.io import arff\r\n",
    "from scipy import signal\r\n",
    "from plotly.subplots import make_subplots\r\n",
    "import plotly.graph_objects as go\r\n",
    "import librosa\r\n",
    "import IPython.display\r\n",
    "import json\r\n",
    "\r\n"
   ]
  },
  {
   "cell_type": "markdown",
   "metadata": {},
   "source": [
    "## CONST"
   ]
  },
  {
   "cell_type": "code",
   "execution_count": 9,
   "metadata": {},
   "outputs": [],
   "source": [
    "AROUSAL_DIR = pathlib.Path('e:/002_datasets/006_recola/2018_AVEC/baseline_features/baseline_features/labels/individual/arousal')\r\n",
    "VALENCE_DIR = pathlib.Path('e:/002_datasets/006_recola/2018_AVEC/baseline_features/baseline_features/labels/individual/valence')\r\n",
    "GOLD_AROUSAL_DIR = pathlib.Path('e:/002_datasets/006_recola/2018_AVEC/baseline_features/baseline_features/labels/gs_1/arousal')\r\n",
    "GOLD_VALENCE_DIR = pathlib.Path('e:/002_datasets/006_recola/2018_AVEC/baseline_features/baseline_features/labels/gs_1/valence')\r\n",
    "COL_AROUSAL = [\"time\", \"FM1a\", \"FM2a\", \"FM3a\", \"FF1a\", \"FF2a\", \"FF3a\"]\r\n",
    "COL_VALENCE = [\"timev\", \"FM1v\", \"FM2v\", \"FM3v\", \"FF1v\", \"FF2v\", \"FF3v\"]\r\n",
    "AUDIO_DIR = pathlib.Path('e:/002_datasets/006_recola/2018_AVEC/recordings_audio/recordings_audio')\r\n",
    "SR = 44100\r\n",
    "ISGOLD = True"
   ]
  },
  {
   "cell_type": "markdown",
   "metadata": {},
   "source": [
    "## Loader"
   ]
  },
  {
   "cell_type": "code",
   "execution_count": null,
   "metadata": {},
   "outputs": [],
   "source": []
  },
  {
   "cell_type": "code",
   "execution_count": 10,
   "metadata": {},
   "outputs": [
    {
     "data": {
      "text/plain": [
       "'total num: 135018'"
      ]
     },
     "metadata": {},
     "output_type": "display_data"
    },
    {
     "data": {
      "text/html": [
       "<div>\n",
       "<style scoped>\n",
       "    .dataframe tbody tr th:only-of-type {\n",
       "        vertical-align: middle;\n",
       "    }\n",
       "\n",
       "    .dataframe tbody tr th {\n",
       "        vertical-align: top;\n",
       "    }\n",
       "\n",
       "    .dataframe thead th {\n",
       "        text-align: right;\n",
       "    }\n",
       "</style>\n",
       "<table border=\"1\" class=\"dataframe\">\n",
       "  <thead>\n",
       "    <tr style=\"text-align: right;\">\n",
       "      <th></th>\n",
       "      <th>speaker</th>\n",
       "      <th>time</th>\n",
       "      <th>arousal</th>\n",
       "      <th>speakerv</th>\n",
       "      <th>timev</th>\n",
       "      <th>valence</th>\n",
       "    </tr>\n",
       "  </thead>\n",
       "  <tbody>\n",
       "    <tr>\n",
       "      <th>0</th>\n",
       "      <td>dev_1</td>\n",
       "      <td>0.00</td>\n",
       "      <td>-0.022925</td>\n",
       "      <td>dev_1</td>\n",
       "      <td>0.00</td>\n",
       "      <td>-0.008826</td>\n",
       "    </tr>\n",
       "    <tr>\n",
       "      <th>1</th>\n",
       "      <td>dev_1</td>\n",
       "      <td>0.04</td>\n",
       "      <td>-0.022925</td>\n",
       "      <td>dev_1</td>\n",
       "      <td>0.04</td>\n",
       "      <td>-0.008826</td>\n",
       "    </tr>\n",
       "    <tr>\n",
       "      <th>2</th>\n",
       "      <td>dev_1</td>\n",
       "      <td>0.08</td>\n",
       "      <td>-0.022925</td>\n",
       "      <td>dev_1</td>\n",
       "      <td>0.08</td>\n",
       "      <td>-0.008826</td>\n",
       "    </tr>\n",
       "    <tr>\n",
       "      <th>3</th>\n",
       "      <td>dev_1</td>\n",
       "      <td>0.12</td>\n",
       "      <td>-0.022925</td>\n",
       "      <td>dev_1</td>\n",
       "      <td>0.12</td>\n",
       "      <td>-0.008826</td>\n",
       "    </tr>\n",
       "    <tr>\n",
       "      <th>4</th>\n",
       "      <td>dev_1</td>\n",
       "      <td>0.16</td>\n",
       "      <td>-0.022925</td>\n",
       "      <td>dev_1</td>\n",
       "      <td>0.16</td>\n",
       "      <td>-0.008826</td>\n",
       "    </tr>\n",
       "  </tbody>\n",
       "</table>\n",
       "</div>"
      ],
      "text/plain": [
       "  speaker  time   arousal speakerv  timev   valence\n",
       "0   dev_1  0.00 -0.022925    dev_1   0.00 -0.008826\n",
       "1   dev_1  0.04 -0.022925    dev_1   0.04 -0.008826\n",
       "2   dev_1  0.08 -0.022925    dev_1   0.08 -0.008826\n",
       "3   dev_1  0.12 -0.022925    dev_1   0.12 -0.008826\n",
       "4   dev_1  0.16 -0.022925    dev_1   0.16 -0.008826"
      ]
     },
     "metadata": {},
     "output_type": "display_data"
    }
   ],
   "source": [
    "df_indvs = pd.DataFrame()\r\n",
    "\r\n",
    "for i in range(9):\r\n",
    "    # gold standard\r\n",
    "    if ISGOLD:\r\n",
    "        filename = 'dev_' + str(i + 1) + '.arff'\r\n",
    "\r\n",
    "        # gold standard\r\n",
    "        df_arousal_idv = pd.read_csv(GOLD_AROUSAL_DIR / filename, delimiter=',', skiprows=np.arange(0,8), header=None, names=[\"speaker\", \"time\", \"arousal\"])\r\n",
    "        df_valence_idv = pd.read_csv(GOLD_VALENCE_DIR / filename, delimiter=',', skiprows=np.arange(0,8), header=None, names=[\"speakerv\", \"timev\", \"valence\"])\r\n",
    "        df = pd.concat([df_arousal_idv, df_valence_idv], axis=1)    # concat arousal and valence\r\n",
    "        df_indvs = pd.concat([df_indvs, df])\r\n",
    "\r\n",
    "        # train\r\n",
    "        filename = 'train_' + str(i + 1) + '.arff'\r\n",
    "        df_arousal_idv = pd.read_csv(GOLD_AROUSAL_DIR / filename, delimiter=',', skiprows=np.arange(0,8), header=None, names=[\"speaker\", \"time\", \"arousal\"])\r\n",
    "        df_valence_idv = pd.read_csv(GOLD_VALENCE_DIR / filename, delimiter=',', skiprows=np.arange(0,8), header=None, names=[\"speakerv\", \"timev\", \"valence\"])\r\n",
    "        df = pd.concat([df_arousal_idv, df_valence_idv], axis=1)    # concat arousal and valence\r\n",
    "        df_indvs = pd.concat([df_indvs, df])\r\n",
    "\r\n",
    "    else:\r\n",
    "        # noisy label\r\n",
    "        filename = 'dev_' + str(i + 1) + '.csv'\r\n",
    "\r\n",
    "        # noisy\r\n",
    "        df_arousal_idv = pd.read_csv(AROUSAL_DIR / filename, delimiter=';', names=COL_AROUSAL, header=0)\r\n",
    "        df_valence_idv = pd.read_csv(VALENCE_DIR / filename, delimiter=';', names=COL_VALENCE, header=0)\r\n",
    "\r\n",
    "        # gold standard\r\n",
    "        df = pd.concat([df_arousal_idv, df_valence_idv], axis=1)    # concat arousal and valence\r\n",
    "        df[\"speaker\"] = 'dev_' + str(i + 1)\r\n",
    "        df_indvs = pd.concat([df_indvs, df])\r\n",
    "\r\n",
    "        # train\r\n",
    "        filename = 'train_' + str(i + 1) + '.csv'\r\n",
    "        df_arousal_idv = pd.read_csv(AROUSAL_DIR / filename, delimiter=';', names=COL_AROUSAL, header=0)\r\n",
    "        df_valence_idv = pd.read_csv(VALENCE_DIR / filename, delimiter=';', names=COL_VALENCE, header=0)\r\n",
    "        df = pd.concat([df_arousal_idv, df_valence_idv], axis=1)    # concat arousal and valence\r\n",
    "        df[\"speaker\"] = 'train_' + str(i + 1)\r\n",
    "        df_indvs = pd.concat([df_indvs, df])\r\n",
    "\r\n",
    "display(\"total num: {}\".format(len(df_indvs)))\r\n",
    "display(df_indvs.head())"
   ]
  },
  {
   "cell_type": "markdown",
   "metadata": {},
   "source": [
    "## Audio Read"
   ]
  },
  {
   "cell_type": "code",
   "execution_count": null,
   "metadata": {},
   "outputs": [],
   "source": []
  },
  {
   "cell_type": "code",
   "execution_count": 11,
   "metadata": {},
   "outputs": [
    {
     "ename": "SyntaxError",
     "evalue": "invalid syntax (<ipython-input-11-21ac355d01c9>, line 3)",
     "output_type": "error",
     "traceback": [
      "\u001b[1;36m  File \u001b[1;32m\"<ipython-input-11-21ac355d01c9>\"\u001b[1;36m, line \u001b[1;32m3\u001b[0m\n\u001b[1;33m    )IPython.display.Audio(wav, rate=sr\u001b[0m\n\u001b[1;37m     ^\u001b[0m\n\u001b[1;31mSyntaxError\u001b[0m\u001b[1;31m:\u001b[0m invalid syntax\n"
     ]
    }
   ],
   "source": [
    "# sample\r\n",
    "wav, sr = librosa.load(AUDIO_DIR / 'dev_1.wav', sr=SR\n",
    ")IPython.display.Audio(wav, rate=sr\r\n"
   ]
  },
  {
   "cell_type": "code",
   "execution_count": null,
   "metadata": {},
   "outputs": [],
   "source": []
  },
  {
   "cell_type": "code",
   "execution_count": null,
   "metadata": {},
   "outputs": [],
   "source": []
  },
  {
   "cell_type": "code",
   "execution_count": null,
   "metadata": {},
   "outputs": [],
   "source": []
  },
  {
   "cell_type": "code",
   "execution_count": null,
   "metadata": {},
   "outputs": [],
   "source": []
  },
  {
   "cell_type": "code",
   "execution_count": null,
   "metadata": {},
   "outputs": [],
   "source": []
  },
  {
   "cell_type": "code",
   "execution_count": null,
   "metadata": {},
   "outputs": [],
   "source": []
  }
 ],
 "metadata": {
  "interpreter": {
   "hash": "27aea0cd8eeb85eb7f1f0c1d3ddb84030b7fdf2e16880050672f3a8bc687c466"
  },
  "kernelspec": {
   "display_name": "Python 3",
   "language": "python",
   "name": "python3"
  },
  "language_info": {
   "codemirror_mode": {
    "name": "ipython",
    "version": 3
   },
   "file_extension": ".py",
   "mimetype": "text/x-python",
   "name": "python",
   "nbconvert_exporter": "python",
   "pygments_lexer": "ipython3",
   "version": "3.8.5"
  }
 },
 "nbformat": 4,
 "nbformat_minor": 4
}
