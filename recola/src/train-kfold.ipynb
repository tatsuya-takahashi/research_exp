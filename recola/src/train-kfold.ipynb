version https://git-lfs.github.com/spec/v1
oid sha256:8c85ff5f0dd005d86d9ba91be68b81ac0001d1048e165dae0fc287b7d1013b45
size 2346
