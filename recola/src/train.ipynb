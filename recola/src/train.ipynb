{
 "cells": [
  {
   "cell_type": "markdown",
   "metadata": {},
   "source": [
    "# Train"
   ]
  },
  {
   "cell_type": "code",
   "execution_count": 144,
   "metadata": {},
   "outputs": [],
   "source": [
    "# library\n",
    "import pandas as pd\n",
    "import numpy as np\n",
    "import pathlib\n",
    "import plotly.express as px\n",
    "from sklearn.cluster import KMeans\n",
    "import scipy\n",
    "from scipy.io import arff\n",
    "from scipy import signal\n",
    "from plotly.subplots import make_subplots\n",
    "import plotly.graph_objects as go\n",
    "import librosa\n",
    "import IPython.display\n",
    "import json\n",
    "from tqdm import tqdm\n",
    "import statistics\n",
    "import random\n",
    "import os\n",
    "from sklearn.model_selection import GroupKFold\n",
    "import numpy as np\n",
    "import matplotlib.pyplot as plt\n",
    "from matplotlib.patches import Patch\n",
    "from sklearn.preprocessing import LabelBinarizer\n",
    "from sklearn.preprocessing import LabelEncoder\n",
    "from sklearn.svm import SVR\n",
    "from sklearn.model_selection import cross_validate\n",
    "from sklearn.metrics import mean_absolute_error\n",
    "from sklearn.model_selection import StratifiedKFold\n",
    "cmap_data = plt.cm.Paired\n",
    "cmap_cv = plt.cm.coolwarm"
   ]
  },
  {
   "cell_type": "code",
   "execution_count": 36,
   "metadata": {},
   "outputs": [],
   "source": [
    "def seed_everything(seed):\n",
    "    random.seed(seed)\n",
    "    np.random.seed(seed)\n",
    "    os.environ['PYTHONHASHSEED'] = str(seed)\n",
    "\n",
    "RANDOM_SEED = 42\n",
    "seed_everything(RANDOM_SEED)"
   ]
  },
  {
   "cell_type": "code",
   "execution_count": 46,
   "metadata": {},
   "outputs": [
    {
     "name": "stdout",
     "output_type": "stream",
     "text": [
      "(427, 143)\n"
     ]
    },
    {
     "data": {
      "text/html": [
       "<div>\n",
       "<style scoped>\n",
       "    .dataframe tbody tr th:only-of-type {\n",
       "        vertical-align: middle;\n",
       "    }\n",
       "\n",
       "    .dataframe tbody tr th {\n",
       "        vertical-align: top;\n",
       "    }\n",
       "\n",
       "    .dataframe thead th {\n",
       "        text-align: right;\n",
       "    }\n",
       "</style>\n",
       "<table border=\"1\" class=\"dataframe\">\n",
       "  <thead>\n",
       "    <tr style=\"text-align: right;\">\n",
       "      <th></th>\n",
       "      <th>arousal</th>\n",
       "      <th>valence</th>\n",
       "      <th>speaker</th>\n",
       "      <th>starttime</th>\n",
       "      <th>endtime</th>\n",
       "      <th>duration</th>\n",
       "    </tr>\n",
       "  </thead>\n",
       "  <tbody>\n",
       "    <tr>\n",
       "      <th>0</th>\n",
       "      <td>0.008319</td>\n",
       "      <td>0.027559</td>\n",
       "      <td>dev_1</td>\n",
       "      <td>0.00</td>\n",
       "      <td>2.820023</td>\n",
       "      <td>2.820023</td>\n",
       "    </tr>\n",
       "    <tr>\n",
       "      <th>1</th>\n",
       "      <td>0.190632</td>\n",
       "      <td>0.142288</td>\n",
       "      <td>dev_1</td>\n",
       "      <td>5.79</td>\n",
       "      <td>13.200023</td>\n",
       "      <td>7.410023</td>\n",
       "    </tr>\n",
       "    <tr>\n",
       "      <th>2</th>\n",
       "      <td>-0.191232</td>\n",
       "      <td>-0.022424</td>\n",
       "      <td>dev_1</td>\n",
       "      <td>27.94</td>\n",
       "      <td>30.410023</td>\n",
       "      <td>2.470023</td>\n",
       "    </tr>\n",
       "    <tr>\n",
       "      <th>3</th>\n",
       "      <td>-0.253758</td>\n",
       "      <td>-0.063409</td>\n",
       "      <td>dev_1</td>\n",
       "      <td>33.04</td>\n",
       "      <td>33.280023</td>\n",
       "      <td>0.240023</td>\n",
       "    </tr>\n",
       "    <tr>\n",
       "      <th>4</th>\n",
       "      <td>0.134728</td>\n",
       "      <td>0.053930</td>\n",
       "      <td>dev_1</td>\n",
       "      <td>37.77</td>\n",
       "      <td>59.760023</td>\n",
       "      <td>21.990023</td>\n",
       "    </tr>\n",
       "  </tbody>\n",
       "</table>\n",
       "</div>"
      ],
      "text/plain": [
       "    arousal   valence speaker  starttime    endtime   duration\n",
       "0  0.008319  0.027559   dev_1       0.00   2.820023   2.820023\n",
       "1  0.190632  0.142288   dev_1       5.79  13.200023   7.410023\n",
       "2 -0.191232 -0.022424   dev_1      27.94  30.410023   2.470023\n",
       "3 -0.253758 -0.063409   dev_1      33.04  33.280023   0.240023\n",
       "4  0.134728  0.053930   dev_1      37.77  59.760023  21.990023"
      ]
     },
     "execution_count": 46,
     "metadata": {},
     "output_type": "execute_result"
    }
   ],
   "source": [
    "df_train = pd.read_csv(\"train.csv\")\n",
    "X = np.load(\"./train_feature.npy\")\n",
    "\n",
    "print(X.shape)\n",
    "df_train.head()"
   ]
  },
  {
   "cell_type": "code",
   "execution_count": 26,
   "metadata": {},
   "outputs": [
    {
     "data": {
      "text/html": [
       "<div>\n",
       "<style scoped>\n",
       "    .dataframe tbody tr th:only-of-type {\n",
       "        vertical-align: middle;\n",
       "    }\n",
       "\n",
       "    .dataframe tbody tr th {\n",
       "        vertical-align: top;\n",
       "    }\n",
       "\n",
       "    .dataframe thead th {\n",
       "        text-align: right;\n",
       "    }\n",
       "</style>\n",
       "<table border=\"1\" class=\"dataframe\">\n",
       "  <thead>\n",
       "    <tr style=\"text-align: right;\">\n",
       "      <th></th>\n",
       "      <th>arousal</th>\n",
       "      <th>valence</th>\n",
       "      <th>starttime</th>\n",
       "      <th>endtime</th>\n",
       "      <th>duration</th>\n",
       "    </tr>\n",
       "  </thead>\n",
       "  <tbody>\n",
       "    <tr>\n",
       "      <th>count</th>\n",
       "      <td>427.000000</td>\n",
       "      <td>427.000000</td>\n",
       "      <td>427.000000</td>\n",
       "      <td>427.000000</td>\n",
       "      <td>427.000000</td>\n",
       "    </tr>\n",
       "    <tr>\n",
       "      <th>mean</th>\n",
       "      <td>-0.054713</td>\n",
       "      <td>0.084354</td>\n",
       "      <td>143.151686</td>\n",
       "      <td>150.028407</td>\n",
       "      <td>6.876721</td>\n",
       "    </tr>\n",
       "    <tr>\n",
       "      <th>std</th>\n",
       "      <td>0.164167</td>\n",
       "      <td>0.115745</td>\n",
       "      <td>87.256258</td>\n",
       "      <td>87.293594</td>\n",
       "      <td>10.039718</td>\n",
       "    </tr>\n",
       "    <tr>\n",
       "      <th>min</th>\n",
       "      <td>-0.548091</td>\n",
       "      <td>-0.161207</td>\n",
       "      <td>0.000000</td>\n",
       "      <td>0.000023</td>\n",
       "      <td>0.000023</td>\n",
       "    </tr>\n",
       "    <tr>\n",
       "      <th>25%</th>\n",
       "      <td>-0.177090</td>\n",
       "      <td>0.003054</td>\n",
       "      <td>63.385000</td>\n",
       "      <td>69.555023</td>\n",
       "      <td>1.110023</td>\n",
       "    </tr>\n",
       "    <tr>\n",
       "      <th>50%</th>\n",
       "      <td>-0.031569</td>\n",
       "      <td>0.064666</td>\n",
       "      <td>146.530000</td>\n",
       "      <td>153.690023</td>\n",
       "      <td>3.890023</td>\n",
       "    </tr>\n",
       "    <tr>\n",
       "      <th>75%</th>\n",
       "      <td>0.070150</td>\n",
       "      <td>0.143972</td>\n",
       "      <td>219.860000</td>\n",
       "      <td>224.625023</td>\n",
       "      <td>8.310023</td>\n",
       "    </tr>\n",
       "    <tr>\n",
       "      <th>max</th>\n",
       "      <td>0.355714</td>\n",
       "      <td>0.543328</td>\n",
       "      <td>297.720000</td>\n",
       "      <td>298.130023</td>\n",
       "      <td>113.340023</td>\n",
       "    </tr>\n",
       "  </tbody>\n",
       "</table>\n",
       "</div>"
      ],
      "text/plain": [
       "          arousal     valence   starttime     endtime    duration\n",
       "count  427.000000  427.000000  427.000000  427.000000  427.000000\n",
       "mean    -0.054713    0.084354  143.151686  150.028407    6.876721\n",
       "std      0.164167    0.115745   87.256258   87.293594   10.039718\n",
       "min     -0.548091   -0.161207    0.000000    0.000023    0.000023\n",
       "25%     -0.177090    0.003054   63.385000   69.555023    1.110023\n",
       "50%     -0.031569    0.064666  146.530000  153.690023    3.890023\n",
       "75%      0.070150    0.143972  219.860000  224.625023    8.310023\n",
       "max      0.355714    0.543328  297.720000  298.130023  113.340023"
      ]
     },
     "execution_count": 26,
     "metadata": {},
     "output_type": "execute_result"
    }
   ],
   "source": [
    "df_train.describe()"
   ]
  },
  {
   "cell_type": "code",
   "execution_count": 22,
   "metadata": {},
   "outputs": [
    {
     "data": {
      "application/vnd.plotly.v1+json": {
       "config": {
        "plotlyServerURL": "https://plot.ly"
       },
       "data": [
        {
         "alignmentgroup": "True",
         "hovertemplate": "speaker=%{x}<br>count=%{y}<extra></extra>",
         "legendgroup": "",
         "marker": {
          "color": "#1F77B4"
         },
         "name": "",
         "offsetgroup": "",
         "orientation": "v",
         "showlegend": false,
         "textposition": "auto",
         "type": "bar",
         "x": [
          "dev_1",
          "dev_2",
          "dev_3",
          "dev_4",
          "dev_5",
          "dev_6",
          "dev_7",
          "dev_8",
          "dev_9",
          "train_1",
          "train_2",
          "train_3",
          "train_4",
          "train_5",
          "train_6",
          "train_7",
          "train_8",
          "train_9"
         ],
         "xaxis": "x",
         "y": [
          26,
          16,
          30,
          27,
          31,
          23,
          29,
          20,
          29,
          34,
          14,
          17,
          20,
          28,
          24,
          22,
          22,
          15
         ],
         "yaxis": "y"
        }
       ],
       "layout": {
        "autosize": true,
        "barmode": "relative",
        "legend": {
         "tracegroupgap": 0
        },
        "template": {
         "data": {
          "bar": [
           {
            "error_x": {
             "color": "rgb(36,36,36)"
            },
            "error_y": {
             "color": "rgb(36,36,36)"
            },
            "marker": {
             "line": {
              "color": "white",
              "width": 0.5
             }
            },
            "type": "bar"
           }
          ],
          "barpolar": [
           {
            "marker": {
             "line": {
              "color": "white",
              "width": 0.5
             }
            },
            "type": "barpolar"
           }
          ],
          "carpet": [
           {
            "aaxis": {
             "endlinecolor": "rgb(36,36,36)",
             "gridcolor": "white",
             "linecolor": "white",
             "minorgridcolor": "white",
             "startlinecolor": "rgb(36,36,36)"
            },
            "baxis": {
             "endlinecolor": "rgb(36,36,36)",
             "gridcolor": "white",
             "linecolor": "white",
             "minorgridcolor": "white",
             "startlinecolor": "rgb(36,36,36)"
            },
            "type": "carpet"
           }
          ],
          "choropleth": [
           {
            "colorbar": {
             "outlinewidth": 1,
             "tickcolor": "rgb(36,36,36)",
             "ticks": "outside"
            },
            "type": "choropleth"
           }
          ],
          "contour": [
           {
            "colorbar": {
             "outlinewidth": 1,
             "tickcolor": "rgb(36,36,36)",
             "ticks": "outside"
            },
            "colorscale": [
             [
              0,
              "#440154"
             ],
             [
              0.1111111111111111,
              "#482878"
             ],
             [
              0.2222222222222222,
              "#3e4989"
             ],
             [
              0.3333333333333333,
              "#31688e"
             ],
             [
              0.4444444444444444,
              "#26828e"
             ],
             [
              0.5555555555555556,
              "#1f9e89"
             ],
             [
              0.6666666666666666,
              "#35b779"
             ],
             [
              0.7777777777777778,
              "#6ece58"
             ],
             [
              0.8888888888888888,
              "#b5de2b"
             ],
             [
              1,
              "#fde725"
             ]
            ],
            "type": "contour"
           }
          ],
          "contourcarpet": [
           {
            "colorbar": {
             "outlinewidth": 1,
             "tickcolor": "rgb(36,36,36)",
             "ticks": "outside"
            },
            "type": "contourcarpet"
           }
          ],
          "heatmap": [
           {
            "colorbar": {
             "outlinewidth": 1,
             "tickcolor": "rgb(36,36,36)",
             "ticks": "outside"
            },
            "colorscale": [
             [
              0,
              "#440154"
             ],
             [
              0.1111111111111111,
              "#482878"
             ],
             [
              0.2222222222222222,
              "#3e4989"
             ],
             [
              0.3333333333333333,
              "#31688e"
             ],
             [
              0.4444444444444444,
              "#26828e"
             ],
             [
              0.5555555555555556,
              "#1f9e89"
             ],
             [
              0.6666666666666666,
              "#35b779"
             ],
             [
              0.7777777777777778,
              "#6ece58"
             ],
             [
              0.8888888888888888,
              "#b5de2b"
             ],
             [
              1,
              "#fde725"
             ]
            ],
            "type": "heatmap"
           }
          ],
          "heatmapgl": [
           {
            "colorbar": {
             "outlinewidth": 1,
             "tickcolor": "rgb(36,36,36)",
             "ticks": "outside"
            },
            "colorscale": [
             [
              0,
              "#440154"
             ],
             [
              0.1111111111111111,
              "#482878"
             ],
             [
              0.2222222222222222,
              "#3e4989"
             ],
             [
              0.3333333333333333,
              "#31688e"
             ],
             [
              0.4444444444444444,
              "#26828e"
             ],
             [
              0.5555555555555556,
              "#1f9e89"
             ],
             [
              0.6666666666666666,
              "#35b779"
             ],
             [
              0.7777777777777778,
              "#6ece58"
             ],
             [
              0.8888888888888888,
              "#b5de2b"
             ],
             [
              1,
              "#fde725"
             ]
            ],
            "type": "heatmapgl"
           }
          ],
          "histogram": [
           {
            "marker": {
             "line": {
              "color": "white",
              "width": 0.6
             }
            },
            "type": "histogram"
           }
          ],
          "histogram2d": [
           {
            "colorbar": {
             "outlinewidth": 1,
             "tickcolor": "rgb(36,36,36)",
             "ticks": "outside"
            },
            "colorscale": [
             [
              0,
              "#440154"
             ],
             [
              0.1111111111111111,
              "#482878"
             ],
             [
              0.2222222222222222,
              "#3e4989"
             ],
             [
              0.3333333333333333,
              "#31688e"
             ],
             [
              0.4444444444444444,
              "#26828e"
             ],
             [
              0.5555555555555556,
              "#1f9e89"
             ],
             [
              0.6666666666666666,
              "#35b779"
             ],
             [
              0.7777777777777778,
              "#6ece58"
             ],
             [
              0.8888888888888888,
              "#b5de2b"
             ],
             [
              1,
              "#fde725"
             ]
            ],
            "type": "histogram2d"
           }
          ],
          "histogram2dcontour": [
           {
            "colorbar": {
             "outlinewidth": 1,
             "tickcolor": "rgb(36,36,36)",
             "ticks": "outside"
            },
            "colorscale": [
             [
              0,
              "#440154"
             ],
             [
              0.1111111111111111,
              "#482878"
             ],
             [
              0.2222222222222222,
              "#3e4989"
             ],
             [
              0.3333333333333333,
              "#31688e"
             ],
             [
              0.4444444444444444,
              "#26828e"
             ],
             [
              0.5555555555555556,
              "#1f9e89"
             ],
             [
              0.6666666666666666,
              "#35b779"
             ],
             [
              0.7777777777777778,
              "#6ece58"
             ],
             [
              0.8888888888888888,
              "#b5de2b"
             ],
             [
              1,
              "#fde725"
             ]
            ],
            "type": "histogram2dcontour"
           }
          ],
          "mesh3d": [
           {
            "colorbar": {
             "outlinewidth": 1,
             "tickcolor": "rgb(36,36,36)",
             "ticks": "outside"
            },
            "type": "mesh3d"
           }
          ],
          "parcoords": [
           {
            "line": {
             "colorbar": {
              "outlinewidth": 1,
              "tickcolor": "rgb(36,36,36)",
              "ticks": "outside"
             }
            },
            "type": "parcoords"
           }
          ],
          "pie": [
           {
            "automargin": true,
            "type": "pie"
           }
          ],
          "scatter": [
           {
            "marker": {
             "colorbar": {
              "outlinewidth": 1,
              "tickcolor": "rgb(36,36,36)",
              "ticks": "outside"
             }
            },
            "type": "scatter"
           }
          ],
          "scatter3d": [
           {
            "line": {
             "colorbar": {
              "outlinewidth": 1,
              "tickcolor": "rgb(36,36,36)",
              "ticks": "outside"
             }
            },
            "marker": {
             "colorbar": {
              "outlinewidth": 1,
              "tickcolor": "rgb(36,36,36)",
              "ticks": "outside"
             }
            },
            "type": "scatter3d"
           }
          ],
          "scattercarpet": [
           {
            "marker": {
             "colorbar": {
              "outlinewidth": 1,
              "tickcolor": "rgb(36,36,36)",
              "ticks": "outside"
             }
            },
            "type": "scattercarpet"
           }
          ],
          "scattergeo": [
           {
            "marker": {
             "colorbar": {
              "outlinewidth": 1,
              "tickcolor": "rgb(36,36,36)",
              "ticks": "outside"
             }
            },
            "type": "scattergeo"
           }
          ],
          "scattergl": [
           {
            "marker": {
             "colorbar": {
              "outlinewidth": 1,
              "tickcolor": "rgb(36,36,36)",
              "ticks": "outside"
             }
            },
            "type": "scattergl"
           }
          ],
          "scattermapbox": [
           {
            "marker": {
             "colorbar": {
              "outlinewidth": 1,
              "tickcolor": "rgb(36,36,36)",
              "ticks": "outside"
             }
            },
            "type": "scattermapbox"
           }
          ],
          "scatterpolar": [
           {
            "marker": {
             "colorbar": {
              "outlinewidth": 1,
              "tickcolor": "rgb(36,36,36)",
              "ticks": "outside"
             }
            },
            "type": "scatterpolar"
           }
          ],
          "scatterpolargl": [
           {
            "marker": {
             "colorbar": {
              "outlinewidth": 1,
              "tickcolor": "rgb(36,36,36)",
              "ticks": "outside"
             }
            },
            "type": "scatterpolargl"
           }
          ],
          "scatterternary": [
           {
            "marker": {
             "colorbar": {
              "outlinewidth": 1,
              "tickcolor": "rgb(36,36,36)",
              "ticks": "outside"
             }
            },
            "type": "scatterternary"
           }
          ],
          "surface": [
           {
            "colorbar": {
             "outlinewidth": 1,
             "tickcolor": "rgb(36,36,36)",
             "ticks": "outside"
            },
            "colorscale": [
             [
              0,
              "#440154"
             ],
             [
              0.1111111111111111,
              "#482878"
             ],
             [
              0.2222222222222222,
              "#3e4989"
             ],
             [
              0.3333333333333333,
              "#31688e"
             ],
             [
              0.4444444444444444,
              "#26828e"
             ],
             [
              0.5555555555555556,
              "#1f9e89"
             ],
             [
              0.6666666666666666,
              "#35b779"
             ],
             [
              0.7777777777777778,
              "#6ece58"
             ],
             [
              0.8888888888888888,
              "#b5de2b"
             ],
             [
              1,
              "#fde725"
             ]
            ],
            "type": "surface"
           }
          ],
          "table": [
           {
            "cells": {
             "fill": {
              "color": "rgb(237,237,237)"
             },
             "line": {
              "color": "white"
             }
            },
            "header": {
             "fill": {
              "color": "rgb(217,217,217)"
             },
             "line": {
              "color": "white"
             }
            },
            "type": "table"
           }
          ]
         },
         "layout": {
          "annotationdefaults": {
           "arrowhead": 0,
           "arrowwidth": 1
          },
          "autotypenumbers": "strict",
          "coloraxis": {
           "colorbar": {
            "outlinewidth": 1,
            "tickcolor": "rgb(36,36,36)",
            "ticks": "outside"
           }
          },
          "colorscale": {
           "diverging": [
            [
             0,
             "rgb(103,0,31)"
            ],
            [
             0.1,
             "rgb(178,24,43)"
            ],
            [
             0.2,
             "rgb(214,96,77)"
            ],
            [
             0.3,
             "rgb(244,165,130)"
            ],
            [
             0.4,
             "rgb(253,219,199)"
            ],
            [
             0.5,
             "rgb(247,247,247)"
            ],
            [
             0.6,
             "rgb(209,229,240)"
            ],
            [
             0.7,
             "rgb(146,197,222)"
            ],
            [
             0.8,
             "rgb(67,147,195)"
            ],
            [
             0.9,
             "rgb(33,102,172)"
            ],
            [
             1,
             "rgb(5,48,97)"
            ]
           ],
           "sequential": [
            [
             0,
             "#440154"
            ],
            [
             0.1111111111111111,
             "#482878"
            ],
            [
             0.2222222222222222,
             "#3e4989"
            ],
            [
             0.3333333333333333,
             "#31688e"
            ],
            [
             0.4444444444444444,
             "#26828e"
            ],
            [
             0.5555555555555556,
             "#1f9e89"
            ],
            [
             0.6666666666666666,
             "#35b779"
            ],
            [
             0.7777777777777778,
             "#6ece58"
            ],
            [
             0.8888888888888888,
             "#b5de2b"
            ],
            [
             1,
             "#fde725"
            ]
           ],
           "sequentialminus": [
            [
             0,
             "#440154"
            ],
            [
             0.1111111111111111,
             "#482878"
            ],
            [
             0.2222222222222222,
             "#3e4989"
            ],
            [
             0.3333333333333333,
             "#31688e"
            ],
            [
             0.4444444444444444,
             "#26828e"
            ],
            [
             0.5555555555555556,
             "#1f9e89"
            ],
            [
             0.6666666666666666,
             "#35b779"
            ],
            [
             0.7777777777777778,
             "#6ece58"
            ],
            [
             0.8888888888888888,
             "#b5de2b"
            ],
            [
             1,
             "#fde725"
            ]
           ]
          },
          "colorway": [
           "#1F77B4",
           "#FF7F0E",
           "#2CA02C",
           "#D62728",
           "#9467BD",
           "#8C564B",
           "#E377C2",
           "#7F7F7F",
           "#BCBD22",
           "#17BECF"
          ],
          "font": {
           "color": "rgb(36,36,36)"
          },
          "geo": {
           "bgcolor": "white",
           "lakecolor": "white",
           "landcolor": "white",
           "showlakes": true,
           "showland": true,
           "subunitcolor": "white"
          },
          "hoverlabel": {
           "align": "left"
          },
          "hovermode": "closest",
          "mapbox": {
           "style": "light"
          },
          "paper_bgcolor": "white",
          "plot_bgcolor": "white",
          "polar": {
           "angularaxis": {
            "gridcolor": "rgb(232,232,232)",
            "linecolor": "rgb(36,36,36)",
            "showgrid": false,
            "showline": true,
            "ticks": "outside"
           },
           "bgcolor": "white",
           "radialaxis": {
            "gridcolor": "rgb(232,232,232)",
            "linecolor": "rgb(36,36,36)",
            "showgrid": false,
            "showline": true,
            "ticks": "outside"
           }
          },
          "scene": {
           "xaxis": {
            "backgroundcolor": "white",
            "gridcolor": "rgb(232,232,232)",
            "gridwidth": 2,
            "linecolor": "rgb(36,36,36)",
            "showbackground": true,
            "showgrid": false,
            "showline": true,
            "ticks": "outside",
            "zeroline": false,
            "zerolinecolor": "rgb(36,36,36)"
           },
           "yaxis": {
            "backgroundcolor": "white",
            "gridcolor": "rgb(232,232,232)",
            "gridwidth": 2,
            "linecolor": "rgb(36,36,36)",
            "showbackground": true,
            "showgrid": false,
            "showline": true,
            "ticks": "outside",
            "zeroline": false,
            "zerolinecolor": "rgb(36,36,36)"
           },
           "zaxis": {
            "backgroundcolor": "white",
            "gridcolor": "rgb(232,232,232)",
            "gridwidth": 2,
            "linecolor": "rgb(36,36,36)",
            "showbackground": true,
            "showgrid": false,
            "showline": true,
            "ticks": "outside",
            "zeroline": false,
            "zerolinecolor": "rgb(36,36,36)"
           }
          },
          "shapedefaults": {
           "fillcolor": "black",
           "line": {
            "width": 0
           },
           "opacity": 0.3
          },
          "ternary": {
           "aaxis": {
            "gridcolor": "rgb(232,232,232)",
            "linecolor": "rgb(36,36,36)",
            "showgrid": false,
            "showline": true,
            "ticks": "outside"
           },
           "baxis": {
            "gridcolor": "rgb(232,232,232)",
            "linecolor": "rgb(36,36,36)",
            "showgrid": false,
            "showline": true,
            "ticks": "outside"
           },
           "bgcolor": "white",
           "caxis": {
            "gridcolor": "rgb(232,232,232)",
            "linecolor": "rgb(36,36,36)",
            "showgrid": false,
            "showline": true,
            "ticks": "outside"
           }
          },
          "title": {
           "x": 0.05
          },
          "xaxis": {
           "automargin": true,
           "gridcolor": "rgb(232,232,232)",
           "linecolor": "rgb(36,36,36)",
           "showgrid": false,
           "showline": true,
           "ticks": "outside",
           "title": {
            "standoff": 15
           },
           "zeroline": false,
           "zerolinecolor": "rgb(36,36,36)"
          },
          "yaxis": {
           "automargin": true,
           "gridcolor": "rgb(232,232,232)",
           "linecolor": "rgb(36,36,36)",
           "showgrid": false,
           "showline": true,
           "ticks": "outside",
           "title": {
            "standoff": 15
           },
           "zeroline": false,
           "zerolinecolor": "rgb(36,36,36)"
          }
         }
        },
        "title": {
         "text": "話者ごとの発話チャンク数"
        },
        "xaxis": {
         "anchor": "y",
         "autorange": true,
         "domain": [
          0,
          1
         ],
         "range": [
          -0.5,
          17.5
         ],
         "title": {
          "text": "speaker"
         },
         "type": "category"
        },
        "yaxis": {
         "anchor": "x",
         "autorange": true,
         "domain": [
          0,
          1
         ],
         "range": [
          0,
          35.78947368421053
         ],
         "title": {
          "text": "count"
         },
         "type": "linear"
        }
       }
      },
      "image/png": "[encoded data removed]",
      "text/html": [
       "<div>                            <div id=\"e11fa30e-07f8-42a8-ad39-53e3d388a911\" class=\"plotly-graph-div\" style=\"height:525px; width:100%;\"></div>            <script type=\"text/javascript\">                require([\"plotly\"], function(Plotly) {                    window.PLOTLYENV=window.PLOTLYENV || {};                                    if (document.getElementById(\"e11fa30e-07f8-42a8-ad39-53e3d388a911\")) {                    Plotly.newPlot(                        \"e11fa30e-07f8-42a8-ad39-53e3d388a911\",                        [{\"alignmentgroup\": \"True\", \"hovertemplate\": \"speaker=%{x}<br>count=%{y}<extra></extra>\", \"legendgroup\": \"\", \"marker\": {\"color\": \"#1F77B4\"}, \"name\": \"\", \"offsetgroup\": \"\", \"orientation\": \"v\", \"showlegend\": false, \"textposition\": \"auto\", \"type\": \"bar\", \"x\": [\"dev_1\", \"dev_2\", \"dev_3\", \"dev_4\", \"dev_5\", \"dev_6\", \"dev_7\", \"dev_8\", \"dev_9\", \"train_1\", \"train_2\", \"train_3\", \"train_4\", \"train_5\", \"train_6\", \"train_7\", \"train_8\", \"train_9\"], \"xaxis\": \"x\", \"y\": [26, 16, 30, 27, 31, 23, 29, 20, 29, 34, 14, 17, 20, 28, 24, 22, 22, 15], \"yaxis\": \"y\"}],                        {\"barmode\": \"relative\", \"legend\": {\"tracegroupgap\": 0}, \"template\": {\"data\": {\"bar\": [{\"error_x\": {\"color\": \"rgb(36,36,36)\"}, \"error_y\": {\"color\": \"rgb(36,36,36)\"}, \"marker\": {\"line\": {\"color\": \"white\", \"width\": 0.5}}, \"type\": \"bar\"}], \"barpolar\": [{\"marker\": {\"line\": {\"color\": \"white\", \"width\": 0.5}}, \"type\": \"barpolar\"}], \"carpet\": [{\"aaxis\": {\"endlinecolor\": \"rgb(36,36,36)\", \"gridcolor\": \"white\", \"linecolor\": \"white\", \"minorgridcolor\": \"white\", \"startlinecolor\": \"rgb(36,36,36)\"}, \"baxis\": {\"endlinecolor\": \"rgb(36,36,36)\", \"gridcolor\": \"white\", \"linecolor\": \"white\", \"minorgridcolor\": \"white\", \"startlinecolor\": \"rgb(36,36,36)\"}, \"type\": \"carpet\"}], \"choropleth\": [{\"colorbar\": {\"outlinewidth\": 1, \"tickcolor\": \"rgb(36,36,36)\", \"ticks\": \"outside\"}, \"type\": \"choropleth\"}], \"contour\": [{\"colorbar\": {\"outlinewidth\": 1, \"tickcolor\": \"rgb(36,36,36)\", \"ticks\": \"outside\"}, \"colorscale\": [[0.0, \"#440154\"], [0.1111111111111111, \"#482878\"], [0.2222222222222222, \"#3e4989\"], [0.3333333333333333, \"#31688e\"], [0.4444444444444444, \"#26828e\"], [0.5555555555555556, \"#1f9e89\"], [0.6666666666666666, \"#35b779\"], [0.7777777777777778, \"#6ece58\"], [0.8888888888888888, \"#b5de2b\"], [1.0, \"#fde725\"]], \"type\": \"contour\"}], \"contourcarpet\": [{\"colorbar\": {\"outlinewidth\": 1, \"tickcolor\": \"rgb(36,36,36)\", \"ticks\": \"outside\"}, \"type\": \"contourcarpet\"}], \"heatmap\": [{\"colorbar\": {\"outlinewidth\": 1, \"tickcolor\": \"rgb(36,36,36)\", \"ticks\": \"outside\"}, \"colorscale\": [[0.0, \"#440154\"], [0.1111111111111111, \"#482878\"], [0.2222222222222222, \"#3e4989\"], [0.3333333333333333, \"#31688e\"], [0.4444444444444444, \"#26828e\"], [0.5555555555555556, \"#1f9e89\"], [0.6666666666666666, \"#35b779\"], [0.7777777777777778, \"#6ece58\"], [0.8888888888888888, \"#b5de2b\"], [1.0, \"#fde725\"]], \"type\": \"heatmap\"}], \"heatmapgl\": [{\"colorbar\": {\"outlinewidth\": 1, \"tickcolor\": \"rgb(36,36,36)\", \"ticks\": \"outside\"}, \"colorscale\": [[0.0, \"#440154\"], [0.1111111111111111, \"#482878\"], [0.2222222222222222, \"#3e4989\"], [0.3333333333333333, \"#31688e\"], [0.4444444444444444, \"#26828e\"], [0.5555555555555556, \"#1f9e89\"], [0.6666666666666666, \"#35b779\"], [0.7777777777777778, \"#6ece58\"], [0.8888888888888888, \"#b5de2b\"], [1.0, \"#fde725\"]], \"type\": \"heatmapgl\"}], \"histogram\": [{\"marker\": {\"line\": {\"color\": \"white\", \"width\": 0.6}}, \"type\": \"histogram\"}], \"histogram2d\": [{\"colorbar\": {\"outlinewidth\": 1, \"tickcolor\": \"rgb(36,36,36)\", \"ticks\": \"outside\"}, \"colorscale\": [[0.0, \"#440154\"], [0.1111111111111111, \"#482878\"], [0.2222222222222222, \"#3e4989\"], [0.3333333333333333, \"#31688e\"], [0.4444444444444444, \"#26828e\"], [0.5555555555555556, \"#1f9e89\"], [0.6666666666666666, \"#35b779\"], [0.7777777777777778, \"#6ece58\"], [0.8888888888888888, \"#b5de2b\"], [1.0, \"#fde725\"]], \"type\": \"histogram2d\"}], \"histogram2dcontour\": [{\"colorbar\": {\"outlinewidth\": 1, \"tickcolor\": \"rgb(36,36,36)\", \"ticks\": \"outside\"}, \"colorscale\": [[0.0, \"#440154\"], [0.1111111111111111, \"#482878\"], [0.2222222222222222, \"#3e4989\"], [0.3333333333333333, \"#31688e\"], [0.4444444444444444, \"#26828e\"], [0.5555555555555556, \"#1f9e89\"], [0.6666666666666666, \"#35b779\"], [0.7777777777777778, \"#6ece58\"], [0.8888888888888888, \"#b5de2b\"], [1.0, \"#fde725\"]], \"type\": \"histogram2dcontour\"}], \"mesh3d\": [{\"colorbar\": {\"outlinewidth\": 1, \"tickcolor\": \"rgb(36,36,36)\", \"ticks\": \"outside\"}, \"type\": \"mesh3d\"}], \"parcoords\": [{\"line\": {\"colorbar\": {\"outlinewidth\": 1, \"tickcolor\": \"rgb(36,36,36)\", \"ticks\": \"outside\"}}, \"type\": \"parcoords\"}], \"pie\": [{\"automargin\": true, \"type\": \"pie\"}], \"scatter\": [{\"marker\": {\"colorbar\": {\"outlinewidth\": 1, \"tickcolor\": \"rgb(36,36,36)\", \"ticks\": \"outside\"}}, \"type\": \"scatter\"}], \"scatter3d\": [{\"line\": {\"colorbar\": {\"outlinewidth\": 1, \"tickcolor\": \"rgb(36,36,36)\", \"ticks\": \"outside\"}}, \"marker\": {\"colorbar\": {\"outlinewidth\": 1, \"tickcolor\": \"rgb(36,36,36)\", \"ticks\": \"outside\"}}, \"type\": \"scatter3d\"}], \"scattercarpet\": [{\"marker\": {\"colorbar\": {\"outlinewidth\": 1, \"tickcolor\": \"rgb(36,36,36)\", \"ticks\": \"outside\"}}, \"type\": \"scattercarpet\"}], \"scattergeo\": [{\"marker\": {\"colorbar\": {\"outlinewidth\": 1, \"tickcolor\": \"rgb(36,36,36)\", \"ticks\": \"outside\"}}, \"type\": \"scattergeo\"}], \"scattergl\": [{\"marker\": {\"colorbar\": {\"outlinewidth\": 1, \"tickcolor\": \"rgb(36,36,36)\", \"ticks\": \"outside\"}}, \"type\": \"scattergl\"}], \"scattermapbox\": [{\"marker\": {\"colorbar\": {\"outlinewidth\": 1, \"tickcolor\": \"rgb(36,36,36)\", \"ticks\": \"outside\"}}, \"type\": \"scattermapbox\"}], \"scatterpolar\": [{\"marker\": {\"colorbar\": {\"outlinewidth\": 1, \"tickcolor\": \"rgb(36,36,36)\", \"ticks\": \"outside\"}}, \"type\": \"scatterpolar\"}], \"scatterpolargl\": [{\"marker\": {\"colorbar\": {\"outlinewidth\": 1, \"tickcolor\": \"rgb(36,36,36)\", \"ticks\": \"outside\"}}, \"type\": \"scatterpolargl\"}], \"scatterternary\": [{\"marker\": {\"colorbar\": {\"outlinewidth\": 1, \"tickcolor\": \"rgb(36,36,36)\", \"ticks\": \"outside\"}}, \"type\": \"scatterternary\"}], \"surface\": [{\"colorbar\": {\"outlinewidth\": 1, \"tickcolor\": \"rgb(36,36,36)\", \"ticks\": \"outside\"}, \"colorscale\": [[0.0, \"#440154\"], [0.1111111111111111, \"#482878\"], [0.2222222222222222, \"#3e4989\"], [0.3333333333333333, \"#31688e\"], [0.4444444444444444, \"#26828e\"], [0.5555555555555556, \"#1f9e89\"], [0.6666666666666666, \"#35b779\"], [0.7777777777777778, \"#6ece58\"], [0.8888888888888888, \"#b5de2b\"], [1.0, \"#fde725\"]], \"type\": \"surface\"}], \"table\": [{\"cells\": {\"fill\": {\"color\": \"rgb(237,237,237)\"}, \"line\": {\"color\": \"white\"}}, \"header\": {\"fill\": {\"color\": \"rgb(217,217,217)\"}, \"line\": {\"color\": \"white\"}}, \"type\": \"table\"}]}, \"layout\": {\"annotationdefaults\": {\"arrowhead\": 0, \"arrowwidth\": 1}, \"autotypenumbers\": \"strict\", \"coloraxis\": {\"colorbar\": {\"outlinewidth\": 1, \"tickcolor\": \"rgb(36,36,36)\", \"ticks\": \"outside\"}}, \"colorscale\": {\"diverging\": [[0.0, \"rgb(103,0,31)\"], [0.1, \"rgb(178,24,43)\"], [0.2, \"rgb(214,96,77)\"], [0.3, \"rgb(244,165,130)\"], [0.4, \"rgb(253,219,199)\"], [0.5, \"rgb(247,247,247)\"], [0.6, \"rgb(209,229,240)\"], [0.7, \"rgb(146,197,222)\"], [0.8, \"rgb(67,147,195)\"], [0.9, \"rgb(33,102,172)\"], [1.0, \"rgb(5,48,97)\"]], \"sequential\": [[0.0, \"#440154\"], [0.1111111111111111, \"#482878\"], [0.2222222222222222, \"#3e4989\"], [0.3333333333333333, \"#31688e\"], [0.4444444444444444, \"#26828e\"], [0.5555555555555556, \"#1f9e89\"], [0.6666666666666666, \"#35b779\"], [0.7777777777777778, \"#6ece58\"], [0.8888888888888888, \"#b5de2b\"], [1.0, \"#fde725\"]], \"sequentialminus\": [[0.0, \"#440154\"], [0.1111111111111111, \"#482878\"], [0.2222222222222222, \"#3e4989\"], [0.3333333333333333, \"#31688e\"], [0.4444444444444444, \"#26828e\"], [0.5555555555555556, \"#1f9e89\"], [0.6666666666666666, \"#35b779\"], [0.7777777777777778, \"#6ece58\"], [0.8888888888888888, \"#b5de2b\"], [1.0, \"#fde725\"]]}, \"colorway\": [\"#1F77B4\", \"#FF7F0E\", \"#2CA02C\", \"#D62728\", \"#9467BD\", \"#8C564B\", \"#E377C2\", \"#7F7F7F\", \"#BCBD22\", \"#17BECF\"], \"font\": {\"color\": \"rgb(36,36,36)\"}, \"geo\": {\"bgcolor\": \"white\", \"lakecolor\": \"white\", \"landcolor\": \"white\", \"showlakes\": true, \"showland\": true, \"subunitcolor\": \"white\"}, \"hoverlabel\": {\"align\": \"left\"}, \"hovermode\": \"closest\", \"mapbox\": {\"style\": \"light\"}, \"paper_bgcolor\": \"white\", \"plot_bgcolor\": \"white\", \"polar\": {\"angularaxis\": {\"gridcolor\": \"rgb(232,232,232)\", \"linecolor\": \"rgb(36,36,36)\", \"showgrid\": false, \"showline\": true, \"ticks\": \"outside\"}, \"bgcolor\": \"white\", \"radialaxis\": {\"gridcolor\": \"rgb(232,232,232)\", \"linecolor\": \"rgb(36,36,36)\", \"showgrid\": false, \"showline\": true, \"ticks\": \"outside\"}}, \"scene\": {\"xaxis\": {\"backgroundcolor\": \"white\", \"gridcolor\": \"rgb(232,232,232)\", \"gridwidth\": 2, \"linecolor\": \"rgb(36,36,36)\", \"showbackground\": true, \"showgrid\": false, \"showline\": true, \"ticks\": \"outside\", \"zeroline\": false, \"zerolinecolor\": \"rgb(36,36,36)\"}, \"yaxis\": {\"backgroundcolor\": \"white\", \"gridcolor\": \"rgb(232,232,232)\", \"gridwidth\": 2, \"linecolor\": \"rgb(36,36,36)\", \"showbackground\": true, \"showgrid\": false, \"showline\": true, \"ticks\": \"outside\", \"zeroline\": false, \"zerolinecolor\": \"rgb(36,36,36)\"}, \"zaxis\": {\"backgroundcolor\": \"white\", \"gridcolor\": \"rgb(232,232,232)\", \"gridwidth\": 2, \"linecolor\": \"rgb(36,36,36)\", \"showbackground\": true, \"showgrid\": false, \"showline\": true, \"ticks\": \"outside\", \"zeroline\": false, \"zerolinecolor\": \"rgb(36,36,36)\"}}, \"shapedefaults\": {\"fillcolor\": \"black\", \"line\": {\"width\": 0}, \"opacity\": 0.3}, \"ternary\": {\"aaxis\": {\"gridcolor\": \"rgb(232,232,232)\", \"linecolor\": \"rgb(36,36,36)\", \"showgrid\": false, \"showline\": true, \"ticks\": \"outside\"}, \"baxis\": {\"gridcolor\": \"rgb(232,232,232)\", \"linecolor\": \"rgb(36,36,36)\", \"showgrid\": false, \"showline\": true, \"ticks\": \"outside\"}, \"bgcolor\": \"white\", \"caxis\": {\"gridcolor\": \"rgb(232,232,232)\", \"linecolor\": \"rgb(36,36,36)\", \"showgrid\": false, \"showline\": true, \"ticks\": \"outside\"}}, \"title\": {\"x\": 0.05}, \"xaxis\": {\"automargin\": true, \"gridcolor\": \"rgb(232,232,232)\", \"linecolor\": \"rgb(36,36,36)\", \"showgrid\": false, \"showline\": true, \"ticks\": \"outside\", \"title\": {\"standoff\": 15}, \"zeroline\": false, \"zerolinecolor\": \"rgb(36,36,36)\"}, \"yaxis\": {\"automargin\": true, \"gridcolor\": \"rgb(232,232,232)\", \"linecolor\": \"rgb(36,36,36)\", \"showgrid\": false, \"showline\": true, \"ticks\": \"outside\", \"title\": {\"standoff\": 15}, \"zeroline\": false, \"zerolinecolor\": \"rgb(36,36,36)\"}}}, \"title\": {\"text\": \"\\u8a71\\u8005\\u3054\\u3068\\u306e\\u767a\\u8a71\\u30c1\\u30e3\\u30f3\\u30af\\u6570\"}, \"xaxis\": {\"anchor\": \"y\", \"domain\": [0.0, 1.0], \"title\": {\"text\": \"speaker\"}}, \"yaxis\": {\"anchor\": \"x\", \"domain\": [0.0, 1.0], \"title\": {\"text\": \"count\"}}},                        {\"responsive\": true}                    ).then(function(){\n",
       "                            \n",
       "var gd = document.getElementById('e11fa30e-07f8-42a8-ad39-53e3d388a911');\n",
       "var x = new MutationObserver(function (mutations, observer) {{\n",
       "        var display = window.getComputedStyle(gd).display;\n",
       "        if (!display || display === 'none') {{\n",
       "            console.log([gd, 'removed!']);\n",
       "            Plotly.purge(gd);\n",
       "            observer.disconnect();\n",
       "        }}\n",
       "}});\n",
       "\n",
       "// Listen for the removal of the full notebook cells\n",
       "var notebookContainer = gd.closest('#notebook-container');\n",
       "if (notebookContainer) {{\n",
       "    x.observe(notebookContainer, {childList: true});\n",
       "}}\n",
       "\n",
       "// Listen for the clearing of the current output cell\n",
       "var outputEl = gd.closest('.output');\n",
       "if (outputEl) {{\n",
       "    x.observe(outputEl, {childList: true});\n",
       "}}\n",
       "\n",
       "                        })                };                });            </script>        </div>"
      ]
     },
     "metadata": {},
     "output_type": "display_data"
    }
   ],
   "source": [
    "df_sum = df_train.groupby(\"speaker\", as_index=False).count()[[\"speaker\", \"arousal\"]].rename(columns={\"arousal\": \"count\"})\n",
    "fig = px.bar(df_sum, x='speaker', y='count', template=\"simple_white\", title=\"話者ごとの発話チャンク数\")\n",
    "fig.show()"
   ]
  },
  {
   "cell_type": "code",
   "execution_count": 25,
   "metadata": {},
   "outputs": [
    {
     "data": {
      "application/vnd.plotly.v1+json": {
       "config": {
        "plotlyServerURL": "https://plot.ly"
       },
       "data": [
        {
         "alignmentgroup": "True",
         "hovertemplate": "speaker=%{x}<br>duration=%{y}<extra></extra>",
         "legendgroup": "",
         "marker": {
          "color": "#1F77B4"
         },
         "name": "",
         "notched": false,
         "offsetgroup": "",
         "orientation": "v",
         "showlegend": false,
         "type": "box",
         "x": [
          "dev_1",
          "dev_1",
          "dev_1",
          "dev_1",
          "dev_1",
          "dev_1",
          "dev_1",
          "dev_1",
          "dev_1",
          "dev_1",
          "dev_1",
          "dev_1",
          "dev_1",
          "dev_1",
          "dev_1",
          "dev_1",
          "dev_1",
          "dev_1",
          "dev_1",
          "dev_1",
          "dev_1",
          "dev_1",
          "dev_1",
          "dev_1",
          "dev_1",
          "dev_1",
          "dev_2",
          "dev_2",
          "dev_2",
          "dev_2",
          "dev_2",
          "dev_2",
          "dev_2",
          "dev_2",
          "dev_2",
          "dev_2",
          "dev_2",
          "dev_2",
          "dev_2",
          "dev_2",
          "dev_2",
          "dev_2",
          "dev_3",
          "dev_3",
          "dev_3",
          "dev_3",
          "dev_3",
          "dev_3",
          "dev_3",
          "dev_3",
          "dev_3",
          "dev_3",
          "dev_3",
          "dev_3",
          "dev_3",
          "dev_3",
          "dev_3",
          "dev_3",
          "dev_3",
          "dev_3",
          "dev_3",
          "dev_3",
          "dev_3",
          "dev_3",
          "dev_3",
          "dev_3",
          "dev_3",
          "dev_3",
          "dev_3",
          "dev_3",
          "dev_3",
          "dev_3",
          "dev_4",
          "dev_4",
          "dev_4",
          "dev_4",
          "dev_4",
          "dev_4",
          "dev_4",
          "dev_4",
          "dev_4",
          "dev_4",
          "dev_4",
          "dev_4",
          "dev_4",
          "dev_4",
          "dev_4",
          "dev_4",
          "dev_4",
          "dev_4",
          "dev_4",
          "dev_4",
          "dev_4",
          "dev_4",
          "dev_4",
          "dev_4",
          "dev_4",
          "dev_4",
          "dev_4",
          "dev_5",
          "dev_5",
          "dev_5",
          "dev_5",
          "dev_5",
          "dev_5",
          "dev_5",
          "dev_5",
          "dev_5",
          "dev_5",
          "dev_5",
          "dev_5",
          "dev_5",
          "dev_5",
          "dev_5",
          "dev_5",
          "dev_5",
          "dev_5",
          "dev_5",
          "dev_5",
          "dev_5",
          "dev_5",
          "dev_5",
          "dev_5",
          "dev_5",
          "dev_5",
          "dev_5",
          "dev_5",
          "dev_5",
          "dev_5",
          "dev_5",
          "dev_6",
          "dev_6",
          "dev_6",
          "dev_6",
          "dev_6",
          "dev_6",
          "dev_6",
          "dev_6",
          "dev_6",
          "dev_6",
          "dev_6",
          "dev_6",
          "dev_6",
          "dev_6",
          "dev_6",
          "dev_6",
          "dev_6",
          "dev_6",
          "dev_6",
          "dev_6",
          "dev_6",
          "dev_6",
          "dev_6",
          "dev_7",
          "dev_7",
          "dev_7",
          "dev_7",
          "dev_7",
          "dev_7",
          "dev_7",
          "dev_7",
          "dev_7",
          "dev_7",
          "dev_7",
          "dev_7",
          "dev_7",
          "dev_7",
          "dev_7",
          "dev_7",
          "dev_7",
          "dev_7",
          "dev_7",
          "dev_7",
          "dev_7",
          "dev_7",
          "dev_7",
          "dev_7",
          "dev_7",
          "dev_7",
          "dev_7",
          "dev_7",
          "dev_7",
          "dev_8",
          "dev_8",
          "dev_8",
          "dev_8",
          "dev_8",
          "dev_8",
          "dev_8",
          "dev_8",
          "dev_8",
          "dev_8",
          "dev_8",
          "dev_8",
          "dev_8",
          "dev_8",
          "dev_8",
          "dev_8",
          "dev_8",
          "dev_8",
          "dev_8",
          "dev_8",
          "dev_9",
          "dev_9",
          "dev_9",
          "dev_9",
          "dev_9",
          "dev_9",
          "dev_9",
          "dev_9",
          "dev_9",
          "dev_9",
          "dev_9",
          "dev_9",
          "dev_9",
          "dev_9",
          "dev_9",
          "dev_9",
          "dev_9",
          "dev_9",
          "dev_9",
          "dev_9",
          "dev_9",
          "dev_9",
          "dev_9",
          "dev_9",
          "dev_9",
          "dev_9",
          "dev_9",
          "dev_9",
          "dev_9",
          "train_1",
          "train_1",
          "train_1",
          "train_1",
          "train_1",
          "train_1",
          "train_1",
          "train_1",
          "train_1",
          "train_1",
          "train_1",
          "train_1",
          "train_1",
          "train_1",
          "train_1",
          "train_1",
          "train_1",
          "train_1",
          "train_1",
          "train_1",
          "train_1",
          "train_1",
          "train_1",
          "train_1",
          "train_1",
          "train_1",
          "train_1",
          "train_1",
          "train_1",
          "train_1",
          "train_1",
          "train_1",
          "train_1",
          "train_1",
          "train_2",
          "train_2",
          "train_2",
          "train_2",
          "train_2",
          "train_2",
          "train_2",
          "train_2",
          "train_2",
          "train_2",
          "train_2",
          "train_2",
          "train_2",
          "train_2",
          "train_3",
          "train_3",
          "train_3",
          "train_3",
          "train_3",
          "train_3",
          "train_3",
          "train_3",
          "train_3",
          "train_3",
          "train_3",
          "train_3",
          "train_3",
          "train_3",
          "train_3",
          "train_3",
          "train_3",
          "train_4",
          "train_4",
          "train_4",
          "train_4",
          "train_4",
          "train_4",
          "train_4",
          "train_4",
          "train_4",
          "train_4",
          "train_4",
          "train_4",
          "train_4",
          "train_4",
          "train_4",
          "train_4",
          "train_4",
          "train_4",
          "train_4",
          "train_4",
          "train_5",
          "train_5",
          "train_5",
          "train_5",
          "train_5",
          "train_5",
          "train_5",
          "train_5",
          "train_5",
          "train_5",
          "train_5",
          "train_5",
          "train_5",
          "train_5",
          "train_5",
          "train_5",
          "train_5",
          "train_5",
          "train_5",
          "train_5",
          "train_5",
          "train_5",
          "train_5",
          "train_5",
          "train_5",
          "train_5",
          "train_5",
          "train_5",
          "train_6",
          "train_6",
          "train_6",
          "train_6",
          "train_6",
          "train_6",
          "train_6",
          "train_6",
          "train_6",
          "train_6",
          "train_6",
          "train_6",
          "train_6",
          "train_6",
          "train_6",
          "train_6",
          "train_6",
          "train_6",
          "train_6",
          "train_6",
          "train_6",
          "train_6",
          "train_6",
          "train_6",
          "train_7",
          "train_7",
          "train_7",
          "train_7",
          "train_7",
          "train_7",
          "train_7",
          "train_7",
          "train_7",
          "train_7",
          "train_7",
          "train_7",
          "train_7",
          "train_7",
          "train_7",
          "train_7",
          "train_7",
          "train_7",
          "train_7",
          "train_7",
          "train_7",
          "train_7",
          "train_8",
          "train_8",
          "train_8",
          "train_8",
          "train_8",
          "train_8",
          "train_8",
          "train_8",
          "train_8",
          "train_8",
          "train_8",
          "train_8",
          "train_8",
          "train_8",
          "train_8",
          "train_8",
          "train_8",
          "train_8",
          "train_8",
          "train_8",
          "train_8",
          "train_8",
          "train_9",
          "train_9",
          "train_9",
          "train_9",
          "train_9",
          "train_9",
          "train_9",
          "train_9",
          "train_9",
          "train_9",
          "train_9",
          "train_9",
          "train_9",
          "train_9",
          "train_9"
         ],
         "x0": " ",
         "xaxis": "x",
         "y": [
          2.8200226757369613,
          4.530022675736916,
          10.800022675736956,
          4.270022675736982,
          11.390022675736956,
          17.180022675736982,
          8.520022675736952,
          5.910022675736967,
          1.5100226757369342,
          1.3700226757369478,
          2.040022675736964,
          4.870022675736976,
          1.3100226757369742,
          4.40002267573695,
          2.9300226757369785,
          13.540022675736964,
          7.410022675736963,
          2.47002267573696,
          0.24002267573695946,
          6.010022675736963,
          21.990022675736963,
          0.14002267573695806,
          5.410022675736954,
          5.790022675736964,
          0.0200226757369677,
          0.050022675736968836,
          4.2500226757369575,
          5.410022675736967,
          0.4200226757369592,
          0.9700226757369634,
          0.9600226757369584,
          0.4300226757369643,
          1.2200226757369703,
          0.8800226757369671,
          113.34002267573698,
          29.23002267573699,
          0.3800226757369387,
          15.94002267573694,
          0.7200226757369599,
          0.5000226757369575,
          5.620022675736961,
          2.6700226757369663,
          0.14002267573695806,
          0.7300226757369614,
          5.2600226757369635,
          1.7000226757369603,
          1.3500226757369658,
          8.690022675736941,
          11.910022675736966,
          4.590022675736974,
          0.5400226757369637,
          6.9600226757369805,
          1.0600226757369595,
          4.2300226757369614,
          3.560022675736974,
          1.6300226757369387,
          0.5000226757369433,
          0.13002267573696713,
          0.1100226757369569,
          2.020022675736982,
          21.830022675736963,
          7.650022675736978,
          0.350022675736966,
          2.0700226757369364,
          6.250022675736999,
          8.670022675736961,
          0.350022675736966,
          23.360022675736968,
          1.5500226757369608,
          0.9400226757369616,
          24.780022675736962,
          7.490022675736959,
          5.06002267573696,
          2.9500226757369745,
          0.3400226757369467,
          30.86002267573697,
          0.7500226757369575,
          0.7100226757369654,
          2.4400226757369623,
          3.5700226757369578,
          1.0500226757369615,
          19.010022675736963,
          2.290022675736964,
          0.6400226757369865,
          2.1900226757369614,
          4.050022675736955,
          2.9500226757369603,
          16.290022675736964,
          0.280022675736916,
          16.300022675736955,
          5.870022675736977,
          5.780022675736972,
          2.040022675736964,
          8.490022675736952,
          1.0900226757369749,
          0.4300226757369501,
          1.6000226757369658,
          14.260022675736964,
          5.70002267573696,
          1.500022675736961,
          0.7000226757369614,
          6.170022675736961,
          2.710022675736962,
          0.16002267573695406,
          10.110022675736957,
          4.13002267573696,
          6.430022675736963,
          0.3600226757369569,
          2.580022675736956,
          0.2700226757369677,
          1.7100226757369512,
          0.120022675736962,
          19.09002267573696,
          0.8200226757369649,
          1.1600226757369685,
          0.4900226757369808,
          17.720022675736967,
          3.5000226757369437,
          1.5300226757369728,
          6.570022675736965,
          2.050022675736983,
          2.320022675736965,
          0.0400226757369353,
          5.2100226757369805,
          6.760022675736934,
          0.3700226757369478,
          0.6800226757369501,
          0.23002267573696145,
          8.630022675736967,
          16.96002267573698,
          21.970022675736967,
          2.270022675736953,
          6.780022675736959,
          2.7400226757369524,
          18.93002267573695,
          0.9800226757369614,
          3.150022675736956,
          3.1700226757369627,
          0.7000226757369639,
          12.860022675736964,
          0.6400226757369614,
          0.6400226757369296,
          17.080022675736956,
          3.3800226757369667,
          1.4000226757369774,
          0.3600226757369569,
          9.590022675736977,
          8.280022675736943,
          7.520022675736983,
          27.650022675736945,
          4.280022675736944,
          8.570022675736965,
          2.9000226757369205,
          1.0100226757369626,
          1.4400226757369694,
          0.15002267573697736,
          0.21002267573697966,
          6.900022675736978,
          1.8700226757370049,
          3.040022675736961,
          13.870022675736964,
          6.4800226757369614,
          2.270022675736953,
          0.16002267573693985,
          1.1800226757369499,
          2.040022675736964,
          21.81002267573697,
          16.490022675736967,
          0.9500226757369604,
          0.33002267573695576,
          0.4300226757369643,
          5.31002267573696,
          5.8500226757369616,
          1.3100226757369615,
          0.24002267573696656,
          15.010022675736964,
          0.15002267573696315,
          5.260022675736991,
          2.300022675736954,
          2.090022675736961,
          2.310022675736945,
          1.3900226757369865,
          17.25002267573697,
          1.400022675736949,
          9.690022675736971,
          24.040022675736967,
          10.670022675736961,
          20.790022675736964,
          5.070022675736965,
          12.330022675736954,
          1.5300226757369586,
          15.420022675736961,
          24.73002267573695,
          0.7200226757369563,
          9.180022675736963,
          6.9800226757369614,
          2.5200226757369606,
          18.260022675736963,
          7.570022675736961,
          20.750022675736943,
          7.3500226757369935,
          2.170022675736959,
          4.5100226757369635,
          1.0700226757369364,
          4.020022675736925,
          9.040022675736962,
          9.070022675736963,
          7.170022675736959,
          0.11002267573698532,
          3.2600226757369626,
          3.8900226757369576,
          13.120022675736976,
          5.120022675736949,
          0.2000226757369603,
          8.250022675736941,
          0.8000226757369688,
          1.5700226757369649,
          0.7200226757369705,
          12.420022675736961,
          3.500022675736972,
          0.4500226757369603,
          4.3200226757369515,
          8.940022675736955,
          0.7200226757369705,
          6.190022675736941,
          9.610022675736962,
          5.0100226757369635,
          4.050022675736962,
          12.750022675736965,
          0.8900226757369579,
          2.4700226757369617,
          1.200022675736932,
          0.5100226757369342,
          1.4400226757369408,
          2.230022675736961,
          16.640022675736986,
          7.340022675736974,
          2.8800226757369667,
          6.7300226757369614,
          0.9200226757369592,
          0.2500226757369433,
          1.870022675736976,
          1.8100226757369453,
          5.750022675736972,
          0.8800226757369387,
          0.4800226757369615,
          4.050022675736962,
          5.240022675736952,
          2.000022675736961,
          2.4100226757369576,
          15.870022675736964,
          4.820022675736965,
          0.6000226757369661,
          5.670022675736959,
          1.1300226757369636,
          2.100022675736966,
          1.7500226757369577,
          1.5000226757369717,
          0.8000226757369546,
          1.3100226757369455,
          5.56002267573696,
          0.13002267573696713,
          9.010022675736963,
          2.9900226757369524,
          1.2000226757369603,
          18.200022675736925,
          5.8000226757369555,
          15.400022675736947,
          4.750022675736972,
          48.360022675736964,
          1.6300226757369671,
          39.85002267573695,
          1.5200226757369677,
          0.120022675736962,
          1.4900226757369666,
          4.960022675736962,
          11.650022675736961,
          1.0400226757369635,
          27.280022675736962,
          21.150022675736977,
          8.860022675736962,
          5.1500226757369605,
          8.11002267573696,
          22.740022675736963,
          5.090022675736961,
          2.6900226757369547,
          4.620022675736976,
          64.50002267573696,
          6.670022675736959,
          10.21002267573698,
          26.790022675736967,
          10.880022675736965,
          12.360022675736953,
          11.680022675736975,
          5.760022675736963,
          5.4000226757369765,
          4.940022675736942,
          2.8600226757369573,
          1.4200226757369592,
          11.680022675736975,
          7.250022675736972,
          14.590022675736975,
          7.100022675736938,
          15.230022675736961,
          0.3600226757369569,
          0.740022675736963,
          10.200022675736962,
          26.180022675736968,
          0.9600226757369654,
          14.860022675736964,
          5.8900226757369625,
          0.5600226757369633,
          1.7800226757369728,
          4.550022675736962,
          28.270022675736953,
          2.8900226757369576,
          0.16002267573691142,
          16.190022675736962,
          0.3600226757369569,
          8.060022675736946,
          3.310022675736945,
          0.8300226757369558,
          2.600022675736966,
          8.900022675736949,
          7.9800226757369614,
          4.470022675736942,
          4.790022675736964,
          2.170022675736959,
          4.790022675736964,
          2.267573696145125e-05,
          0.6300226757369671,
          0.7000226757369603,
          7.400022675736978,
          7.850022675736952,
          0.13002267573695292,
          8.56002267573696,
          7.940022675736955,
          4.680022675736963,
          2.2600226757369555,
          3.56002267573696,
          0.2600226757369626,
          1.90002267573696,
          1.150022675736949,
          5.2600226757369635,
          2.8400226757369467,
          24.520022675736985,
          1.6700226757369592,
          5.070022675736993,
          0.6400226757369865,
          5.290022675736964,
          0.40002267573694894,
          2.96002267573698,
          1.1300226757369671,
          7.910022675736967,
          17.640022675736958,
          0.06002267573700237,
          0.23002267573696145,
          8.010022675736963,
          5.120022675736962,
          1.1500226757369632,
          8.820022675736965,
          34.48002267573696,
          4.330022675736963,
          17.970022675736963,
          2.990022675736963,
          16.02002267573696,
          3.3000226757369613,
          0.850022675736966,
          20.78002267573692,
          5.740022675736962,
          2.840022675736975,
          5.250022675736965,
          22.80002267573696,
          5.940022675736955,
          0.9200226757369664,
          8.400022675736949,
          10.490022675736967,
          4.5000226757369575,
          7.800022675736969,
          8.34002267573696,
          3.7600226757369626,
          0.350022675736966,
          1.400022675736949,
          13.940022675736971,
          13.99002267573698,
          4.110022675736957,
          5.390022675736958,
          3.7000226757369887,
          3.440022675736942,
          33.91002267573697,
          29.25002267573696,
          0.3900226757369581,
          4.550022675736955,
          8.410022675736966,
          58.90002267573696,
          5.600022675736966,
          0.6500226757369774,
          0.18002267573695008,
          0.5400226757369637,
          0.4400226757369694,
          18.60002267573697,
          1.3200226757369364,
          4.390022675736958,
          6.8000226757369555,
          0.22002267573694206,
          1.4100226757369685,
          0.41002267573696827,
          0.41002267573696827,
          3.750022675736972,
          0.9800226757369614,
          0.3100226757369597,
          0.7300226757369614,
          7.670022675736959,
          31.69002267573697,
          0.5300226757369444,
          28.60002267573697,
          12.46002267573698,
          3.43002267573695,
          14.120022675736964,
          0.8300226757369558,
          0.640022675736958,
          9.10002267573696,
          1.6400226757369616,
          7.540022675736961,
          5.480022675736934,
          54.67002267573696,
          7.860022675736957
         ],
         "y0": " ",
         "yaxis": "y"
        }
       ],
       "layout": {
        "autosize": true,
        "boxmode": "group",
        "legend": {
         "tracegroupgap": 0
        },
        "template": {
         "data": {
          "bar": [
           {
            "error_x": {
             "color": "rgb(36,36,36)"
            },
            "error_y": {
             "color": "rgb(36,36,36)"
            },
            "marker": {
             "line": {
              "color": "white",
              "width": 0.5
             }
            },
            "type": "bar"
           }
          ],
          "barpolar": [
           {
            "marker": {
             "line": {
              "color": "white",
              "width": 0.5
             }
            },
            "type": "barpolar"
           }
          ],
          "carpet": [
           {
            "aaxis": {
             "endlinecolor": "rgb(36,36,36)",
             "gridcolor": "white",
             "linecolor": "white",
             "minorgridcolor": "white",
             "startlinecolor": "rgb(36,36,36)"
            },
            "baxis": {
             "endlinecolor": "rgb(36,36,36)",
             "gridcolor": "white",
             "linecolor": "white",
             "minorgridcolor": "white",
             "startlinecolor": "rgb(36,36,36)"
            },
            "type": "carpet"
           }
          ],
          "choropleth": [
           {
            "colorbar": {
             "outlinewidth": 1,
             "tickcolor": "rgb(36,36,36)",
             "ticks": "outside"
            },
            "type": "choropleth"
           }
          ],
          "contour": [
           {
            "colorbar": {
             "outlinewidth": 1,
             "tickcolor": "rgb(36,36,36)",
             "ticks": "outside"
            },
            "colorscale": [
             [
              0,
              "#440154"
             ],
             [
              0.1111111111111111,
              "#482878"
             ],
             [
              0.2222222222222222,
              "#3e4989"
             ],
             [
              0.3333333333333333,
              "#31688e"
             ],
             [
              0.4444444444444444,
              "#26828e"
             ],
             [
              0.5555555555555556,
              "#1f9e89"
             ],
             [
              0.6666666666666666,
              "#35b779"
             ],
             [
              0.7777777777777778,
              "#6ece58"
             ],
             [
              0.8888888888888888,
              "#b5de2b"
             ],
             [
              1,
              "#fde725"
             ]
            ],
            "type": "contour"
           }
          ],
          "contourcarpet": [
           {
            "colorbar": {
             "outlinewidth": 1,
             "tickcolor": "rgb(36,36,36)",
             "ticks": "outside"
            },
            "type": "contourcarpet"
           }
          ],
          "heatmap": [
           {
            "colorbar": {
             "outlinewidth": 1,
             "tickcolor": "rgb(36,36,36)",
             "ticks": "outside"
            },
            "colorscale": [
             [
              0,
              "#440154"
             ],
             [
              0.1111111111111111,
              "#482878"
             ],
             [
              0.2222222222222222,
              "#3e4989"
             ],
             [
              0.3333333333333333,
              "#31688e"
             ],
             [
              0.4444444444444444,
              "#26828e"
             ],
             [
              0.5555555555555556,
              "#1f9e89"
             ],
             [
              0.6666666666666666,
              "#35b779"
             ],
             [
              0.7777777777777778,
              "#6ece58"
             ],
             [
              0.8888888888888888,
              "#b5de2b"
             ],
             [
              1,
              "#fde725"
             ]
            ],
            "type": "heatmap"
           }
          ],
          "heatmapgl": [
           {
            "colorbar": {
             "outlinewidth": 1,
             "tickcolor": "rgb(36,36,36)",
             "ticks": "outside"
            },
            "colorscale": [
             [
              0,
              "#440154"
             ],
             [
              0.1111111111111111,
              "#482878"
             ],
             [
              0.2222222222222222,
              "#3e4989"
             ],
             [
              0.3333333333333333,
              "#31688e"
             ],
             [
              0.4444444444444444,
              "#26828e"
             ],
             [
              0.5555555555555556,
              "#1f9e89"
             ],
             [
              0.6666666666666666,
              "#35b779"
             ],
             [
              0.7777777777777778,
              "#6ece58"
             ],
             [
              0.8888888888888888,
              "#b5de2b"
             ],
             [
              1,
              "#fde725"
             ]
            ],
            "type": "heatmapgl"
           }
          ],
          "histogram": [
           {
            "marker": {
             "line": {
              "color": "white",
              "width": 0.6
             }
            },
            "type": "histogram"
           }
          ],
          "histogram2d": [
           {
            "colorbar": {
             "outlinewidth": 1,
             "tickcolor": "rgb(36,36,36)",
             "ticks": "outside"
            },
            "colorscale": [
             [
              0,
              "#440154"
             ],
             [
              0.1111111111111111,
              "#482878"
             ],
             [
              0.2222222222222222,
              "#3e4989"
             ],
             [
              0.3333333333333333,
              "#31688e"
             ],
             [
              0.4444444444444444,
              "#26828e"
             ],
             [
              0.5555555555555556,
              "#1f9e89"
             ],
             [
              0.6666666666666666,
              "#35b779"
             ],
             [
              0.7777777777777778,
              "#6ece58"
             ],
             [
              0.8888888888888888,
              "#b5de2b"
             ],
             [
              1,
              "#fde725"
             ]
            ],
            "type": "histogram2d"
           }
          ],
          "histogram2dcontour": [
           {
            "colorbar": {
             "outlinewidth": 1,
             "tickcolor": "rgb(36,36,36)",
             "ticks": "outside"
            },
            "colorscale": [
             [
              0,
              "#440154"
             ],
             [
              0.1111111111111111,
              "#482878"
             ],
             [
              0.2222222222222222,
              "#3e4989"
             ],
             [
              0.3333333333333333,
              "#31688e"
             ],
             [
              0.4444444444444444,
              "#26828e"
             ],
             [
              0.5555555555555556,
              "#1f9e89"
             ],
             [
              0.6666666666666666,
              "#35b779"
             ],
             [
              0.7777777777777778,
              "#6ece58"
             ],
             [
              0.8888888888888888,
              "#b5de2b"
             ],
             [
              1,
              "#fde725"
             ]
            ],
            "type": "histogram2dcontour"
           }
          ],
          "mesh3d": [
           {
            "colorbar": {
             "outlinewidth": 1,
             "tickcolor": "rgb(36,36,36)",
             "ticks": "outside"
            },
            "type": "mesh3d"
           }
          ],
          "parcoords": [
           {
            "line": {
             "colorbar": {
              "outlinewidth": 1,
              "tickcolor": "rgb(36,36,36)",
              "ticks": "outside"
             }
            },
            "type": "parcoords"
           }
          ],
          "pie": [
           {
            "automargin": true,
            "type": "pie"
           }
          ],
          "scatter": [
           {
            "marker": {
             "colorbar": {
              "outlinewidth": 1,
              "tickcolor": "rgb(36,36,36)",
              "ticks": "outside"
             }
            },
            "type": "scatter"
           }
          ],
          "scatter3d": [
           {
            "line": {
             "colorbar": {
              "outlinewidth": 1,
              "tickcolor": "rgb(36,36,36)",
              "ticks": "outside"
             }
            },
            "marker": {
             "colorbar": {
              "outlinewidth": 1,
              "tickcolor": "rgb(36,36,36)",
              "ticks": "outside"
             }
            },
            "type": "scatter3d"
           }
          ],
          "scattercarpet": [
           {
            "marker": {
             "colorbar": {
              "outlinewidth": 1,
              "tickcolor": "rgb(36,36,36)",
              "ticks": "outside"
             }
            },
            "type": "scattercarpet"
           }
          ],
          "scattergeo": [
           {
            "marker": {
             "colorbar": {
              "outlinewidth": 1,
              "tickcolor": "rgb(36,36,36)",
              "ticks": "outside"
             }
            },
            "type": "scattergeo"
           }
          ],
          "scattergl": [
           {
            "marker": {
             "colorbar": {
              "outlinewidth": 1,
              "tickcolor": "rgb(36,36,36)",
              "ticks": "outside"
             }
            },
            "type": "scattergl"
           }
          ],
          "scattermapbox": [
           {
            "marker": {
             "colorbar": {
              "outlinewidth": 1,
              "tickcolor": "rgb(36,36,36)",
              "ticks": "outside"
             }
            },
            "type": "scattermapbox"
           }
          ],
          "scatterpolar": [
           {
            "marker": {
             "colorbar": {
              "outlinewidth": 1,
              "tickcolor": "rgb(36,36,36)",
              "ticks": "outside"
             }
            },
            "type": "scatterpolar"
           }
          ],
          "scatterpolargl": [
           {
            "marker": {
             "colorbar": {
              "outlinewidth": 1,
              "tickcolor": "rgb(36,36,36)",
              "ticks": "outside"
             }
            },
            "type": "scatterpolargl"
           }
          ],
          "scatterternary": [
           {
            "marker": {
             "colorbar": {
              "outlinewidth": 1,
              "tickcolor": "rgb(36,36,36)",
              "ticks": "outside"
             }
            },
            "type": "scatterternary"
           }
          ],
          "surface": [
           {
            "colorbar": {
             "outlinewidth": 1,
             "tickcolor": "rgb(36,36,36)",
             "ticks": "outside"
            },
            "colorscale": [
             [
              0,
              "#440154"
             ],
             [
              0.1111111111111111,
              "#482878"
             ],
             [
              0.2222222222222222,
              "#3e4989"
             ],
             [
              0.3333333333333333,
              "#31688e"
             ],
             [
              0.4444444444444444,
              "#26828e"
             ],
             [
              0.5555555555555556,
              "#1f9e89"
             ],
             [
              0.6666666666666666,
              "#35b779"
             ],
             [
              0.7777777777777778,
              "#6ece58"
             ],
             [
              0.8888888888888888,
              "#b5de2b"
             ],
             [
              1,
              "#fde725"
             ]
            ],
            "type": "surface"
           }
          ],
          "table": [
           {
            "cells": {
             "fill": {
              "color": "rgb(237,237,237)"
             },
             "line": {
              "color": "white"
             }
            },
            "header": {
             "fill": {
              "color": "rgb(217,217,217)"
             },
             "line": {
              "color": "white"
             }
            },
            "type": "table"
           }
          ]
         },
         "layout": {
          "annotationdefaults": {
           "arrowhead": 0,
           "arrowwidth": 1
          },
          "autotypenumbers": "strict",
          "coloraxis": {
           "colorbar": {
            "outlinewidth": 1,
            "tickcolor": "rgb(36,36,36)",
            "ticks": "outside"
           }
          },
          "colorscale": {
           "diverging": [
            [
             0,
             "rgb(103,0,31)"
            ],
            [
             0.1,
             "rgb(178,24,43)"
            ],
            [
             0.2,
             "rgb(214,96,77)"
            ],
            [
             0.3,
             "rgb(244,165,130)"
            ],
            [
             0.4,
             "rgb(253,219,199)"
            ],
            [
             0.5,
             "rgb(247,247,247)"
            ],
            [
             0.6,
             "rgb(209,229,240)"
            ],
            [
             0.7,
             "rgb(146,197,222)"
            ],
            [
             0.8,
             "rgb(67,147,195)"
            ],
            [
             0.9,
             "rgb(33,102,172)"
            ],
            [
             1,
             "rgb(5,48,97)"
            ]
           ],
           "sequential": [
            [
             0,
             "#440154"
            ],
            [
             0.1111111111111111,
             "#482878"
            ],
            [
             0.2222222222222222,
             "#3e4989"
            ],
            [
             0.3333333333333333,
             "#31688e"
            ],
            [
             0.4444444444444444,
             "#26828e"
            ],
            [
             0.5555555555555556,
             "#1f9e89"
            ],
            [
             0.6666666666666666,
             "#35b779"
            ],
            [
             0.7777777777777778,
             "#6ece58"
            ],
            [
             0.8888888888888888,
             "#b5de2b"
            ],
            [
             1,
             "#fde725"
            ]
           ],
           "sequentialminus": [
            [
             0,
             "#440154"
            ],
            [
             0.1111111111111111,
             "#482878"
            ],
            [
             0.2222222222222222,
             "#3e4989"
            ],
            [
             0.3333333333333333,
             "#31688e"
            ],
            [
             0.4444444444444444,
             "#26828e"
            ],
            [
             0.5555555555555556,
             "#1f9e89"
            ],
            [
             0.6666666666666666,
             "#35b779"
            ],
            [
             0.7777777777777778,
             "#6ece58"
            ],
            [
             0.8888888888888888,
             "#b5de2b"
            ],
            [
             1,
             "#fde725"
            ]
           ]
          },
          "colorway": [
           "#1F77B4",
           "#FF7F0E",
           "#2CA02C",
           "#D62728",
           "#9467BD",
           "#8C564B",
           "#E377C2",
           "#7F7F7F",
           "#BCBD22",
           "#17BECF"
          ],
          "font": {
           "color": "rgb(36,36,36)"
          },
          "geo": {
           "bgcolor": "white",
           "lakecolor": "white",
           "landcolor": "white",
           "showlakes": true,
           "showland": true,
           "subunitcolor": "white"
          },
          "hoverlabel": {
           "align": "left"
          },
          "hovermode": "closest",
          "mapbox": {
           "style": "light"
          },
          "paper_bgcolor": "white",
          "plot_bgcolor": "white",
          "polar": {
           "angularaxis": {
            "gridcolor": "rgb(232,232,232)",
            "linecolor": "rgb(36,36,36)",
            "showgrid": false,
            "showline": true,
            "ticks": "outside"
           },
           "bgcolor": "white",
           "radialaxis": {
            "gridcolor": "rgb(232,232,232)",
            "linecolor": "rgb(36,36,36)",
            "showgrid": false,
            "showline": true,
            "ticks": "outside"
           }
          },
          "scene": {
           "xaxis": {
            "backgroundcolor": "white",
            "gridcolor": "rgb(232,232,232)",
            "gridwidth": 2,
            "linecolor": "rgb(36,36,36)",
            "showbackground": true,
            "showgrid": false,
            "showline": true,
            "ticks": "outside",
            "zeroline": false,
            "zerolinecolor": "rgb(36,36,36)"
           },
           "yaxis": {
            "backgroundcolor": "white",
            "gridcolor": "rgb(232,232,232)",
            "gridwidth": 2,
            "linecolor": "rgb(36,36,36)",
            "showbackground": true,
            "showgrid": false,
            "showline": true,
            "ticks": "outside",
            "zeroline": false,
            "zerolinecolor": "rgb(36,36,36)"
           },
           "zaxis": {
            "backgroundcolor": "white",
            "gridcolor": "rgb(232,232,232)",
            "gridwidth": 2,
            "linecolor": "rgb(36,36,36)",
            "showbackground": true,
            "showgrid": false,
            "showline": true,
            "ticks": "outside",
            "zeroline": false,
            "zerolinecolor": "rgb(36,36,36)"
           }
          },
          "shapedefaults": {
           "fillcolor": "black",
           "line": {
            "width": 0
           },
           "opacity": 0.3
          },
          "ternary": {
           "aaxis": {
            "gridcolor": "rgb(232,232,232)",
            "linecolor": "rgb(36,36,36)",
            "showgrid": false,
            "showline": true,
            "ticks": "outside"
           },
           "baxis": {
            "gridcolor": "rgb(232,232,232)",
            "linecolor": "rgb(36,36,36)",
            "showgrid": false,
            "showline": true,
            "ticks": "outside"
           },
           "bgcolor": "white",
           "caxis": {
            "gridcolor": "rgb(232,232,232)",
            "linecolor": "rgb(36,36,36)",
            "showgrid": false,
            "showline": true,
            "ticks": "outside"
           }
          },
          "title": {
           "x": 0.05
          },
          "xaxis": {
           "automargin": true,
           "gridcolor": "rgb(232,232,232)",
           "linecolor": "rgb(36,36,36)",
           "showgrid": false,
           "showline": true,
           "ticks": "outside",
           "title": {
            "standoff": 15
           },
           "zeroline": false,
           "zerolinecolor": "rgb(36,36,36)"
          },
          "yaxis": {
           "automargin": true,
           "gridcolor": "rgb(232,232,232)",
           "linecolor": "rgb(36,36,36)",
           "showgrid": false,
           "showline": true,
           "ticks": "outside",
           "title": {
            "standoff": 15
           },
           "zeroline": false,
           "zerolinecolor": "rgb(36,36,36)"
          }
         }
        },
        "title": {
         "text": "話者ごとの発話チャンク時間の分布"
        },
        "xaxis": {
         "anchor": "y",
         "autorange": true,
         "domain": [
          0,
          1
         ],
         "range": [
          -0.5,
          17.5
         ],
         "title": {
          "text": "speaker"
         },
         "type": "category"
        },
        "yaxis": {
         "anchor": "x",
         "autorange": true,
         "domain": [
          0,
          1
         ],
         "range": [
          -6.296643990929707,
          119.63668934240364
         ],
         "title": {
          "text": "duration"
         },
         "type": "linear"
        }
       }
      },
      "image/png": "[encoded data removed]",
      "text/html": [
       "<div>                            <div id=\"110900d5-94f7-4c3a-8391-b5eb5cdbc24c\" class=\"plotly-graph-div\" style=\"height:525px; width:100%;\"></div>            <script type=\"text/javascript\">                require([\"plotly\"], function(Plotly) {                    window.PLOTLYENV=window.PLOTLYENV || {};                                    if (document.getElementById(\"110900d5-94f7-4c3a-8391-b5eb5cdbc24c\")) {                    Plotly.newPlot(                        \"110900d5-94f7-4c3a-8391-b5eb5cdbc24c\",                        [{\"alignmentgroup\": \"True\", \"hovertemplate\": \"speaker=%{x}<br>duration=%{y}<extra></extra>\", \"legendgroup\": \"\", \"marker\": {\"color\": \"#1F77B4\"}, \"name\": \"\", \"notched\": false, \"offsetgroup\": \"\", \"orientation\": \"v\", \"showlegend\": false, \"type\": \"box\", \"x\": [\"dev_1\", \"dev_1\", \"dev_1\", \"dev_1\", \"dev_1\", \"dev_1\", \"dev_1\", \"dev_1\", \"dev_1\", \"dev_1\", \"dev_1\", \"dev_1\", \"dev_1\", \"dev_1\", \"dev_1\", \"dev_1\", \"dev_1\", \"dev_1\", \"dev_1\", \"dev_1\", \"dev_1\", \"dev_1\", \"dev_1\", \"dev_1\", \"dev_1\", \"dev_1\", \"dev_2\", \"dev_2\", \"dev_2\", \"dev_2\", \"dev_2\", \"dev_2\", \"dev_2\", \"dev_2\", \"dev_2\", \"dev_2\", \"dev_2\", \"dev_2\", \"dev_2\", \"dev_2\", \"dev_2\", \"dev_2\", \"dev_3\", \"dev_3\", \"dev_3\", \"dev_3\", \"dev_3\", \"dev_3\", \"dev_3\", \"dev_3\", \"dev_3\", \"dev_3\", \"dev_3\", \"dev_3\", \"dev_3\", \"dev_3\", \"dev_3\", \"dev_3\", \"dev_3\", \"dev_3\", \"dev_3\", \"dev_3\", \"dev_3\", \"dev_3\", \"dev_3\", \"dev_3\", \"dev_3\", \"dev_3\", \"dev_3\", \"dev_3\", \"dev_3\", \"dev_3\", \"dev_4\", \"dev_4\", \"dev_4\", \"dev_4\", \"dev_4\", \"dev_4\", \"dev_4\", \"dev_4\", \"dev_4\", \"dev_4\", \"dev_4\", \"dev_4\", \"dev_4\", \"dev_4\", \"dev_4\", \"dev_4\", \"dev_4\", \"dev_4\", \"dev_4\", \"dev_4\", \"dev_4\", \"dev_4\", \"dev_4\", \"dev_4\", \"dev_4\", \"dev_4\", \"dev_4\", \"dev_5\", \"dev_5\", \"dev_5\", \"dev_5\", \"dev_5\", \"dev_5\", \"dev_5\", \"dev_5\", \"dev_5\", \"dev_5\", \"dev_5\", \"dev_5\", \"dev_5\", \"dev_5\", \"dev_5\", \"dev_5\", \"dev_5\", \"dev_5\", \"dev_5\", \"dev_5\", \"dev_5\", \"dev_5\", \"dev_5\", \"dev_5\", \"dev_5\", \"dev_5\", \"dev_5\", \"dev_5\", \"dev_5\", \"dev_5\", \"dev_5\", \"dev_6\", \"dev_6\", \"dev_6\", \"dev_6\", \"dev_6\", \"dev_6\", \"dev_6\", \"dev_6\", \"dev_6\", \"dev_6\", \"dev_6\", \"dev_6\", \"dev_6\", \"dev_6\", \"dev_6\", \"dev_6\", \"dev_6\", \"dev_6\", \"dev_6\", \"dev_6\", \"dev_6\", \"dev_6\", \"dev_6\", \"dev_7\", \"dev_7\", \"dev_7\", \"dev_7\", \"dev_7\", \"dev_7\", \"dev_7\", \"dev_7\", \"dev_7\", \"dev_7\", \"dev_7\", \"dev_7\", \"dev_7\", \"dev_7\", \"dev_7\", \"dev_7\", \"dev_7\", \"dev_7\", \"dev_7\", \"dev_7\", \"dev_7\", \"dev_7\", \"dev_7\", \"dev_7\", \"dev_7\", \"dev_7\", \"dev_7\", \"dev_7\", \"dev_7\", \"dev_8\", \"dev_8\", \"dev_8\", \"dev_8\", \"dev_8\", \"dev_8\", \"dev_8\", \"dev_8\", \"dev_8\", \"dev_8\", \"dev_8\", \"dev_8\", \"dev_8\", \"dev_8\", \"dev_8\", \"dev_8\", \"dev_8\", \"dev_8\", \"dev_8\", \"dev_8\", \"dev_9\", \"dev_9\", \"dev_9\", \"dev_9\", \"dev_9\", \"dev_9\", \"dev_9\", \"dev_9\", \"dev_9\", \"dev_9\", \"dev_9\", \"dev_9\", \"dev_9\", \"dev_9\", \"dev_9\", \"dev_9\", \"dev_9\", \"dev_9\", \"dev_9\", \"dev_9\", \"dev_9\", \"dev_9\", \"dev_9\", \"dev_9\", \"dev_9\", \"dev_9\", \"dev_9\", \"dev_9\", \"dev_9\", \"train_1\", \"train_1\", \"train_1\", \"train_1\", \"train_1\", \"train_1\", \"train_1\", \"train_1\", \"train_1\", \"train_1\", \"train_1\", \"train_1\", \"train_1\", \"train_1\", \"train_1\", \"train_1\", \"train_1\", \"train_1\", \"train_1\", \"train_1\", \"train_1\", \"train_1\", \"train_1\", \"train_1\", \"train_1\", \"train_1\", \"train_1\", \"train_1\", \"train_1\", \"train_1\", \"train_1\", \"train_1\", \"train_1\", \"train_1\", \"train_2\", \"train_2\", \"train_2\", \"train_2\", \"train_2\", \"train_2\", \"train_2\", \"train_2\", \"train_2\", \"train_2\", \"train_2\", \"train_2\", \"train_2\", \"train_2\", \"train_3\", \"train_3\", \"train_3\", \"train_3\", \"train_3\", \"train_3\", \"train_3\", \"train_3\", \"train_3\", \"train_3\", \"train_3\", \"train_3\", \"train_3\", \"train_3\", \"train_3\", \"train_3\", \"train_3\", \"train_4\", \"train_4\", \"train_4\", \"train_4\", \"train_4\", \"train_4\", \"train_4\", \"train_4\", \"train_4\", \"train_4\", \"train_4\", \"train_4\", \"train_4\", \"train_4\", \"train_4\", \"train_4\", \"train_4\", \"train_4\", \"train_4\", \"train_4\", \"train_5\", \"train_5\", \"train_5\", \"train_5\", \"train_5\", \"train_5\", \"train_5\", \"train_5\", \"train_5\", \"train_5\", \"train_5\", \"train_5\", \"train_5\", \"train_5\", \"train_5\", \"train_5\", \"train_5\", \"train_5\", \"train_5\", \"train_5\", \"train_5\", \"train_5\", \"train_5\", \"train_5\", \"train_5\", \"train_5\", \"train_5\", \"train_5\", \"train_6\", \"train_6\", \"train_6\", \"train_6\", \"train_6\", \"train_6\", \"train_6\", \"train_6\", \"train_6\", \"train_6\", \"train_6\", \"train_6\", \"train_6\", \"train_6\", \"train_6\", \"train_6\", \"train_6\", \"train_6\", \"train_6\", \"train_6\", \"train_6\", \"train_6\", \"train_6\", \"train_6\", \"train_7\", \"train_7\", \"train_7\", \"train_7\", \"train_7\", \"train_7\", \"train_7\", \"train_7\", \"train_7\", \"train_7\", \"train_7\", \"train_7\", \"train_7\", \"train_7\", \"train_7\", \"train_7\", \"train_7\", \"train_7\", \"train_7\", \"train_7\", \"train_7\", \"train_7\", \"train_8\", \"train_8\", \"train_8\", \"train_8\", \"train_8\", \"train_8\", \"train_8\", \"train_8\", \"train_8\", \"train_8\", \"train_8\", \"train_8\", \"train_8\", \"train_8\", \"train_8\", \"train_8\", \"train_8\", \"train_8\", \"train_8\", \"train_8\", \"train_8\", \"train_8\", \"train_9\", \"train_9\", \"train_9\", \"train_9\", \"train_9\", \"train_9\", \"train_9\", \"train_9\", \"train_9\", \"train_9\", \"train_9\", \"train_9\", \"train_9\", \"train_9\", \"train_9\"], \"x0\": \" \", \"xaxis\": \"x\", \"y\": [2.8200226757369613, 4.530022675736916, 10.800022675736956, 4.270022675736982, 11.390022675736956, 17.180022675736982, 8.520022675736952, 5.910022675736967, 1.5100226757369342, 1.3700226757369478, 2.040022675736964, 4.870022675736976, 1.3100226757369742, 4.40002267573695, 2.9300226757369785, 13.540022675736964, 7.410022675736963, 2.47002267573696, 0.24002267573695946, 6.010022675736963, 21.990022675736963, 0.14002267573695806, 5.410022675736954, 5.790022675736964, 0.0200226757369677, 0.050022675736968836, 4.2500226757369575, 5.410022675736967, 0.4200226757369592, 0.9700226757369634, 0.9600226757369584, 0.4300226757369643, 1.2200226757369703, 0.8800226757369671, 113.34002267573698, 29.23002267573699, 0.3800226757369387, 15.94002267573694, 0.7200226757369599, 0.5000226757369575, 5.620022675736961, 2.6700226757369663, 0.14002267573695806, 0.7300226757369614, 5.2600226757369635, 1.7000226757369603, 1.3500226757369658, 8.690022675736941, 11.910022675736966, 4.590022675736974, 0.5400226757369637, 6.9600226757369805, 1.0600226757369595, 4.2300226757369614, 3.560022675736974, 1.6300226757369387, 0.5000226757369433, 0.13002267573696713, 0.1100226757369569, 2.020022675736982, 21.830022675736963, 7.650022675736978, 0.350022675736966, 2.0700226757369364, 6.250022675736999, 8.670022675736961, 0.350022675736966, 23.360022675736968, 1.5500226757369608, 0.9400226757369616, 24.780022675736962, 7.490022675736959, 5.06002267573696, 2.9500226757369745, 0.3400226757369467, 30.86002267573697, 0.7500226757369575, 0.7100226757369654, 2.4400226757369623, 3.5700226757369578, 1.0500226757369615, 19.010022675736963, 2.290022675736964, 0.6400226757369865, 2.1900226757369614, 4.050022675736955, 2.9500226757369603, 16.290022675736964, 0.280022675736916, 16.300022675736955, 5.870022675736977, 5.780022675736972, 2.040022675736964, 8.490022675736952, 1.0900226757369749, 0.4300226757369501, 1.6000226757369658, 14.260022675736964, 5.70002267573696, 1.500022675736961, 0.7000226757369614, 6.170022675736961, 2.710022675736962, 0.16002267573695406, 10.110022675736957, 4.13002267573696, 6.430022675736963, 0.3600226757369569, 2.580022675736956, 0.2700226757369677, 1.7100226757369512, 0.120022675736962, 19.09002267573696, 0.8200226757369649, 1.1600226757369685, 0.4900226757369808, 17.720022675736967, 3.5000226757369437, 1.5300226757369728, 6.570022675736965, 2.050022675736983, 2.320022675736965, 0.0400226757369353, 5.2100226757369805, 6.760022675736934, 0.3700226757369478, 0.6800226757369501, 0.23002267573696145, 8.630022675736967, 16.96002267573698, 21.970022675736967, 2.270022675736953, 6.780022675736959, 2.7400226757369524, 18.93002267573695, 0.9800226757369614, 3.150022675736956, 3.1700226757369627, 0.7000226757369639, 12.860022675736964, 0.6400226757369614, 0.6400226757369296, 17.080022675736956, 3.3800226757369667, 1.4000226757369774, 0.3600226757369569, 9.590022675736977, 8.280022675736943, 7.520022675736983, 27.650022675736945, 4.280022675736944, 8.570022675736965, 2.9000226757369205, 1.0100226757369626, 1.4400226757369694, 0.15002267573697736, 0.21002267573697966, 6.900022675736978, 1.8700226757370049, 3.040022675736961, 13.870022675736964, 6.4800226757369614, 2.270022675736953, 0.16002267573693985, 1.1800226757369499, 2.040022675736964, 21.81002267573697, 16.490022675736967, 0.9500226757369604, 0.33002267573695576, 0.4300226757369643, 5.31002267573696, 5.8500226757369616, 1.3100226757369615, 0.24002267573696656, 15.010022675736964, 0.15002267573696315, 5.260022675736991, 2.300022675736954, 2.090022675736961, 2.310022675736945, 1.3900226757369865, 17.25002267573697, 1.400022675736949, 9.690022675736971, 24.040022675736967, 10.670022675736961, 20.790022675736964, 5.070022675736965, 12.330022675736954, 1.5300226757369586, 15.420022675736961, 24.73002267573695, 0.7200226757369563, 9.180022675736963, 6.9800226757369614, 2.5200226757369606, 18.260022675736963, 7.570022675736961, 20.750022675736943, 7.3500226757369935, 2.170022675736959, 4.5100226757369635, 1.0700226757369364, 4.020022675736925, 9.040022675736962, 9.070022675736963, 7.170022675736959, 0.11002267573698532, 3.2600226757369626, 3.8900226757369576, 13.120022675736976, 5.120022675736949, 0.2000226757369603, 8.250022675736941, 0.8000226757369688, 1.5700226757369649, 0.7200226757369705, 12.420022675736961, 3.500022675736972, 0.4500226757369603, 4.3200226757369515, 8.940022675736955, 0.7200226757369705, 6.190022675736941, 9.610022675736962, 5.0100226757369635, 4.050022675736962, 12.750022675736965, 0.8900226757369579, 2.4700226757369617, 1.200022675736932, 0.5100226757369342, 1.4400226757369408, 2.230022675736961, 16.640022675736986, 7.340022675736974, 2.8800226757369667, 6.7300226757369614, 0.9200226757369592, 0.2500226757369433, 1.870022675736976, 1.8100226757369453, 5.750022675736972, 0.8800226757369387, 0.4800226757369615, 4.050022675736962, 5.240022675736952, 2.000022675736961, 2.4100226757369576, 15.870022675736964, 4.820022675736965, 0.6000226757369661, 5.670022675736959, 1.1300226757369636, 2.100022675736966, 1.7500226757369577, 1.5000226757369717, 0.8000226757369546, 1.3100226757369455, 5.56002267573696, 0.13002267573696713, 9.010022675736963, 2.9900226757369524, 1.2000226757369603, 18.200022675736925, 5.8000226757369555, 15.400022675736947, 4.750022675736972, 48.360022675736964, 1.6300226757369671, 39.85002267573695, 1.5200226757369677, 0.120022675736962, 1.4900226757369666, 4.960022675736962, 11.650022675736961, 1.0400226757369635, 27.280022675736962, 21.150022675736977, 8.860022675736962, 5.1500226757369605, 8.11002267573696, 22.740022675736963, 5.090022675736961, 2.6900226757369547, 4.620022675736976, 64.50002267573696, 6.670022675736959, 10.21002267573698, 26.790022675736967, 10.880022675736965, 12.360022675736953, 11.680022675736975, 5.760022675736963, 5.4000226757369765, 4.940022675736942, 2.8600226757369573, 1.4200226757369592, 11.680022675736975, 7.250022675736972, 14.590022675736975, 7.100022675736938, 15.230022675736961, 0.3600226757369569, 0.740022675736963, 10.200022675736962, 26.180022675736968, 0.9600226757369654, 14.860022675736964, 5.8900226757369625, 0.5600226757369633, 1.7800226757369728, 4.550022675736962, 28.270022675736953, 2.8900226757369576, 0.16002267573691142, 16.190022675736962, 0.3600226757369569, 8.060022675736946, 3.310022675736945, 0.8300226757369558, 2.600022675736966, 8.900022675736949, 7.9800226757369614, 4.470022675736942, 4.790022675736964, 2.170022675736959, 4.790022675736964, 2.267573696145125e-05, 0.6300226757369671, 0.7000226757369603, 7.400022675736978, 7.850022675736952, 0.13002267573695292, 8.56002267573696, 7.940022675736955, 4.680022675736963, 2.2600226757369555, 3.56002267573696, 0.2600226757369626, 1.90002267573696, 1.150022675736949, 5.2600226757369635, 2.8400226757369467, 24.520022675736985, 1.6700226757369592, 5.070022675736993, 0.6400226757369865, 5.290022675736964, 0.40002267573694894, 2.96002267573698, 1.1300226757369671, 7.910022675736967, 17.640022675736958, 0.06002267573700237, 0.23002267573696145, 8.010022675736963, 5.120022675736962, 1.1500226757369632, 8.820022675736965, 34.48002267573696, 4.330022675736963, 17.970022675736963, 2.990022675736963, 16.02002267573696, 3.3000226757369613, 0.850022675736966, 20.78002267573692, 5.740022675736962, 2.840022675736975, 5.250022675736965, 22.80002267573696, 5.940022675736955, 0.9200226757369664, 8.400022675736949, 10.490022675736967, 4.5000226757369575, 7.800022675736969, 8.34002267573696, 3.7600226757369626, 0.350022675736966, 1.400022675736949, 13.940022675736971, 13.99002267573698, 4.110022675736957, 5.390022675736958, 3.7000226757369887, 3.440022675736942, 33.91002267573697, 29.25002267573696, 0.3900226757369581, 4.550022675736955, 8.410022675736966, 58.90002267573696, 5.600022675736966, 0.6500226757369774, 0.18002267573695008, 0.5400226757369637, 0.4400226757369694, 18.60002267573697, 1.3200226757369364, 4.390022675736958, 6.8000226757369555, 0.22002267573694206, 1.4100226757369685, 0.41002267573696827, 0.41002267573696827, 3.750022675736972, 0.9800226757369614, 0.3100226757369597, 0.7300226757369614, 7.670022675736959, 31.69002267573697, 0.5300226757369444, 28.60002267573697, 12.46002267573698, 3.43002267573695, 14.120022675736964, 0.8300226757369558, 0.640022675736958, 9.10002267573696, 1.6400226757369616, 7.540022675736961, 5.480022675736934, 54.67002267573696, 7.860022675736957], \"y0\": \" \", \"yaxis\": \"y\"}],                        {\"boxmode\": \"group\", \"legend\": {\"tracegroupgap\": 0}, \"template\": {\"data\": {\"bar\": [{\"error_x\": {\"color\": \"rgb(36,36,36)\"}, \"error_y\": {\"color\": \"rgb(36,36,36)\"}, \"marker\": {\"line\": {\"color\": \"white\", \"width\": 0.5}}, \"type\": \"bar\"}], \"barpolar\": [{\"marker\": {\"line\": {\"color\": \"white\", \"width\": 0.5}}, \"type\": \"barpolar\"}], \"carpet\": [{\"aaxis\": {\"endlinecolor\": \"rgb(36,36,36)\", \"gridcolor\": \"white\", \"linecolor\": \"white\", \"minorgridcolor\": \"white\", \"startlinecolor\": \"rgb(36,36,36)\"}, \"baxis\": {\"endlinecolor\": \"rgb(36,36,36)\", \"gridcolor\": \"white\", \"linecolor\": \"white\", \"minorgridcolor\": \"white\", \"startlinecolor\": \"rgb(36,36,36)\"}, \"type\": \"carpet\"}], \"choropleth\": [{\"colorbar\": {\"outlinewidth\": 1, \"tickcolor\": \"rgb(36,36,36)\", \"ticks\": \"outside\"}, \"type\": \"choropleth\"}], \"contour\": [{\"colorbar\": {\"outlinewidth\": 1, \"tickcolor\": \"rgb(36,36,36)\", \"ticks\": \"outside\"}, \"colorscale\": [[0.0, \"#440154\"], [0.1111111111111111, \"#482878\"], [0.2222222222222222, \"#3e4989\"], [0.3333333333333333, \"#31688e\"], [0.4444444444444444, \"#26828e\"], [0.5555555555555556, \"#1f9e89\"], [0.6666666666666666, \"#35b779\"], [0.7777777777777778, \"#6ece58\"], [0.8888888888888888, \"#b5de2b\"], [1.0, \"#fde725\"]], \"type\": \"contour\"}], \"contourcarpet\": [{\"colorbar\": {\"outlinewidth\": 1, \"tickcolor\": \"rgb(36,36,36)\", \"ticks\": \"outside\"}, \"type\": \"contourcarpet\"}], \"heatmap\": [{\"colorbar\": {\"outlinewidth\": 1, \"tickcolor\": \"rgb(36,36,36)\", \"ticks\": \"outside\"}, \"colorscale\": [[0.0, \"#440154\"], [0.1111111111111111, \"#482878\"], [0.2222222222222222, \"#3e4989\"], [0.3333333333333333, \"#31688e\"], [0.4444444444444444, \"#26828e\"], [0.5555555555555556, \"#1f9e89\"], [0.6666666666666666, \"#35b779\"], [0.7777777777777778, \"#6ece58\"], [0.8888888888888888, \"#b5de2b\"], [1.0, \"#fde725\"]], \"type\": \"heatmap\"}], \"heatmapgl\": [{\"colorbar\": {\"outlinewidth\": 1, \"tickcolor\": \"rgb(36,36,36)\", \"ticks\": \"outside\"}, \"colorscale\": [[0.0, \"#440154\"], [0.1111111111111111, \"#482878\"], [0.2222222222222222, \"#3e4989\"], [0.3333333333333333, \"#31688e\"], [0.4444444444444444, \"#26828e\"], [0.5555555555555556, \"#1f9e89\"], [0.6666666666666666, \"#35b779\"], [0.7777777777777778, \"#6ece58\"], [0.8888888888888888, \"#b5de2b\"], [1.0, \"#fde725\"]], \"type\": \"heatmapgl\"}], \"histogram\": [{\"marker\": {\"line\": {\"color\": \"white\", \"width\": 0.6}}, \"type\": \"histogram\"}], \"histogram2d\": [{\"colorbar\": {\"outlinewidth\": 1, \"tickcolor\": \"rgb(36,36,36)\", \"ticks\": \"outside\"}, \"colorscale\": [[0.0, \"#440154\"], [0.1111111111111111, \"#482878\"], [0.2222222222222222, \"#3e4989\"], [0.3333333333333333, \"#31688e\"], [0.4444444444444444, \"#26828e\"], [0.5555555555555556, \"#1f9e89\"], [0.6666666666666666, \"#35b779\"], [0.7777777777777778, \"#6ece58\"], [0.8888888888888888, \"#b5de2b\"], [1.0, \"#fde725\"]], \"type\": \"histogram2d\"}], \"histogram2dcontour\": [{\"colorbar\": {\"outlinewidth\": 1, \"tickcolor\": \"rgb(36,36,36)\", \"ticks\": \"outside\"}, \"colorscale\": [[0.0, \"#440154\"], [0.1111111111111111, \"#482878\"], [0.2222222222222222, \"#3e4989\"], [0.3333333333333333, \"#31688e\"], [0.4444444444444444, \"#26828e\"], [0.5555555555555556, \"#1f9e89\"], [0.6666666666666666, \"#35b779\"], [0.7777777777777778, \"#6ece58\"], [0.8888888888888888, \"#b5de2b\"], [1.0, \"#fde725\"]], \"type\": \"histogram2dcontour\"}], \"mesh3d\": [{\"colorbar\": {\"outlinewidth\": 1, \"tickcolor\": \"rgb(36,36,36)\", \"ticks\": \"outside\"}, \"type\": \"mesh3d\"}], \"parcoords\": [{\"line\": {\"colorbar\": {\"outlinewidth\": 1, \"tickcolor\": \"rgb(36,36,36)\", \"ticks\": \"outside\"}}, \"type\": \"parcoords\"}], \"pie\": [{\"automargin\": true, \"type\": \"pie\"}], \"scatter\": [{\"marker\": {\"colorbar\": {\"outlinewidth\": 1, \"tickcolor\": \"rgb(36,36,36)\", \"ticks\": \"outside\"}}, \"type\": \"scatter\"}], \"scatter3d\": [{\"line\": {\"colorbar\": {\"outlinewidth\": 1, \"tickcolor\": \"rgb(36,36,36)\", \"ticks\": \"outside\"}}, \"marker\": {\"colorbar\": {\"outlinewidth\": 1, \"tickcolor\": \"rgb(36,36,36)\", \"ticks\": \"outside\"}}, \"type\": \"scatter3d\"}], \"scattercarpet\": [{\"marker\": {\"colorbar\": {\"outlinewidth\": 1, \"tickcolor\": \"rgb(36,36,36)\", \"ticks\": \"outside\"}}, \"type\": \"scattercarpet\"}], \"scattergeo\": [{\"marker\": {\"colorbar\": {\"outlinewidth\": 1, \"tickcolor\": \"rgb(36,36,36)\", \"ticks\": \"outside\"}}, \"type\": \"scattergeo\"}], \"scattergl\": [{\"marker\": {\"colorbar\": {\"outlinewidth\": 1, \"tickcolor\": \"rgb(36,36,36)\", \"ticks\": \"outside\"}}, \"type\": \"scattergl\"}], \"scattermapbox\": [{\"marker\": {\"colorbar\": {\"outlinewidth\": 1, \"tickcolor\": \"rgb(36,36,36)\", \"ticks\": \"outside\"}}, \"type\": \"scattermapbox\"}], \"scatterpolar\": [{\"marker\": {\"colorbar\": {\"outlinewidth\": 1, \"tickcolor\": \"rgb(36,36,36)\", \"ticks\": \"outside\"}}, \"type\": \"scatterpolar\"}], \"scatterpolargl\": [{\"marker\": {\"colorbar\": {\"outlinewidth\": 1, \"tickcolor\": \"rgb(36,36,36)\", \"ticks\": \"outside\"}}, \"type\": \"scatterpolargl\"}], \"scatterternary\": [{\"marker\": {\"colorbar\": {\"outlinewidth\": 1, \"tickcolor\": \"rgb(36,36,36)\", \"ticks\": \"outside\"}}, \"type\": \"scatterternary\"}], \"surface\": [{\"colorbar\": {\"outlinewidth\": 1, \"tickcolor\": \"rgb(36,36,36)\", \"ticks\": \"outside\"}, \"colorscale\": [[0.0, \"#440154\"], [0.1111111111111111, \"#482878\"], [0.2222222222222222, \"#3e4989\"], [0.3333333333333333, \"#31688e\"], [0.4444444444444444, \"#26828e\"], [0.5555555555555556, \"#1f9e89\"], [0.6666666666666666, \"#35b779\"], [0.7777777777777778, \"#6ece58\"], [0.8888888888888888, \"#b5de2b\"], [1.0, \"#fde725\"]], \"type\": \"surface\"}], \"table\": [{\"cells\": {\"fill\": {\"color\": \"rgb(237,237,237)\"}, \"line\": {\"color\": \"white\"}}, \"header\": {\"fill\": {\"color\": \"rgb(217,217,217)\"}, \"line\": {\"color\": \"white\"}}, \"type\": \"table\"}]}, \"layout\": {\"annotationdefaults\": {\"arrowhead\": 0, \"arrowwidth\": 1}, \"autotypenumbers\": \"strict\", \"coloraxis\": {\"colorbar\": {\"outlinewidth\": 1, \"tickcolor\": \"rgb(36,36,36)\", \"ticks\": \"outside\"}}, \"colorscale\": {\"diverging\": [[0.0, \"rgb(103,0,31)\"], [0.1, \"rgb(178,24,43)\"], [0.2, \"rgb(214,96,77)\"], [0.3, \"rgb(244,165,130)\"], [0.4, \"rgb(253,219,199)\"], [0.5, \"rgb(247,247,247)\"], [0.6, \"rgb(209,229,240)\"], [0.7, \"rgb(146,197,222)\"], [0.8, \"rgb(67,147,195)\"], [0.9, \"rgb(33,102,172)\"], [1.0, \"rgb(5,48,97)\"]], \"sequential\": [[0.0, \"#440154\"], [0.1111111111111111, \"#482878\"], [0.2222222222222222, \"#3e4989\"], [0.3333333333333333, \"#31688e\"], [0.4444444444444444, \"#26828e\"], [0.5555555555555556, \"#1f9e89\"], [0.6666666666666666, \"#35b779\"], [0.7777777777777778, \"#6ece58\"], [0.8888888888888888, \"#b5de2b\"], [1.0, \"#fde725\"]], \"sequentialminus\": [[0.0, \"#440154\"], [0.1111111111111111, \"#482878\"], [0.2222222222222222, \"#3e4989\"], [0.3333333333333333, \"#31688e\"], [0.4444444444444444, \"#26828e\"], [0.5555555555555556, \"#1f9e89\"], [0.6666666666666666, \"#35b779\"], [0.7777777777777778, \"#6ece58\"], [0.8888888888888888, \"#b5de2b\"], [1.0, \"#fde725\"]]}, \"colorway\": [\"#1F77B4\", \"#FF7F0E\", \"#2CA02C\", \"#D62728\", \"#9467BD\", \"#8C564B\", \"#E377C2\", \"#7F7F7F\", \"#BCBD22\", \"#17BECF\"], \"font\": {\"color\": \"rgb(36,36,36)\"}, \"geo\": {\"bgcolor\": \"white\", \"lakecolor\": \"white\", \"landcolor\": \"white\", \"showlakes\": true, \"showland\": true, \"subunitcolor\": \"white\"}, \"hoverlabel\": {\"align\": \"left\"}, \"hovermode\": \"closest\", \"mapbox\": {\"style\": \"light\"}, \"paper_bgcolor\": \"white\", \"plot_bgcolor\": \"white\", \"polar\": {\"angularaxis\": {\"gridcolor\": \"rgb(232,232,232)\", \"linecolor\": \"rgb(36,36,36)\", \"showgrid\": false, \"showline\": true, \"ticks\": \"outside\"}, \"bgcolor\": \"white\", \"radialaxis\": {\"gridcolor\": \"rgb(232,232,232)\", \"linecolor\": \"rgb(36,36,36)\", \"showgrid\": false, \"showline\": true, \"ticks\": \"outside\"}}, \"scene\": {\"xaxis\": {\"backgroundcolor\": \"white\", \"gridcolor\": \"rgb(232,232,232)\", \"gridwidth\": 2, \"linecolor\": \"rgb(36,36,36)\", \"showbackground\": true, \"showgrid\": false, \"showline\": true, \"ticks\": \"outside\", \"zeroline\": false, \"zerolinecolor\": \"rgb(36,36,36)\"}, \"yaxis\": {\"backgroundcolor\": \"white\", \"gridcolor\": \"rgb(232,232,232)\", \"gridwidth\": 2, \"linecolor\": \"rgb(36,36,36)\", \"showbackground\": true, \"showgrid\": false, \"showline\": true, \"ticks\": \"outside\", \"zeroline\": false, \"zerolinecolor\": \"rgb(36,36,36)\"}, \"zaxis\": {\"backgroundcolor\": \"white\", \"gridcolor\": \"rgb(232,232,232)\", \"gridwidth\": 2, \"linecolor\": \"rgb(36,36,36)\", \"showbackground\": true, \"showgrid\": false, \"showline\": true, \"ticks\": \"outside\", \"zeroline\": false, \"zerolinecolor\": \"rgb(36,36,36)\"}}, \"shapedefaults\": {\"fillcolor\": \"black\", \"line\": {\"width\": 0}, \"opacity\": 0.3}, \"ternary\": {\"aaxis\": {\"gridcolor\": \"rgb(232,232,232)\", \"linecolor\": \"rgb(36,36,36)\", \"showgrid\": false, \"showline\": true, \"ticks\": \"outside\"}, \"baxis\": {\"gridcolor\": \"rgb(232,232,232)\", \"linecolor\": \"rgb(36,36,36)\", \"showgrid\": false, \"showline\": true, \"ticks\": \"outside\"}, \"bgcolor\": \"white\", \"caxis\": {\"gridcolor\": \"rgb(232,232,232)\", \"linecolor\": \"rgb(36,36,36)\", \"showgrid\": false, \"showline\": true, \"ticks\": \"outside\"}}, \"title\": {\"x\": 0.05}, \"xaxis\": {\"automargin\": true, \"gridcolor\": \"rgb(232,232,232)\", \"linecolor\": \"rgb(36,36,36)\", \"showgrid\": false, \"showline\": true, \"ticks\": \"outside\", \"title\": {\"standoff\": 15}, \"zeroline\": false, \"zerolinecolor\": \"rgb(36,36,36)\"}, \"yaxis\": {\"automargin\": true, \"gridcolor\": \"rgb(232,232,232)\", \"linecolor\": \"rgb(36,36,36)\", \"showgrid\": false, \"showline\": true, \"ticks\": \"outside\", \"title\": {\"standoff\": 15}, \"zeroline\": false, \"zerolinecolor\": \"rgb(36,36,36)\"}}}, \"title\": {\"text\": \"\\u8a71\\u8005\\u3054\\u3068\\u306e\\u767a\\u8a71\\u30c1\\u30e3\\u30f3\\u30af\\u6642\\u9593\\u306e\\u5206\\u5e03\"}, \"xaxis\": {\"anchor\": \"y\", \"domain\": [0.0, 1.0], \"title\": {\"text\": \"speaker\"}}, \"yaxis\": {\"anchor\": \"x\", \"domain\": [0.0, 1.0], \"title\": {\"text\": \"duration\"}}},                        {\"responsive\": true}                    ).then(function(){\n",
       "                            \n",
       "var gd = document.getElementById('110900d5-94f7-4c3a-8391-b5eb5cdbc24c');\n",
       "var x = new MutationObserver(function (mutations, observer) {{\n",
       "        var display = window.getComputedStyle(gd).display;\n",
       "        if (!display || display === 'none') {{\n",
       "            console.log([gd, 'removed!']);\n",
       "            Plotly.purge(gd);\n",
       "            observer.disconnect();\n",
       "        }}\n",
       "}});\n",
       "\n",
       "// Listen for the removal of the full notebook cells\n",
       "var notebookContainer = gd.closest('#notebook-container');\n",
       "if (notebookContainer) {{\n",
       "    x.observe(notebookContainer, {childList: true});\n",
       "}}\n",
       "\n",
       "// Listen for the clearing of the current output cell\n",
       "var outputEl = gd.closest('.output');\n",
       "if (outputEl) {{\n",
       "    x.observe(outputEl, {childList: true});\n",
       "}}\n",
       "\n",
       "                        })                };                });            </script>        </div>"
      ]
     },
     "metadata": {},
     "output_type": "display_data"
    }
   ],
   "source": [
    "fig = px.box(df_train.sort_values(\"speaker\"), x='speaker', y='duration', template=\"simple_white\", title=\"話者ごとの発話チャンク時間の分布\")\n",
    "fig.show()"
   ]
  },
  {
   "cell_type": "code",
   "execution_count": 29,
   "metadata": {},
   "outputs": [
    {
     "data": {
      "application/vnd.plotly.v1+json": {
       "config": {
        "plotlyServerURL": "https://plot.ly"
       },
       "data": [
        {
         "alignmentgroup": "True",
         "hovertemplate": "speaker=%{x}<br>arousal=%{y}<extra></extra>",
         "legendgroup": "",
         "marker": {
          "color": "#1F77B4"
         },
         "name": "",
         "notched": false,
         "offsetgroup": "",
         "orientation": "v",
         "showlegend": false,
         "type": "box",
         "x": [
          "dev_1",
          "dev_1",
          "dev_1",
          "dev_1",
          "dev_1",
          "dev_1",
          "dev_1",
          "dev_1",
          "dev_1",
          "dev_1",
          "dev_1",
          "dev_1",
          "dev_1",
          "dev_1",
          "dev_1",
          "dev_1",
          "dev_1",
          "dev_1",
          "dev_1",
          "dev_1",
          "dev_1",
          "dev_1",
          "dev_1",
          "dev_1",
          "dev_1",
          "dev_1",
          "dev_2",
          "dev_2",
          "dev_2",
          "dev_2",
          "dev_2",
          "dev_2",
          "dev_2",
          "dev_2",
          "dev_2",
          "dev_2",
          "dev_2",
          "dev_2",
          "dev_2",
          "dev_2",
          "dev_2",
          "dev_2",
          "dev_3",
          "dev_3",
          "dev_3",
          "dev_3",
          "dev_3",
          "dev_3",
          "dev_3",
          "dev_3",
          "dev_3",
          "dev_3",
          "dev_3",
          "dev_3",
          "dev_3",
          "dev_3",
          "dev_3",
          "dev_3",
          "dev_3",
          "dev_3",
          "dev_3",
          "dev_3",
          "dev_3",
          "dev_3",
          "dev_3",
          "dev_3",
          "dev_3",
          "dev_3",
          "dev_3",
          "dev_3",
          "dev_3",
          "dev_3",
          "dev_4",
          "dev_4",
          "dev_4",
          "dev_4",
          "dev_4",
          "dev_4",
          "dev_4",
          "dev_4",
          "dev_4",
          "dev_4",
          "dev_4",
          "dev_4",
          "dev_4",
          "dev_4",
          "dev_4",
          "dev_4",
          "dev_4",
          "dev_4",
          "dev_4",
          "dev_4",
          "dev_4",
          "dev_4",
          "dev_4",
          "dev_4",
          "dev_4",
          "dev_4",
          "dev_4",
          "dev_5",
          "dev_5",
          "dev_5",
          "dev_5",
          "dev_5",
          "dev_5",
          "dev_5",
          "dev_5",
          "dev_5",
          "dev_5",
          "dev_5",
          "dev_5",
          "dev_5",
          "dev_5",
          "dev_5",
          "dev_5",
          "dev_5",
          "dev_5",
          "dev_5",
          "dev_5",
          "dev_5",
          "dev_5",
          "dev_5",
          "dev_5",
          "dev_5",
          "dev_5",
          "dev_5",
          "dev_5",
          "dev_5",
          "dev_5",
          "dev_5",
          "dev_6",
          "dev_6",
          "dev_6",
          "dev_6",
          "dev_6",
          "dev_6",
          "dev_6",
          "dev_6",
          "dev_6",
          "dev_6",
          "dev_6",
          "dev_6",
          "dev_6",
          "dev_6",
          "dev_6",
          "dev_6",
          "dev_6",
          "dev_6",
          "dev_6",
          "dev_6",
          "dev_6",
          "dev_6",
          "dev_6",
          "dev_7",
          "dev_7",
          "dev_7",
          "dev_7",
          "dev_7",
          "dev_7",
          "dev_7",
          "dev_7",
          "dev_7",
          "dev_7",
          "dev_7",
          "dev_7",
          "dev_7",
          "dev_7",
          "dev_7",
          "dev_7",
          "dev_7",
          "dev_7",
          "dev_7",
          "dev_7",
          "dev_7",
          "dev_7",
          "dev_7",
          "dev_7",
          "dev_7",
          "dev_7",
          "dev_7",
          "dev_7",
          "dev_7",
          "dev_8",
          "dev_8",
          "dev_8",
          "dev_8",
          "dev_8",
          "dev_8",
          "dev_8",
          "dev_8",
          "dev_8",
          "dev_8",
          "dev_8",
          "dev_8",
          "dev_8",
          "dev_8",
          "dev_8",
          "dev_8",
          "dev_8",
          "dev_8",
          "dev_8",
          "dev_8",
          "dev_9",
          "dev_9",
          "dev_9",
          "dev_9",
          "dev_9",
          "dev_9",
          "dev_9",
          "dev_9",
          "dev_9",
          "dev_9",
          "dev_9",
          "dev_9",
          "dev_9",
          "dev_9",
          "dev_9",
          "dev_9",
          "dev_9",
          "dev_9",
          "dev_9",
          "dev_9",
          "dev_9",
          "dev_9",
          "dev_9",
          "dev_9",
          "dev_9",
          "dev_9",
          "dev_9",
          "dev_9",
          "dev_9",
          "train_1",
          "train_1",
          "train_1",
          "train_1",
          "train_1",
          "train_1",
          "train_1",
          "train_1",
          "train_1",
          "train_1",
          "train_1",
          "train_1",
          "train_1",
          "train_1",
          "train_1",
          "train_1",
          "train_1",
          "train_1",
          "train_1",
          "train_1",
          "train_1",
          "train_1",
          "train_1",
          "train_1",
          "train_1",
          "train_1",
          "train_1",
          "train_1",
          "train_1",
          "train_1",
          "train_1",
          "train_1",
          "train_1",
          "train_1",
          "train_2",
          "train_2",
          "train_2",
          "train_2",
          "train_2",
          "train_2",
          "train_2",
          "train_2",
          "train_2",
          "train_2",
          "train_2",
          "train_2",
          "train_2",
          "train_2",
          "train_3",
          "train_3",
          "train_3",
          "train_3",
          "train_3",
          "train_3",
          "train_3",
          "train_3",
          "train_3",
          "train_3",
          "train_3",
          "train_3",
          "train_3",
          "train_3",
          "train_3",
          "train_3",
          "train_3",
          "train_4",
          "train_4",
          "train_4",
          "train_4",
          "train_4",
          "train_4",
          "train_4",
          "train_4",
          "train_4",
          "train_4",
          "train_4",
          "train_4",
          "train_4",
          "train_4",
          "train_4",
          "train_4",
          "train_4",
          "train_4",
          "train_4",
          "train_4",
          "train_5",
          "train_5",
          "train_5",
          "train_5",
          "train_5",
          "train_5",
          "train_5",
          "train_5",
          "train_5",
          "train_5",
          "train_5",
          "train_5",
          "train_5",
          "train_5",
          "train_5",
          "train_5",
          "train_5",
          "train_5",
          "train_5",
          "train_5",
          "train_5",
          "train_5",
          "train_5",
          "train_5",
          "train_5",
          "train_5",
          "train_5",
          "train_5",
          "train_6",
          "train_6",
          "train_6",
          "train_6",
          "train_6",
          "train_6",
          "train_6",
          "train_6",
          "train_6",
          "train_6",
          "train_6",
          "train_6",
          "train_6",
          "train_6",
          "train_6",
          "train_6",
          "train_6",
          "train_6",
          "train_6",
          "train_6",
          "train_6",
          "train_6",
          "train_6",
          "train_6",
          "train_7",
          "train_7",
          "train_7",
          "train_7",
          "train_7",
          "train_7",
          "train_7",
          "train_7",
          "train_7",
          "train_7",
          "train_7",
          "train_7",
          "train_7",
          "train_7",
          "train_7",
          "train_7",
          "train_7",
          "train_7",
          "train_7",
          "train_7",
          "train_7",
          "train_7",
          "train_8",
          "train_8",
          "train_8",
          "train_8",
          "train_8",
          "train_8",
          "train_8",
          "train_8",
          "train_8",
          "train_8",
          "train_8",
          "train_8",
          "train_8",
          "train_8",
          "train_8",
          "train_8",
          "train_8",
          "train_8",
          "train_8",
          "train_8",
          "train_8",
          "train_8",
          "train_9",
          "train_9",
          "train_9",
          "train_9",
          "train_9",
          "train_9",
          "train_9",
          "train_9",
          "train_9",
          "train_9",
          "train_9",
          "train_9",
          "train_9",
          "train_9",
          "train_9"
         ],
         "x0": " ",
         "xaxis": "x",
         "y": [
          0.008319166197183099,
          -0.25561488947368416,
          -0.2935582889298893,
          0.026457881276851853,
          0.0617429983776224,
          0.10677740966589323,
          0.016265194630841157,
          0.012131090798657708,
          -0.09343765282051283,
          -0.053591505485714286,
          -0.0011620098076923064,
          0.06790172443089433,
          -0.0012091513823529409,
          0.0050181059090090106,
          -0.19101041621621626,
          0.1571045773232353,
          0.19063200909090908,
          -0.1912318412698412,
          -0.2537585,
          0.14053992256578945,
          0.13472776809437387,
          -0.232925,
          -0.006723925514705889,
          0.1579426974657534,
          -0.2145915,
          -0.2395915,
          0.17772627289719625,
          0.0028450305401459914,
          -0.2639261666666667,
          -0.34486512,
          -0.25353164,
          -0.36031525,
          -0.26196817419354834,
          -0.11768811260869565,
          0.2216772454661257,
          0.2299924451229509,
          -0.041731604,
          0.08053824009774438,
          -0.18099489473684213,
          -0.3239459285714287,
          0.0755130476056338,
          -0.31389339705882346,
          -0.06281533,
          0.008342564684210527,
          -0.07131785795454545,
          -0.09955018272727276,
          -0.14624390542857146,
          -0.030059984004587162,
          0.17326716391304348,
          0.0510036309137931,
          -0.06859310866666668,
          -0.019729619022857137,
          0.11938225925925924,
          -0.06501782546728972,
          -0.023704219233333337,
          -0.01925977447619048,
          0.08877441846153848,
          -0.13356535,
          -0.2098153,
          -0.2278922632692308,
          0.05827729364131627,
          0.003413836468750005,
          0.07468467100000001,
          -0.0972681641509434,
          -0.02150322586751593,
          -0.04531227504587156,
          -0.0008153330000000003,
          0.14319892512820515,
          0.028393,
          0.0035848639999999992,
          0.11514173059581323,
          0.1112516814814815,
          -0.053625141214062484,
          -0.31206577066666663,
          -0.3202657444444445,
          -0.09610122626683937,
          -0.29259895,
          -0.23526573684210525,
          -0.2480345806451613,
          -0.22641375555555554,
          -0.17835211111111113,
          -0.16310287127882597,
          -0.2148059948275862,
          -0.2215620611111111,
          -0.03156850909090909,
          -0.06745530774901963,
          -0.2198212,
          0.05614417685819071,
          -0.1898491,
          -0.20641898518190707,
          -0.4243648655405405,
          -0.13732055946027394,
          -0.38457394150943386,
          -0.16514839545727697,
          -0.3918729142857143,
          -0.07665465583333335,
          -0.09431338857142857,
          -0.04399592558991596,
          -0.3038438552447553,
          -0.06579728974358974,
          -0.012456466666666666,
          0.018203316,
          -0.2042405147058823,
          -0.24454946,
          -0.16057427996850393,
          -0.25137482857142857,
          -0.015265446240740738,
          -0.178216,
          -0.3214468,
          -0.3277577625,
          -0.429448665116279,
          -0.25463275,
          0.08851883352818371,
          -0.21580340000000006,
          -0.2458290193548387,
          -0.1638314846153846,
          0.10373895141348316,
          0.05617714424606742,
          -0.10737850102564103,
          0.06408693078787879,
          0.1562556,
          0.08533944773333334,
          0.043283885,
          -0.07069193686412215,
          -0.11202983223882353,
          -0.028882781,
          -0.2764967947368421,
          -0.34866055,
          -0.3279027373732719,
          0.035799542337558686,
          0.09670206907259526,
          -0.19268091896551726,
          -0.08698584924561402,
          -0.1258001360869565,
          0.07688708822526316,
          -0.1743276423076923,
          -0.0603324295125,
          0.0439800675,
          -0.08530947684210526,
          0.09266247647058824,
          -0.015010235294117647,
          -0.13716701176470586,
          0.02734533201168224,
          -0.19440365610465116,
          -0.2439643694444445,
          0.02298007,
          0.09855752090041492,
          -0.023293971137019236,
          -0.021989066986772488,
          0.09520108582972582,
          -0.2547822824074074,
          0.014947660453703703,
          -0.20204245540540536,
          -0.3708048269230769,
          -0.4040671216216216,
          -0.5095356200000001,
          -0.5480911666666667,
          -0.21470035057471265,
          0.025242164604166662,
          0.031858207272727264,
          -0.026440513204034587,
          -0.15724088829268293,
          -0.34374249999999995,
          -0.30753558000000003,
          -0.3872667806451613,
          -0.3001456641509433,
          0.004271217219012799,
          0.04847327529055692,
          -0.2875358333333334,
          -0.32820229999999995,
          -0.3029523333333333,
          0.07508875074626865,
          -0.01591428396598639,
          -0.09194744411764703,
          -0.3496785714285714,
          0.03558938942340427,
          -0.25320240000000005,
          0.02266488523383459,
          -0.09747910322033897,
          -0.17300734905660375,
          -0.2034960525423729,
          -0.04633191330555556,
          0.10805714939305557,
          -0.19080858611111112,
          0.017516395079508203,
          0.12709899675199335,
          0.046588450421641794,
          0.04599794296353168,
          0.0069460429976562505,
          0.25482696666666665,
          0.1835004615384615,
          0.2370291437823834,
          0.18335116794830367,
          0.190707,
          0.05308190746086957,
          0.18489160000000002,
          0.230539703125,
          0.15620093941484714,
          0.14404904842105265,
          0.009574088691136821,
          -0.1281023871891892,
          -0.14964865636363633,
          0.0034583337350877234,
          -0.35003163928571424,
          -0.0970106689108911,
          -0.07755681676211452,
          -0.059977352600877186,
          0.00977654708,
          -0.0219364175,
          -0.15933477829268292,
          -0.1616472824489796,
          -0.02860054831428572,
          -0.0820203884496124,
          -0.12582528333333334,
          -0.04119122311057692,
          -0.13896020476190474,
          -0.19455824390243906,
          -0.3627697368421052,
          -0.08033915141025637,
          -0.0955974640449438,
          -0.149158625,
          -0.0493446702293578,
          -0.04951081812053571,
          0.01863375842105263,
          -0.0859855573076923,
          -0.008727016756198353,
          -0.026949628452380945,
          0.12701992718446606,
          0.018417793093750003,
          -0.17756139833333331,
          -0.01056529870967742,
          0.01886125206451613,
          -0.13847362785714287,
          0.005492549447368422,
          -0.1354577529824561,
          0.07445586102870815,
          -0.03220291225,
          0.03911607872164384,
          -0.0017454450647058821,
          -0.2380272083333333,
          0.003193050714285714,
          -0.14163831104166666,
          -0.14341668521739126,
          0.05478746804827587,
          -0.16258336913043478,
          -0.2087483384615384,
          0.02432107796116505,
          -0.17309664924242424,
          -0.23248407647058825,
          -0.07173019516129034,
          0.027480528010301503,
          -0.021114333140495867,
          0.09363946875,
          -0.09445936013986016,
          0.055615012758620685,
          -0.10684663685185186,
          -0.1784207711111111,
          -0.16866287333333332,
          -0.14148950476190475,
          -0.17661788235294118,
          -0.06775939,
          -0.075902188,
          -0.059304842292035385,
          -0.07729253815789472,
          -0.258652190625,
          0.20967087789473685,
          0.2874204157534247,
          0.16891442761658032,
          0.017871899199999996,
          0.15314243870075972,
          -0.1396023030952381,
          0.1073319871831294,
          -0.3055031025,
          -0.238669775,
          -0.3722702564102564,
          0.06946701512,
          0.17417849315068493,
          -0.2068950703703704,
          0.18837459822840408,
          0.1468991654716981,
          0.12766553049327353,
          0.08358953550387598,
          0.18926134803921574,
          0.12387307995606328,
          0.20241433255813954,
          0.014302580147058822,
          0.16890417008547007,
          0.2311180778053317,
          0.024694750291666668,
          0.20494867070312495,
          0.1145345503105812,
          0.12326531708029195,
          0.1741248790645161,
          0.15756450477815698,
          0.07596487495862067,
          0.09539427270072992,
          0.02381423567741936,
          -0.2091591777777778,
          -0.12962213430555558,
          0.0012884553310580187,
          0.1065549959836066,
          0.11145025831693987,
          0.0804917747247191,
          -0.02370082429057592,
          -0.014836791545454546,
          -0.136011035,
          0.355714229296875,
          0.17295240879268292,
          -0.099927736,
          0.03118401690616622,
          -0.07090754496644294,
          -0.13248312866666667,
          0.00799259191304348,
          0.054420423947368415,
          0.2454202291666666,
          0.044247977121621616,
          -0.16574234000000002,
          -0.07675892838522168,
          -0.16540899000000006,
          -0.04556005790078819,
          -0.13360980160156627,
          0.11075767545454544,
          0.07502535242424242,
          -0.021243813325892858,
          0.010148220457711448,
          -0.09289276902654868,
          0.013767309347107442,
          -0.045136266709090905,
          -0.25358806198347106,
          -0.020076,
          -0.2777227176470588,
          -0.3103388263157894,
          0.09548885654301073,
          -0.1645003644111675,
          -0.05715899,
          -0.01423844848837211,
          -0.08222807261306532,
          -0.041686315714285715,
          -0.2691273965517242,
          -0.028353435287777774,
          -0.2774567142857143,
          -0.19375622083333333,
          -0.3873534466666666,
          -0.07006312775939849,
          -0.1446964826527778,
          0.0675082458257329,
          -0.0451120693023256,
          -0.011243065240625,
          0.12298869999999998,
          -0.03859090123059701,
          -0.3436780000000001,
          -0.3676034131578947,
          -0.026091752310344832,
          0.10649791495477384,
          0.19349397850678726,
          0.17187756666666668,
          -0.16748749999999998,
          -0.020178792148756224,
          -0.06108106691472868,
          -0.22067796333333334,
          0.14006261039819007,
          0.18213311084588646,
          -0.06349447731192659,
          0.008777552244444447,
          0.010620288684210529,
          0.13509486473383084,
          -0.01218985988095238,
          -0.21254159545454535,
          0.2500276361153847,
          0.09891555241379307,
          -0.014801065944444443,
          0.11423632255639095,
          0.09364101248686517,
          0.02197450622147651,
          0.017583204166666668,
          0.08957700844407585,
          0.05774851471102661,
          0.03809326994690265,
          0.04927171701878172,
          0.2013757213875598,
          -0.11394165936842103,
          -0.2695557,
          -0.37801867222222224,
          0.1418139260833811,
          0.14543575426780628,
          0.013405851917307695,
          -0.1967346205882353,
          -0.1288322944680851,
          -0.2353334804597701,
          0.12063433154040044,
          0.17448050544338334,
          -0.04502062090909091,
          0.0804932546347826,
          0.08454913708962264,
          0.2362115424983028,
          0.1344619281690141,
          0.1850328588235294,
          -0.11403576666666665,
          -0.16031354,
          -0.21695242499999992,
          0.22379327661587986,
          0.30419952352941176,
          0.1040197903603604,
          0.15598859734795326,
          -0.2359802333333333,
          -0.2279772108108108,
          -0.2788084909090909,
          -0.2574448636363636,
          -0.06611471938421051,
          -0.3180742230769231,
          -0.3100542777777778,
          -0.2826761157894737,
          0.0018901577772020687,
          0.11808264318627205,
          -0.3613383,
          0.15611613357527931,
          0.18995866092555916,
          0.16634641494252875,
          0.07083337518309857,
          -0.17529945454545456,
          -0.16563811764705882,
          0.013185456550218343,
          -0.2322021581395349,
          0.09054069841269842,
          -0.04390387628623188,
          0.1366637383873538,
          0.19645149855050506
         ],
         "y0": " ",
         "yaxis": "y"
        }
       ],
       "layout": {
        "autosize": true,
        "boxmode": "group",
        "legend": {
         "tracegroupgap": 0
        },
        "template": {
         "data": {
          "bar": [
           {
            "error_x": {
             "color": "rgb(36,36,36)"
            },
            "error_y": {
             "color": "rgb(36,36,36)"
            },
            "marker": {
             "line": {
              "color": "white",
              "width": 0.5
             }
            },
            "type": "bar"
           }
          ],
          "barpolar": [
           {
            "marker": {
             "line": {
              "color": "white",
              "width": 0.5
             }
            },
            "type": "barpolar"
           }
          ],
          "carpet": [
           {
            "aaxis": {
             "endlinecolor": "rgb(36,36,36)",
             "gridcolor": "white",
             "linecolor": "white",
             "minorgridcolor": "white",
             "startlinecolor": "rgb(36,36,36)"
            },
            "baxis": {
             "endlinecolor": "rgb(36,36,36)",
             "gridcolor": "white",
             "linecolor": "white",
             "minorgridcolor": "white",
             "startlinecolor": "rgb(36,36,36)"
            },
            "type": "carpet"
           }
          ],
          "choropleth": [
           {
            "colorbar": {
             "outlinewidth": 1,
             "tickcolor": "rgb(36,36,36)",
             "ticks": "outside"
            },
            "type": "choropleth"
           }
          ],
          "contour": [
           {
            "colorbar": {
             "outlinewidth": 1,
             "tickcolor": "rgb(36,36,36)",
             "ticks": "outside"
            },
            "colorscale": [
             [
              0,
              "#440154"
             ],
             [
              0.1111111111111111,
              "#482878"
             ],
             [
              0.2222222222222222,
              "#3e4989"
             ],
             [
              0.3333333333333333,
              "#31688e"
             ],
             [
              0.4444444444444444,
              "#26828e"
             ],
             [
              0.5555555555555556,
              "#1f9e89"
             ],
             [
              0.6666666666666666,
              "#35b779"
             ],
             [
              0.7777777777777778,
              "#6ece58"
             ],
             [
              0.8888888888888888,
              "#b5de2b"
             ],
             [
              1,
              "#fde725"
             ]
            ],
            "type": "contour"
           }
          ],
          "contourcarpet": [
           {
            "colorbar": {
             "outlinewidth": 1,
             "tickcolor": "rgb(36,36,36)",
             "ticks": "outside"
            },
            "type": "contourcarpet"
           }
          ],
          "heatmap": [
           {
            "colorbar": {
             "outlinewidth": 1,
             "tickcolor": "rgb(36,36,36)",
             "ticks": "outside"
            },
            "colorscale": [
             [
              0,
              "#440154"
             ],
             [
              0.1111111111111111,
              "#482878"
             ],
             [
              0.2222222222222222,
              "#3e4989"
             ],
             [
              0.3333333333333333,
              "#31688e"
             ],
             [
              0.4444444444444444,
              "#26828e"
             ],
             [
              0.5555555555555556,
              "#1f9e89"
             ],
             [
              0.6666666666666666,
              "#35b779"
             ],
             [
              0.7777777777777778,
              "#6ece58"
             ],
             [
              0.8888888888888888,
              "#b5de2b"
             ],
             [
              1,
              "#fde725"
             ]
            ],
            "type": "heatmap"
           }
          ],
          "heatmapgl": [
           {
            "colorbar": {
             "outlinewidth": 1,
             "tickcolor": "rgb(36,36,36)",
             "ticks": "outside"
            },
            "colorscale": [
             [
              0,
              "#440154"
             ],
             [
              0.1111111111111111,
              "#482878"
             ],
             [
              0.2222222222222222,
              "#3e4989"
             ],
             [
              0.3333333333333333,
              "#31688e"
             ],
             [
              0.4444444444444444,
              "#26828e"
             ],
             [
              0.5555555555555556,
              "#1f9e89"
             ],
             [
              0.6666666666666666,
              "#35b779"
             ],
             [
              0.7777777777777778,
              "#6ece58"
             ],
             [
              0.8888888888888888,
              "#b5de2b"
             ],
             [
              1,
              "#fde725"
             ]
            ],
            "type": "heatmapgl"
           }
          ],
          "histogram": [
           {
            "marker": {
             "line": {
              "color": "white",
              "width": 0.6
             }
            },
            "type": "histogram"
           }
          ],
          "histogram2d": [
           {
            "colorbar": {
             "outlinewidth": 1,
             "tickcolor": "rgb(36,36,36)",
             "ticks": "outside"
            },
            "colorscale": [
             [
              0,
              "#440154"
             ],
             [
              0.1111111111111111,
              "#482878"
             ],
             [
              0.2222222222222222,
              "#3e4989"
             ],
             [
              0.3333333333333333,
              "#31688e"
             ],
             [
              0.4444444444444444,
              "#26828e"
             ],
             [
              0.5555555555555556,
              "#1f9e89"
             ],
             [
              0.6666666666666666,
              "#35b779"
             ],
             [
              0.7777777777777778,
              "#6ece58"
             ],
             [
              0.8888888888888888,
              "#b5de2b"
             ],
             [
              1,
              "#fde725"
             ]
            ],
            "type": "histogram2d"
           }
          ],
          "histogram2dcontour": [
           {
            "colorbar": {
             "outlinewidth": 1,
             "tickcolor": "rgb(36,36,36)",
             "ticks": "outside"
            },
            "colorscale": [
             [
              0,
              "#440154"
             ],
             [
              0.1111111111111111,
              "#482878"
             ],
             [
              0.2222222222222222,
              "#3e4989"
             ],
             [
              0.3333333333333333,
              "#31688e"
             ],
             [
              0.4444444444444444,
              "#26828e"
             ],
             [
              0.5555555555555556,
              "#1f9e89"
             ],
             [
              0.6666666666666666,
              "#35b779"
             ],
             [
              0.7777777777777778,
              "#6ece58"
             ],
             [
              0.8888888888888888,
              "#b5de2b"
             ],
             [
              1,
              "#fde725"
             ]
            ],
            "type": "histogram2dcontour"
           }
          ],
          "mesh3d": [
           {
            "colorbar": {
             "outlinewidth": 1,
             "tickcolor": "rgb(36,36,36)",
             "ticks": "outside"
            },
            "type": "mesh3d"
           }
          ],
          "parcoords": [
           {
            "line": {
             "colorbar": {
              "outlinewidth": 1,
              "tickcolor": "rgb(36,36,36)",
              "ticks": "outside"
             }
            },
            "type": "parcoords"
           }
          ],
          "pie": [
           {
            "automargin": true,
            "type": "pie"
           }
          ],
          "scatter": [
           {
            "marker": {
             "colorbar": {
              "outlinewidth": 1,
              "tickcolor": "rgb(36,36,36)",
              "ticks": "outside"
             }
            },
            "type": "scatter"
           }
          ],
          "scatter3d": [
           {
            "line": {
             "colorbar": {
              "outlinewidth": 1,
              "tickcolor": "rgb(36,36,36)",
              "ticks": "outside"
             }
            },
            "marker": {
             "colorbar": {
              "outlinewidth": 1,
              "tickcolor": "rgb(36,36,36)",
              "ticks": "outside"
             }
            },
            "type": "scatter3d"
           }
          ],
          "scattercarpet": [
           {
            "marker": {
             "colorbar": {
              "outlinewidth": 1,
              "tickcolor": "rgb(36,36,36)",
              "ticks": "outside"
             }
            },
            "type": "scattercarpet"
           }
          ],
          "scattergeo": [
           {
            "marker": {
             "colorbar": {
              "outlinewidth": 1,
              "tickcolor": "rgb(36,36,36)",
              "ticks": "outside"
             }
            },
            "type": "scattergeo"
           }
          ],
          "scattergl": [
           {
            "marker": {
             "colorbar": {
              "outlinewidth": 1,
              "tickcolor": "rgb(36,36,36)",
              "ticks": "outside"
             }
            },
            "type": "scattergl"
           }
          ],
          "scattermapbox": [
           {
            "marker": {
             "colorbar": {
              "outlinewidth": 1,
              "tickcolor": "rgb(36,36,36)",
              "ticks": "outside"
             }
            },
            "type": "scattermapbox"
           }
          ],
          "scatterpolar": [
           {
            "marker": {
             "colorbar": {
              "outlinewidth": 1,
              "tickcolor": "rgb(36,36,36)",
              "ticks": "outside"
             }
            },
            "type": "scatterpolar"
           }
          ],
          "scatterpolargl": [
           {
            "marker": {
             "colorbar": {
              "outlinewidth": 1,
              "tickcolor": "rgb(36,36,36)",
              "ticks": "outside"
             }
            },
            "type": "scatterpolargl"
           }
          ],
          "scatterternary": [
           {
            "marker": {
             "colorbar": {
              "outlinewidth": 1,
              "tickcolor": "rgb(36,36,36)",
              "ticks": "outside"
             }
            },
            "type": "scatterternary"
           }
          ],
          "surface": [
           {
            "colorbar": {
             "outlinewidth": 1,
             "tickcolor": "rgb(36,36,36)",
             "ticks": "outside"
            },
            "colorscale": [
             [
              0,
              "#440154"
             ],
             [
              0.1111111111111111,
              "#482878"
             ],
             [
              0.2222222222222222,
              "#3e4989"
             ],
             [
              0.3333333333333333,
              "#31688e"
             ],
             [
              0.4444444444444444,
              "#26828e"
             ],
             [
              0.5555555555555556,
              "#1f9e89"
             ],
             [
              0.6666666666666666,
              "#35b779"
             ],
             [
              0.7777777777777778,
              "#6ece58"
             ],
             [
              0.8888888888888888,
              "#b5de2b"
             ],
             [
              1,
              "#fde725"
             ]
            ],
            "type": "surface"
           }
          ],
          "table": [
           {
            "cells": {
             "fill": {
              "color": "rgb(237,237,237)"
             },
             "line": {
              "color": "white"
             }
            },
            "header": {
             "fill": {
              "color": "rgb(217,217,217)"
             },
             "line": {
              "color": "white"
             }
            },
            "type": "table"
           }
          ]
         },
         "layout": {
          "annotationdefaults": {
           "arrowhead": 0,
           "arrowwidth": 1
          },
          "autotypenumbers": "strict",
          "coloraxis": {
           "colorbar": {
            "outlinewidth": 1,
            "tickcolor": "rgb(36,36,36)",
            "ticks": "outside"
           }
          },
          "colorscale": {
           "diverging": [
            [
             0,
             "rgb(103,0,31)"
            ],
            [
             0.1,
             "rgb(178,24,43)"
            ],
            [
             0.2,
             "rgb(214,96,77)"
            ],
            [
             0.3,
             "rgb(244,165,130)"
            ],
            [
             0.4,
             "rgb(253,219,199)"
            ],
            [
             0.5,
             "rgb(247,247,247)"
            ],
            [
             0.6,
             "rgb(209,229,240)"
            ],
            [
             0.7,
             "rgb(146,197,222)"
            ],
            [
             0.8,
             "rgb(67,147,195)"
            ],
            [
             0.9,
             "rgb(33,102,172)"
            ],
            [
             1,
             "rgb(5,48,97)"
            ]
           ],
           "sequential": [
            [
             0,
             "#440154"
            ],
            [
             0.1111111111111111,
             "#482878"
            ],
            [
             0.2222222222222222,
             "#3e4989"
            ],
            [
             0.3333333333333333,
             "#31688e"
            ],
            [
             0.4444444444444444,
             "#26828e"
            ],
            [
             0.5555555555555556,
             "#1f9e89"
            ],
            [
             0.6666666666666666,
             "#35b779"
            ],
            [
             0.7777777777777778,
             "#6ece58"
            ],
            [
             0.8888888888888888,
             "#b5de2b"
            ],
            [
             1,
             "#fde725"
            ]
           ],
           "sequentialminus": [
            [
             0,
             "#440154"
            ],
            [
             0.1111111111111111,
             "#482878"
            ],
            [
             0.2222222222222222,
             "#3e4989"
            ],
            [
             0.3333333333333333,
             "#31688e"
            ],
            [
             0.4444444444444444,
             "#26828e"
            ],
            [
             0.5555555555555556,
             "#1f9e89"
            ],
            [
             0.6666666666666666,
             "#35b779"
            ],
            [
             0.7777777777777778,
             "#6ece58"
            ],
            [
             0.8888888888888888,
             "#b5de2b"
            ],
            [
             1,
             "#fde725"
            ]
           ]
          },
          "colorway": [
           "#1F77B4",
           "#FF7F0E",
           "#2CA02C",
           "#D62728",
           "#9467BD",
           "#8C564B",
           "#E377C2",
           "#7F7F7F",
           "#BCBD22",
           "#17BECF"
          ],
          "font": {
           "color": "rgb(36,36,36)"
          },
          "geo": {
           "bgcolor": "white",
           "lakecolor": "white",
           "landcolor": "white",
           "showlakes": true,
           "showland": true,
           "subunitcolor": "white"
          },
          "hoverlabel": {
           "align": "left"
          },
          "hovermode": "closest",
          "mapbox": {
           "style": "light"
          },
          "paper_bgcolor": "white",
          "plot_bgcolor": "white",
          "polar": {
           "angularaxis": {
            "gridcolor": "rgb(232,232,232)",
            "linecolor": "rgb(36,36,36)",
            "showgrid": false,
            "showline": true,
            "ticks": "outside"
           },
           "bgcolor": "white",
           "radialaxis": {
            "gridcolor": "rgb(232,232,232)",
            "linecolor": "rgb(36,36,36)",
            "showgrid": false,
            "showline": true,
            "ticks": "outside"
           }
          },
          "scene": {
           "xaxis": {
            "backgroundcolor": "white",
            "gridcolor": "rgb(232,232,232)",
            "gridwidth": 2,
            "linecolor": "rgb(36,36,36)",
            "showbackground": true,
            "showgrid": false,
            "showline": true,
            "ticks": "outside",
            "zeroline": false,
            "zerolinecolor": "rgb(36,36,36)"
           },
           "yaxis": {
            "backgroundcolor": "white",
            "gridcolor": "rgb(232,232,232)",
            "gridwidth": 2,
            "linecolor": "rgb(36,36,36)",
            "showbackground": true,
            "showgrid": false,
            "showline": true,
            "ticks": "outside",
            "zeroline": false,
            "zerolinecolor": "rgb(36,36,36)"
           },
           "zaxis": {
            "backgroundcolor": "white",
            "gridcolor": "rgb(232,232,232)",
            "gridwidth": 2,
            "linecolor": "rgb(36,36,36)",
            "showbackground": true,
            "showgrid": false,
            "showline": true,
            "ticks": "outside",
            "zeroline": false,
            "zerolinecolor": "rgb(36,36,36)"
           }
          },
          "shapedefaults": {
           "fillcolor": "black",
           "line": {
            "width": 0
           },
           "opacity": 0.3
          },
          "ternary": {
           "aaxis": {
            "gridcolor": "rgb(232,232,232)",
            "linecolor": "rgb(36,36,36)",
            "showgrid": false,
            "showline": true,
            "ticks": "outside"
           },
           "baxis": {
            "gridcolor": "rgb(232,232,232)",
            "linecolor": "rgb(36,36,36)",
            "showgrid": false,
            "showline": true,
            "ticks": "outside"
           },
           "bgcolor": "white",
           "caxis": {
            "gridcolor": "rgb(232,232,232)",
            "linecolor": "rgb(36,36,36)",
            "showgrid": false,
            "showline": true,
            "ticks": "outside"
           }
          },
          "title": {
           "x": 0.05
          },
          "xaxis": {
           "automargin": true,
           "gridcolor": "rgb(232,232,232)",
           "linecolor": "rgb(36,36,36)",
           "showgrid": false,
           "showline": true,
           "ticks": "outside",
           "title": {
            "standoff": 15
           },
           "zeroline": false,
           "zerolinecolor": "rgb(36,36,36)"
          },
          "yaxis": {
           "automargin": true,
           "gridcolor": "rgb(232,232,232)",
           "linecolor": "rgb(36,36,36)",
           "showgrid": false,
           "showline": true,
           "ticks": "outside",
           "title": {
            "standoff": 15
           },
           "zeroline": false,
           "zerolinecolor": "rgb(36,36,36)"
          }
         }
        },
        "title": {
         "text": "話者ごとのArousalの分布"
        },
        "xaxis": {
         "anchor": "y",
         "autorange": true,
         "domain": [
          0,
          1
         ],
         "range": [
          -0.5,
          17.5
         ],
         "title": {
          "text": "speaker"
         },
         "type": "category"
        },
        "yaxis": {
         "anchor": "x",
         "domain": [
          0,
          1
         ],
         "range": [
          -1,
          1
         ],
         "title": {
          "text": "arousal"
         },
         "type": "linear"
        }
       }
      },
      "image/png": "[encoded data removed]",
      "text/html": [
       "<div>                            <div id=\"01801bf4-445a-40ad-9821-15c985496994\" class=\"plotly-graph-div\" style=\"height:525px; width:100%;\"></div>            <script type=\"text/javascript\">                require([\"plotly\"], function(Plotly) {                    window.PLOTLYENV=window.PLOTLYENV || {};                                    if (document.getElementById(\"01801bf4-445a-40ad-9821-15c985496994\")) {                    Plotly.newPlot(                        \"01801bf4-445a-40ad-9821-15c985496994\",                        [{\"alignmentgroup\": \"True\", \"hovertemplate\": \"speaker=%{x}<br>arousal=%{y}<extra></extra>\", \"legendgroup\": \"\", \"marker\": {\"color\": \"#1F77B4\"}, \"name\": \"\", \"notched\": false, \"offsetgroup\": \"\", \"orientation\": \"v\", \"showlegend\": false, \"type\": \"box\", \"x\": [\"dev_1\", \"dev_1\", \"dev_1\", \"dev_1\", \"dev_1\", \"dev_1\", \"dev_1\", \"dev_1\", \"dev_1\", \"dev_1\", \"dev_1\", \"dev_1\", \"dev_1\", \"dev_1\", \"dev_1\", \"dev_1\", \"dev_1\", \"dev_1\", \"dev_1\", \"dev_1\", \"dev_1\", \"dev_1\", \"dev_1\", \"dev_1\", \"dev_1\", \"dev_1\", \"dev_2\", \"dev_2\", \"dev_2\", \"dev_2\", \"dev_2\", \"dev_2\", \"dev_2\", \"dev_2\", \"dev_2\", \"dev_2\", \"dev_2\", \"dev_2\", \"dev_2\", \"dev_2\", \"dev_2\", \"dev_2\", \"dev_3\", \"dev_3\", \"dev_3\", \"dev_3\", \"dev_3\", \"dev_3\", \"dev_3\", \"dev_3\", \"dev_3\", \"dev_3\", \"dev_3\", \"dev_3\", \"dev_3\", \"dev_3\", \"dev_3\", \"dev_3\", \"dev_3\", \"dev_3\", \"dev_3\", \"dev_3\", \"dev_3\", \"dev_3\", \"dev_3\", \"dev_3\", \"dev_3\", \"dev_3\", \"dev_3\", \"dev_3\", \"dev_3\", \"dev_3\", \"dev_4\", \"dev_4\", \"dev_4\", \"dev_4\", \"dev_4\", \"dev_4\", \"dev_4\", \"dev_4\", \"dev_4\", \"dev_4\", \"dev_4\", \"dev_4\", \"dev_4\", \"dev_4\", \"dev_4\", \"dev_4\", \"dev_4\", \"dev_4\", \"dev_4\", \"dev_4\", \"dev_4\", \"dev_4\", \"dev_4\", \"dev_4\", \"dev_4\", \"dev_4\", \"dev_4\", \"dev_5\", \"dev_5\", \"dev_5\", \"dev_5\", \"dev_5\", \"dev_5\", \"dev_5\", \"dev_5\", \"dev_5\", \"dev_5\", \"dev_5\", \"dev_5\", \"dev_5\", \"dev_5\", \"dev_5\", \"dev_5\", \"dev_5\", \"dev_5\", \"dev_5\", \"dev_5\", \"dev_5\", \"dev_5\", \"dev_5\", \"dev_5\", \"dev_5\", \"dev_5\", \"dev_5\", \"dev_5\", \"dev_5\", \"dev_5\", \"dev_5\", \"dev_6\", \"dev_6\", \"dev_6\", \"dev_6\", \"dev_6\", \"dev_6\", \"dev_6\", \"dev_6\", \"dev_6\", \"dev_6\", \"dev_6\", \"dev_6\", \"dev_6\", \"dev_6\", \"dev_6\", \"dev_6\", \"dev_6\", \"dev_6\", \"dev_6\", \"dev_6\", \"dev_6\", \"dev_6\", \"dev_6\", \"dev_7\", \"dev_7\", \"dev_7\", \"dev_7\", \"dev_7\", \"dev_7\", \"dev_7\", \"dev_7\", \"dev_7\", \"dev_7\", \"dev_7\", \"dev_7\", \"dev_7\", \"dev_7\", \"dev_7\", \"dev_7\", \"dev_7\", \"dev_7\", \"dev_7\", \"dev_7\", \"dev_7\", \"dev_7\", \"dev_7\", \"dev_7\", \"dev_7\", \"dev_7\", \"dev_7\", \"dev_7\", \"dev_7\", \"dev_8\", \"dev_8\", \"dev_8\", \"dev_8\", \"dev_8\", \"dev_8\", \"dev_8\", \"dev_8\", \"dev_8\", \"dev_8\", \"dev_8\", \"dev_8\", \"dev_8\", \"dev_8\", \"dev_8\", \"dev_8\", \"dev_8\", \"dev_8\", \"dev_8\", \"dev_8\", \"dev_9\", \"dev_9\", \"dev_9\", \"dev_9\", \"dev_9\", \"dev_9\", \"dev_9\", \"dev_9\", \"dev_9\", \"dev_9\", \"dev_9\", \"dev_9\", \"dev_9\", \"dev_9\", \"dev_9\", \"dev_9\", \"dev_9\", \"dev_9\", \"dev_9\", \"dev_9\", \"dev_9\", \"dev_9\", \"dev_9\", \"dev_9\", \"dev_9\", \"dev_9\", \"dev_9\", \"dev_9\", \"dev_9\", \"train_1\", \"train_1\", \"train_1\", \"train_1\", \"train_1\", \"train_1\", \"train_1\", \"train_1\", \"train_1\", \"train_1\", \"train_1\", \"train_1\", \"train_1\", \"train_1\", \"train_1\", \"train_1\", \"train_1\", \"train_1\", \"train_1\", \"train_1\", \"train_1\", \"train_1\", \"train_1\", \"train_1\", \"train_1\", \"train_1\", \"train_1\", \"train_1\", \"train_1\", \"train_1\", \"train_1\", \"train_1\", \"train_1\", \"train_1\", \"train_2\", \"train_2\", \"train_2\", \"train_2\", \"train_2\", \"train_2\", \"train_2\", \"train_2\", \"train_2\", \"train_2\", \"train_2\", \"train_2\", \"train_2\", \"train_2\", \"train_3\", \"train_3\", \"train_3\", \"train_3\", \"train_3\", \"train_3\", \"train_3\", \"train_3\", \"train_3\", \"train_3\", \"train_3\", \"train_3\", \"train_3\", \"train_3\", \"train_3\", \"train_3\", \"train_3\", \"train_4\", \"train_4\", \"train_4\", \"train_4\", \"train_4\", \"train_4\", \"train_4\", \"train_4\", \"train_4\", \"train_4\", \"train_4\", \"train_4\", \"train_4\", \"train_4\", \"train_4\", \"train_4\", \"train_4\", \"train_4\", \"train_4\", \"train_4\", \"train_5\", \"train_5\", \"train_5\", \"train_5\", \"train_5\", \"train_5\", \"train_5\", \"train_5\", \"train_5\", \"train_5\", \"train_5\", \"train_5\", \"train_5\", \"train_5\", \"train_5\", \"train_5\", \"train_5\", \"train_5\", \"train_5\", \"train_5\", \"train_5\", \"train_5\", \"train_5\", \"train_5\", \"train_5\", \"train_5\", \"train_5\", \"train_5\", \"train_6\", \"train_6\", \"train_6\", \"train_6\", \"train_6\", \"train_6\", \"train_6\", \"train_6\", \"train_6\", \"train_6\", \"train_6\", \"train_6\", \"train_6\", \"train_6\", \"train_6\", \"train_6\", \"train_6\", \"train_6\", \"train_6\", \"train_6\", \"train_6\", \"train_6\", \"train_6\", \"train_6\", \"train_7\", \"train_7\", \"train_7\", \"train_7\", \"train_7\", \"train_7\", \"train_7\", \"train_7\", \"train_7\", \"train_7\", \"train_7\", \"train_7\", \"train_7\", \"train_7\", \"train_7\", \"train_7\", \"train_7\", \"train_7\", \"train_7\", \"train_7\", \"train_7\", \"train_7\", \"train_8\", \"train_8\", \"train_8\", \"train_8\", \"train_8\", \"train_8\", \"train_8\", \"train_8\", \"train_8\", \"train_8\", \"train_8\", \"train_8\", \"train_8\", \"train_8\", \"train_8\", \"train_8\", \"train_8\", \"train_8\", \"train_8\", \"train_8\", \"train_8\", \"train_8\", \"train_9\", \"train_9\", \"train_9\", \"train_9\", \"train_9\", \"train_9\", \"train_9\", \"train_9\", \"train_9\", \"train_9\", \"train_9\", \"train_9\", \"train_9\", \"train_9\", \"train_9\"], \"x0\": \" \", \"xaxis\": \"x\", \"y\": [0.008319166197183099, -0.25561488947368416, -0.2935582889298893, 0.026457881276851853, 0.0617429983776224, 0.10677740966589323, 0.016265194630841157, 0.012131090798657708, -0.09343765282051283, -0.053591505485714286, -0.0011620098076923064, 0.06790172443089433, -0.0012091513823529409, 0.0050181059090090106, -0.19101041621621626, 0.1571045773232353, 0.19063200909090908, -0.1912318412698412, -0.2537585, 0.14053992256578945, 0.13472776809437387, -0.232925, -0.006723925514705889, 0.1579426974657534, -0.2145915, -0.2395915, 0.17772627289719625, 0.0028450305401459914, -0.2639261666666667, -0.34486512, -0.25353164, -0.36031525, -0.26196817419354834, -0.11768811260869565, 0.2216772454661257, 0.2299924451229509, -0.041731604, 0.08053824009774438, -0.18099489473684213, -0.3239459285714287, 0.0755130476056338, -0.31389339705882346, -0.06281533, 0.008342564684210527, -0.07131785795454545, -0.09955018272727276, -0.14624390542857146, -0.030059984004587162, 0.17326716391304348, 0.0510036309137931, -0.06859310866666668, -0.019729619022857137, 0.11938225925925924, -0.06501782546728972, -0.023704219233333337, -0.01925977447619048, 0.08877441846153848, -0.13356535, -0.2098153, -0.2278922632692308, 0.05827729364131627, 0.003413836468750005, 0.07468467100000001, -0.0972681641509434, -0.02150322586751593, -0.04531227504587156, -0.0008153330000000003, 0.14319892512820515, 0.028393, 0.0035848639999999992, 0.11514173059581323, 0.1112516814814815, -0.053625141214062484, -0.31206577066666663, -0.3202657444444445, -0.09610122626683937, -0.29259895, -0.23526573684210525, -0.2480345806451613, -0.22641375555555554, -0.17835211111111113, -0.16310287127882597, -0.2148059948275862, -0.2215620611111111, -0.03156850909090909, -0.06745530774901963, -0.2198212, 0.05614417685819071, -0.1898491, -0.20641898518190707, -0.4243648655405405, -0.13732055946027394, -0.38457394150943386, -0.16514839545727697, -0.3918729142857143, -0.07665465583333335, -0.09431338857142857, -0.04399592558991596, -0.3038438552447553, -0.06579728974358974, -0.012456466666666666, 0.018203316, -0.2042405147058823, -0.24454946, -0.16057427996850393, -0.25137482857142857, -0.015265446240740738, -0.178216, -0.3214468, -0.3277577625, -0.429448665116279, -0.25463275, 0.08851883352818371, -0.21580340000000006, -0.2458290193548387, -0.1638314846153846, 0.10373895141348316, 0.05617714424606742, -0.10737850102564103, 0.06408693078787879, 0.1562556, 0.08533944773333334, 0.043283885, -0.07069193686412215, -0.11202983223882353, -0.028882781, -0.2764967947368421, -0.34866055, -0.3279027373732719, 0.035799542337558686, 0.09670206907259526, -0.19268091896551726, -0.08698584924561402, -0.1258001360869565, 0.07688708822526316, -0.1743276423076923, -0.0603324295125, 0.0439800675, -0.08530947684210526, 0.09266247647058824, -0.015010235294117647, -0.13716701176470586, 0.02734533201168224, -0.19440365610465116, -0.2439643694444445, 0.02298007, 0.09855752090041492, -0.023293971137019236, -0.021989066986772488, 0.09520108582972582, -0.2547822824074074, 0.014947660453703703, -0.20204245540540536, -0.3708048269230769, -0.4040671216216216, -0.5095356200000001, -0.5480911666666667, -0.21470035057471265, 0.025242164604166662, 0.031858207272727264, -0.026440513204034587, -0.15724088829268293, -0.34374249999999995, -0.30753558000000003, -0.3872667806451613, -0.3001456641509433, 0.004271217219012799, 0.04847327529055692, -0.2875358333333334, -0.32820229999999995, -0.3029523333333333, 0.07508875074626865, -0.01591428396598639, -0.09194744411764703, -0.3496785714285714, 0.03558938942340427, -0.25320240000000005, 0.02266488523383459, -0.09747910322033897, -0.17300734905660375, -0.2034960525423729, -0.04633191330555556, 0.10805714939305557, -0.19080858611111112, 0.017516395079508203, 0.12709899675199335, 0.046588450421641794, 0.04599794296353168, 0.0069460429976562505, 0.25482696666666665, 0.1835004615384615, 0.2370291437823834, 0.18335116794830367, 0.190707, 0.05308190746086957, 0.18489160000000002, 0.230539703125, 0.15620093941484714, 0.14404904842105265, 0.009574088691136821, -0.1281023871891892, -0.14964865636363633, 0.0034583337350877234, -0.35003163928571424, -0.0970106689108911, -0.07755681676211452, -0.059977352600877186, 0.00977654708, -0.0219364175, -0.15933477829268292, -0.1616472824489796, -0.02860054831428572, -0.0820203884496124, -0.12582528333333334, -0.04119122311057692, -0.13896020476190474, -0.19455824390243906, -0.3627697368421052, -0.08033915141025637, -0.0955974640449438, -0.149158625, -0.0493446702293578, -0.04951081812053571, 0.01863375842105263, -0.0859855573076923, -0.008727016756198353, -0.026949628452380945, 0.12701992718446606, 0.018417793093750003, -0.17756139833333331, -0.01056529870967742, 0.01886125206451613, -0.13847362785714287, 0.005492549447368422, -0.1354577529824561, 0.07445586102870815, -0.03220291225, 0.03911607872164384, -0.0017454450647058821, -0.2380272083333333, 0.003193050714285714, -0.14163831104166666, -0.14341668521739126, 0.05478746804827587, -0.16258336913043478, -0.2087483384615384, 0.02432107796116505, -0.17309664924242424, -0.23248407647058825, -0.07173019516129034, 0.027480528010301503, -0.021114333140495867, 0.09363946875, -0.09445936013986016, 0.055615012758620685, -0.10684663685185186, -0.1784207711111111, -0.16866287333333332, -0.14148950476190475, -0.17661788235294118, -0.06775939, -0.075902188, -0.059304842292035385, -0.07729253815789472, -0.258652190625, 0.20967087789473685, 0.2874204157534247, 0.16891442761658032, 0.017871899199999996, 0.15314243870075972, -0.1396023030952381, 0.1073319871831294, -0.3055031025, -0.238669775, -0.3722702564102564, 0.06946701512, 0.17417849315068493, -0.2068950703703704, 0.18837459822840408, 0.1468991654716981, 0.12766553049327353, 0.08358953550387598, 0.18926134803921574, 0.12387307995606328, 0.20241433255813954, 0.014302580147058822, 0.16890417008547007, 0.2311180778053317, 0.024694750291666668, 0.20494867070312495, 0.1145345503105812, 0.12326531708029195, 0.1741248790645161, 0.15756450477815698, 0.07596487495862067, 0.09539427270072992, 0.02381423567741936, -0.2091591777777778, -0.12962213430555558, 0.0012884553310580187, 0.1065549959836066, 0.11145025831693987, 0.0804917747247191, -0.02370082429057592, -0.014836791545454546, -0.136011035, 0.355714229296875, 0.17295240879268292, -0.099927736, 0.03118401690616622, -0.07090754496644294, -0.13248312866666667, 0.00799259191304348, 0.054420423947368415, 0.2454202291666666, 0.044247977121621616, -0.16574234000000002, -0.07675892838522168, -0.16540899000000006, -0.04556005790078819, -0.13360980160156627, 0.11075767545454544, 0.07502535242424242, -0.021243813325892858, 0.010148220457711448, -0.09289276902654868, 0.013767309347107442, -0.045136266709090905, -0.25358806198347106, -0.020076, -0.2777227176470588, -0.3103388263157894, 0.09548885654301073, -0.1645003644111675, -0.05715899, -0.01423844848837211, -0.08222807261306532, -0.041686315714285715, -0.2691273965517242, -0.028353435287777774, -0.2774567142857143, -0.19375622083333333, -0.3873534466666666, -0.07006312775939849, -0.1446964826527778, 0.0675082458257329, -0.0451120693023256, -0.011243065240625, 0.12298869999999998, -0.03859090123059701, -0.3436780000000001, -0.3676034131578947, -0.026091752310344832, 0.10649791495477384, 0.19349397850678726, 0.17187756666666668, -0.16748749999999998, -0.020178792148756224, -0.06108106691472868, -0.22067796333333334, 0.14006261039819007, 0.18213311084588646, -0.06349447731192659, 0.008777552244444447, 0.010620288684210529, 0.13509486473383084, -0.01218985988095238, -0.21254159545454535, 0.2500276361153847, 0.09891555241379307, -0.014801065944444443, 0.11423632255639095, 0.09364101248686517, 0.02197450622147651, 0.017583204166666668, 0.08957700844407585, 0.05774851471102661, 0.03809326994690265, 0.04927171701878172, 0.2013757213875598, -0.11394165936842103, -0.2695557, -0.37801867222222224, 0.1418139260833811, 0.14543575426780628, 0.013405851917307695, -0.1967346205882353, -0.1288322944680851, -0.2353334804597701, 0.12063433154040044, 0.17448050544338334, -0.04502062090909091, 0.0804932546347826, 0.08454913708962264, 0.2362115424983028, 0.1344619281690141, 0.1850328588235294, -0.11403576666666665, -0.16031354, -0.21695242499999992, 0.22379327661587986, 0.30419952352941176, 0.1040197903603604, 0.15598859734795326, -0.2359802333333333, -0.2279772108108108, -0.2788084909090909, -0.2574448636363636, -0.06611471938421051, -0.3180742230769231, -0.3100542777777778, -0.2826761157894737, 0.0018901577772020687, 0.11808264318627205, -0.3613383, 0.15611613357527931, 0.18995866092555916, 0.16634641494252875, 0.07083337518309857, -0.17529945454545456, -0.16563811764705882, 0.013185456550218343, -0.2322021581395349, 0.09054069841269842, -0.04390387628623188, 0.1366637383873538, 0.19645149855050506], \"y0\": \" \", \"yaxis\": \"y\"}],                        {\"boxmode\": \"group\", \"legend\": {\"tracegroupgap\": 0}, \"template\": {\"data\": {\"bar\": [{\"error_x\": {\"color\": \"rgb(36,36,36)\"}, \"error_y\": {\"color\": \"rgb(36,36,36)\"}, \"marker\": {\"line\": {\"color\": \"white\", \"width\": 0.5}}, \"type\": \"bar\"}], \"barpolar\": [{\"marker\": {\"line\": {\"color\": \"white\", \"width\": 0.5}}, \"type\": \"barpolar\"}], \"carpet\": [{\"aaxis\": {\"endlinecolor\": \"rgb(36,36,36)\", \"gridcolor\": \"white\", \"linecolor\": \"white\", \"minorgridcolor\": \"white\", \"startlinecolor\": \"rgb(36,36,36)\"}, \"baxis\": {\"endlinecolor\": \"rgb(36,36,36)\", \"gridcolor\": \"white\", \"linecolor\": \"white\", \"minorgridcolor\": \"white\", \"startlinecolor\": \"rgb(36,36,36)\"}, \"type\": \"carpet\"}], \"choropleth\": [{\"colorbar\": {\"outlinewidth\": 1, \"tickcolor\": \"rgb(36,36,36)\", \"ticks\": \"outside\"}, \"type\": \"choropleth\"}], \"contour\": [{\"colorbar\": {\"outlinewidth\": 1, \"tickcolor\": \"rgb(36,36,36)\", \"ticks\": \"outside\"}, \"colorscale\": [[0.0, \"#440154\"], [0.1111111111111111, \"#482878\"], [0.2222222222222222, \"#3e4989\"], [0.3333333333333333, \"#31688e\"], [0.4444444444444444, \"#26828e\"], [0.5555555555555556, \"#1f9e89\"], [0.6666666666666666, \"#35b779\"], [0.7777777777777778, \"#6ece58\"], [0.8888888888888888, \"#b5de2b\"], [1.0, \"#fde725\"]], \"type\": \"contour\"}], \"contourcarpet\": [{\"colorbar\": {\"outlinewidth\": 1, \"tickcolor\": \"rgb(36,36,36)\", \"ticks\": \"outside\"}, \"type\": \"contourcarpet\"}], \"heatmap\": [{\"colorbar\": {\"outlinewidth\": 1, \"tickcolor\": \"rgb(36,36,36)\", \"ticks\": \"outside\"}, \"colorscale\": [[0.0, \"#440154\"], [0.1111111111111111, \"#482878\"], [0.2222222222222222, \"#3e4989\"], [0.3333333333333333, \"#31688e\"], [0.4444444444444444, \"#26828e\"], [0.5555555555555556, \"#1f9e89\"], [0.6666666666666666, \"#35b779\"], [0.7777777777777778, \"#6ece58\"], [0.8888888888888888, \"#b5de2b\"], [1.0, \"#fde725\"]], \"type\": \"heatmap\"}], \"heatmapgl\": [{\"colorbar\": {\"outlinewidth\": 1, \"tickcolor\": \"rgb(36,36,36)\", \"ticks\": \"outside\"}, \"colorscale\": [[0.0, \"#440154\"], [0.1111111111111111, \"#482878\"], [0.2222222222222222, \"#3e4989\"], [0.3333333333333333, \"#31688e\"], [0.4444444444444444, \"#26828e\"], [0.5555555555555556, \"#1f9e89\"], [0.6666666666666666, \"#35b779\"], [0.7777777777777778, \"#6ece58\"], [0.8888888888888888, \"#b5de2b\"], [1.0, \"#fde725\"]], \"type\": \"heatmapgl\"}], \"histogram\": [{\"marker\": {\"line\": {\"color\": \"white\", \"width\": 0.6}}, \"type\": \"histogram\"}], \"histogram2d\": [{\"colorbar\": {\"outlinewidth\": 1, \"tickcolor\": \"rgb(36,36,36)\", \"ticks\": \"outside\"}, \"colorscale\": [[0.0, \"#440154\"], [0.1111111111111111, \"#482878\"], [0.2222222222222222, \"#3e4989\"], [0.3333333333333333, \"#31688e\"], [0.4444444444444444, \"#26828e\"], [0.5555555555555556, \"#1f9e89\"], [0.6666666666666666, \"#35b779\"], [0.7777777777777778, \"#6ece58\"], [0.8888888888888888, \"#b5de2b\"], [1.0, \"#fde725\"]], \"type\": \"histogram2d\"}], \"histogram2dcontour\": [{\"colorbar\": {\"outlinewidth\": 1, \"tickcolor\": \"rgb(36,36,36)\", \"ticks\": \"outside\"}, \"colorscale\": [[0.0, \"#440154\"], [0.1111111111111111, \"#482878\"], [0.2222222222222222, \"#3e4989\"], [0.3333333333333333, \"#31688e\"], [0.4444444444444444, \"#26828e\"], [0.5555555555555556, \"#1f9e89\"], [0.6666666666666666, \"#35b779\"], [0.7777777777777778, \"#6ece58\"], [0.8888888888888888, \"#b5de2b\"], [1.0, \"#fde725\"]], \"type\": \"histogram2dcontour\"}], \"mesh3d\": [{\"colorbar\": {\"outlinewidth\": 1, \"tickcolor\": \"rgb(36,36,36)\", \"ticks\": \"outside\"}, \"type\": \"mesh3d\"}], \"parcoords\": [{\"line\": {\"colorbar\": {\"outlinewidth\": 1, \"tickcolor\": \"rgb(36,36,36)\", \"ticks\": \"outside\"}}, \"type\": \"parcoords\"}], \"pie\": [{\"automargin\": true, \"type\": \"pie\"}], \"scatter\": [{\"marker\": {\"colorbar\": {\"outlinewidth\": 1, \"tickcolor\": \"rgb(36,36,36)\", \"ticks\": \"outside\"}}, \"type\": \"scatter\"}], \"scatter3d\": [{\"line\": {\"colorbar\": {\"outlinewidth\": 1, \"tickcolor\": \"rgb(36,36,36)\", \"ticks\": \"outside\"}}, \"marker\": {\"colorbar\": {\"outlinewidth\": 1, \"tickcolor\": \"rgb(36,36,36)\", \"ticks\": \"outside\"}}, \"type\": \"scatter3d\"}], \"scattercarpet\": [{\"marker\": {\"colorbar\": {\"outlinewidth\": 1, \"tickcolor\": \"rgb(36,36,36)\", \"ticks\": \"outside\"}}, \"type\": \"scattercarpet\"}], \"scattergeo\": [{\"marker\": {\"colorbar\": {\"outlinewidth\": 1, \"tickcolor\": \"rgb(36,36,36)\", \"ticks\": \"outside\"}}, \"type\": \"scattergeo\"}], \"scattergl\": [{\"marker\": {\"colorbar\": {\"outlinewidth\": 1, \"tickcolor\": \"rgb(36,36,36)\", \"ticks\": \"outside\"}}, \"type\": \"scattergl\"}], \"scattermapbox\": [{\"marker\": {\"colorbar\": {\"outlinewidth\": 1, \"tickcolor\": \"rgb(36,36,36)\", \"ticks\": \"outside\"}}, \"type\": \"scattermapbox\"}], \"scatterpolar\": [{\"marker\": {\"colorbar\": {\"outlinewidth\": 1, \"tickcolor\": \"rgb(36,36,36)\", \"ticks\": \"outside\"}}, \"type\": \"scatterpolar\"}], \"scatterpolargl\": [{\"marker\": {\"colorbar\": {\"outlinewidth\": 1, \"tickcolor\": \"rgb(36,36,36)\", \"ticks\": \"outside\"}}, \"type\": \"scatterpolargl\"}], \"scatterternary\": [{\"marker\": {\"colorbar\": {\"outlinewidth\": 1, \"tickcolor\": \"rgb(36,36,36)\", \"ticks\": \"outside\"}}, \"type\": \"scatterternary\"}], \"surface\": [{\"colorbar\": {\"outlinewidth\": 1, \"tickcolor\": \"rgb(36,36,36)\", \"ticks\": \"outside\"}, \"colorscale\": [[0.0, \"#440154\"], [0.1111111111111111, \"#482878\"], [0.2222222222222222, \"#3e4989\"], [0.3333333333333333, \"#31688e\"], [0.4444444444444444, \"#26828e\"], [0.5555555555555556, \"#1f9e89\"], [0.6666666666666666, \"#35b779\"], [0.7777777777777778, \"#6ece58\"], [0.8888888888888888, \"#b5de2b\"], [1.0, \"#fde725\"]], \"type\": \"surface\"}], \"table\": [{\"cells\": {\"fill\": {\"color\": \"rgb(237,237,237)\"}, \"line\": {\"color\": \"white\"}}, \"header\": {\"fill\": {\"color\": \"rgb(217,217,217)\"}, \"line\": {\"color\": \"white\"}}, \"type\": \"table\"}]}, \"layout\": {\"annotationdefaults\": {\"arrowhead\": 0, \"arrowwidth\": 1}, \"autotypenumbers\": \"strict\", \"coloraxis\": {\"colorbar\": {\"outlinewidth\": 1, \"tickcolor\": \"rgb(36,36,36)\", \"ticks\": \"outside\"}}, \"colorscale\": {\"diverging\": [[0.0, \"rgb(103,0,31)\"], [0.1, \"rgb(178,24,43)\"], [0.2, \"rgb(214,96,77)\"], [0.3, \"rgb(244,165,130)\"], [0.4, \"rgb(253,219,199)\"], [0.5, \"rgb(247,247,247)\"], [0.6, \"rgb(209,229,240)\"], [0.7, \"rgb(146,197,222)\"], [0.8, \"rgb(67,147,195)\"], [0.9, \"rgb(33,102,172)\"], [1.0, \"rgb(5,48,97)\"]], \"sequential\": [[0.0, \"#440154\"], [0.1111111111111111, \"#482878\"], [0.2222222222222222, \"#3e4989\"], [0.3333333333333333, \"#31688e\"], [0.4444444444444444, \"#26828e\"], [0.5555555555555556, \"#1f9e89\"], [0.6666666666666666, \"#35b779\"], [0.7777777777777778, \"#6ece58\"], [0.8888888888888888, \"#b5de2b\"], [1.0, \"#fde725\"]], \"sequentialminus\": [[0.0, \"#440154\"], [0.1111111111111111, \"#482878\"], [0.2222222222222222, \"#3e4989\"], [0.3333333333333333, \"#31688e\"], [0.4444444444444444, \"#26828e\"], [0.5555555555555556, \"#1f9e89\"], [0.6666666666666666, \"#35b779\"], [0.7777777777777778, \"#6ece58\"], [0.8888888888888888, \"#b5de2b\"], [1.0, \"#fde725\"]]}, \"colorway\": [\"#1F77B4\", \"#FF7F0E\", \"#2CA02C\", \"#D62728\", \"#9467BD\", \"#8C564B\", \"#E377C2\", \"#7F7F7F\", \"#BCBD22\", \"#17BECF\"], \"font\": {\"color\": \"rgb(36,36,36)\"}, \"geo\": {\"bgcolor\": \"white\", \"lakecolor\": \"white\", \"landcolor\": \"white\", \"showlakes\": true, \"showland\": true, \"subunitcolor\": \"white\"}, \"hoverlabel\": {\"align\": \"left\"}, \"hovermode\": \"closest\", \"mapbox\": {\"style\": \"light\"}, \"paper_bgcolor\": \"white\", \"plot_bgcolor\": \"white\", \"polar\": {\"angularaxis\": {\"gridcolor\": \"rgb(232,232,232)\", \"linecolor\": \"rgb(36,36,36)\", \"showgrid\": false, \"showline\": true, \"ticks\": \"outside\"}, \"bgcolor\": \"white\", \"radialaxis\": {\"gridcolor\": \"rgb(232,232,232)\", \"linecolor\": \"rgb(36,36,36)\", \"showgrid\": false, \"showline\": true, \"ticks\": \"outside\"}}, \"scene\": {\"xaxis\": {\"backgroundcolor\": \"white\", \"gridcolor\": \"rgb(232,232,232)\", \"gridwidth\": 2, \"linecolor\": \"rgb(36,36,36)\", \"showbackground\": true, \"showgrid\": false, \"showline\": true, \"ticks\": \"outside\", \"zeroline\": false, \"zerolinecolor\": \"rgb(36,36,36)\"}, \"yaxis\": {\"backgroundcolor\": \"white\", \"gridcolor\": \"rgb(232,232,232)\", \"gridwidth\": 2, \"linecolor\": \"rgb(36,36,36)\", \"showbackground\": true, \"showgrid\": false, \"showline\": true, \"ticks\": \"outside\", \"zeroline\": false, \"zerolinecolor\": \"rgb(36,36,36)\"}, \"zaxis\": {\"backgroundcolor\": \"white\", \"gridcolor\": \"rgb(232,232,232)\", \"gridwidth\": 2, \"linecolor\": \"rgb(36,36,36)\", \"showbackground\": true, \"showgrid\": false, \"showline\": true, \"ticks\": \"outside\", \"zeroline\": false, \"zerolinecolor\": \"rgb(36,36,36)\"}}, \"shapedefaults\": {\"fillcolor\": \"black\", \"line\": {\"width\": 0}, \"opacity\": 0.3}, \"ternary\": {\"aaxis\": {\"gridcolor\": \"rgb(232,232,232)\", \"linecolor\": \"rgb(36,36,36)\", \"showgrid\": false, \"showline\": true, \"ticks\": \"outside\"}, \"baxis\": {\"gridcolor\": \"rgb(232,232,232)\", \"linecolor\": \"rgb(36,36,36)\", \"showgrid\": false, \"showline\": true, \"ticks\": \"outside\"}, \"bgcolor\": \"white\", \"caxis\": {\"gridcolor\": \"rgb(232,232,232)\", \"linecolor\": \"rgb(36,36,36)\", \"showgrid\": false, \"showline\": true, \"ticks\": \"outside\"}}, \"title\": {\"x\": 0.05}, \"xaxis\": {\"automargin\": true, \"gridcolor\": \"rgb(232,232,232)\", \"linecolor\": \"rgb(36,36,36)\", \"showgrid\": false, \"showline\": true, \"ticks\": \"outside\", \"title\": {\"standoff\": 15}, \"zeroline\": false, \"zerolinecolor\": \"rgb(36,36,36)\"}, \"yaxis\": {\"automargin\": true, \"gridcolor\": \"rgb(232,232,232)\", \"linecolor\": \"rgb(36,36,36)\", \"showgrid\": false, \"showline\": true, \"ticks\": \"outside\", \"title\": {\"standoff\": 15}, \"zeroline\": false, \"zerolinecolor\": \"rgb(36,36,36)\"}}}, \"title\": {\"text\": \"\\u8a71\\u8005\\u3054\\u3068\\u306eArousal\\u306e\\u5206\\u5e03\"}, \"xaxis\": {\"anchor\": \"y\", \"domain\": [0.0, 1.0], \"title\": {\"text\": \"speaker\"}}, \"yaxis\": {\"anchor\": \"x\", \"domain\": [0.0, 1.0], \"range\": [-1, 1], \"title\": {\"text\": \"arousal\"}}},                        {\"responsive\": true}                    ).then(function(){\n",
       "                            \n",
       "var gd = document.getElementById('01801bf4-445a-40ad-9821-15c985496994');\n",
       "var x = new MutationObserver(function (mutations, observer) {{\n",
       "        var display = window.getComputedStyle(gd).display;\n",
       "        if (!display || display === 'none') {{\n",
       "            console.log([gd, 'removed!']);\n",
       "            Plotly.purge(gd);\n",
       "            observer.disconnect();\n",
       "        }}\n",
       "}});\n",
       "\n",
       "// Listen for the removal of the full notebook cells\n",
       "var notebookContainer = gd.closest('#notebook-container');\n",
       "if (notebookContainer) {{\n",
       "    x.observe(notebookContainer, {childList: true});\n",
       "}}\n",
       "\n",
       "// Listen for the clearing of the current output cell\n",
       "var outputEl = gd.closest('.output');\n",
       "if (outputEl) {{\n",
       "    x.observe(outputEl, {childList: true});\n",
       "}}\n",
       "\n",
       "                        })                };                });            </script>        </div>"
      ]
     },
     "metadata": {},
     "output_type": "display_data"
    }
   ],
   "source": [
    "fig = px.box(df_train.sort_values(\"speaker\"), x='speaker', y='arousal', template=\"simple_white\", title=\"話者ごとのArousalの分布\")\n",
    "fig.update_yaxes(range=[-1, 1])\n",
    "fig.show()"
   ]
  },
  {
   "cell_type": "code",
   "execution_count": 30,
   "metadata": {},
   "outputs": [
    {
     "data": {
      "application/vnd.plotly.v1+json": {
       "config": {
        "plotlyServerURL": "https://plot.ly"
       },
       "data": [
        {
         "alignmentgroup": "True",
         "hovertemplate": "speaker=%{x}<br>valence=%{y}<extra></extra>",
         "legendgroup": "",
         "marker": {
          "color": "#1F77B4"
         },
         "name": "",
         "notched": false,
         "offsetgroup": "",
         "orientation": "v",
         "showlegend": false,
         "type": "box",
         "x": [
          "dev_1",
          "dev_1",
          "dev_1",
          "dev_1",
          "dev_1",
          "dev_1",
          "dev_1",
          "dev_1",
          "dev_1",
          "dev_1",
          "dev_1",
          "dev_1",
          "dev_1",
          "dev_1",
          "dev_1",
          "dev_1",
          "dev_1",
          "dev_1",
          "dev_1",
          "dev_1",
          "dev_1",
          "dev_1",
          "dev_1",
          "dev_1",
          "dev_1",
          "dev_1",
          "dev_2",
          "dev_2",
          "dev_2",
          "dev_2",
          "dev_2",
          "dev_2",
          "dev_2",
          "dev_2",
          "dev_2",
          "dev_2",
          "dev_2",
          "dev_2",
          "dev_2",
          "dev_2",
          "dev_2",
          "dev_2",
          "dev_3",
          "dev_3",
          "dev_3",
          "dev_3",
          "dev_3",
          "dev_3",
          "dev_3",
          "dev_3",
          "dev_3",
          "dev_3",
          "dev_3",
          "dev_3",
          "dev_3",
          "dev_3",
          "dev_3",
          "dev_3",
          "dev_3",
          "dev_3",
          "dev_3",
          "dev_3",
          "dev_3",
          "dev_3",
          "dev_3",
          "dev_3",
          "dev_3",
          "dev_3",
          "dev_3",
          "dev_3",
          "dev_3",
          "dev_3",
          "dev_4",
          "dev_4",
          "dev_4",
          "dev_4",
          "dev_4",
          "dev_4",
          "dev_4",
          "dev_4",
          "dev_4",
          "dev_4",
          "dev_4",
          "dev_4",
          "dev_4",
          "dev_4",
          "dev_4",
          "dev_4",
          "dev_4",
          "dev_4",
          "dev_4",
          "dev_4",
          "dev_4",
          "dev_4",
          "dev_4",
          "dev_4",
          "dev_4",
          "dev_4",
          "dev_4",
          "dev_5",
          "dev_5",
          "dev_5",
          "dev_5",
          "dev_5",
          "dev_5",
          "dev_5",
          "dev_5",
          "dev_5",
          "dev_5",
          "dev_5",
          "dev_5",
          "dev_5",
          "dev_5",
          "dev_5",
          "dev_5",
          "dev_5",
          "dev_5",
          "dev_5",
          "dev_5",
          "dev_5",
          "dev_5",
          "dev_5",
          "dev_5",
          "dev_5",
          "dev_5",
          "dev_5",
          "dev_5",
          "dev_5",
          "dev_5",
          "dev_5",
          "dev_6",
          "dev_6",
          "dev_6",
          "dev_6",
          "dev_6",
          "dev_6",
          "dev_6",
          "dev_6",
          "dev_6",
          "dev_6",
          "dev_6",
          "dev_6",
          "dev_6",
          "dev_6",
          "dev_6",
          "dev_6",
          "dev_6",
          "dev_6",
          "dev_6",
          "dev_6",
          "dev_6",
          "dev_6",
          "dev_6",
          "dev_7",
          "dev_7",
          "dev_7",
          "dev_7",
          "dev_7",
          "dev_7",
          "dev_7",
          "dev_7",
          "dev_7",
          "dev_7",
          "dev_7",
          "dev_7",
          "dev_7",
          "dev_7",
          "dev_7",
          "dev_7",
          "dev_7",
          "dev_7",
          "dev_7",
          "dev_7",
          "dev_7",
          "dev_7",
          "dev_7",
          "dev_7",
          "dev_7",
          "dev_7",
          "dev_7",
          "dev_7",
          "dev_7",
          "dev_8",
          "dev_8",
          "dev_8",
          "dev_8",
          "dev_8",
          "dev_8",
          "dev_8",
          "dev_8",
          "dev_8",
          "dev_8",
          "dev_8",
          "dev_8",
          "dev_8",
          "dev_8",
          "dev_8",
          "dev_8",
          "dev_8",
          "dev_8",
          "dev_8",
          "dev_8",
          "dev_9",
          "dev_9",
          "dev_9",
          "dev_9",
          "dev_9",
          "dev_9",
          "dev_9",
          "dev_9",
          "dev_9",
          "dev_9",
          "dev_9",
          "dev_9",
          "dev_9",
          "dev_9",
          "dev_9",
          "dev_9",
          "dev_9",
          "dev_9",
          "dev_9",
          "dev_9",
          "dev_9",
          "dev_9",
          "dev_9",
          "dev_9",
          "dev_9",
          "dev_9",
          "dev_9",
          "dev_9",
          "dev_9",
          "train_1",
          "train_1",
          "train_1",
          "train_1",
          "train_1",
          "train_1",
          "train_1",
          "train_1",
          "train_1",
          "train_1",
          "train_1",
          "train_1",
          "train_1",
          "train_1",
          "train_1",
          "train_1",
          "train_1",
          "train_1",
          "train_1",
          "train_1",
          "train_1",
          "train_1",
          "train_1",
          "train_1",
          "train_1",
          "train_1",
          "train_1",
          "train_1",
          "train_1",
          "train_1",
          "train_1",
          "train_1",
          "train_1",
          "train_1",
          "train_2",
          "train_2",
          "train_2",
          "train_2",
          "train_2",
          "train_2",
          "train_2",
          "train_2",
          "train_2",
          "train_2",
          "train_2",
          "train_2",
          "train_2",
          "train_2",
          "train_3",
          "train_3",
          "train_3",
          "train_3",
          "train_3",
          "train_3",
          "train_3",
          "train_3",
          "train_3",
          "train_3",
          "train_3",
          "train_3",
          "train_3",
          "train_3",
          "train_3",
          "train_3",
          "train_3",
          "train_4",
          "train_4",
          "train_4",
          "train_4",
          "train_4",
          "train_4",
          "train_4",
          "train_4",
          "train_4",
          "train_4",
          "train_4",
          "train_4",
          "train_4",
          "train_4",
          "train_4",
          "train_4",
          "train_4",
          "train_4",
          "train_4",
          "train_4",
          "train_5",
          "train_5",
          "train_5",
          "train_5",
          "train_5",
          "train_5",
          "train_5",
          "train_5",
          "train_5",
          "train_5",
          "train_5",
          "train_5",
          "train_5",
          "train_5",
          "train_5",
          "train_5",
          "train_5",
          "train_5",
          "train_5",
          "train_5",
          "train_5",
          "train_5",
          "train_5",
          "train_5",
          "train_5",
          "train_5",
          "train_5",
          "train_5",
          "train_6",
          "train_6",
          "train_6",
          "train_6",
          "train_6",
          "train_6",
          "train_6",
          "train_6",
          "train_6",
          "train_6",
          "train_6",
          "train_6",
          "train_6",
          "train_6",
          "train_6",
          "train_6",
          "train_6",
          "train_6",
          "train_6",
          "train_6",
          "train_6",
          "train_6",
          "train_6",
          "train_6",
          "train_7",
          "train_7",
          "train_7",
          "train_7",
          "train_7",
          "train_7",
          "train_7",
          "train_7",
          "train_7",
          "train_7",
          "train_7",
          "train_7",
          "train_7",
          "train_7",
          "train_7",
          "train_7",
          "train_7",
          "train_7",
          "train_7",
          "train_7",
          "train_7",
          "train_7",
          "train_8",
          "train_8",
          "train_8",
          "train_8",
          "train_8",
          "train_8",
          "train_8",
          "train_8",
          "train_8",
          "train_8",
          "train_8",
          "train_8",
          "train_8",
          "train_8",
          "train_8",
          "train_8",
          "train_8",
          "train_8",
          "train_8",
          "train_8",
          "train_8",
          "train_8",
          "train_9",
          "train_9",
          "train_9",
          "train_9",
          "train_9",
          "train_9",
          "train_9",
          "train_9",
          "train_9",
          "train_9",
          "train_9",
          "train_9",
          "train_9",
          "train_9",
          "train_9"
         ],
         "x0": " ",
         "xaxis": "x",
         "y": [
          0.02755931450704225,
          -0.023314008426315792,
          0.03580529371402215,
          0.06702306212962965,
          0.2477826927622377,
          0.12456563663573088,
          0.028354982202803736,
          0.06498861355704699,
          0.2439948102564103,
          0.2495076257142857,
          0.035565322326923075,
          0.07771901414634146,
          0.16161547352941175,
          0.30254066756756753,
          -0.026956333864864863,
          0.01893410080823529,
          0.14228789839572192,
          -0.02242357777777778,
          -0.06340902500000001,
          0.04790675164473685,
          0.05392990506352086,
          0.1025076,
          0.039715967058823534,
          0.09129987130136986,
          0.100340965,
          -0.005492369,
          0.5433275327102803,
          0.0427342106569343,
          0.1655900833333333,
          0.14867332,
          -0.07645996000000001,
          0.040034525000000015,
          0.09014655000000003,
          0.4160792347826088,
          0.22587091610405785,
          0.2040987505546448,
          0.26300677,
          0.25676282266390976,
          0.1458311052631579,
          0.07564963571428572,
          0.18181645070422534,
          0.12978125000000004,
          0.029122782000000007,
          0.06457891999999997,
          0.09205964393939392,
          -0.00037722040454545453,
          0.0632180177142857,
          -0.031990370440825686,
          0.0192966927270903,
          0.010082550241379313,
          0.017789446666666663,
          0.06761801714285715,
          0.20199914814814812,
          0.052294119428037376,
          -0.0008401827633333334,
          0.04287674833333333,
          0.03468688461538461,
          0.0683727825,
          0.08045611,
          0.06295611307692307,
          0.10342685320073126,
          0.1925828430729167,
          0.19862277,
          0.17577056226415091,
          0.06378944114649683,
          0.1146456555045872,
          0.07645612000000003,
          0.14213977145299145,
          0.14183175,
          -0.04001068,
          0.10684358196457328,
          0.13476813756613756,
          0.0012516169000000008,
          -0.09884543546666666,
          0.009184198222222223,
          -0.01924366005181348,
          -0.1173342,
          -0.08950976842105264,
          -0.07777518870967744,
          -0.03726026444444445,
          0.026838503703703703,
          0.0182268137735849,
          -0.05301248120689656,
          -0.061649135,
          0.06466574545454544,
          -0.0017689606607843137,
          0.0029990126666666673,
          0.03419053586234718,
          0.03962401375,
          0.013000643117848409,
          -0.031226211756756755,
          0.007514995384246574,
          -0.029397213018867926,
          -0.015101143271361504,
          -0.03963193928571429,
          -0.02294542833333333,
          -0.06115971761904763,
          -0.05410089333053221,
          -0.06889142930069929,
          0.2766414871794872,
          0.003108638888888889,
          0.24977516129032265,
          0.026755167602941173,
          0.09470123400000001,
          0.04616055439763779,
          0.07235201333333334,
          0.27828361790123457,
          0.07253456999999999,
          -0.023785944615384608,
          -0.005965433000000001,
          -0.08511271232558139,
          0.0423679,
          0.15515501987473904,
          0.055939328095238106,
          0.0998410148387097,
          0.1498037923076923,
          0.1388210845597753,
          0.12895966426966293,
          0.016000378974358968,
          0.2282062827878787,
          0.1296634964150943,
          0.11059012166666668,
          0.07570123,
          0.10862743977099236,
          -0.039975237000000004,
          0.100201233,
          -0.011667188594736843,
          0.0012567889,
          0.03861214386820277,
          0.03359247017957746,
          0.2311870072595281,
          0.09751931,
          0.023068310877192987,
          0.13260311594202898,
          0.14961216496842109,
          0.2146238076923077,
          0.2237471375,
          0.29066386250000004,
          0.29499826315789474,
          0.29229463157894736,
          0.021128235294117646,
          0.07495168999999999,
          0.1362768218224299,
          0.061381238651162774,
          0.012985459480555557,
          0.3237261800000001,
          0.17777530257261412,
          0.11008837658653843,
          0.0913761102116402,
          0.2692565035786436,
          -0.022739849525,
          -0.0208417015,
          0.024491965920270267,
          -0.03838683692307692,
          -0.1419730918918919,
          -0.1612073,
          -0.15981845000000006,
          -0.1248088664367816,
          0.06473015020833332,
          0.04383634935064935,
          0.024287368326224783,
          0.1316890004695122,
          -0.027414246827586204,
          -0.10387401999999997,
          -0.04604606000000002,
          -0.06252810471698113,
          0.1385671843510055,
          0.2267466803874092,
          -0.06967955833333334,
          -0.12854079999999998,
          0.11407033333333333,
          0.217324995522388,
          -0.032692612380952384,
          0.009822074911764707,
          -0.1297785714285714,
          0.04646995646223405,
          -0.09020734,
          0.22814103511278194,
          0.10735197457627116,
          -0.12057844528301885,
          0.09269095966101697,
          0.14893155277777775,
          0.09816944155092593,
          0.08038781166666666,
          0.11751060488524592,
          0.029995291262458475,
          0.0013731607756716404,
          0.0681524355950096,
          0.08452264679687503,
          0.43144137928802573,
          0.2573250256410256,
          0.29711145336787564,
          0.13603237980613894,
          0.15852605263157896,
          0.14377820086956525,
          0.3692544571428572,
          0.32176209375,
          0.19526121222707424,
          0.08728933631578949,
          0.13932058468763006,
          -0.006460038264864867,
          0.010259863363636363,
          0.2066043286842105,
          0.014612885182142859,
          0.15210994389108912,
          0.01787148594140969,
          -0.042021404665789484,
          -0.031208543394444444,
          -0.08937521,
          0.01194592830731707,
          0.08093091522448981,
          0.26067038995136776,
          0.06801497093023258,
          -0.036041875,
          -0.02399059468557693,
          0.20975157142857145,
          0.1775353195121951,
          0.019133571578947368,
          0.15064074753205128,
          0.040081718617977526,
          0.052847011666666666,
          0.05434038623853212,
          0.03376467090178571,
          0.016238825,
          0.12505855730769228,
          0.06493603454545456,
          0.3861934444444444,
          0.11242084951456313,
          0.128400010625,
          -0.0005557645416666665,
          0.01629652903225807,
          0.039822760000000006,
          0.02576746,
          0.21455820263157896,
          -0.13691840877192982,
          0.012564567665071769,
          0.011340704224999998,
          0.05308318164383561,
          0.056986276411764715,
          -0.03350833375,
          0.07100556000000001,
          -0.004168055116666667,
          -0.12903066739130434,
          -0.07004042034482758,
          -0.0313132847826087,
          -0.0023277772923076924,
          0.0346787,
          -0.10715100454545454,
          -0.00438659988235294,
          0.0533980435483871,
          0.02773922953517588,
          -0.02176302388429752,
          -0.04659859375,
          0.031751491524475525,
          0.11692503448275862,
          -0.027451232962962955,
          0.12045004688888887,
          0.04797137025641025,
          0.03727539714285714,
          -0.014337581352941175,
          0.03000558245714285,
          0.052005556,
          -0.014606537608849559,
          -0.02153830393421053,
          -0.033734026250000014,
          0.2626178793859649,
          0.475680445890411,
          0.32017999274611403,
          0.2353130582666667,
          -0.015705642716267548,
          -0.11478813095238095,
          0.09324016098696088,
          -0.02699249,
          0.08679918,
          -0.05798715641025641,
          0.17310600000000004,
          0.2554871609589041,
          0.07050288037037038,
          0.15734831040849195,
          0.1045392100943396,
          0.14116437802690587,
          0.12033708108527133,
          0.16686047549019611,
          0.11316392196836556,
          0.2449622325581395,
          0.17222002205882356,
          0.05373355632478634,
          0.13171812106596406,
          -0.03694664370238095,
          0.1289973731640625,
          0.03144692471311476,
          0.10376808233576644,
          0.07875496961290324,
          0.00995182123856655,
          0.24347577372413795,
          0.22419387080291966,
          0.07057721048387097,
          0.034074074861111116,
          0.03479166861111112,
          0.1073678281911263,
          -0.05425811874863387,
          0.28360162868852457,
          0.07600369353932583,
          0.05668133185863874,
          0.15669403636363635,
          -0.051662030000000005,
          0.21174551875,
          0.022299856213414637,
          -0.026978716000000003,
          0.009135331758713141,
          -0.010131268281879194,
          -0.015134262666666669,
          -0.0021366743913043477,
          0.00184819649122807,
          0.047003689178531066,
          0.022777151870270268,
          -0.03897267,
          0.031351635541871925,
          -0.027806001000000004,
          -0.010171352186699505,
          0.09616789469879518,
          0.2198909772727273,
          0.2502445030303031,
          0.1290407225,
          0.07354806027860697,
          0.18974414247787613,
          0.4029281586776859,
          0.21239097090909093,
          -0.007719222833884297,
          -0.0089727,
          -0.01926678529411765,
          0.01760628210526316,
          0.1387692677419355,
          0.005401275383248733,
          -0.009805998,
          -0.011678093151627909,
          0.09280287839195983,
          0.13440264201680674,
          0.06065377241379311,
          0.2780088922222222,
          0.049598771428571435,
          0.009534274791666669,
          -0.0187504448,
          0.039323072706766916,
          0.03689439945555555,
          0.21071180052117264,
          0.10476907325581396,
          0.027211239359375,
          0.06609374529411764,
          0.029473172353731338,
          0.015202479090909087,
          -0.00934098010789474,
          0.12245953793103448,
          0.14416546281407036,
          0.16406884502262445,
          0.3282833,
          0.07455313,
          0.18787697213930346,
          0.12870964333488372,
          0.06067217733333333,
          0.124849392760181,
          0.1786342841483198,
          0.0018357756238532108,
          0.22744270514444445,
          0.045922216184210524,
          0.08958101407960198,
          0.03647792857142857,
          0.0382327840909091,
          -0.022013589128653838,
          0.2523023793103448,
          0.03142159856111111,
          0.1151681,
          0.2091617514010508,
          -0.010813371382550336,
          0.20880566666666667,
          0.2482841872511849,
          0.1033418658973384,
          -0.0415401538938053,
          0.08143732446700506,
          0.1740812947368421,
          0.12253903389473687,
          0.008153081110000002,
          -0.026448771333333333,
          0.11651696891260745,
          0.08885868082621083,
          0.045643465000000015,
          0.020010923639705882,
          -0.0476199694680851,
          -0.04031052135057472,
          0.1402406254017668,
          0.3308753888130969,
          0.3744731636363637,
          0.3030503652173913,
          0.4847569042452831,
          0.3600046376442634,
          0.17742673943661974,
          0.19811844705882356,
          0.26091255,
          0.21863478,
          0.08480146583333333,
          0.18910283476394849,
          0.4105204029411765,
          0.4557098621621622,
          0.2209564251461988,
          0.12813481666666665,
          0.08899816216216216,
          0.1867459,
          0.20098832727272728,
          0.27643010842105264,
          0.1892458846153846,
          0.1361903333333333,
          0.08069327526315791,
          0.05877105082984456,
          0.208612450604534,
          0.01425896,
          0.11995030223463687,
          0.21916045817891366,
          0.08139497666666667,
          0.041256611859154926,
          -0.0030137653181818184,
          0.04528837647058823,
          0.00988123896331878,
          0.08102253953488373,
          0.052305832238095235,
          -0.0013932144514492767,
          0.09768610743260236,
          0.15521014232323235
         ],
         "y0": " ",
         "yaxis": "y"
        }
       ],
       "layout": {
        "autosize": true,
        "boxmode": "group",
        "legend": {
         "tracegroupgap": 0
        },
        "template": {
         "data": {
          "bar": [
           {
            "error_x": {
             "color": "rgb(36,36,36)"
            },
            "error_y": {
             "color": "rgb(36,36,36)"
            },
            "marker": {
             "line": {
              "color": "white",
              "width": 0.5
             }
            },
            "type": "bar"
           }
          ],
          "barpolar": [
           {
            "marker": {
             "line": {
              "color": "white",
              "width": 0.5
             }
            },
            "type": "barpolar"
           }
          ],
          "carpet": [
           {
            "aaxis": {
             "endlinecolor": "rgb(36,36,36)",
             "gridcolor": "white",
             "linecolor": "white",
             "minorgridcolor": "white",
             "startlinecolor": "rgb(36,36,36)"
            },
            "baxis": {
             "endlinecolor": "rgb(36,36,36)",
             "gridcolor": "white",
             "linecolor": "white",
             "minorgridcolor": "white",
             "startlinecolor": "rgb(36,36,36)"
            },
            "type": "carpet"
           }
          ],
          "choropleth": [
           {
            "colorbar": {
             "outlinewidth": 1,
             "tickcolor": "rgb(36,36,36)",
             "ticks": "outside"
            },
            "type": "choropleth"
           }
          ],
          "contour": [
           {
            "colorbar": {
             "outlinewidth": 1,
             "tickcolor": "rgb(36,36,36)",
             "ticks": "outside"
            },
            "colorscale": [
             [
              0,
              "#440154"
             ],
             [
              0.1111111111111111,
              "#482878"
             ],
             [
              0.2222222222222222,
              "#3e4989"
             ],
             [
              0.3333333333333333,
              "#31688e"
             ],
             [
              0.4444444444444444,
              "#26828e"
             ],
             [
              0.5555555555555556,
              "#1f9e89"
             ],
             [
              0.6666666666666666,
              "#35b779"
             ],
             [
              0.7777777777777778,
              "#6ece58"
             ],
             [
              0.8888888888888888,
              "#b5de2b"
             ],
             [
              1,
              "#fde725"
             ]
            ],
            "type": "contour"
           }
          ],
          "contourcarpet": [
           {
            "colorbar": {
             "outlinewidth": 1,
             "tickcolor": "rgb(36,36,36)",
             "ticks": "outside"
            },
            "type": "contourcarpet"
           }
          ],
          "heatmap": [
           {
            "colorbar": {
             "outlinewidth": 1,
             "tickcolor": "rgb(36,36,36)",
             "ticks": "outside"
            },
            "colorscale": [
             [
              0,
              "#440154"
             ],
             [
              0.1111111111111111,
              "#482878"
             ],
             [
              0.2222222222222222,
              "#3e4989"
             ],
             [
              0.3333333333333333,
              "#31688e"
             ],
             [
              0.4444444444444444,
              "#26828e"
             ],
             [
              0.5555555555555556,
              "#1f9e89"
             ],
             [
              0.6666666666666666,
              "#35b779"
             ],
             [
              0.7777777777777778,
              "#6ece58"
             ],
             [
              0.8888888888888888,
              "#b5de2b"
             ],
             [
              1,
              "#fde725"
             ]
            ],
            "type": "heatmap"
           }
          ],
          "heatmapgl": [
           {
            "colorbar": {
             "outlinewidth": 1,
             "tickcolor": "rgb(36,36,36)",
             "ticks": "outside"
            },
            "colorscale": [
             [
              0,
              "#440154"
             ],
             [
              0.1111111111111111,
              "#482878"
             ],
             [
              0.2222222222222222,
              "#3e4989"
             ],
             [
              0.3333333333333333,
              "#31688e"
             ],
             [
              0.4444444444444444,
              "#26828e"
             ],
             [
              0.5555555555555556,
              "#1f9e89"
             ],
             [
              0.6666666666666666,
              "#35b779"
             ],
             [
              0.7777777777777778,
              "#6ece58"
             ],
             [
              0.8888888888888888,
              "#b5de2b"
             ],
             [
              1,
              "#fde725"
             ]
            ],
            "type": "heatmapgl"
           }
          ],
          "histogram": [
           {
            "marker": {
             "line": {
              "color": "white",
              "width": 0.6
             }
            },
            "type": "histogram"
           }
          ],
          "histogram2d": [
           {
            "colorbar": {
             "outlinewidth": 1,
             "tickcolor": "rgb(36,36,36)",
             "ticks": "outside"
            },
            "colorscale": [
             [
              0,
              "#440154"
             ],
             [
              0.1111111111111111,
              "#482878"
             ],
             [
              0.2222222222222222,
              "#3e4989"
             ],
             [
              0.3333333333333333,
              "#31688e"
             ],
             [
              0.4444444444444444,
              "#26828e"
             ],
             [
              0.5555555555555556,
              "#1f9e89"
             ],
             [
              0.6666666666666666,
              "#35b779"
             ],
             [
              0.7777777777777778,
              "#6ece58"
             ],
             [
              0.8888888888888888,
              "#b5de2b"
             ],
             [
              1,
              "#fde725"
             ]
            ],
            "type": "histogram2d"
           }
          ],
          "histogram2dcontour": [
           {
            "colorbar": {
             "outlinewidth": 1,
             "tickcolor": "rgb(36,36,36)",
             "ticks": "outside"
            },
            "colorscale": [
             [
              0,
              "#440154"
             ],
             [
              0.1111111111111111,
              "#482878"
             ],
             [
              0.2222222222222222,
              "#3e4989"
             ],
             [
              0.3333333333333333,
              "#31688e"
             ],
             [
              0.4444444444444444,
              "#26828e"
             ],
             [
              0.5555555555555556,
              "#1f9e89"
             ],
             [
              0.6666666666666666,
              "#35b779"
             ],
             [
              0.7777777777777778,
              "#6ece58"
             ],
             [
              0.8888888888888888,
              "#b5de2b"
             ],
             [
              1,
              "#fde725"
             ]
            ],
            "type": "histogram2dcontour"
           }
          ],
          "mesh3d": [
           {
            "colorbar": {
             "outlinewidth": 1,
             "tickcolor": "rgb(36,36,36)",
             "ticks": "outside"
            },
            "type": "mesh3d"
           }
          ],
          "parcoords": [
           {
            "line": {
             "colorbar": {
              "outlinewidth": 1,
              "tickcolor": "rgb(36,36,36)",
              "ticks": "outside"
             }
            },
            "type": "parcoords"
           }
          ],
          "pie": [
           {
            "automargin": true,
            "type": "pie"
           }
          ],
          "scatter": [
           {
            "marker": {
             "colorbar": {
              "outlinewidth": 1,
              "tickcolor": "rgb(36,36,36)",
              "ticks": "outside"
             }
            },
            "type": "scatter"
           }
          ],
          "scatter3d": [
           {
            "line": {
             "colorbar": {
              "outlinewidth": 1,
              "tickcolor": "rgb(36,36,36)",
              "ticks": "outside"
             }
            },
            "marker": {
             "colorbar": {
              "outlinewidth": 1,
              "tickcolor": "rgb(36,36,36)",
              "ticks": "outside"
             }
            },
            "type": "scatter3d"
           }
          ],
          "scattercarpet": [
           {
            "marker": {
             "colorbar": {
              "outlinewidth": 1,
              "tickcolor": "rgb(36,36,36)",
              "ticks": "outside"
             }
            },
            "type": "scattercarpet"
           }
          ],
          "scattergeo": [
           {
            "marker": {
             "colorbar": {
              "outlinewidth": 1,
              "tickcolor": "rgb(36,36,36)",
              "ticks": "outside"
             }
            },
            "type": "scattergeo"
           }
          ],
          "scattergl": [
           {
            "marker": {
             "colorbar": {
              "outlinewidth": 1,
              "tickcolor": "rgb(36,36,36)",
              "ticks": "outside"
             }
            },
            "type": "scattergl"
           }
          ],
          "scattermapbox": [
           {
            "marker": {
             "colorbar": {
              "outlinewidth": 1,
              "tickcolor": "rgb(36,36,36)",
              "ticks": "outside"
             }
            },
            "type": "scattermapbox"
           }
          ],
          "scatterpolar": [
           {
            "marker": {
             "colorbar": {
              "outlinewidth": 1,
              "tickcolor": "rgb(36,36,36)",
              "ticks": "outside"
             }
            },
            "type": "scatterpolar"
           }
          ],
          "scatterpolargl": [
           {
            "marker": {
             "colorbar": {
              "outlinewidth": 1,
              "tickcolor": "rgb(36,36,36)",
              "ticks": "outside"
             }
            },
            "type": "scatterpolargl"
           }
          ],
          "scatterternary": [
           {
            "marker": {
             "colorbar": {
              "outlinewidth": 1,
              "tickcolor": "rgb(36,36,36)",
              "ticks": "outside"
             }
            },
            "type": "scatterternary"
           }
          ],
          "surface": [
           {
            "colorbar": {
             "outlinewidth": 1,
             "tickcolor": "rgb(36,36,36)",
             "ticks": "outside"
            },
            "colorscale": [
             [
              0,
              "#440154"
             ],
             [
              0.1111111111111111,
              "#482878"
             ],
             [
              0.2222222222222222,
              "#3e4989"
             ],
             [
              0.3333333333333333,
              "#31688e"
             ],
             [
              0.4444444444444444,
              "#26828e"
             ],
             [
              0.5555555555555556,
              "#1f9e89"
             ],
             [
              0.6666666666666666,
              "#35b779"
             ],
             [
              0.7777777777777778,
              "#6ece58"
             ],
             [
              0.8888888888888888,
              "#b5de2b"
             ],
             [
              1,
              "#fde725"
             ]
            ],
            "type": "surface"
           }
          ],
          "table": [
           {
            "cells": {
             "fill": {
              "color": "rgb(237,237,237)"
             },
             "line": {
              "color": "white"
             }
            },
            "header": {
             "fill": {
              "color": "rgb(217,217,217)"
             },
             "line": {
              "color": "white"
             }
            },
            "type": "table"
           }
          ]
         },
         "layout": {
          "annotationdefaults": {
           "arrowhead": 0,
           "arrowwidth": 1
          },
          "autotypenumbers": "strict",
          "coloraxis": {
           "colorbar": {
            "outlinewidth": 1,
            "tickcolor": "rgb(36,36,36)",
            "ticks": "outside"
           }
          },
          "colorscale": {
           "diverging": [
            [
             0,
             "rgb(103,0,31)"
            ],
            [
             0.1,
             "rgb(178,24,43)"
            ],
            [
             0.2,
             "rgb(214,96,77)"
            ],
            [
             0.3,
             "rgb(244,165,130)"
            ],
            [
             0.4,
             "rgb(253,219,199)"
            ],
            [
             0.5,
             "rgb(247,247,247)"
            ],
            [
             0.6,
             "rgb(209,229,240)"
            ],
            [
             0.7,
             "rgb(146,197,222)"
            ],
            [
             0.8,
             "rgb(67,147,195)"
            ],
            [
             0.9,
             "rgb(33,102,172)"
            ],
            [
             1,
             "rgb(5,48,97)"
            ]
           ],
           "sequential": [
            [
             0,
             "#440154"
            ],
            [
             0.1111111111111111,
             "#482878"
            ],
            [
             0.2222222222222222,
             "#3e4989"
            ],
            [
             0.3333333333333333,
             "#31688e"
            ],
            [
             0.4444444444444444,
             "#26828e"
            ],
            [
             0.5555555555555556,
             "#1f9e89"
            ],
            [
             0.6666666666666666,
             "#35b779"
            ],
            [
             0.7777777777777778,
             "#6ece58"
            ],
            [
             0.8888888888888888,
             "#b5de2b"
            ],
            [
             1,
             "#fde725"
            ]
           ],
           "sequentialminus": [
            [
             0,
             "#440154"
            ],
            [
             0.1111111111111111,
             "#482878"
            ],
            [
             0.2222222222222222,
             "#3e4989"
            ],
            [
             0.3333333333333333,
             "#31688e"
            ],
            [
             0.4444444444444444,
             "#26828e"
            ],
            [
             0.5555555555555556,
             "#1f9e89"
            ],
            [
             0.6666666666666666,
             "#35b779"
            ],
            [
             0.7777777777777778,
             "#6ece58"
            ],
            [
             0.8888888888888888,
             "#b5de2b"
            ],
            [
             1,
             "#fde725"
            ]
           ]
          },
          "colorway": [
           "#1F77B4",
           "#FF7F0E",
           "#2CA02C",
           "#D62728",
           "#9467BD",
           "#8C564B",
           "#E377C2",
           "#7F7F7F",
           "#BCBD22",
           "#17BECF"
          ],
          "font": {
           "color": "rgb(36,36,36)"
          },
          "geo": {
           "bgcolor": "white",
           "lakecolor": "white",
           "landcolor": "white",
           "showlakes": true,
           "showland": true,
           "subunitcolor": "white"
          },
          "hoverlabel": {
           "align": "left"
          },
          "hovermode": "closest",
          "mapbox": {
           "style": "light"
          },
          "paper_bgcolor": "white",
          "plot_bgcolor": "white",
          "polar": {
           "angularaxis": {
            "gridcolor": "rgb(232,232,232)",
            "linecolor": "rgb(36,36,36)",
            "showgrid": false,
            "showline": true,
            "ticks": "outside"
           },
           "bgcolor": "white",
           "radialaxis": {
            "gridcolor": "rgb(232,232,232)",
            "linecolor": "rgb(36,36,36)",
            "showgrid": false,
            "showline": true,
            "ticks": "outside"
           }
          },
          "scene": {
           "xaxis": {
            "backgroundcolor": "white",
            "gridcolor": "rgb(232,232,232)",
            "gridwidth": 2,
            "linecolor": "rgb(36,36,36)",
            "showbackground": true,
            "showgrid": false,
            "showline": true,
            "ticks": "outside",
            "zeroline": false,
            "zerolinecolor": "rgb(36,36,36)"
           },
           "yaxis": {
            "backgroundcolor": "white",
            "gridcolor": "rgb(232,232,232)",
            "gridwidth": 2,
            "linecolor": "rgb(36,36,36)",
            "showbackground": true,
            "showgrid": false,
            "showline": true,
            "ticks": "outside",
            "zeroline": false,
            "zerolinecolor": "rgb(36,36,36)"
           },
           "zaxis": {
            "backgroundcolor": "white",
            "gridcolor": "rgb(232,232,232)",
            "gridwidth": 2,
            "linecolor": "rgb(36,36,36)",
            "showbackground": true,
            "showgrid": false,
            "showline": true,
            "ticks": "outside",
            "zeroline": false,
            "zerolinecolor": "rgb(36,36,36)"
           }
          },
          "shapedefaults": {
           "fillcolor": "black",
           "line": {
            "width": 0
           },
           "opacity": 0.3
          },
          "ternary": {
           "aaxis": {
            "gridcolor": "rgb(232,232,232)",
            "linecolor": "rgb(36,36,36)",
            "showgrid": false,
            "showline": true,
            "ticks": "outside"
           },
           "baxis": {
            "gridcolor": "rgb(232,232,232)",
            "linecolor": "rgb(36,36,36)",
            "showgrid": false,
            "showline": true,
            "ticks": "outside"
           },
           "bgcolor": "white",
           "caxis": {
            "gridcolor": "rgb(232,232,232)",
            "linecolor": "rgb(36,36,36)",
            "showgrid": false,
            "showline": true,
            "ticks": "outside"
           }
          },
          "title": {
           "x": 0.05
          },
          "xaxis": {
           "automargin": true,
           "gridcolor": "rgb(232,232,232)",
           "linecolor": "rgb(36,36,36)",
           "showgrid": false,
           "showline": true,
           "ticks": "outside",
           "title": {
            "standoff": 15
           },
           "zeroline": false,
           "zerolinecolor": "rgb(36,36,36)"
          },
          "yaxis": {
           "automargin": true,
           "gridcolor": "rgb(232,232,232)",
           "linecolor": "rgb(36,36,36)",
           "showgrid": false,
           "showline": true,
           "ticks": "outside",
           "title": {
            "standoff": 15
           },
           "zeroline": false,
           "zerolinecolor": "rgb(36,36,36)"
          }
         }
        },
        "title": {
         "text": "話者ごとのValenceの分布"
        },
        "xaxis": {
         "anchor": "y",
         "autorange": true,
         "domain": [
          0,
          1
         ],
         "range": [
          -0.5,
          17.5
         ],
         "title": {
          "text": "speaker"
         },
         "type": "category"
        },
        "yaxis": {
         "anchor": "x",
         "domain": [
          0,
          1
         ],
         "range": [
          -1,
          1
         ],
         "title": {
          "text": "valence"
         },
         "type": "linear"
        }
       }
      },
      "image/png": "[encoded data removed]",
      "text/html": [
       "<div>                            <div id=\"3c2b0a8b-851e-41f3-9295-bb0a98a6ef42\" class=\"plotly-graph-div\" style=\"height:525px; width:100%;\"></div>            <script type=\"text/javascript\">                require([\"plotly\"], function(Plotly) {                    window.PLOTLYENV=window.PLOTLYENV || {};                                    if (document.getElementById(\"3c2b0a8b-851e-41f3-9295-bb0a98a6ef42\")) {                    Plotly.newPlot(                        \"3c2b0a8b-851e-41f3-9295-bb0a98a6ef42\",                        [{\"alignmentgroup\": \"True\", \"hovertemplate\": \"speaker=%{x}<br>valence=%{y}<extra></extra>\", \"legendgroup\": \"\", \"marker\": {\"color\": \"#1F77B4\"}, \"name\": \"\", \"notched\": false, \"offsetgroup\": \"\", \"orientation\": \"v\", \"showlegend\": false, \"type\": \"box\", \"x\": [\"dev_1\", \"dev_1\", \"dev_1\", \"dev_1\", \"dev_1\", \"dev_1\", \"dev_1\", \"dev_1\", \"dev_1\", \"dev_1\", \"dev_1\", \"dev_1\", \"dev_1\", \"dev_1\", \"dev_1\", \"dev_1\", \"dev_1\", \"dev_1\", \"dev_1\", \"dev_1\", \"dev_1\", \"dev_1\", \"dev_1\", \"dev_1\", \"dev_1\", \"dev_1\", \"dev_2\", \"dev_2\", \"dev_2\", \"dev_2\", \"dev_2\", \"dev_2\", \"dev_2\", \"dev_2\", \"dev_2\", \"dev_2\", \"dev_2\", \"dev_2\", \"dev_2\", \"dev_2\", \"dev_2\", \"dev_2\", \"dev_3\", \"dev_3\", \"dev_3\", \"dev_3\", \"dev_3\", \"dev_3\", \"dev_3\", \"dev_3\", \"dev_3\", \"dev_3\", \"dev_3\", \"dev_3\", \"dev_3\", \"dev_3\", \"dev_3\", \"dev_3\", \"dev_3\", \"dev_3\", \"dev_3\", \"dev_3\", \"dev_3\", \"dev_3\", \"dev_3\", \"dev_3\", \"dev_3\", \"dev_3\", \"dev_3\", \"dev_3\", \"dev_3\", \"dev_3\", \"dev_4\", \"dev_4\", \"dev_4\", \"dev_4\", \"dev_4\", \"dev_4\", \"dev_4\", \"dev_4\", \"dev_4\", \"dev_4\", \"dev_4\", \"dev_4\", \"dev_4\", \"dev_4\", \"dev_4\", \"dev_4\", \"dev_4\", \"dev_4\", \"dev_4\", \"dev_4\", \"dev_4\", \"dev_4\", \"dev_4\", \"dev_4\", \"dev_4\", \"dev_4\", \"dev_4\", \"dev_5\", \"dev_5\", \"dev_5\", \"dev_5\", \"dev_5\", \"dev_5\", \"dev_5\", \"dev_5\", \"dev_5\", \"dev_5\", \"dev_5\", \"dev_5\", \"dev_5\", \"dev_5\", \"dev_5\", \"dev_5\", \"dev_5\", \"dev_5\", \"dev_5\", \"dev_5\", \"dev_5\", \"dev_5\", \"dev_5\", \"dev_5\", \"dev_5\", \"dev_5\", \"dev_5\", \"dev_5\", \"dev_5\", \"dev_5\", \"dev_5\", \"dev_6\", \"dev_6\", \"dev_6\", \"dev_6\", \"dev_6\", \"dev_6\", \"dev_6\", \"dev_6\", \"dev_6\", \"dev_6\", \"dev_6\", \"dev_6\", \"dev_6\", \"dev_6\", \"dev_6\", \"dev_6\", \"dev_6\", \"dev_6\", \"dev_6\", \"dev_6\", \"dev_6\", \"dev_6\", \"dev_6\", \"dev_7\", \"dev_7\", \"dev_7\", \"dev_7\", \"dev_7\", \"dev_7\", \"dev_7\", \"dev_7\", \"dev_7\", \"dev_7\", \"dev_7\", \"dev_7\", \"dev_7\", \"dev_7\", \"dev_7\", \"dev_7\", \"dev_7\", \"dev_7\", \"dev_7\", \"dev_7\", \"dev_7\", \"dev_7\", \"dev_7\", \"dev_7\", \"dev_7\", \"dev_7\", \"dev_7\", \"dev_7\", \"dev_7\", \"dev_8\", \"dev_8\", \"dev_8\", \"dev_8\", \"dev_8\", \"dev_8\", \"dev_8\", \"dev_8\", \"dev_8\", \"dev_8\", \"dev_8\", \"dev_8\", \"dev_8\", \"dev_8\", \"dev_8\", \"dev_8\", \"dev_8\", \"dev_8\", \"dev_8\", \"dev_8\", \"dev_9\", \"dev_9\", \"dev_9\", \"dev_9\", \"dev_9\", \"dev_9\", \"dev_9\", \"dev_9\", \"dev_9\", \"dev_9\", \"dev_9\", \"dev_9\", \"dev_9\", \"dev_9\", \"dev_9\", \"dev_9\", \"dev_9\", \"dev_9\", \"dev_9\", \"dev_9\", \"dev_9\", \"dev_9\", \"dev_9\", \"dev_9\", \"dev_9\", \"dev_9\", \"dev_9\", \"dev_9\", \"dev_9\", \"train_1\", \"train_1\", \"train_1\", \"train_1\", \"train_1\", \"train_1\", \"train_1\", \"train_1\", \"train_1\", \"train_1\", \"train_1\", \"train_1\", \"train_1\", \"train_1\", \"train_1\", \"train_1\", \"train_1\", \"train_1\", \"train_1\", \"train_1\", \"train_1\", \"train_1\", \"train_1\", \"train_1\", \"train_1\", \"train_1\", \"train_1\", \"train_1\", \"train_1\", \"train_1\", \"train_1\", \"train_1\", \"train_1\", \"train_1\", \"train_2\", \"train_2\", \"train_2\", \"train_2\", \"train_2\", \"train_2\", \"train_2\", \"train_2\", \"train_2\", \"train_2\", \"train_2\", \"train_2\", \"train_2\", \"train_2\", \"train_3\", \"train_3\", \"train_3\", \"train_3\", \"train_3\", \"train_3\", \"train_3\", \"train_3\", \"train_3\", \"train_3\", \"train_3\", \"train_3\", \"train_3\", \"train_3\", \"train_3\", \"train_3\", \"train_3\", \"train_4\", \"train_4\", \"train_4\", \"train_4\", \"train_4\", \"train_4\", \"train_4\", \"train_4\", \"train_4\", \"train_4\", \"train_4\", \"train_4\", \"train_4\", \"train_4\", \"train_4\", \"train_4\", \"train_4\", \"train_4\", \"train_4\", \"train_4\", \"train_5\", \"train_5\", \"train_5\", \"train_5\", \"train_5\", \"train_5\", \"train_5\", \"train_5\", \"train_5\", \"train_5\", \"train_5\", \"train_5\", \"train_5\", \"train_5\", \"train_5\", \"train_5\", \"train_5\", \"train_5\", \"train_5\", \"train_5\", \"train_5\", \"train_5\", \"train_5\", \"train_5\", \"train_5\", \"train_5\", \"train_5\", \"train_5\", \"train_6\", \"train_6\", \"train_6\", \"train_6\", \"train_6\", \"train_6\", \"train_6\", \"train_6\", \"train_6\", \"train_6\", \"train_6\", \"train_6\", \"train_6\", \"train_6\", \"train_6\", \"train_6\", \"train_6\", \"train_6\", \"train_6\", \"train_6\", \"train_6\", \"train_6\", \"train_6\", \"train_6\", \"train_7\", \"train_7\", \"train_7\", \"train_7\", \"train_7\", \"train_7\", \"train_7\", \"train_7\", \"train_7\", \"train_7\", \"train_7\", \"train_7\", \"train_7\", \"train_7\", \"train_7\", \"train_7\", \"train_7\", \"train_7\", \"train_7\", \"train_7\", \"train_7\", \"train_7\", \"train_8\", \"train_8\", \"train_8\", \"train_8\", \"train_8\", \"train_8\", \"train_8\", \"train_8\", \"train_8\", \"train_8\", \"train_8\", \"train_8\", \"train_8\", \"train_8\", \"train_8\", \"train_8\", \"train_8\", \"train_8\", \"train_8\", \"train_8\", \"train_8\", \"train_8\", \"train_9\", \"train_9\", \"train_9\", \"train_9\", \"train_9\", \"train_9\", \"train_9\", \"train_9\", \"train_9\", \"train_9\", \"train_9\", \"train_9\", \"train_9\", \"train_9\", \"train_9\"], \"x0\": \" \", \"xaxis\": \"x\", \"y\": [0.02755931450704225, -0.023314008426315792, 0.03580529371402215, 0.06702306212962965, 0.2477826927622377, 0.12456563663573088, 0.028354982202803736, 0.06498861355704699, 0.2439948102564103, 0.2495076257142857, 0.035565322326923075, 0.07771901414634146, 0.16161547352941175, 0.30254066756756753, -0.026956333864864863, 0.01893410080823529, 0.14228789839572192, -0.02242357777777778, -0.06340902500000001, 0.04790675164473685, 0.05392990506352086, 0.1025076, 0.039715967058823534, 0.09129987130136986, 0.100340965, -0.005492369, 0.5433275327102803, 0.0427342106569343, 0.1655900833333333, 0.14867332, -0.07645996000000001, 0.040034525000000015, 0.09014655000000003, 0.4160792347826088, 0.22587091610405785, 0.2040987505546448, 0.26300677, 0.25676282266390976, 0.1458311052631579, 0.07564963571428572, 0.18181645070422534, 0.12978125000000004, 0.029122782000000007, 0.06457891999999997, 0.09205964393939392, -0.00037722040454545453, 0.0632180177142857, -0.031990370440825686, 0.0192966927270903, 0.010082550241379313, 0.017789446666666663, 0.06761801714285715, 0.20199914814814812, 0.052294119428037376, -0.0008401827633333334, 0.04287674833333333, 0.03468688461538461, 0.0683727825, 0.08045611, 0.06295611307692307, 0.10342685320073126, 0.1925828430729167, 0.19862277, 0.17577056226415091, 0.06378944114649683, 0.1146456555045872, 0.07645612000000003, 0.14213977145299145, 0.14183175, -0.04001068, 0.10684358196457328, 0.13476813756613756, 0.0012516169000000008, -0.09884543546666666, 0.009184198222222223, -0.01924366005181348, -0.1173342, -0.08950976842105264, -0.07777518870967744, -0.03726026444444445, 0.026838503703703703, 0.0182268137735849, -0.05301248120689656, -0.061649135, 0.06466574545454544, -0.0017689606607843137, 0.0029990126666666673, 0.03419053586234718, 0.03962401375, 0.013000643117848409, -0.031226211756756755, 0.007514995384246574, -0.029397213018867926, -0.015101143271361504, -0.03963193928571429, -0.02294542833333333, -0.06115971761904763, -0.05410089333053221, -0.06889142930069929, 0.2766414871794872, 0.003108638888888889, 0.24977516129032265, 0.026755167602941173, 0.09470123400000001, 0.04616055439763779, 0.07235201333333334, 0.27828361790123457, 0.07253456999999999, -0.023785944615384608, -0.005965433000000001, -0.08511271232558139, 0.0423679, 0.15515501987473904, 0.055939328095238106, 0.0998410148387097, 0.1498037923076923, 0.1388210845597753, 0.12895966426966293, 0.016000378974358968, 0.2282062827878787, 0.1296634964150943, 0.11059012166666668, 0.07570123, 0.10862743977099236, -0.039975237000000004, 0.100201233, -0.011667188594736843, 0.0012567889, 0.03861214386820277, 0.03359247017957746, 0.2311870072595281, 0.09751931, 0.023068310877192987, 0.13260311594202898, 0.14961216496842109, 0.2146238076923077, 0.2237471375, 0.29066386250000004, 0.29499826315789474, 0.29229463157894736, 0.021128235294117646, 0.07495168999999999, 0.1362768218224299, 0.061381238651162774, 0.012985459480555557, 0.3237261800000001, 0.17777530257261412, 0.11008837658653843, 0.0913761102116402, 0.2692565035786436, -0.022739849525, -0.0208417015, 0.024491965920270267, -0.03838683692307692, -0.1419730918918919, -0.1612073, -0.15981845000000006, -0.1248088664367816, 0.06473015020833332, 0.04383634935064935, 0.024287368326224783, 0.1316890004695122, -0.027414246827586204, -0.10387401999999997, -0.04604606000000002, -0.06252810471698113, 0.1385671843510055, 0.2267466803874092, -0.06967955833333334, -0.12854079999999998, 0.11407033333333333, 0.217324995522388, -0.032692612380952384, 0.009822074911764707, -0.1297785714285714, 0.04646995646223405, -0.09020734, 0.22814103511278194, 0.10735197457627116, -0.12057844528301885, 0.09269095966101697, 0.14893155277777775, 0.09816944155092593, 0.08038781166666666, 0.11751060488524592, 0.029995291262458475, 0.0013731607756716404, 0.0681524355950096, 0.08452264679687503, 0.43144137928802573, 0.2573250256410256, 0.29711145336787564, 0.13603237980613894, 0.15852605263157896, 0.14377820086956525, 0.3692544571428572, 0.32176209375, 0.19526121222707424, 0.08728933631578949, 0.13932058468763006, -0.006460038264864867, 0.010259863363636363, 0.2066043286842105, 0.014612885182142859, 0.15210994389108912, 0.01787148594140969, -0.042021404665789484, -0.031208543394444444, -0.08937521, 0.01194592830731707, 0.08093091522448981, 0.26067038995136776, 0.06801497093023258, -0.036041875, -0.02399059468557693, 0.20975157142857145, 0.1775353195121951, 0.019133571578947368, 0.15064074753205128, 0.040081718617977526, 0.052847011666666666, 0.05434038623853212, 0.03376467090178571, 0.016238825, 0.12505855730769228, 0.06493603454545456, 0.3861934444444444, 0.11242084951456313, 0.128400010625, -0.0005557645416666665, 0.01629652903225807, 0.039822760000000006, 0.02576746, 0.21455820263157896, -0.13691840877192982, 0.012564567665071769, 0.011340704224999998, 0.05308318164383561, 0.056986276411764715, -0.03350833375, 0.07100556000000001, -0.004168055116666667, -0.12903066739130434, -0.07004042034482758, -0.0313132847826087, -0.0023277772923076924, 0.0346787, -0.10715100454545454, -0.00438659988235294, 0.0533980435483871, 0.02773922953517588, -0.02176302388429752, -0.04659859375, 0.031751491524475525, 0.11692503448275862, -0.027451232962962955, 0.12045004688888887, 0.04797137025641025, 0.03727539714285714, -0.014337581352941175, 0.03000558245714285, 0.052005556, -0.014606537608849559, -0.02153830393421053, -0.033734026250000014, 0.2626178793859649, 0.475680445890411, 0.32017999274611403, 0.2353130582666667, -0.015705642716267548, -0.11478813095238095, 0.09324016098696088, -0.02699249, 0.08679918, -0.05798715641025641, 0.17310600000000004, 0.2554871609589041, 0.07050288037037038, 0.15734831040849195, 0.1045392100943396, 0.14116437802690587, 0.12033708108527133, 0.16686047549019611, 0.11316392196836556, 0.2449622325581395, 0.17222002205882356, 0.05373355632478634, 0.13171812106596406, -0.03694664370238095, 0.1289973731640625, 0.03144692471311476, 0.10376808233576644, 0.07875496961290324, 0.00995182123856655, 0.24347577372413795, 0.22419387080291966, 0.07057721048387097, 0.034074074861111116, 0.03479166861111112, 0.1073678281911263, -0.05425811874863387, 0.28360162868852457, 0.07600369353932583, 0.05668133185863874, 0.15669403636363635, -0.051662030000000005, 0.21174551875, 0.022299856213414637, -0.026978716000000003, 0.009135331758713141, -0.010131268281879194, -0.015134262666666669, -0.0021366743913043477, 0.00184819649122807, 0.047003689178531066, 0.022777151870270268, -0.03897267, 0.031351635541871925, -0.027806001000000004, -0.010171352186699505, 0.09616789469879518, 0.2198909772727273, 0.2502445030303031, 0.1290407225, 0.07354806027860697, 0.18974414247787613, 0.4029281586776859, 0.21239097090909093, -0.007719222833884297, -0.0089727, -0.01926678529411765, 0.01760628210526316, 0.1387692677419355, 0.005401275383248733, -0.009805998, -0.011678093151627909, 0.09280287839195983, 0.13440264201680674, 0.06065377241379311, 0.2780088922222222, 0.049598771428571435, 0.009534274791666669, -0.0187504448, 0.039323072706766916, 0.03689439945555555, 0.21071180052117264, 0.10476907325581396, 0.027211239359375, 0.06609374529411764, 0.029473172353731338, 0.015202479090909087, -0.00934098010789474, 0.12245953793103448, 0.14416546281407036, 0.16406884502262445, 0.3282833, 0.07455313, 0.18787697213930346, 0.12870964333488372, 0.06067217733333333, 0.124849392760181, 0.1786342841483198, 0.0018357756238532108, 0.22744270514444445, 0.045922216184210524, 0.08958101407960198, 0.03647792857142857, 0.0382327840909091, -0.022013589128653838, 0.2523023793103448, 0.03142159856111111, 0.1151681, 0.2091617514010508, -0.010813371382550336, 0.20880566666666667, 0.2482841872511849, 0.1033418658973384, -0.0415401538938053, 0.08143732446700506, 0.1740812947368421, 0.12253903389473687, 0.008153081110000002, -0.026448771333333333, 0.11651696891260745, 0.08885868082621083, 0.045643465000000015, 0.020010923639705882, -0.0476199694680851, -0.04031052135057472, 0.1402406254017668, 0.3308753888130969, 0.3744731636363637, 0.3030503652173913, 0.4847569042452831, 0.3600046376442634, 0.17742673943661974, 0.19811844705882356, 0.26091255, 0.21863478, 0.08480146583333333, 0.18910283476394849, 0.4105204029411765, 0.4557098621621622, 0.2209564251461988, 0.12813481666666665, 0.08899816216216216, 0.1867459, 0.20098832727272728, 0.27643010842105264, 0.1892458846153846, 0.1361903333333333, 0.08069327526315791, 0.05877105082984456, 0.208612450604534, 0.01425896, 0.11995030223463687, 0.21916045817891366, 0.08139497666666667, 0.041256611859154926, -0.0030137653181818184, 0.04528837647058823, 0.00988123896331878, 0.08102253953488373, 0.052305832238095235, -0.0013932144514492767, 0.09768610743260236, 0.15521014232323235], \"y0\": \" \", \"yaxis\": \"y\"}],                        {\"boxmode\": \"group\", \"legend\": {\"tracegroupgap\": 0}, \"template\": {\"data\": {\"bar\": [{\"error_x\": {\"color\": \"rgb(36,36,36)\"}, \"error_y\": {\"color\": \"rgb(36,36,36)\"}, \"marker\": {\"line\": {\"color\": \"white\", \"width\": 0.5}}, \"type\": \"bar\"}], \"barpolar\": [{\"marker\": {\"line\": {\"color\": \"white\", \"width\": 0.5}}, \"type\": \"barpolar\"}], \"carpet\": [{\"aaxis\": {\"endlinecolor\": \"rgb(36,36,36)\", \"gridcolor\": \"white\", \"linecolor\": \"white\", \"minorgridcolor\": \"white\", \"startlinecolor\": \"rgb(36,36,36)\"}, \"baxis\": {\"endlinecolor\": \"rgb(36,36,36)\", \"gridcolor\": \"white\", \"linecolor\": \"white\", \"minorgridcolor\": \"white\", \"startlinecolor\": \"rgb(36,36,36)\"}, \"type\": \"carpet\"}], \"choropleth\": [{\"colorbar\": {\"outlinewidth\": 1, \"tickcolor\": \"rgb(36,36,36)\", \"ticks\": \"outside\"}, \"type\": \"choropleth\"}], \"contour\": [{\"colorbar\": {\"outlinewidth\": 1, \"tickcolor\": \"rgb(36,36,36)\", \"ticks\": \"outside\"}, \"colorscale\": [[0.0, \"#440154\"], [0.1111111111111111, \"#482878\"], [0.2222222222222222, \"#3e4989\"], [0.3333333333333333, \"#31688e\"], [0.4444444444444444, \"#26828e\"], [0.5555555555555556, \"#1f9e89\"], [0.6666666666666666, \"#35b779\"], [0.7777777777777778, \"#6ece58\"], [0.8888888888888888, \"#b5de2b\"], [1.0, \"#fde725\"]], \"type\": \"contour\"}], \"contourcarpet\": [{\"colorbar\": {\"outlinewidth\": 1, \"tickcolor\": \"rgb(36,36,36)\", \"ticks\": \"outside\"}, \"type\": \"contourcarpet\"}], \"heatmap\": [{\"colorbar\": {\"outlinewidth\": 1, \"tickcolor\": \"rgb(36,36,36)\", \"ticks\": \"outside\"}, \"colorscale\": [[0.0, \"#440154\"], [0.1111111111111111, \"#482878\"], [0.2222222222222222, \"#3e4989\"], [0.3333333333333333, \"#31688e\"], [0.4444444444444444, \"#26828e\"], [0.5555555555555556, \"#1f9e89\"], [0.6666666666666666, \"#35b779\"], [0.7777777777777778, \"#6ece58\"], [0.8888888888888888, \"#b5de2b\"], [1.0, \"#fde725\"]], \"type\": \"heatmap\"}], \"heatmapgl\": [{\"colorbar\": {\"outlinewidth\": 1, \"tickcolor\": \"rgb(36,36,36)\", \"ticks\": \"outside\"}, \"colorscale\": [[0.0, \"#440154\"], [0.1111111111111111, \"#482878\"], [0.2222222222222222, \"#3e4989\"], [0.3333333333333333, \"#31688e\"], [0.4444444444444444, \"#26828e\"], [0.5555555555555556, \"#1f9e89\"], [0.6666666666666666, \"#35b779\"], [0.7777777777777778, \"#6ece58\"], [0.8888888888888888, \"#b5de2b\"], [1.0, \"#fde725\"]], \"type\": \"heatmapgl\"}], \"histogram\": [{\"marker\": {\"line\": {\"color\": \"white\", \"width\": 0.6}}, \"type\": \"histogram\"}], \"histogram2d\": [{\"colorbar\": {\"outlinewidth\": 1, \"tickcolor\": \"rgb(36,36,36)\", \"ticks\": \"outside\"}, \"colorscale\": [[0.0, \"#440154\"], [0.1111111111111111, \"#482878\"], [0.2222222222222222, \"#3e4989\"], [0.3333333333333333, \"#31688e\"], [0.4444444444444444, \"#26828e\"], [0.5555555555555556, \"#1f9e89\"], [0.6666666666666666, \"#35b779\"], [0.7777777777777778, \"#6ece58\"], [0.8888888888888888, \"#b5de2b\"], [1.0, \"#fde725\"]], \"type\": \"histogram2d\"}], \"histogram2dcontour\": [{\"colorbar\": {\"outlinewidth\": 1, \"tickcolor\": \"rgb(36,36,36)\", \"ticks\": \"outside\"}, \"colorscale\": [[0.0, \"#440154\"], [0.1111111111111111, \"#482878\"], [0.2222222222222222, \"#3e4989\"], [0.3333333333333333, \"#31688e\"], [0.4444444444444444, \"#26828e\"], [0.5555555555555556, \"#1f9e89\"], [0.6666666666666666, \"#35b779\"], [0.7777777777777778, \"#6ece58\"], [0.8888888888888888, \"#b5de2b\"], [1.0, \"#fde725\"]], \"type\": \"histogram2dcontour\"}], \"mesh3d\": [{\"colorbar\": {\"outlinewidth\": 1, \"tickcolor\": \"rgb(36,36,36)\", \"ticks\": \"outside\"}, \"type\": \"mesh3d\"}], \"parcoords\": [{\"line\": {\"colorbar\": {\"outlinewidth\": 1, \"tickcolor\": \"rgb(36,36,36)\", \"ticks\": \"outside\"}}, \"type\": \"parcoords\"}], \"pie\": [{\"automargin\": true, \"type\": \"pie\"}], \"scatter\": [{\"marker\": {\"colorbar\": {\"outlinewidth\": 1, \"tickcolor\": \"rgb(36,36,36)\", \"ticks\": \"outside\"}}, \"type\": \"scatter\"}], \"scatter3d\": [{\"line\": {\"colorbar\": {\"outlinewidth\": 1, \"tickcolor\": \"rgb(36,36,36)\", \"ticks\": \"outside\"}}, \"marker\": {\"colorbar\": {\"outlinewidth\": 1, \"tickcolor\": \"rgb(36,36,36)\", \"ticks\": \"outside\"}}, \"type\": \"scatter3d\"}], \"scattercarpet\": [{\"marker\": {\"colorbar\": {\"outlinewidth\": 1, \"tickcolor\": \"rgb(36,36,36)\", \"ticks\": \"outside\"}}, \"type\": \"scattercarpet\"}], \"scattergeo\": [{\"marker\": {\"colorbar\": {\"outlinewidth\": 1, \"tickcolor\": \"rgb(36,36,36)\", \"ticks\": \"outside\"}}, \"type\": \"scattergeo\"}], \"scattergl\": [{\"marker\": {\"colorbar\": {\"outlinewidth\": 1, \"tickcolor\": \"rgb(36,36,36)\", \"ticks\": \"outside\"}}, \"type\": \"scattergl\"}], \"scattermapbox\": [{\"marker\": {\"colorbar\": {\"outlinewidth\": 1, \"tickcolor\": \"rgb(36,36,36)\", \"ticks\": \"outside\"}}, \"type\": \"scattermapbox\"}], \"scatterpolar\": [{\"marker\": {\"colorbar\": {\"outlinewidth\": 1, \"tickcolor\": \"rgb(36,36,36)\", \"ticks\": \"outside\"}}, \"type\": \"scatterpolar\"}], \"scatterpolargl\": [{\"marker\": {\"colorbar\": {\"outlinewidth\": 1, \"tickcolor\": \"rgb(36,36,36)\", \"ticks\": \"outside\"}}, \"type\": \"scatterpolargl\"}], \"scatterternary\": [{\"marker\": {\"colorbar\": {\"outlinewidth\": 1, \"tickcolor\": \"rgb(36,36,36)\", \"ticks\": \"outside\"}}, \"type\": \"scatterternary\"}], \"surface\": [{\"colorbar\": {\"outlinewidth\": 1, \"tickcolor\": \"rgb(36,36,36)\", \"ticks\": \"outside\"}, \"colorscale\": [[0.0, \"#440154\"], [0.1111111111111111, \"#482878\"], [0.2222222222222222, \"#3e4989\"], [0.3333333333333333, \"#31688e\"], [0.4444444444444444, \"#26828e\"], [0.5555555555555556, \"#1f9e89\"], [0.6666666666666666, \"#35b779\"], [0.7777777777777778, \"#6ece58\"], [0.8888888888888888, \"#b5de2b\"], [1.0, \"#fde725\"]], \"type\": \"surface\"}], \"table\": [{\"cells\": {\"fill\": {\"color\": \"rgb(237,237,237)\"}, \"line\": {\"color\": \"white\"}}, \"header\": {\"fill\": {\"color\": \"rgb(217,217,217)\"}, \"line\": {\"color\": \"white\"}}, \"type\": \"table\"}]}, \"layout\": {\"annotationdefaults\": {\"arrowhead\": 0, \"arrowwidth\": 1}, \"autotypenumbers\": \"strict\", \"coloraxis\": {\"colorbar\": {\"outlinewidth\": 1, \"tickcolor\": \"rgb(36,36,36)\", \"ticks\": \"outside\"}}, \"colorscale\": {\"diverging\": [[0.0, \"rgb(103,0,31)\"], [0.1, \"rgb(178,24,43)\"], [0.2, \"rgb(214,96,77)\"], [0.3, \"rgb(244,165,130)\"], [0.4, \"rgb(253,219,199)\"], [0.5, \"rgb(247,247,247)\"], [0.6, \"rgb(209,229,240)\"], [0.7, \"rgb(146,197,222)\"], [0.8, \"rgb(67,147,195)\"], [0.9, \"rgb(33,102,172)\"], [1.0, \"rgb(5,48,97)\"]], \"sequential\": [[0.0, \"#440154\"], [0.1111111111111111, \"#482878\"], [0.2222222222222222, \"#3e4989\"], [0.3333333333333333, \"#31688e\"], [0.4444444444444444, \"#26828e\"], [0.5555555555555556, \"#1f9e89\"], [0.6666666666666666, \"#35b779\"], [0.7777777777777778, \"#6ece58\"], [0.8888888888888888, \"#b5de2b\"], [1.0, \"#fde725\"]], \"sequentialminus\": [[0.0, \"#440154\"], [0.1111111111111111, \"#482878\"], [0.2222222222222222, \"#3e4989\"], [0.3333333333333333, \"#31688e\"], [0.4444444444444444, \"#26828e\"], [0.5555555555555556, \"#1f9e89\"], [0.6666666666666666, \"#35b779\"], [0.7777777777777778, \"#6ece58\"], [0.8888888888888888, \"#b5de2b\"], [1.0, \"#fde725\"]]}, \"colorway\": [\"#1F77B4\", \"#FF7F0E\", \"#2CA02C\", \"#D62728\", \"#9467BD\", \"#8C564B\", \"#E377C2\", \"#7F7F7F\", \"#BCBD22\", \"#17BECF\"], \"font\": {\"color\": \"rgb(36,36,36)\"}, \"geo\": {\"bgcolor\": \"white\", \"lakecolor\": \"white\", \"landcolor\": \"white\", \"showlakes\": true, \"showland\": true, \"subunitcolor\": \"white\"}, \"hoverlabel\": {\"align\": \"left\"}, \"hovermode\": \"closest\", \"mapbox\": {\"style\": \"light\"}, \"paper_bgcolor\": \"white\", \"plot_bgcolor\": \"white\", \"polar\": {\"angularaxis\": {\"gridcolor\": \"rgb(232,232,232)\", \"linecolor\": \"rgb(36,36,36)\", \"showgrid\": false, \"showline\": true, \"ticks\": \"outside\"}, \"bgcolor\": \"white\", \"radialaxis\": {\"gridcolor\": \"rgb(232,232,232)\", \"linecolor\": \"rgb(36,36,36)\", \"showgrid\": false, \"showline\": true, \"ticks\": \"outside\"}}, \"scene\": {\"xaxis\": {\"backgroundcolor\": \"white\", \"gridcolor\": \"rgb(232,232,232)\", \"gridwidth\": 2, \"linecolor\": \"rgb(36,36,36)\", \"showbackground\": true, \"showgrid\": false, \"showline\": true, \"ticks\": \"outside\", \"zeroline\": false, \"zerolinecolor\": \"rgb(36,36,36)\"}, \"yaxis\": {\"backgroundcolor\": \"white\", \"gridcolor\": \"rgb(232,232,232)\", \"gridwidth\": 2, \"linecolor\": \"rgb(36,36,36)\", \"showbackground\": true, \"showgrid\": false, \"showline\": true, \"ticks\": \"outside\", \"zeroline\": false, \"zerolinecolor\": \"rgb(36,36,36)\"}, \"zaxis\": {\"backgroundcolor\": \"white\", \"gridcolor\": \"rgb(232,232,232)\", \"gridwidth\": 2, \"linecolor\": \"rgb(36,36,36)\", \"showbackground\": true, \"showgrid\": false, \"showline\": true, \"ticks\": \"outside\", \"zeroline\": false, \"zerolinecolor\": \"rgb(36,36,36)\"}}, \"shapedefaults\": {\"fillcolor\": \"black\", \"line\": {\"width\": 0}, \"opacity\": 0.3}, \"ternary\": {\"aaxis\": {\"gridcolor\": \"rgb(232,232,232)\", \"linecolor\": \"rgb(36,36,36)\", \"showgrid\": false, \"showline\": true, \"ticks\": \"outside\"}, \"baxis\": {\"gridcolor\": \"rgb(232,232,232)\", \"linecolor\": \"rgb(36,36,36)\", \"showgrid\": false, \"showline\": true, \"ticks\": \"outside\"}, \"bgcolor\": \"white\", \"caxis\": {\"gridcolor\": \"rgb(232,232,232)\", \"linecolor\": \"rgb(36,36,36)\", \"showgrid\": false, \"showline\": true, \"ticks\": \"outside\"}}, \"title\": {\"x\": 0.05}, \"xaxis\": {\"automargin\": true, \"gridcolor\": \"rgb(232,232,232)\", \"linecolor\": \"rgb(36,36,36)\", \"showgrid\": false, \"showline\": true, \"ticks\": \"outside\", \"title\": {\"standoff\": 15}, \"zeroline\": false, \"zerolinecolor\": \"rgb(36,36,36)\"}, \"yaxis\": {\"automargin\": true, \"gridcolor\": \"rgb(232,232,232)\", \"linecolor\": \"rgb(36,36,36)\", \"showgrid\": false, \"showline\": true, \"ticks\": \"outside\", \"title\": {\"standoff\": 15}, \"zeroline\": false, \"zerolinecolor\": \"rgb(36,36,36)\"}}}, \"title\": {\"text\": \"\\u8a71\\u8005\\u3054\\u3068\\u306eValence\\u306e\\u5206\\u5e03\"}, \"xaxis\": {\"anchor\": \"y\", \"domain\": [0.0, 1.0], \"title\": {\"text\": \"speaker\"}}, \"yaxis\": {\"anchor\": \"x\", \"domain\": [0.0, 1.0], \"range\": [-1, 1], \"title\": {\"text\": \"valence\"}}},                        {\"responsive\": true}                    ).then(function(){\n",
       "                            \n",
       "var gd = document.getElementById('3c2b0a8b-851e-41f3-9295-bb0a98a6ef42');\n",
       "var x = new MutationObserver(function (mutations, observer) {{\n",
       "        var display = window.getComputedStyle(gd).display;\n",
       "        if (!display || display === 'none') {{\n",
       "            console.log([gd, 'removed!']);\n",
       "            Plotly.purge(gd);\n",
       "            observer.disconnect();\n",
       "        }}\n",
       "}});\n",
       "\n",
       "// Listen for the removal of the full notebook cells\n",
       "var notebookContainer = gd.closest('#notebook-container');\n",
       "if (notebookContainer) {{\n",
       "    x.observe(notebookContainer, {childList: true});\n",
       "}}\n",
       "\n",
       "// Listen for the clearing of the current output cell\n",
       "var outputEl = gd.closest('.output');\n",
       "if (outputEl) {{\n",
       "    x.observe(outputEl, {childList: true});\n",
       "}}\n",
       "\n",
       "                        })                };                });            </script>        </div>"
      ]
     },
     "metadata": {},
     "output_type": "display_data"
    }
   ],
   "source": [
    "fig = px.box(df_train.sort_values(\"speaker\"), x='speaker', y='valence', template=\"simple_white\", title=\"話者ごとのValenceの分布\")\n",
    "fig.update_yaxes(range=[-1, 1])\n",
    "fig.show()"
   ]
  },
  {
   "cell_type": "markdown",
   "metadata": {},
   "source": [
    "## Train"
   ]
  },
  {
   "cell_type": "code",
   "execution_count": 162,
   "metadata": {},
   "outputs": [],
   "source": [
    "le = LabelEncoder()\n",
    "speakers = le.fit_transform(df_train.speaker.values)\n",
    "y_arousal = df_train.arousal.values\n",
    "y_valence = df_train.valence.values"
   ]
  },
  {
   "cell_type": "code",
   "execution_count": 163,
   "metadata": {},
   "outputs": [],
   "source": [
    "def plot_cv_indices(cv, X, y, group, ax, n_splits, lw=10):\n",
    "    \"\"\"Create a sample plot for indices of a cross-validation object.\"\"\"\n",
    "\n",
    "    # Generate the training/testing visualizations for each CV split\n",
    "    for ii, (tr, tt) in enumerate(cv.split(X=X, y=y, groups=group)):\n",
    "        # Fill in indices with the training/test groups\n",
    "        indices = np.array([np.nan] * len(X))\n",
    "        indices[tt] = 1\n",
    "        indices[tr] = 0\n",
    "\n",
    "        # Visualize the results\n",
    "        ax.scatter(range(len(indices)), [ii + .5] * len(indices),\n",
    "                   c=indices, marker='_', lw=lw, cmap=cmap_cv, linewidth = 15,\n",
    "                   vmin=-.2, vmax=1.2)\n",
    "\n",
    "    # Plot the data classes and groups at the end\n",
    "#     ax.scatter(range(len(X)), [ii + 1.5] * len(X),\n",
    "#                c=y, marker='_', lw=lw, cmap=cmap_data, linewidth = 15,)\n",
    "\n",
    "    ax.scatter(range(len(X)), [ii + 2.5] * len(X),\n",
    "               c=group, marker='_', lw=lw, cmap=cmap_data, linewidth = 15)\n",
    "    \n",
    "    ax.legend([Patch(color=cmap_cv(.8)), Patch(color=cmap_cv(.02))],\n",
    "              ['Testing set', 'Training set'], loc=(1.02, .8))\n",
    "\n",
    "    # Formatting\n",
    "    # yticklabels = list(range(n_splits)) + ['class', 'group']\n",
    "    yticklabels = list(range(n_splits)) + ['', 'group']\n",
    "    ax.set(yticks=np.arange(n_splits+2) + .5, yticklabels=yticklabels,\n",
    "           xlabel='Sample index', ylabel=\"CV iteration\",\n",
    "           ylim=[n_splits+2.2, -.2], xlim=[0, len(group)])\n",
    "    ax.set_title('{}'.format(type(cv).__name__), fontsize=15)\n",
    "    return ax"
   ]
  },
  {
   "cell_type": "code",
   "execution_count": 164,
   "metadata": {},
   "outputs": [
    {
     "data": {
      "text/plain": [
       "<AxesSubplot:title={'center':'StratifiedKFold'}, xlabel='Sample index', ylabel='CV iteration'>"
      ]
     },
     "execution_count": 164,
     "metadata": {},
     "output_type": "execute_result"
    },
    {
     "data": {
      "image/png": "[encoded data removed]",
      "text/plain": [
       "<Figure size 2160x360 with 1 Axes>"
      ]
     },
     "metadata": {
      "needs_background": "light"
     },
     "output_type": "display_data"
    }
   ],
   "source": [
    "# Group K-fold\n",
    "fig, ax = plt.subplots(figsize=(30.0, 5.0))\n",
    "skf = StratifiedKFold(n_splits=5, random_state=RANDOM_SEED, shuffle=True)\n",
    "plot_cv_indices(skf, X, speakers, speakers, ax, 5)"
   ]
  },
  {
   "cell_type": "code",
   "execution_count": 165,
   "metadata": {},
   "outputs": [],
   "source": [
    "# svr = SVR(kernel = \"rbf\",gamma = 1,C=100,epsilon = 0)\n",
    "# cross_validate(svr,X,y_arousal,scoring=\"r2\",cv=gkf, groups=speakers)\n",
    "\n",
    "train_scores = []\n",
    "valid_scores = []\n",
    "oof_preds = np.zeros(len(X))\n",
    "\n",
    "v_train_scores = []\n",
    "v_valid_scores = []\n",
    "v_oof_preds = np.zeros(len(X))\n",
    "\n",
    "# arousal\n",
    "for train_idx, val_idx in skf.split(X, speakers):\n",
    "    svr = SVR(kernel = \"rbf\")\n",
    "    X_train = X[train_idx]\n",
    "    y_train = y_arousal[train_idx]\n",
    "    X_valid = X[val_idx]\n",
    "    y_valid = y_arousal[val_idx]   \n",
    "\n",
    "    # fit\n",
    "    svr.fit(X_train, y_train)\n",
    "    \n",
    "    # train\n",
    "    train_pred = svr.predict(X_train)\n",
    "    train_score = mean_absolute_error(y_train, train_pred)\n",
    "    \n",
    "    # valid\n",
    "    oof_pred = svr.predict(X_valid)\n",
    "    valid_score = mean_absolute_error(y_valid, oof_pred)\n",
    "    \n",
    "    # return\n",
    "    train_scores.append(train_score)\n",
    "    valid_scores.append(valid_score)\n",
    "    oof_preds[val_idx] = oof_pred\n",
    "    \n",
    "# valence\n",
    "for train_idx, val_idx in skf.split(X, speakers):\n",
    "    svr = SVR(kernel = \"rbf\")\n",
    "    X_train = X[train_idx]\n",
    "    y_train = y_valence[train_idx]\n",
    "    X_valid = X[val_idx]\n",
    "    y_valid = y_valence[val_idx]   \n",
    "\n",
    "    # fit\n",
    "    svr.fit(X_train, y_train)\n",
    "    \n",
    "    # train\n",
    "    train_pred = svr.predict(X_train)\n",
    "    train_score = mean_absolute_error(y_train, train_pred)\n",
    "    \n",
    "    # valid\n",
    "    oof_pred = svr.predict(X_valid)\n",
    "    valid_score = mean_absolute_error(y_valid, oof_pred)\n",
    "    \n",
    "    # return\n",
    "    v_train_scores.append(train_score)\n",
    "    v_valid_scores.append(valid_score)\n",
    "    v_oof_preds[val_idx] = oof_pred"
   ]
  },
  {
   "cell_type": "code",
   "execution_count": 175,
   "metadata": {},
   "outputs": [
    {
     "name": "stdout",
     "output_type": "stream",
     "text": [
      "0.10921233811102496\n",
      "0.11508346948309103\n"
     ]
    }
   ],
   "source": [
    "print(np.mean(train_scores))\n",
    "print(np.mean(valid_scores))"
   ]
  },
  {
   "cell_type": "code",
   "execution_count": 176,
   "metadata": {},
   "outputs": [
    {
     "name": "stdout",
     "output_type": "stream",
     "text": [
      "0.0875932411533776\n",
      "0.09166841793857786\n"
     ]
    }
   ],
   "source": [
    "print(np.mean(v_train_scores))\n",
    "print(np.mean(v_valid_scores))"
   ]
  },
  {
   "cell_type": "code",
   "execution_count": 174,
   "metadata": {},
   "outputs": [
    {
     "data": {
      "text/plain": [
       "0.10921233811102496"
      ]
     },
     "execution_count": 174,
     "metadata": {},
     "output_type": "execute_result"
    }
   ],
   "source": [
    "np.mean(train_scores)\n",
    "np.mean(valid_scores)\n"
   ]
  },
  {
   "cell_type": "code",
   "execution_count": 173,
   "metadata": {},
   "outputs": [
    {
     "data": {
      "application/vnd.plotly.v1+json": {
       "config": {
        "plotlyServerURL": "https://plot.ly"
       },
       "data": [
        {
         "mode": "lines",
         "name": "pred",
         "type": "scatter",
         "y": [
          0.0019937104461471566,
          0.012794730114962738,
          -0.026231101642578247,
          -0.08434250172137242,
          -0.0036915248985480154,
          -0.12933342859887131,
          -0.15964493051984813,
          -0.015764044005018962,
          0.024026011859979268,
          -0.18843686496974232,
          -0.17453002649707594,
          -0.05493075452388113,
          0.05028393306018014,
          -0.1442557868864689,
          0.0623627507690534,
          -0.13795128653148014,
          0.001674154924993454,
          -0.1475646498730469,
          0.004898076198726065,
          -0.008947059536696667,
          -0.08489598020630684,
          0.04595940070758597,
          0.04929120623162725,
          0.03766511701297365,
          -0.0482819621130266,
          -0.014167628374740615,
          0.052312269204549566,
          -0.03646735992494354,
          -0.019478242173784188,
          -0.09477964757854951,
          -0.029175840785748086,
          -0.08246329120981938,
          -0.02885464512132757,
          -0.14193400221202268,
          -0.09710250764383788,
          -0.016802284828723257,
          -0.02410708002070605,
          -0.08388635022298829,
          -0.07256709729937305,
          -0.09397813541533712,
          -0.1825863557313323,
          -0.028169148499633756,
          -0.09101668705407306,
          -0.14444081708045867,
          -0.0745148424792248,
          -0.3009387533074967,
          -0.016774410636515413,
          -0.05266474035033225,
          -0.027471752965916196,
          0.02752920380818391,
          -0.13491900085181974,
          -0.05814315129706327,
          0.0011459241669075637,
          -0.05065479838866882,
          -0.06009035908838767,
          0.026126677124026665,
          0.016093530135878054,
          -0.053527860520472925,
          0.02028850213155098,
          -0.05199789492646506,
          0.04436000329936779,
          -0.1665834442169688,
          -0.12586355152722223,
          -0.12876623930523978,
          -0.04482160041679406,
          -0.1486370001556428,
          -0.00162013236693892,
          -0.10874394579024199,
          -0.1588403986742879,
          -0.16296991250773152,
          -0.036520051736438686,
          0.04985020889957026,
          0.045228451715435714,
          -0.1756680989995364,
          0.04651864846666531,
          -0.0842247107416133,
          0.05657459660637887,
          -0.03189401119573537,
          -0.09943510001822342,
          0.055554615143555974,
          -0.041867547047167775,
          -0.10630132629103112,
          0.06439297649788994,
          -0.12961262736773232,
          -0.1521438957275344,
          0.02854892273596127,
          0.042808561949782276,
          0.00797645548957776,
          0.022992463214876913,
          0.0029022248083389046,
          -0.022481880376956254,
          -0.055100045998480285,
          0.044116415211402304,
          -0.16675158363526354,
          0.03285974028413313,
          -0.02621942515682113,
          -0.01999434338318473,
          0.06905779824194003,
          -0.14756291415787853,
          -0.12615594106367967,
          -0.04945409246544896,
          -0.16045280647378712,
          -0.08374355226317659,
          -0.005383596684449432,
          0.020119572467623303,
          -0.16941387407070285,
          0.0467315367306087,
          -0.1724007988589219,
          -0.06280391581178285,
          -0.10185728475411804,
          -0.05951309280596179,
          -0.14594540407561973,
          -0.1873224511216685,
          -0.17979064577430248,
          -0.09343924944835086,
          0.054494204730410056,
          0.014721739624756924,
          -0.14375948093932717,
          -0.12073416215660066,
          -0.0008636932479679782,
          0.05327372566247979,
          0.026425144638787756,
          0.05809229763253093,
          -0.017906794259601955,
          -0.013382110625404064,
          -0.12498311581018806,
          0.07141807052856708,
          0.04709985078380036,
          0.000708354887751006,
          -0.14690087190492962,
          -0.0004926629727470266,
          0.048041113217509535,
          0.014368977299013153,
          0.04116183707969079,
          0.05015244914862477,
          -0.009105576855157504,
          -0.036399753425582104,
          0.018344672075014556,
          -0.060168238345313874,
          0.031505645471093024,
          -0.15411004220104135,
          -0.03518090882183783,
          -0.14636948453977006,
          -0.08615995071235427,
          -0.07054003068227122,
          0.07268730603262474,
          -0.1214540383684487,
          -0.04938292994145865,
          -0.020083679583379144,
          -0.12661041791279315,
          -0.16330830341160862,
          0.037336616425830416,
          0.06772282829022419,
          -0.052792329082136824,
          -0.175592992436577,
          -0.1612573629516188,
          -0.01732023797125054,
          -0.05131371244486799,
          0.012480052945344544,
          -0.030742957925712133,
          0.0361722371474722,
          -0.17516638277895263,
          -0.00701473167429667,
          -0.013511690108601537,
          0.048072110932124046,
          -0.06774586568658908,
          -0.17218750670922212,
          0.015808597690406323,
          -0.06617357827557552,
          -0.18903039490296775,
          0.06335816084105722,
          0.03230483313275012,
          0.06568969767597782,
          -0.04241911502032081,
          0.03502251014236657,
          -0.07082010382453918,
          -0.08329311361052916,
          -0.01982995978684915,
          -0.0200548609414839,
          0.05713548487598663,
          0.050007681403854365,
          0.012668593550012042,
          -0.1372128870280585,
          -0.06372389299297015,
          -0.056864658197964324,
          0.0521215591279649,
          -0.14977829185826952,
          -0.14960789424454501,
          -0.17673091177613642,
          -0.10358263952634433,
          -0.026133524375237083,
          0.007141961474689262,
          0.0335001382421139,
          -0.14460643306819454,
          0.005646249242552359,
          0.08177226955405034,
          -0.07612128876894708,
          0.020774795535302648,
          -0.17837912899399455,
          -0.16433113592172283,
          -0.06882297718923863,
          -0.09651915361342012,
          -0.12309919974494771,
          0.05569468996264282,
          -0.11539454583025832,
          -0.05494427266035112,
          0.016191319635111112,
          -0.04182141549258478,
          -0.07849589097310156,
          -0.17562324617841218,
          0.03007572367955108,
          -0.06107455720003374,
          -0.17759824952897718,
          0.028858116339203155,
          -0.16431293150025017,
          -0.19639057259515869,
          0.05493763772931831,
          -0.07050556673340774,
          -0.16898313613170746,
          -0.06252174185302006,
          -0.1312607762868307,
          -0.009687461172606937,
          -0.04538611924435154,
          -0.006382952360943106,
          -0.1750026047719685,
          0.05621545570119252,
          -0.005269286151606545,
          -0.1647940043897832,
          -0.06053199081175148,
          -0.15047016409811004,
          -0.0071869426451874885,
          -0.06904024660758606,
          -0.0349931019844002,
          0.0064025642736450505,
          0.012948523996757888,
          0.05925420526122033,
          -0.018127483006406098,
          -0.028235993718370545,
          -0.13725229051211563,
          -0.07367753573988423,
          -0.003185447262464114,
          -0.12177545830960884,
          -0.17046840469540853,
          -0.16873983303135598,
          0.05623750406292943,
          -0.16027809023617084,
          -0.024092084385780477,
          -0.0689504061680945,
          -0.08704549309056792,
          0.01912597473062616,
          -0.07052262679459825,
          0.007781905908806508,
          -0.021976731639339275,
          -0.04063778917829841,
          -0.016647720809024658,
          0.053539429628738366,
          0.05795149307002495,
          -0.05642076116707989,
          0.02829922130937851,
          -0.1553285863201278,
          -0.12306736436152454,
          0.04354043423719006,
          0.05571610807537053,
          -0.1567315569729471,
          0.025504419970712067,
          -0.11172444499538359,
          0.05322435482148391,
          0.04190988269367235,
          -0.06150245885349148,
          -0.045735904325679144,
          -0.10887927451547644,
          0.055909886385610785,
          -0.004358329914304515,
          -0.1366815466931547,
          0.019783641919776385,
          0.019673755373155466,
          -0.0687585262055182,
          -0.15935693178623972,
          -0.1307729127885225,
          -0.03352736924071309,
          0.06144265101542201,
          0.04491948111408273,
          -0.13561694839175847,
          0.01994727403530644,
          -0.14402295165309076,
          -0.0645752348558645,
          -0.1746516908049202,
          0.006392866447379131,
          -0.16713136992866168,
          -0.17797602570834326,
          0.023301794943321352,
          -0.12379840534749231,
          0.027130081108376447,
          0.003209255665933719,
          -0.17499098267016244,
          -0.09069283576129375,
          -0.07331203062361008,
          -0.17934348244765475,
          -0.003591600585116872,
          -0.17120994664385747,
          -0.09826530908645659,
          -0.00859579515446296,
          -0.02548201811193676,
          -0.117119741439831,
          -0.05772449840327787,
          -0.0025030608902376905,
          -0.15219432766310326,
          -0.08376723032530836,
          -0.08176263903589653,
          -0.16774853427583925,
          -0.18251572280397171,
          -0.12723174581544772,
          0.06387797832424469,
          0.030131353329491517,
          -0.14200574946987687,
          0.01211050906139527,
          -0.03605961694087895,
          0.005653938990885565,
          -0.006087694709874747,
          0.07195075217318314,
          -0.0024720783639246013,
          -0.10479502003861996,
          -0.029182498554939318,
          -0.04812432619872359,
          0.03271264151590636,
          -0.014553557996294375,
          0.047814363833213525,
          -0.09807248434217469,
          0.03776831928428115,
          -0.08620338469457661,
          -0.16498325885962617,
          -0.013114966418620921,
          0.028823741705092387,
          0.0301055508479669,
          0.023412487581847663,
          -0.12194180464916127,
          0.04030492554418902,
          -0.08815406236455242,
          -0.16049633356564408,
          -0.07070995758684742,
          -0.04174452503800746,
          0.024315222143079906,
          -0.042874883410265685,
          -0.027626396127804376,
          0.0346419837619219,
          -0.040634706479375726,
          0.019983639054961366,
          0.04062402777973123,
          -0.17263181023991545,
          0.06084943874713722,
          0.02610555187361724,
          -0.10291778530904705,
          0.06515919649978641,
          0.016981930908353426,
          0.0015737107418932195,
          -0.022995661439215442,
          -0.15540390635547757,
          0.060771815325447454,
          0.0074845872657594015,
          -0.09499615669366651,
          -0.017021209405401916,
          0.05945035869502402,
          -0.06340077914613956,
          -0.024772388094587705,
          0.04557536441577431,
          -0.13488112229542454,
          -0.11129623033258468,
          -0.0814089838258151,
          -0.133666243031637,
          -0.176015093368994,
          -0.16221708467449392,
          -0.15596789177584186,
          -0.14970499677160715,
          -0.10456989408357359,
          -0.1712929736528031,
          0.00693417618726061,
          0.045068748182107765,
          -0.1542713651185913,
          -0.16103342632757145,
          -0.17135437271282938,
          -0.11301565129550817,
          0.03989208716056436,
          -0.04115897175882188,
          0.04295388823537316,
          0.05007404314018926,
          -0.11170165979797547,
          -0.013667919540741702,
          0.02729478520596429,
          -0.11313007774668621,
          -0.14812596641658266,
          -0.17015836988573418,
          0.03309389622236353,
          -0.17350887900450235,
          -0.11744215344228492,
          -0.10781553620509748,
          -0.0883281327020276,
          0.029280052374814125,
          0.04772695432984431,
          -0.14353955375047917,
          -0.12533426584237412,
          -0.17365452407404203,
          0.010830907811696378,
          0.029264960543052165,
          0.010033127806648223,
          -0.16031759830575504,
          -0.19431309384641077,
          -0.03344328577582045,
          0.07003818288582608,
          0.06460923861466994,
          -0.03171504693952698,
          -0.16465613346503544,
          -0.029650985527350904,
          0.04687396912461589,
          0.0026373830223967443,
          -0.09195981861712554,
          0.03600271593510773,
          -0.08790195925473204,
          -0.15529714740217238,
          0.05183639530996853,
          0.0018245916137623608,
          0.007586329033988037,
          0.06226800825208045,
          -0.16485096025088847,
          0.060360436589357136,
          0.044485006377407044,
          -0.07679276197640034,
          -0.02158609331839917
         ]
        },
        {
         "mode": "lines",
         "name": "label",
         "type": "scatter",
         "y": [
          0.008319166197183099,
          0.19063200909090908,
          -0.1912318412698412,
          -0.2537585,
          0.13472776809437387,
          0.14053992256578945,
          -0.232925,
          -0.006723925514705889,
          0.1579426974657534,
          -0.2145915,
          -0.2395915,
          -0.19101041621621626,
          0.1571045773232353,
          -0.0012091513823529409,
          0.06790172443089433,
          -0.0011620098076923064,
          -0.053591505485714286,
          -0.09343765282051283,
          0.012131090798657708,
          0.016265194630841157,
          0.0050181059090090106,
          0.10677740966589323,
          0.0617429983776224,
          0.026457881276851853,
          -0.2935582889298893,
          -0.25561488947368416,
          -0.0017454450647058821,
          0.02432107796116505,
          0.055615012758620685,
          -0.23248407647058825,
          -0.07173019516129034,
          0.027480528010301503,
          -0.021114333140495867,
          0.09363946875,
          -0.09445936013986016,
          -0.06775939,
          -0.1784207711111111,
          -0.10684663685185186,
          -0.07729253815789472,
          -0.059304842292035385,
          -0.075902188,
          -0.258652190625,
          -0.17661788235294118,
          -0.14148950476190475,
          -0.16866287333333332,
          -0.2087483384615384,
          -0.17309664924242424,
          0.05478746804827587,
          -0.1354577529824561,
          -0.14341668521739126,
          -0.14163831104166666,
          0.003193050714285714,
          -0.2380272083333333,
          -0.16258336913043478,
          0.03911607872164384,
          -0.03220291225,
          0.01886125206451613,
          -0.13847362785714287,
          0.005492549447368422,
          0.07445586102870815,
          0.0755130476056338,
          -0.18099489473684213,
          -0.25353164,
          0.0028450305401459914,
          -0.31389339705882346,
          -0.2639261666666667,
          -0.34486512,
          0.17772627289719625,
          -0.36031525,
          -0.3239459285714287,
          -0.11768811260869565,
          0.2216772454661257,
          0.2299924451229509,
          -0.041731604,
          -0.26196817419354834,
          0.08053824009774438,
          0.17417849315068493,
          0.06946701512,
          -0.3722702564102564,
          0.18837459822840408,
          -0.238669775,
          -0.3055031025,
          0.1073319871831294,
          -0.2068950703703704,
          -0.1396023030952381,
          0.15314243870075972,
          0.017871899199999996,
          0.16891442761658032,
          0.2874204157534247,
          0.20967087789473685,
          0.0035848639999999992,
          0.028393,
          0.14319892512820515,
          -0.0008153330000000003,
          -0.04531227504587156,
          0.11938225925925924,
          0.1112516814814815,
          0.11514173059581323,
          0.008342564684210527,
          -0.07131785795454545,
          -0.09955018272727276,
          -0.14624390542857146,
          -0.030059984004587162,
          0.17326716391304348,
          0.0510036309137931,
          -0.06859310866666668,
          -0.019729619022857137,
          -0.06281533,
          -0.06501782546728972,
          -0.023704219233333337,
          -0.01925977447619048,
          0.08877441846153848,
          -0.13356535,
          -0.2098153,
          -0.2278922632692308,
          0.05827729364131627,
          0.003413836468750005,
          0.07468467100000001,
          -0.0972681641509434,
          -0.02150322586751593,
          0.08358953550387598,
          0.18926134803921574,
          0.12387307995606328,
          0.12766553049327353,
          0.20241433255813954,
          0.014302580147058822,
          0.2311180778053317,
          0.16890417008547007,
          0.07596487495862067,
          0.09539427270072992,
          0.1468991654716981,
          0.15756450477815698,
          0.1741248790645161,
          0.12326531708029195,
          0.1145345503105812,
          0.20494867070312495,
          0.024694750291666668,
          -0.03156850909090909,
          -0.2198212,
          -0.16310287127882597,
          -0.17835211111111113,
          -0.22641375555555554,
          -0.2480345806451613,
          -0.23526573684210525,
          -0.29259895,
          -0.09610122626683937,
          -0.053625141214062484,
          -0.31206577066666663,
          -0.2148059948275862,
          -0.2215620611111111,
          -0.3202657444444445,
          0.05614417685819071,
          -0.04399592558991596,
          -0.09431338857142857,
          -0.07665465583333335,
          -0.3918729142857143,
          -0.16514839545727697,
          -0.3038438552447553,
          -0.13732055946027394,
          -0.38457394150943386,
          -0.4243648655405405,
          -0.1898491,
          -0.06745530774901963,
          -0.20641898518190707,
          0.054420423947368415,
          -0.136011035,
          -0.13248312866666667,
          -0.07090754496644294,
          0.03118401690616622,
          -0.099927736,
          0.17295240879268292,
          0.355714229296875,
          0.2454202291666666,
          -0.014836791545454546,
          0.0804917747247191,
          0.044247977121621616,
          0.00799259191304348,
          0.11145025831693987,
          0.1065549959836066,
          0.0012884553310580187,
          -0.02370082429057592,
          0.02381423567741936,
          -0.12962213430555558,
          -0.2091591777777778,
          -0.012456466666666666,
          0.018203316,
          -0.06579728974358974,
          -0.2042405147058823,
          -0.25463275,
          -0.16057427996850393,
          -0.25137482857142857,
          -0.015265446240740738,
          0.08851883352818371,
          -0.178216,
          -0.3214468,
          -0.3277577625,
          -0.429448665116279,
          -0.3279027373732719,
          -0.24454946,
          -0.34866055,
          -0.2458290193548387,
          -0.1638314846153846,
          -0.21580340000000006,
          0.10373895141348316,
          0.05617714424606742,
          -0.10737850102564103,
          0.06408693078787879,
          0.1562556,
          0.08533944773333334,
          0.043283885,
          -0.07069193686412215,
          -0.11202983223882353,
          -0.028882781,
          0.035799542337558686,
          -0.2764967947368421,
          -0.020076,
          -0.07675892838522168,
          -0.19375622083333333,
          -0.2774567142857143,
          -0.028353435287777774,
          -0.2691273965517242,
          -0.041686315714285715,
          -0.08222807261306532,
          -0.01423844848837211,
          -0.05715899,
          -0.1645003644111675,
          0.09548885654301073,
          -0.3103388263157894,
          -0.3873534466666666,
          -0.2777227176470588,
          -0.25358806198347106,
          -0.045136266709090905,
          0.013767309347107442,
          -0.09289276902654868,
          0.010148220457711448,
          -0.021243813325892858,
          -0.07006312775939849,
          0.07502535242424242,
          0.11075767545454544,
          -0.13360980160156627,
          -0.04556005790078819,
          -0.16540899000000006,
          -0.16574234000000002,
          -0.015010235294117647,
          0.09266247647058824,
          -0.08530947684210526,
          0.0439800675,
          -0.0603324295125,
          -0.1743276423076923,
          0.09670206907259526,
          -0.1258001360869565,
          -0.08698584924561402,
          -0.19268091896551726,
          0.014947660453703703,
          -0.2547822824074074,
          0.09520108582972582,
          -0.021989066986772488,
          -0.023293971137019236,
          0.09855752090041492,
          0.02298007,
          -0.2439643694444445,
          -0.19440365610465116,
          0.02734533201168224,
          -0.13716701176470586,
          0.07688708822526316,
          -0.20204245540540536,
          -0.01218985988095238,
          0.13509486473383084,
          0.010620288684210529,
          0.008777552244444447,
          -0.06349447731192659,
          0.18213311084588646,
          0.14006261039819007,
          -0.22067796333333334,
          -0.06108106691472868,
          -0.020178792148756224,
          -0.21254159545454535,
          -0.16748749999999998,
          -0.1446964826527778,
          0.19349397850678726,
          0.0675082458257329,
          0.10649791495477384,
          -0.026091752310344832,
          -0.3676034131578947,
          -0.3436780000000001,
          -0.03859090123059701,
          0.12298869999999998,
          -0.011243065240625,
          -0.0451120693023256,
          0.17187756666666668,
          0.031858207272727264,
          -0.09194744411764703,
          -0.01591428396598639,
          0.07508875074626865,
          -0.3029523333333333,
          -0.32820229999999995,
          -0.2875358333333334,
          -0.3496785714285714,
          0.04847327529055692,
          -0.25320240000000005,
          -0.17300734905660375,
          -0.026440513204034587,
          -0.15724088829268293,
          -0.34374249999999995,
          -0.30753558000000003,
          -0.3872667806451613,
          -0.3001456641509433,
          -0.3708048269230769,
          -0.4040671216216216,
          -0.5095356200000001,
          -0.5480911666666667,
          -0.21470035057471265,
          0.004271217219012799,
          0.03558938942340427,
          0.025242164604166662,
          0.02266488523383459,
          -0.2034960525423729,
          -0.04633191330555556,
          -0.09747910322033897,
          0.09364101248686517,
          0.09891555241379307,
          0.017583204166666668,
          0.11423632255639095,
          0.02197450622147651,
          0.05774851471102661,
          0.03809326994690265,
          0.04927171701878172,
          0.2013757213875598,
          0.08957700844407585,
          -0.11394165936842103,
          -0.2695557,
          -0.37801867222222224,
          0.12063433154040044,
          0.1418139260833811,
          0.14543575426780628,
          0.013405851917307695,
          -0.1967346205882353,
          -0.1288322944680851,
          -0.2353334804597701,
          -0.014801065944444443,
          0.2500276361153847,
          0.18489160000000002,
          0.230539703125,
          0.14404904842105265,
          0.05308190746086957,
          0.190707,
          0.18335116794830367,
          0.2370291437823834,
          0.1835004615384615,
          0.15620093941484714,
          0.25482696666666665,
          0.0069460429976562505,
          0.04599794296353168,
          0.046588450421641794,
          0.12709899675199335,
          0.017516395079508203,
          -0.19080858611111112,
          0.10805714939305557,
          -0.14964865636363633,
          -0.1281023871891892,
          0.009574088691136821,
          0.17448050544338334,
          0.0804932546347826,
          0.1344619281690141,
          0.2362115424983028,
          -0.3100542777777778,
          -0.3180742230769231,
          -0.06611471938421051,
          -0.2574448636363636,
          -0.2788084909090909,
          -0.2279772108108108,
          -0.2359802333333333,
          -0.2826761157894737,
          0.1040197903603604,
          -0.04502062090909091,
          0.08454913708962264,
          0.15598859734795326,
          0.1850328588235294,
          -0.11403576666666665,
          -0.16031354,
          -0.21695242499999992,
          0.22379327661587986,
          0.30419952352941176,
          -0.01056529870967742,
          0.018417793093750003,
          0.12701992718446606,
          -0.026949628452380945,
          -0.008727016756198353,
          -0.13896020476190474,
          -0.19455824390243906,
          -0.3627697368421052,
          -0.08033915141025637,
          -0.149158625,
          -0.04951081812053571,
          -0.0493446702293578,
          0.0034583337350877234,
          -0.0955974640449438,
          -0.04119122311057692,
          0.01863375842105263,
          -0.17756139833333331,
          -0.12582528333333334,
          -0.0820203884496124,
          -0.02860054831428572,
          -0.1616472824489796,
          -0.15933477829268292,
          -0.0219364175,
          0.00977654708,
          -0.059977352600877186,
          -0.07755681676211452,
          -0.0970106689108911,
          -0.35003163928571424,
          -0.0859855573076923,
          0.09054069841269842,
          -0.2322021581395349,
          0.013185456550218343,
          0.07083337518309857,
          -0.16563811764705882,
          -0.17529945454545456,
          0.1366637383873538,
          0.16634641494252875,
          0.18995866092555916,
          0.15611613357527931,
          -0.3613383,
          0.11808264318627205,
          0.0018901577772020687,
          -0.04390387628623188,
          0.19645149855050506
         ]
        }
       ],
       "layout": {
        "autosize": true,
        "template": {
         "data": {
          "bar": [
           {
            "error_x": {
             "color": "#2a3f5f"
            },
            "error_y": {
             "color": "#2a3f5f"
            },
            "marker": {
             "line": {
              "color": "#E5ECF6",
              "width": 0.5
             }
            },
            "type": "bar"
           }
          ],
          "barpolar": [
           {
            "marker": {
             "line": {
              "color": "#E5ECF6",
              "width": 0.5
             }
            },
            "type": "barpolar"
           }
          ],
          "carpet": [
           {
            "aaxis": {
             "endlinecolor": "#2a3f5f",
             "gridcolor": "white",
             "linecolor": "white",
             "minorgridcolor": "white",
             "startlinecolor": "#2a3f5f"
            },
            "baxis": {
             "endlinecolor": "#2a3f5f",
             "gridcolor": "white",
             "linecolor": "white",
             "minorgridcolor": "white",
             "startlinecolor": "#2a3f5f"
            },
            "type": "carpet"
           }
          ],
          "choropleth": [
           {
            "colorbar": {
             "outlinewidth": 0,
             "ticks": ""
            },
            "type": "choropleth"
           }
          ],
          "contour": [
           {
            "colorbar": {
             "outlinewidth": 0,
             "ticks": ""
            },
            "colorscale": [
             [
              0,
              "#0d0887"
             ],
             [
              0.1111111111111111,
              "#46039f"
             ],
             [
              0.2222222222222222,
              "#7201a8"
             ],
             [
              0.3333333333333333,
              "#9c179e"
             ],
             [
              0.4444444444444444,
              "#bd3786"
             ],
             [
              0.5555555555555556,
              "#d8576b"
             ],
             [
              0.6666666666666666,
              "#ed7953"
             ],
             [
              0.7777777777777778,
              "#fb9f3a"
             ],
             [
              0.8888888888888888,
              "#fdca26"
             ],
             [
              1,
              "#f0f921"
             ]
            ],
            "type": "contour"
           }
          ],
          "contourcarpet": [
           {
            "colorbar": {
             "outlinewidth": 0,
             "ticks": ""
            },
            "type": "contourcarpet"
           }
          ],
          "heatmap": [
           {
            "colorbar": {
             "outlinewidth": 0,
             "ticks": ""
            },
            "colorscale": [
             [
              0,
              "#0d0887"
             ],
             [
              0.1111111111111111,
              "#46039f"
             ],
             [
              0.2222222222222222,
              "#7201a8"
             ],
             [
              0.3333333333333333,
              "#9c179e"
             ],
             [
              0.4444444444444444,
              "#bd3786"
             ],
             [
              0.5555555555555556,
              "#d8576b"
             ],
             [
              0.6666666666666666,
              "#ed7953"
             ],
             [
              0.7777777777777778,
              "#fb9f3a"
             ],
             [
              0.8888888888888888,
              "#fdca26"
             ],
             [
              1,
              "#f0f921"
             ]
            ],
            "type": "heatmap"
           }
          ],
          "heatmapgl": [
           {
            "colorbar": {
             "outlinewidth": 0,
             "ticks": ""
            },
            "colorscale": [
             [
              0,
              "#0d0887"
             ],
             [
              0.1111111111111111,
              "#46039f"
             ],
             [
              0.2222222222222222,
              "#7201a8"
             ],
             [
              0.3333333333333333,
              "#9c179e"
             ],
             [
              0.4444444444444444,
              "#bd3786"
             ],
             [
              0.5555555555555556,
              "#d8576b"
             ],
             [
              0.6666666666666666,
              "#ed7953"
             ],
             [
              0.7777777777777778,
              "#fb9f3a"
             ],
             [
              0.8888888888888888,
              "#fdca26"
             ],
             [
              1,
              "#f0f921"
             ]
            ],
            "type": "heatmapgl"
           }
          ],
          "histogram": [
           {
            "marker": {
             "colorbar": {
              "outlinewidth": 0,
              "ticks": ""
             }
            },
            "type": "histogram"
           }
          ],
          "histogram2d": [
           {
            "colorbar": {
             "outlinewidth": 0,
             "ticks": ""
            },
            "colorscale": [
             [
              0,
              "#0d0887"
             ],
             [
              0.1111111111111111,
              "#46039f"
             ],
             [
              0.2222222222222222,
              "#7201a8"
             ],
             [
              0.3333333333333333,
              "#9c179e"
             ],
             [
              0.4444444444444444,
              "#bd3786"
             ],
             [
              0.5555555555555556,
              "#d8576b"
             ],
             [
              0.6666666666666666,
              "#ed7953"
             ],
             [
              0.7777777777777778,
              "#fb9f3a"
             ],
             [
              0.8888888888888888,
              "#fdca26"
             ],
             [
              1,
              "#f0f921"
             ]
            ],
            "type": "histogram2d"
           }
          ],
          "histogram2dcontour": [
           {
            "colorbar": {
             "outlinewidth": 0,
             "ticks": ""
            },
            "colorscale": [
             [
              0,
              "#0d0887"
             ],
             [
              0.1111111111111111,
              "#46039f"
             ],
             [
              0.2222222222222222,
              "#7201a8"
             ],
             [
              0.3333333333333333,
              "#9c179e"
             ],
             [
              0.4444444444444444,
              "#bd3786"
             ],
             [
              0.5555555555555556,
              "#d8576b"
             ],
             [
              0.6666666666666666,
              "#ed7953"
             ],
             [
              0.7777777777777778,
              "#fb9f3a"
             ],
             [
              0.8888888888888888,
              "#fdca26"
             ],
             [
              1,
              "#f0f921"
             ]
            ],
            "type": "histogram2dcontour"
           }
          ],
          "mesh3d": [
           {
            "colorbar": {
             "outlinewidth": 0,
             "ticks": ""
            },
            "type": "mesh3d"
           }
          ],
          "parcoords": [
           {
            "line": {
             "colorbar": {
              "outlinewidth": 0,
              "ticks": ""
             }
            },
            "type": "parcoords"
           }
          ],
          "pie": [
           {
            "automargin": true,
            "type": "pie"
           }
          ],
          "scatter": [
           {
            "marker": {
             "colorbar": {
              "outlinewidth": 0,
              "ticks": ""
             }
            },
            "type": "scatter"
           }
          ],
          "scatter3d": [
           {
            "line": {
             "colorbar": {
              "outlinewidth": 0,
              "ticks": ""
             }
            },
            "marker": {
             "colorbar": {
              "outlinewidth": 0,
              "ticks": ""
             }
            },
            "type": "scatter3d"
           }
          ],
          "scattercarpet": [
           {
            "marker": {
             "colorbar": {
              "outlinewidth": 0,
              "ticks": ""
             }
            },
            "type": "scattercarpet"
           }
          ],
          "scattergeo": [
           {
            "marker": {
             "colorbar": {
              "outlinewidth": 0,
              "ticks": ""
             }
            },
            "type": "scattergeo"
           }
          ],
          "scattergl": [
           {
            "marker": {
             "colorbar": {
              "outlinewidth": 0,
              "ticks": ""
             }
            },
            "type": "scattergl"
           }
          ],
          "scattermapbox": [
           {
            "marker": {
             "colorbar": {
              "outlinewidth": 0,
              "ticks": ""
             }
            },
            "type": "scattermapbox"
           }
          ],
          "scatterpolar": [
           {
            "marker": {
             "colorbar": {
              "outlinewidth": 0,
              "ticks": ""
             }
            },
            "type": "scatterpolar"
           }
          ],
          "scatterpolargl": [
           {
            "marker": {
             "colorbar": {
              "outlinewidth": 0,
              "ticks": ""
             }
            },
            "type": "scatterpolargl"
           }
          ],
          "scatterternary": [
           {
            "marker": {
             "colorbar": {
              "outlinewidth": 0,
              "ticks": ""
             }
            },
            "type": "scatterternary"
           }
          ],
          "surface": [
           {
            "colorbar": {
             "outlinewidth": 0,
             "ticks": ""
            },
            "colorscale": [
             [
              0,
              "#0d0887"
             ],
             [
              0.1111111111111111,
              "#46039f"
             ],
             [
              0.2222222222222222,
              "#7201a8"
             ],
             [
              0.3333333333333333,
              "#9c179e"
             ],
             [
              0.4444444444444444,
              "#bd3786"
             ],
             [
              0.5555555555555556,
              "#d8576b"
             ],
             [
              0.6666666666666666,
              "#ed7953"
             ],
             [
              0.7777777777777778,
              "#fb9f3a"
             ],
             [
              0.8888888888888888,
              "#fdca26"
             ],
             [
              1,
              "#f0f921"
             ]
            ],
            "type": "surface"
           }
          ],
          "table": [
           {
            "cells": {
             "fill": {
              "color": "#EBF0F8"
             },
             "line": {
              "color": "white"
             }
            },
            "header": {
             "fill": {
              "color": "#C8D4E3"
             },
             "line": {
              "color": "white"
             }
            },
            "type": "table"
           }
          ]
         },
         "layout": {
          "annotationdefaults": {
           "arrowcolor": "#2a3f5f",
           "arrowhead": 0,
           "arrowwidth": 1
          },
          "autotypenumbers": "strict",
          "coloraxis": {
           "colorbar": {
            "outlinewidth": 0,
            "ticks": ""
           }
          },
          "colorscale": {
           "diverging": [
            [
             0,
             "#8e0152"
            ],
            [
             0.1,
             "#c51b7d"
            ],
            [
             0.2,
             "#de77ae"
            ],
            [
             0.3,
             "#f1b6da"
            ],
            [
             0.4,
             "#fde0ef"
            ],
            [
             0.5,
             "#f7f7f7"
            ],
            [
             0.6,
             "#e6f5d0"
            ],
            [
             0.7,
             "#b8e186"
            ],
            [
             0.8,
             "#7fbc41"
            ],
            [
             0.9,
             "#4d9221"
            ],
            [
             1,
             "#276419"
            ]
           ],
           "sequential": [
            [
             0,
             "#0d0887"
            ],
            [
             0.1111111111111111,
             "#46039f"
            ],
            [
             0.2222222222222222,
             "#7201a8"
            ],
            [
             0.3333333333333333,
             "#9c179e"
            ],
            [
             0.4444444444444444,
             "#bd3786"
            ],
            [
             0.5555555555555556,
             "#d8576b"
            ],
            [
             0.6666666666666666,
             "#ed7953"
            ],
            [
             0.7777777777777778,
             "#fb9f3a"
            ],
            [
             0.8888888888888888,
             "#fdca26"
            ],
            [
             1,
             "#f0f921"
            ]
           ],
           "sequentialminus": [
            [
             0,
             "#0d0887"
            ],
            [
             0.1111111111111111,
             "#46039f"
            ],
            [
             0.2222222222222222,
             "#7201a8"
            ],
            [
             0.3333333333333333,
             "#9c179e"
            ],
            [
             0.4444444444444444,
             "#bd3786"
            ],
            [
             0.5555555555555556,
             "#d8576b"
            ],
            [
             0.6666666666666666,
             "#ed7953"
            ],
            [
             0.7777777777777778,
             "#fb9f3a"
            ],
            [
             0.8888888888888888,
             "#fdca26"
            ],
            [
             1,
             "#f0f921"
            ]
           ]
          },
          "colorway": [
           "#636efa",
           "#EF553B",
           "#00cc96",
           "#ab63fa",
           "#FFA15A",
           "#19d3f3",
           "#FF6692",
           "#B6E880",
           "#FF97FF",
           "#FECB52"
          ],
          "font": {
           "color": "#2a3f5f"
          },
          "geo": {
           "bgcolor": "white",
           "lakecolor": "white",
           "landcolor": "#E5ECF6",
           "showlakes": true,
           "showland": true,
           "subunitcolor": "white"
          },
          "hoverlabel": {
           "align": "left"
          },
          "hovermode": "closest",
          "mapbox": {
           "style": "light"
          },
          "paper_bgcolor": "white",
          "plot_bgcolor": "#E5ECF6",
          "polar": {
           "angularaxis": {
            "gridcolor": "white",
            "linecolor": "white",
            "ticks": ""
           },
           "bgcolor": "#E5ECF6",
           "radialaxis": {
            "gridcolor": "white",
            "linecolor": "white",
            "ticks": ""
           }
          },
          "scene": {
           "xaxis": {
            "backgroundcolor": "#E5ECF6",
            "gridcolor": "white",
            "gridwidth": 2,
            "linecolor": "white",
            "showbackground": true,
            "ticks": "",
            "zerolinecolor": "white"
           },
           "yaxis": {
            "backgroundcolor": "#E5ECF6",
            "gridcolor": "white",
            "gridwidth": 2,
            "linecolor": "white",
            "showbackground": true,
            "ticks": "",
            "zerolinecolor": "white"
           },
           "zaxis": {
            "backgroundcolor": "#E5ECF6",
            "gridcolor": "white",
            "gridwidth": 2,
            "linecolor": "white",
            "showbackground": true,
            "ticks": "",
            "zerolinecolor": "white"
           }
          },
          "shapedefaults": {
           "line": {
            "color": "#2a3f5f"
           }
          },
          "ternary": {
           "aaxis": {
            "gridcolor": "white",
            "linecolor": "white",
            "ticks": ""
           },
           "baxis": {
            "gridcolor": "white",
            "linecolor": "white",
            "ticks": ""
           },
           "bgcolor": "#E5ECF6",
           "caxis": {
            "gridcolor": "white",
            "linecolor": "white",
            "ticks": ""
           }
          },
          "title": {
           "x": 0.05
          },
          "xaxis": {
           "automargin": true,
           "gridcolor": "white",
           "linecolor": "white",
           "ticks": "",
           "title": {
            "standoff": 15
           },
           "zerolinecolor": "white",
           "zerolinewidth": 2
          },
          "yaxis": {
           "automargin": true,
           "gridcolor": "white",
           "linecolor": "white",
           "ticks": "",
           "title": {
            "standoff": 15
           },
           "zerolinecolor": "white",
           "zerolinewidth": 2
          }
         }
        },
        "xaxis": {
         "autorange": true,
         "range": [
          0,
          426
         ]
        },
        "yaxis": {
         "autorange": true,
         "range": [
          -0.5983025775535301,
          0.40592564018373845
         ],
         "type": "linear"
        }
       }
      },
      "image/png": "[encoded data removed]",
      "text/html": [
       "<div>                            <div id=\"867860ab-2a5f-48f0-8fbe-f7ecd8abfe7b\" class=\"plotly-graph-div\" style=\"height:525px; width:100%;\"></div>            <script type=\"text/javascript\">                require([\"plotly\"], function(Plotly) {                    window.PLOTLYENV=window.PLOTLYENV || {};                                    if (document.getElementById(\"867860ab-2a5f-48f0-8fbe-f7ecd8abfe7b\")) {                    Plotly.newPlot(                        \"867860ab-2a5f-48f0-8fbe-f7ecd8abfe7b\",                        [{\"mode\": \"lines\", \"name\": \"pred\", \"type\": \"scatter\", \"y\": [0.0019937104461471566, 0.012794730114962738, -0.026231101642578247, -0.08434250172137242, -0.0036915248985480154, -0.12933342859887131, -0.15964493051984813, -0.015764044005018962, 0.024026011859979268, -0.18843686496974232, -0.17453002649707594, -0.05493075452388113, 0.05028393306018014, -0.1442557868864689, 0.0623627507690534, -0.13795128653148014, 0.001674154924993454, -0.1475646498730469, 0.004898076198726065, -0.008947059536696667, -0.08489598020630684, 0.04595940070758597, 0.04929120623162725, 0.03766511701297365, -0.0482819621130266, -0.014167628374740615, 0.052312269204549566, -0.03646735992494354, -0.019478242173784188, -0.09477964757854951, -0.029175840785748086, -0.08246329120981938, -0.02885464512132757, -0.14193400221202268, -0.09710250764383788, -0.016802284828723257, -0.02410708002070605, -0.08388635022298829, -0.07256709729937305, -0.09397813541533712, -0.1825863557313323, -0.028169148499633756, -0.09101668705407306, -0.14444081708045867, -0.0745148424792248, -0.3009387533074967, -0.016774410636515413, -0.05266474035033225, -0.027471752965916196, 0.02752920380818391, -0.13491900085181974, -0.05814315129706327, 0.0011459241669075637, -0.05065479838866882, -0.06009035908838767, 0.026126677124026665, 0.016093530135878054, -0.053527860520472925, 0.02028850213155098, -0.05199789492646506, 0.04436000329936779, -0.1665834442169688, -0.12586355152722223, -0.12876623930523978, -0.04482160041679406, -0.1486370001556428, -0.00162013236693892, -0.10874394579024199, -0.1588403986742879, -0.16296991250773152, -0.036520051736438686, 0.04985020889957026, 0.045228451715435714, -0.1756680989995364, 0.04651864846666531, -0.0842247107416133, 0.05657459660637887, -0.03189401119573537, -0.09943510001822342, 0.055554615143555974, -0.041867547047167775, -0.10630132629103112, 0.06439297649788994, -0.12961262736773232, -0.1521438957275344, 0.02854892273596127, 0.042808561949782276, 0.00797645548957776, 0.022992463214876913, 0.0029022248083389046, -0.022481880376956254, -0.055100045998480285, 0.044116415211402304, -0.16675158363526354, 0.03285974028413313, -0.02621942515682113, -0.01999434338318473, 0.06905779824194003, -0.14756291415787853, -0.12615594106367967, -0.04945409246544896, -0.16045280647378712, -0.08374355226317659, -0.005383596684449432, 0.020119572467623303, -0.16941387407070285, 0.0467315367306087, -0.1724007988589219, -0.06280391581178285, -0.10185728475411804, -0.05951309280596179, -0.14594540407561973, -0.1873224511216685, -0.17979064577430248, -0.09343924944835086, 0.054494204730410056, 0.014721739624756924, -0.14375948093932717, -0.12073416215660066, -0.0008636932479679782, 0.05327372566247979, 0.026425144638787756, 0.05809229763253093, -0.017906794259601955, -0.013382110625404064, -0.12498311581018806, 0.07141807052856708, 0.04709985078380036, 0.000708354887751006, -0.14690087190492962, -0.0004926629727470266, 0.048041113217509535, 0.014368977299013153, 0.04116183707969079, 0.05015244914862477, -0.009105576855157504, -0.036399753425582104, 0.018344672075014556, -0.060168238345313874, 0.031505645471093024, -0.15411004220104135, -0.03518090882183783, -0.14636948453977006, -0.08615995071235427, -0.07054003068227122, 0.07268730603262474, -0.1214540383684487, -0.04938292994145865, -0.020083679583379144, -0.12661041791279315, -0.16330830341160862, 0.037336616425830416, 0.06772282829022419, -0.052792329082136824, -0.175592992436577, -0.1612573629516188, -0.01732023797125054, -0.05131371244486799, 0.012480052945344544, -0.030742957925712133, 0.0361722371474722, -0.17516638277895263, -0.00701473167429667, -0.013511690108601537, 0.048072110932124046, -0.06774586568658908, -0.17218750670922212, 0.015808597690406323, -0.06617357827557552, -0.18903039490296775, 0.06335816084105722, 0.03230483313275012, 0.06568969767597782, -0.04241911502032081, 0.03502251014236657, -0.07082010382453918, -0.08329311361052916, -0.01982995978684915, -0.0200548609414839, 0.05713548487598663, 0.050007681403854365, 0.012668593550012042, -0.1372128870280585, -0.06372389299297015, -0.056864658197964324, 0.0521215591279649, -0.14977829185826952, -0.14960789424454501, -0.17673091177613642, -0.10358263952634433, -0.026133524375237083, 0.007141961474689262, 0.0335001382421139, -0.14460643306819454, 0.005646249242552359, 0.08177226955405034, -0.07612128876894708, 0.020774795535302648, -0.17837912899399455, -0.16433113592172283, -0.06882297718923863, -0.09651915361342012, -0.12309919974494771, 0.05569468996264282, -0.11539454583025832, -0.05494427266035112, 0.016191319635111112, -0.04182141549258478, -0.07849589097310156, -0.17562324617841218, 0.03007572367955108, -0.06107455720003374, -0.17759824952897718, 0.028858116339203155, -0.16431293150025017, -0.19639057259515869, 0.05493763772931831, -0.07050556673340774, -0.16898313613170746, -0.06252174185302006, -0.1312607762868307, -0.009687461172606937, -0.04538611924435154, -0.006382952360943106, -0.1750026047719685, 0.05621545570119252, -0.005269286151606545, -0.1647940043897832, -0.06053199081175148, -0.15047016409811004, -0.0071869426451874885, -0.06904024660758606, -0.0349931019844002, 0.0064025642736450505, 0.012948523996757888, 0.05925420526122033, -0.018127483006406098, -0.028235993718370545, -0.13725229051211563, -0.07367753573988423, -0.003185447262464114, -0.12177545830960884, -0.17046840469540853, -0.16873983303135598, 0.05623750406292943, -0.16027809023617084, -0.024092084385780477, -0.0689504061680945, -0.08704549309056792, 0.01912597473062616, -0.07052262679459825, 0.007781905908806508, -0.021976731639339275, -0.04063778917829841, -0.016647720809024658, 0.053539429628738366, 0.05795149307002495, -0.05642076116707989, 0.02829922130937851, -0.1553285863201278, -0.12306736436152454, 0.04354043423719006, 0.05571610807537053, -0.1567315569729471, 0.025504419970712067, -0.11172444499538359, 0.05322435482148391, 0.04190988269367235, -0.06150245885349148, -0.045735904325679144, -0.10887927451547644, 0.055909886385610785, -0.004358329914304515, -0.1366815466931547, 0.019783641919776385, 0.019673755373155466, -0.0687585262055182, -0.15935693178623972, -0.1307729127885225, -0.03352736924071309, 0.06144265101542201, 0.04491948111408273, -0.13561694839175847, 0.01994727403530644, -0.14402295165309076, -0.0645752348558645, -0.1746516908049202, 0.006392866447379131, -0.16713136992866168, -0.17797602570834326, 0.023301794943321352, -0.12379840534749231, 0.027130081108376447, 0.003209255665933719, -0.17499098267016244, -0.09069283576129375, -0.07331203062361008, -0.17934348244765475, -0.003591600585116872, -0.17120994664385747, -0.09826530908645659, -0.00859579515446296, -0.02548201811193676, -0.117119741439831, -0.05772449840327787, -0.0025030608902376905, -0.15219432766310326, -0.08376723032530836, -0.08176263903589653, -0.16774853427583925, -0.18251572280397171, -0.12723174581544772, 0.06387797832424469, 0.030131353329491517, -0.14200574946987687, 0.01211050906139527, -0.03605961694087895, 0.005653938990885565, -0.006087694709874747, 0.07195075217318314, -0.0024720783639246013, -0.10479502003861996, -0.029182498554939318, -0.04812432619872359, 0.03271264151590636, -0.014553557996294375, 0.047814363833213525, -0.09807248434217469, 0.03776831928428115, -0.08620338469457661, -0.16498325885962617, -0.013114966418620921, 0.028823741705092387, 0.0301055508479669, 0.023412487581847663, -0.12194180464916127, 0.04030492554418902, -0.08815406236455242, -0.16049633356564408, -0.07070995758684742, -0.04174452503800746, 0.024315222143079906, -0.042874883410265685, -0.027626396127804376, 0.0346419837619219, -0.040634706479375726, 0.019983639054961366, 0.04062402777973123, -0.17263181023991545, 0.06084943874713722, 0.02610555187361724, -0.10291778530904705, 0.06515919649978641, 0.016981930908353426, 0.0015737107418932195, -0.022995661439215442, -0.15540390635547757, 0.060771815325447454, 0.0074845872657594015, -0.09499615669366651, -0.017021209405401916, 0.05945035869502402, -0.06340077914613956, -0.024772388094587705, 0.04557536441577431, -0.13488112229542454, -0.11129623033258468, -0.0814089838258151, -0.133666243031637, -0.176015093368994, -0.16221708467449392, -0.15596789177584186, -0.14970499677160715, -0.10456989408357359, -0.1712929736528031, 0.00693417618726061, 0.045068748182107765, -0.1542713651185913, -0.16103342632757145, -0.17135437271282938, -0.11301565129550817, 0.03989208716056436, -0.04115897175882188, 0.04295388823537316, 0.05007404314018926, -0.11170165979797547, -0.013667919540741702, 0.02729478520596429, -0.11313007774668621, -0.14812596641658266, -0.17015836988573418, 0.03309389622236353, -0.17350887900450235, -0.11744215344228492, -0.10781553620509748, -0.0883281327020276, 0.029280052374814125, 0.04772695432984431, -0.14353955375047917, -0.12533426584237412, -0.17365452407404203, 0.010830907811696378, 0.029264960543052165, 0.010033127806648223, -0.16031759830575504, -0.19431309384641077, -0.03344328577582045, 0.07003818288582608, 0.06460923861466994, -0.03171504693952698, -0.16465613346503544, -0.029650985527350904, 0.04687396912461589, 0.0026373830223967443, -0.09195981861712554, 0.03600271593510773, -0.08790195925473204, -0.15529714740217238, 0.05183639530996853, 0.0018245916137623608, 0.007586329033988037, 0.06226800825208045, -0.16485096025088847, 0.060360436589357136, 0.044485006377407044, -0.07679276197640034, -0.02158609331839917]}, {\"mode\": \"lines\", \"name\": \"label\", \"type\": \"scatter\", \"y\": [0.008319166197183099, 0.19063200909090908, -0.1912318412698412, -0.2537585, 0.13472776809437387, 0.14053992256578945, -0.232925, -0.006723925514705889, 0.1579426974657534, -0.2145915, -0.2395915, -0.19101041621621626, 0.1571045773232353, -0.0012091513823529409, 0.06790172443089433, -0.0011620098076923064, -0.053591505485714286, -0.09343765282051283, 0.012131090798657708, 0.016265194630841157, 0.0050181059090090106, 0.10677740966589323, 0.0617429983776224, 0.026457881276851853, -0.2935582889298893, -0.25561488947368416, -0.0017454450647058821, 0.02432107796116505, 0.055615012758620685, -0.23248407647058825, -0.07173019516129034, 0.027480528010301503, -0.021114333140495867, 0.09363946875, -0.09445936013986016, -0.06775939, -0.1784207711111111, -0.10684663685185186, -0.07729253815789472, -0.059304842292035385, -0.075902188, -0.258652190625, -0.17661788235294118, -0.14148950476190475, -0.16866287333333332, -0.2087483384615384, -0.17309664924242424, 0.05478746804827587, -0.1354577529824561, -0.14341668521739126, -0.14163831104166666, 0.003193050714285714, -0.2380272083333333, -0.16258336913043478, 0.03911607872164384, -0.03220291225, 0.01886125206451613, -0.13847362785714287, 0.005492549447368422, 0.07445586102870815, 0.0755130476056338, -0.18099489473684213, -0.25353164, 0.0028450305401459914, -0.31389339705882346, -0.2639261666666667, -0.34486512, 0.17772627289719625, -0.36031525, -0.3239459285714287, -0.11768811260869565, 0.2216772454661257, 0.2299924451229509, -0.041731604, -0.26196817419354834, 0.08053824009774438, 0.17417849315068493, 0.06946701512, -0.3722702564102564, 0.18837459822840408, -0.238669775, -0.3055031025, 0.1073319871831294, -0.2068950703703704, -0.1396023030952381, 0.15314243870075972, 0.017871899199999996, 0.16891442761658032, 0.2874204157534247, 0.20967087789473685, 0.0035848639999999992, 0.028393, 0.14319892512820515, -0.0008153330000000003, -0.04531227504587156, 0.11938225925925924, 0.1112516814814815, 0.11514173059581323, 0.008342564684210527, -0.07131785795454545, -0.09955018272727276, -0.14624390542857146, -0.030059984004587162, 0.17326716391304348, 0.0510036309137931, -0.06859310866666668, -0.019729619022857137, -0.06281533, -0.06501782546728972, -0.023704219233333337, -0.01925977447619048, 0.08877441846153848, -0.13356535, -0.2098153, -0.2278922632692308, 0.05827729364131627, 0.003413836468750005, 0.07468467100000001, -0.0972681641509434, -0.02150322586751593, 0.08358953550387598, 0.18926134803921574, 0.12387307995606328, 0.12766553049327353, 0.20241433255813954, 0.014302580147058822, 0.2311180778053317, 0.16890417008547007, 0.07596487495862067, 0.09539427270072992, 0.1468991654716981, 0.15756450477815698, 0.1741248790645161, 0.12326531708029195, 0.1145345503105812, 0.20494867070312495, 0.024694750291666668, -0.03156850909090909, -0.2198212, -0.16310287127882597, -0.17835211111111113, -0.22641375555555554, -0.2480345806451613, -0.23526573684210525, -0.29259895, -0.09610122626683937, -0.053625141214062484, -0.31206577066666663, -0.2148059948275862, -0.2215620611111111, -0.3202657444444445, 0.05614417685819071, -0.04399592558991596, -0.09431338857142857, -0.07665465583333335, -0.3918729142857143, -0.16514839545727697, -0.3038438552447553, -0.13732055946027394, -0.38457394150943386, -0.4243648655405405, -0.1898491, -0.06745530774901963, -0.20641898518190707, 0.054420423947368415, -0.136011035, -0.13248312866666667, -0.07090754496644294, 0.03118401690616622, -0.099927736, 0.17295240879268292, 0.355714229296875, 0.2454202291666666, -0.014836791545454546, 0.0804917747247191, 0.044247977121621616, 0.00799259191304348, 0.11145025831693987, 0.1065549959836066, 0.0012884553310580187, -0.02370082429057592, 0.02381423567741936, -0.12962213430555558, -0.2091591777777778, -0.012456466666666666, 0.018203316, -0.06579728974358974, -0.2042405147058823, -0.25463275, -0.16057427996850393, -0.25137482857142857, -0.015265446240740738, 0.08851883352818371, -0.178216, -0.3214468, -0.3277577625, -0.429448665116279, -0.3279027373732719, -0.24454946, -0.34866055, -0.2458290193548387, -0.1638314846153846, -0.21580340000000006, 0.10373895141348316, 0.05617714424606742, -0.10737850102564103, 0.06408693078787879, 0.1562556, 0.08533944773333334, 0.043283885, -0.07069193686412215, -0.11202983223882353, -0.028882781, 0.035799542337558686, -0.2764967947368421, -0.020076, -0.07675892838522168, -0.19375622083333333, -0.2774567142857143, -0.028353435287777774, -0.2691273965517242, -0.041686315714285715, -0.08222807261306532, -0.01423844848837211, -0.05715899, -0.1645003644111675, 0.09548885654301073, -0.3103388263157894, -0.3873534466666666, -0.2777227176470588, -0.25358806198347106, -0.045136266709090905, 0.013767309347107442, -0.09289276902654868, 0.010148220457711448, -0.021243813325892858, -0.07006312775939849, 0.07502535242424242, 0.11075767545454544, -0.13360980160156627, -0.04556005790078819, -0.16540899000000006, -0.16574234000000002, -0.015010235294117647, 0.09266247647058824, -0.08530947684210526, 0.0439800675, -0.0603324295125, -0.1743276423076923, 0.09670206907259526, -0.1258001360869565, -0.08698584924561402, -0.19268091896551726, 0.014947660453703703, -0.2547822824074074, 0.09520108582972582, -0.021989066986772488, -0.023293971137019236, 0.09855752090041492, 0.02298007, -0.2439643694444445, -0.19440365610465116, 0.02734533201168224, -0.13716701176470586, 0.07688708822526316, -0.20204245540540536, -0.01218985988095238, 0.13509486473383084, 0.010620288684210529, 0.008777552244444447, -0.06349447731192659, 0.18213311084588646, 0.14006261039819007, -0.22067796333333334, -0.06108106691472868, -0.020178792148756224, -0.21254159545454535, -0.16748749999999998, -0.1446964826527778, 0.19349397850678726, 0.0675082458257329, 0.10649791495477384, -0.026091752310344832, -0.3676034131578947, -0.3436780000000001, -0.03859090123059701, 0.12298869999999998, -0.011243065240625, -0.0451120693023256, 0.17187756666666668, 0.031858207272727264, -0.09194744411764703, -0.01591428396598639, 0.07508875074626865, -0.3029523333333333, -0.32820229999999995, -0.2875358333333334, -0.3496785714285714, 0.04847327529055692, -0.25320240000000005, -0.17300734905660375, -0.026440513204034587, -0.15724088829268293, -0.34374249999999995, -0.30753558000000003, -0.3872667806451613, -0.3001456641509433, -0.3708048269230769, -0.4040671216216216, -0.5095356200000001, -0.5480911666666667, -0.21470035057471265, 0.004271217219012799, 0.03558938942340427, 0.025242164604166662, 0.02266488523383459, -0.2034960525423729, -0.04633191330555556, -0.09747910322033897, 0.09364101248686517, 0.09891555241379307, 0.017583204166666668, 0.11423632255639095, 0.02197450622147651, 0.05774851471102661, 0.03809326994690265, 0.04927171701878172, 0.2013757213875598, 0.08957700844407585, -0.11394165936842103, -0.2695557, -0.37801867222222224, 0.12063433154040044, 0.1418139260833811, 0.14543575426780628, 0.013405851917307695, -0.1967346205882353, -0.1288322944680851, -0.2353334804597701, -0.014801065944444443, 0.2500276361153847, 0.18489160000000002, 0.230539703125, 0.14404904842105265, 0.05308190746086957, 0.190707, 0.18335116794830367, 0.2370291437823834, 0.1835004615384615, 0.15620093941484714, 0.25482696666666665, 0.0069460429976562505, 0.04599794296353168, 0.046588450421641794, 0.12709899675199335, 0.017516395079508203, -0.19080858611111112, 0.10805714939305557, -0.14964865636363633, -0.1281023871891892, 0.009574088691136821, 0.17448050544338334, 0.0804932546347826, 0.1344619281690141, 0.2362115424983028, -0.3100542777777778, -0.3180742230769231, -0.06611471938421051, -0.2574448636363636, -0.2788084909090909, -0.2279772108108108, -0.2359802333333333, -0.2826761157894737, 0.1040197903603604, -0.04502062090909091, 0.08454913708962264, 0.15598859734795326, 0.1850328588235294, -0.11403576666666665, -0.16031354, -0.21695242499999992, 0.22379327661587986, 0.30419952352941176, -0.01056529870967742, 0.018417793093750003, 0.12701992718446606, -0.026949628452380945, -0.008727016756198353, -0.13896020476190474, -0.19455824390243906, -0.3627697368421052, -0.08033915141025637, -0.149158625, -0.04951081812053571, -0.0493446702293578, 0.0034583337350877234, -0.0955974640449438, -0.04119122311057692, 0.01863375842105263, -0.17756139833333331, -0.12582528333333334, -0.0820203884496124, -0.02860054831428572, -0.1616472824489796, -0.15933477829268292, -0.0219364175, 0.00977654708, -0.059977352600877186, -0.07755681676211452, -0.0970106689108911, -0.35003163928571424, -0.0859855573076923, 0.09054069841269842, -0.2322021581395349, 0.013185456550218343, 0.07083337518309857, -0.16563811764705882, -0.17529945454545456, 0.1366637383873538, 0.16634641494252875, 0.18995866092555916, 0.15611613357527931, -0.3613383, 0.11808264318627205, 0.0018901577772020687, -0.04390387628623188, 0.19645149855050506]}],                        {\"template\": {\"data\": {\"bar\": [{\"error_x\": {\"color\": \"#2a3f5f\"}, \"error_y\": {\"color\": \"#2a3f5f\"}, \"marker\": {\"line\": {\"color\": \"#E5ECF6\", \"width\": 0.5}}, \"type\": \"bar\"}], \"barpolar\": [{\"marker\": {\"line\": {\"color\": \"#E5ECF6\", \"width\": 0.5}}, \"type\": \"barpolar\"}], \"carpet\": [{\"aaxis\": {\"endlinecolor\": \"#2a3f5f\", \"gridcolor\": \"white\", \"linecolor\": \"white\", \"minorgridcolor\": \"white\", \"startlinecolor\": \"#2a3f5f\"}, \"baxis\": {\"endlinecolor\": \"#2a3f5f\", \"gridcolor\": \"white\", \"linecolor\": \"white\", \"minorgridcolor\": \"white\", \"startlinecolor\": \"#2a3f5f\"}, \"type\": \"carpet\"}], \"choropleth\": [{\"colorbar\": {\"outlinewidth\": 0, \"ticks\": \"\"}, \"type\": \"choropleth\"}], \"contour\": [{\"colorbar\": {\"outlinewidth\": 0, \"ticks\": \"\"}, \"colorscale\": [[0.0, \"#0d0887\"], [0.1111111111111111, \"#46039f\"], [0.2222222222222222, \"#7201a8\"], [0.3333333333333333, \"#9c179e\"], [0.4444444444444444, \"#bd3786\"], [0.5555555555555556, \"#d8576b\"], [0.6666666666666666, \"#ed7953\"], [0.7777777777777778, \"#fb9f3a\"], [0.8888888888888888, \"#fdca26\"], [1.0, \"#f0f921\"]], \"type\": \"contour\"}], \"contourcarpet\": [{\"colorbar\": {\"outlinewidth\": 0, \"ticks\": \"\"}, \"type\": \"contourcarpet\"}], \"heatmap\": [{\"colorbar\": {\"outlinewidth\": 0, \"ticks\": \"\"}, \"colorscale\": [[0.0, \"#0d0887\"], [0.1111111111111111, \"#46039f\"], [0.2222222222222222, \"#7201a8\"], [0.3333333333333333, \"#9c179e\"], [0.4444444444444444, \"#bd3786\"], [0.5555555555555556, \"#d8576b\"], [0.6666666666666666, \"#ed7953\"], [0.7777777777777778, \"#fb9f3a\"], [0.8888888888888888, \"#fdca26\"], [1.0, \"#f0f921\"]], \"type\": \"heatmap\"}], \"heatmapgl\": [{\"colorbar\": {\"outlinewidth\": 0, \"ticks\": \"\"}, \"colorscale\": [[0.0, \"#0d0887\"], [0.1111111111111111, \"#46039f\"], [0.2222222222222222, \"#7201a8\"], [0.3333333333333333, \"#9c179e\"], [0.4444444444444444, \"#bd3786\"], [0.5555555555555556, \"#d8576b\"], [0.6666666666666666, \"#ed7953\"], [0.7777777777777778, \"#fb9f3a\"], [0.8888888888888888, \"#fdca26\"], [1.0, \"#f0f921\"]], \"type\": \"heatmapgl\"}], \"histogram\": [{\"marker\": {\"colorbar\": {\"outlinewidth\": 0, \"ticks\": \"\"}}, \"type\": \"histogram\"}], \"histogram2d\": [{\"colorbar\": {\"outlinewidth\": 0, \"ticks\": \"\"}, \"colorscale\": [[0.0, \"#0d0887\"], [0.1111111111111111, \"#46039f\"], [0.2222222222222222, \"#7201a8\"], [0.3333333333333333, \"#9c179e\"], [0.4444444444444444, \"#bd3786\"], [0.5555555555555556, \"#d8576b\"], [0.6666666666666666, \"#ed7953\"], [0.7777777777777778, \"#fb9f3a\"], [0.8888888888888888, \"#fdca26\"], [1.0, \"#f0f921\"]], \"type\": \"histogram2d\"}], \"histogram2dcontour\": [{\"colorbar\": {\"outlinewidth\": 0, \"ticks\": \"\"}, \"colorscale\": [[0.0, \"#0d0887\"], [0.1111111111111111, \"#46039f\"], [0.2222222222222222, \"#7201a8\"], [0.3333333333333333, \"#9c179e\"], [0.4444444444444444, \"#bd3786\"], [0.5555555555555556, \"#d8576b\"], [0.6666666666666666, \"#ed7953\"], [0.7777777777777778, \"#fb9f3a\"], [0.8888888888888888, \"#fdca26\"], [1.0, \"#f0f921\"]], \"type\": \"histogram2dcontour\"}], \"mesh3d\": [{\"colorbar\": {\"outlinewidth\": 0, \"ticks\": \"\"}, \"type\": \"mesh3d\"}], \"parcoords\": [{\"line\": {\"colorbar\": {\"outlinewidth\": 0, \"ticks\": \"\"}}, \"type\": \"parcoords\"}], \"pie\": [{\"automargin\": true, \"type\": \"pie\"}], \"scatter\": [{\"marker\": {\"colorbar\": {\"outlinewidth\": 0, \"ticks\": \"\"}}, \"type\": \"scatter\"}], \"scatter3d\": [{\"line\": {\"colorbar\": {\"outlinewidth\": 0, \"ticks\": \"\"}}, \"marker\": {\"colorbar\": {\"outlinewidth\": 0, \"ticks\": \"\"}}, \"type\": \"scatter3d\"}], \"scattercarpet\": [{\"marker\": {\"colorbar\": {\"outlinewidth\": 0, \"ticks\": \"\"}}, \"type\": \"scattercarpet\"}], \"scattergeo\": [{\"marker\": {\"colorbar\": {\"outlinewidth\": 0, \"ticks\": \"\"}}, \"type\": \"scattergeo\"}], \"scattergl\": [{\"marker\": {\"colorbar\": {\"outlinewidth\": 0, \"ticks\": \"\"}}, \"type\": \"scattergl\"}], \"scattermapbox\": [{\"marker\": {\"colorbar\": {\"outlinewidth\": 0, \"ticks\": \"\"}}, \"type\": \"scattermapbox\"}], \"scatterpolar\": [{\"marker\": {\"colorbar\": {\"outlinewidth\": 0, \"ticks\": \"\"}}, \"type\": \"scatterpolar\"}], \"scatterpolargl\": [{\"marker\": {\"colorbar\": {\"outlinewidth\": 0, \"ticks\": \"\"}}, \"type\": \"scatterpolargl\"}], \"scatterternary\": [{\"marker\": {\"colorbar\": {\"outlinewidth\": 0, \"ticks\": \"\"}}, \"type\": \"scatterternary\"}], \"surface\": [{\"colorbar\": {\"outlinewidth\": 0, \"ticks\": \"\"}, \"colorscale\": [[0.0, \"#0d0887\"], [0.1111111111111111, \"#46039f\"], [0.2222222222222222, \"#7201a8\"], [0.3333333333333333, \"#9c179e\"], [0.4444444444444444, \"#bd3786\"], [0.5555555555555556, \"#d8576b\"], [0.6666666666666666, \"#ed7953\"], [0.7777777777777778, \"#fb9f3a\"], [0.8888888888888888, \"#fdca26\"], [1.0, \"#f0f921\"]], \"type\": \"surface\"}], \"table\": [{\"cells\": {\"fill\": {\"color\": \"#EBF0F8\"}, \"line\": {\"color\": \"white\"}}, \"header\": {\"fill\": {\"color\": \"#C8D4E3\"}, \"line\": {\"color\": \"white\"}}, \"type\": \"table\"}]}, \"layout\": {\"annotationdefaults\": {\"arrowcolor\": \"#2a3f5f\", \"arrowhead\": 0, \"arrowwidth\": 1}, \"autotypenumbers\": \"strict\", \"coloraxis\": {\"colorbar\": {\"outlinewidth\": 0, \"ticks\": \"\"}}, \"colorscale\": {\"diverging\": [[0, \"#8e0152\"], [0.1, \"#c51b7d\"], [0.2, \"#de77ae\"], [0.3, \"#f1b6da\"], [0.4, \"#fde0ef\"], [0.5, \"#f7f7f7\"], [0.6, \"#e6f5d0\"], [0.7, \"#b8e186\"], [0.8, \"#7fbc41\"], [0.9, \"#4d9221\"], [1, \"#276419\"]], \"sequential\": [[0.0, \"#0d0887\"], [0.1111111111111111, \"#46039f\"], [0.2222222222222222, \"#7201a8\"], [0.3333333333333333, \"#9c179e\"], [0.4444444444444444, \"#bd3786\"], [0.5555555555555556, \"#d8576b\"], [0.6666666666666666, \"#ed7953\"], [0.7777777777777778, \"#fb9f3a\"], [0.8888888888888888, \"#fdca26\"], [1.0, \"#f0f921\"]], \"sequentialminus\": [[0.0, \"#0d0887\"], [0.1111111111111111, \"#46039f\"], [0.2222222222222222, \"#7201a8\"], [0.3333333333333333, \"#9c179e\"], [0.4444444444444444, \"#bd3786\"], [0.5555555555555556, \"#d8576b\"], [0.6666666666666666, \"#ed7953\"], [0.7777777777777778, \"#fb9f3a\"], [0.8888888888888888, \"#fdca26\"], [1.0, \"#f0f921\"]]}, \"colorway\": [\"#636efa\", \"#EF553B\", \"#00cc96\", \"#ab63fa\", \"#FFA15A\", \"#19d3f3\", \"#FF6692\", \"#B6E880\", \"#FF97FF\", \"#FECB52\"], \"font\": {\"color\": \"#2a3f5f\"}, \"geo\": {\"bgcolor\": \"white\", \"lakecolor\": \"white\", \"landcolor\": \"#E5ECF6\", \"showlakes\": true, \"showland\": true, \"subunitcolor\": \"white\"}, \"hoverlabel\": {\"align\": \"left\"}, \"hovermode\": \"closest\", \"mapbox\": {\"style\": \"light\"}, \"paper_bgcolor\": \"white\", \"plot_bgcolor\": \"#E5ECF6\", \"polar\": {\"angularaxis\": {\"gridcolor\": \"white\", \"linecolor\": \"white\", \"ticks\": \"\"}, \"bgcolor\": \"#E5ECF6\", \"radialaxis\": {\"gridcolor\": \"white\", \"linecolor\": \"white\", \"ticks\": \"\"}}, \"scene\": {\"xaxis\": {\"backgroundcolor\": \"#E5ECF6\", \"gridcolor\": \"white\", \"gridwidth\": 2, \"linecolor\": \"white\", \"showbackground\": true, \"ticks\": \"\", \"zerolinecolor\": \"white\"}, \"yaxis\": {\"backgroundcolor\": \"#E5ECF6\", \"gridcolor\": \"white\", \"gridwidth\": 2, \"linecolor\": \"white\", \"showbackground\": true, \"ticks\": \"\", \"zerolinecolor\": \"white\"}, \"zaxis\": {\"backgroundcolor\": \"#E5ECF6\", \"gridcolor\": \"white\", \"gridwidth\": 2, \"linecolor\": \"white\", \"showbackground\": true, \"ticks\": \"\", \"zerolinecolor\": \"white\"}}, \"shapedefaults\": {\"line\": {\"color\": \"#2a3f5f\"}}, \"ternary\": {\"aaxis\": {\"gridcolor\": \"white\", \"linecolor\": \"white\", \"ticks\": \"\"}, \"baxis\": {\"gridcolor\": \"white\", \"linecolor\": \"white\", \"ticks\": \"\"}, \"bgcolor\": \"#E5ECF6\", \"caxis\": {\"gridcolor\": \"white\", \"linecolor\": \"white\", \"ticks\": \"\"}}, \"title\": {\"x\": 0.05}, \"xaxis\": {\"automargin\": true, \"gridcolor\": \"white\", \"linecolor\": \"white\", \"ticks\": \"\", \"title\": {\"standoff\": 15}, \"zerolinecolor\": \"white\", \"zerolinewidth\": 2}, \"yaxis\": {\"automargin\": true, \"gridcolor\": \"white\", \"linecolor\": \"white\", \"ticks\": \"\", \"title\": {\"standoff\": 15}, \"zerolinecolor\": \"white\", \"zerolinewidth\": 2}}}},                        {\"responsive\": true}                    ).then(function(){\n",
       "                            \n",
       "var gd = document.getElementById('867860ab-2a5f-48f0-8fbe-f7ecd8abfe7b');\n",
       "var x = new MutationObserver(function (mutations, observer) {{\n",
       "        var display = window.getComputedStyle(gd).display;\n",
       "        if (!display || display === 'none') {{\n",
       "            console.log([gd, 'removed!']);\n",
       "            Plotly.purge(gd);\n",
       "            observer.disconnect();\n",
       "        }}\n",
       "}});\n",
       "\n",
       "// Listen for the removal of the full notebook cells\n",
       "var notebookContainer = gd.closest('#notebook-container');\n",
       "if (notebookContainer) {{\n",
       "    x.observe(notebookContainer, {childList: true});\n",
       "}}\n",
       "\n",
       "// Listen for the clearing of the current output cell\n",
       "var outputEl = gd.closest('.output');\n",
       "if (outputEl) {{\n",
       "    x.observe(outputEl, {childList: true});\n",
       "}}\n",
       "\n",
       "                        })                };                });            </script>        </div>"
      ]
     },
     "metadata": {},
     "output_type": "display_data"
    }
   ],
   "source": [
    "fig = go.Figure()\n",
    "fig.add_trace(go.Scatter(y=oof_preds,\n",
    "                    mode='lines',\n",
    "                    name='pred'))\n",
    "fig.add_trace(go.Scatter(y=y_arousal,\n",
    "                    mode='lines',\n",
    "                    name='label'))\n",
    "fig.show()"
   ]
  },
  {
   "cell_type": "code",
   "execution_count": 170,
   "metadata": {},
   "outputs": [
    {
     "data": {
      "application/vnd.plotly.v1+json": {
       "config": {
        "plotlyServerURL": "https://plot.ly"
       },
       "data": [
        {
         "mode": "lines",
         "name": "pred",
         "type": "scatter",
         "y": [
          0.08409264799251182,
          0.08476991670157084,
          0.100857160277183,
          0.07585110169384351,
          0.10168378194041695,
          0.07543003967025752,
          0.0641239575248609,
          0.07696932933955597,
          0.11865235873433494,
          0.06303783928929596,
          0.06637699164938843,
          0.061005404869670335,
          0.12036199800389548,
          0.06625604290417136,
          0.1264777462828927,
          0.14057656791172984,
          0.09277441758120851,
          0.06774344324239628,
          0.10534911662368428,
          0.1178045628743441,
          0.07958975639024556,
          0.11145932479008858,
          0.1094827038558499,
          0.12137824338035487,
          0.07083365964613063,
          0.08974191445272106,
          0.11788315403103528,
          0.08365110628992117,
          0.09269879495943084,
          0.044075887348603474,
          0.07580269730780674,
          0.06410732645372008,
          0.10645944726779838,
          0.07584270662058727,
          0.06604763121408452,
          0.06812161742013845,
          0.0723637588407947,
          0.09916470295599783,
          0.08015082217195729,
          0.11011996644618144,
          0.07154720274665799,
          0.07199261701603056,
          0.07624586038053915,
          0.1221879499545604,
          0.07889418841436774,
          -0.06544260080519952,
          0.10019513654794848,
          0.07126028406924746,
          0.08319474920755908,
          0.09233388934746313,
          0.05737784039975492,
          0.0858137561662553,
          0.07882727268454631,
          0.0702659557938695,
          0.06726425101186552,
          0.08545733646843033,
          0.09779976851992139,
          0.06980972753574527,
          0.10826041438588806,
          0.0794158829310504,
          0.10796074915520332,
          0.0643745332084361,
          0.067007920743416,
          0.15144109361742186,
          0.09666175863073967,
          0.0719456608834015,
          0.10178874608040857,
          0.07076407885286518,
          0.07872596024175726,
          0.07860741444371105,
          0.09517526741720089,
          0.11871255005700315,
          0.11125491867663663,
          0.06321458579541238,
          0.15213342621050985,
          0.06950807307133688,
          0.11514232364189769,
          0.07833294163604887,
          0.054312255262268225,
          0.12315931325584834,
          0.09060046584367308,
          0.053445342885674055,
          0.1303773015275772,
          0.06030833973988271,
          0.07787566598550938,
          0.11929128551087992,
          0.10532635167871568,
          0.12244563039521655,
          0.10913534731905893,
          0.1040535341033107,
          0.09241803127732523,
          0.09494947019704197,
          0.11382664106645596,
          0.07563046650593591,
          0.11812157124249668,
          0.1183501683301375,
          0.10617268840673988,
          0.12861712235535971,
          0.047611737628317725,
          0.06780139811623792,
          0.08744984340241835,
          0.07030967636749712,
          0.10674235235784219,
          0.098497074425835,
          0.11832347853073731,
          0.09649250511242607,
          0.12006817736968088,
          0.0856439238150202,
          0.06874262656189162,
          0.08183413826541579,
          0.10373051840031994,
          0.09459675423537561,
          0.009248368211820353,
          0.060590462797523906,
          0.09257175311392535,
          0.1175336706182072,
          0.1005115723250073,
          0.07344127396590579,
          0.08715886199243673,
          0.08218714917603308,
          0.12653799764972745,
          0.09766898147867563,
          0.11998959446088114,
          0.11070671515744096,
          0.09967461176032355,
          0.07106630894028632,
          0.12114418833259753,
          0.12172419671631164,
          0.10399703008991273,
          0.07533834009033807,
          0.07421310231456135,
          0.1289781241586498,
          0.0897728458189469,
          0.1189445296712096,
          0.1272571254060343,
          0.0962124779818362,
          0.0856189348153692,
          0.11545039281932096,
          0.10307071327103795,
          0.1062532323809059,
          0.08167256170339075,
          0.08540373019589044,
          0.08031090107199024,
          0.0722770044522074,
          0.07905644923496241,
          0.12637610291312673,
          0.07271380388252184,
          0.07367078659160008,
          0.08989418859693367,
          0.04440686165027462,
          0.08651716882879021,
          0.10174598710010418,
          0.12105156084295578,
          0.08357454929053998,
          0.06429662929579456,
          0.07428021166385804,
          0.09628969193206899,
          0.08616083965257765,
          0.10313335929652591,
          0.0755793684513716,
          0.11563839459430963,
          0.08139350479597726,
          0.09359042204223106,
          0.09511063326550678,
          0.12378148592408539,
          0.08676394648073099,
          0.0650539587186723,
          0.0991388606328435,
          0.10661987243689436,
          0.021071959832800476,
          0.12553205719968652,
          0.11278461039534438,
          0.1286170537916227,
          0.06275400679072353,
          0.12104039211197687,
          0.05015644766135108,
          0.06940950866749057,
          0.10036780720057997,
          0.06902808957326423,
          0.12609129715833722,
          0.10635813479265853,
          0.10044080990209187,
          0.08510763457775637,
          0.07511027442024641,
          0.06188160495859775,
          0.13121665044931902,
          0.06501708018663592,
          0.07051464360733212,
          0.09205652862226521,
          0.026411361434456784,
          0.0955081796583619,
          0.10279376943655825,
          0.11478235079275968,
          0.09486277637898188,
          0.09439773786743383,
          0.1779396924866039,
          0.12864259600391675,
          0.10092515294212435,
          0.0638488635088879,
          0.07973717043444578,
          0.04624404654054237,
          0.0587501295568742,
          0.07280305614519733,
          0.12187509349070008,
          0.06674894965150363,
          0.1047534962258554,
          0.10982415195462734,
          0.08738690877499827,
          0.04021109182971572,
          0.09430328682962111,
          0.10684267101176742,
          0.09823911341872554,
          0.06273820533311884,
          0.12395764355470335,
          0.09355435034333195,
          0.13534816308566597,
          0.10986924333513126,
          0.062482414195710226,
          0.075245754513111,
          0.09278540430600979,
          0.06937053189973465,
          0.10630640336686249,
          0.09216715627840431,
          0.10404135685337179,
          0.06618479985110742,
          0.1195453249997363,
          0.10074981667877819,
          0.07254339372468827,
          0.09141376761701059,
          0.07892892504410938,
          0.11266396002078925,
          0.10112618942189856,
          0.0620816020521897,
          0.08839122149930755,
          0.11409755940367788,
          0.11922371762324951,
          0.0929064191294065,
          0.07360929090406626,
          0.06978416147715527,
          0.06134261136416641,
          0.08017777641282385,
          0.06289073795127081,
          0.07522714103898497,
          0.07001101025174074,
          0.12417818980023056,
          0.07644842249955089,
          0.08381933640533325,
          0.07246689117795402,
          0.07301187525777621,
          0.10894978787869314,
          0.09126293468420171,
          0.08555581911670923,
          0.06831650063501159,
          0.09187996748869019,
          0.09008552227884181,
          0.11654589976208013,
          0.11809210383130736,
          0.07076596784346699,
          0.11454499540124446,
          0.06782877907517948,
          0.06627239208977959,
          0.10710241093596712,
          0.10869804853132524,
          0.0817356639142434,
          0.1174544170161807,
          0.07482848455934521,
          0.12446055156252413,
          0.10908081396885261,
          0.0705624562752406,
          0.0843999380005423,
          0.054540613122137996,
          0.11371048201804212,
          0.10221315848670141,
          0.042669109446991635,
          0.09022090916036384,
          0.10856945270993314,
          0.09392443166294112,
          0.08083011204393346,
          0.07198516285368274,
          0.10180253074402551,
          0.11318209117542154,
          0.11868387413945364,
          0.06235200047855483,
          0.09325319888301742,
          0.07560722826392757,
          0.05936035235348647,
          0.08125375310343635,
          0.0962761352592203,
          0.07514459067084436,
          0.06080327535521694,
          0.10036527230204807,
          0.07057779960029398,
          0.11245905939560617,
          0.09016531533338434,
          0.045182509442607585,
          0.04776101142223445,
          0.07443310645869089,
          0.06360882958320856,
          0.10015190486575021,
          0.07055698037976593,
          0.07921958272663904,
          0.09576289809684874,
          0.08511276953077697,
          0.05604065263630649,
          0.0995990865684922,
          0.12080504754890097,
          0.07914243610974442,
          0.0915024724643446,
          0.09971935486041339,
          0.07014183014931247,
          0.07620505886049045,
          0.07625536278690592,
          0.1169040016184007,
          0.11740871502207774,
          0.06691063514803823,
          0.10956275011809141,
          0.09432546371858314,
          0.11141293116539092,
          0.08464554436331619,
          0.12368326121015592,
          0.10016055513212141,
          0.03935276699124614,
          0.0940334819591111,
          0.06248568919627885,
          0.1226434754536379,
          0.06588549680770693,
          0.12391414078130537,
          0.06437924087714776,
          0.11138772436886418,
          0.06806504853531514,
          0.09126194155132841,
          0.08379012081851306,
          0.08820035014543393,
          0.1297785581538377,
          0.11707943235586454,
          0.07580503861699316,
          0.11747005297616181,
          0.09110849786987846,
          0.06906810971946976,
          0.06325568214209176,
          0.11035953422407602,
          0.12049250362733432,
          0.07789485202293872,
          0.0930103334288348,
          0.10880560063956085,
          0.05135893987103818,
          0.10345103746205629,
          0.11883512132039532,
          0.03972827543148229,
          0.12406228678510599,
          0.11598903209524697,
          0.10946041157973013,
          0.12520946701740787,
          0.11810099482622194,
          0.08754526320357103,
          0.08415018939113666,
          0.08253722153500663,
          0.12133907769345699,
          0.09638395764852002,
          0.06281783526563323,
          0.1206380988048335,
          0.109646954688705,
          0.0587019181439552,
          0.10552671294636279,
          0.11373735331450596,
          0.02447584930582032,
          0.07757782962258565,
          0.04225469078700307,
          0.07994036587149499,
          0.06364712650412886,
          0.09698645943277276,
          0.06905292405396779,
          0.07697452461488548,
          0.021342232002236852,
          0.07726336633239572,
          0.11902713895027134,
          0.10692489891979745,
          0.037915652814259515,
          0.07154802835795182,
          0.06446746381842648,
          0.015766647653420063,
          0.11434664951510914,
          0.07901695015547326,
          0.11731214366250992,
          0.11662565533881225,
          0.0654172462456938,
          0.07324783926074961,
          0.12250843587084094,
          0.06214990829378621,
          0.07272451320922696,
          0.09384373284789485,
          0.09381422897464087,
          0.08063611417799052,
          0.07623684419592425,
          0.07213324113299026,
          0.056504397026219566,
          0.12312976247482882,
          0.11507883950270598,
          0.06790051649739831,
          0.05388846991963071,
          0.09210357950443893,
          0.08826567454032007,
          0.1117743577224184,
          0.07144414732768388,
          0.08210931693025614,
          0.069351093587492,
          0.10288221275223207,
          0.1131752074858272,
          0.11864797416712468,
          0.08690139598924423,
          0.07749517878321022,
          0.08128186841415946,
          0.10964460634237727,
          0.0902428449211121,
          0.040464829587847376,
          0.11165706392354367,
          0.039594142599924345,
          0.08000093906735323,
          0.11143500526519545,
          0.10272713464941768,
          0.09728463629161371,
          0.11945413973196134,
          0.0729219728009271,
          0.12831757495277346,
          0.10823251348684425,
          0.09520344519066354,
          0.08208249799008428
         ]
        },
        {
         "mode": "lines",
         "name": "label",
         "type": "scatter",
         "y": [
          0.02755931450704225,
          0.14228789839572192,
          -0.02242357777777778,
          -0.06340902500000001,
          0.05392990506352086,
          0.04790675164473685,
          0.1025076,
          0.039715967058823534,
          0.09129987130136986,
          0.100340965,
          -0.005492369,
          -0.026956333864864863,
          0.01893410080823529,
          0.16161547352941175,
          0.07771901414634146,
          0.035565322326923075,
          0.2495076257142857,
          0.2439948102564103,
          0.06498861355704699,
          0.028354982202803736,
          0.30254066756756753,
          0.12456563663573088,
          0.2477826927622377,
          0.06702306212962965,
          0.03580529371402215,
          -0.023314008426315792,
          0.056986276411764715,
          0.0346787,
          0.11692503448275862,
          -0.00438659988235294,
          0.0533980435483871,
          0.02773922953517588,
          -0.02176302388429752,
          -0.04659859375,
          0.031751491524475525,
          0.03000558245714285,
          0.12045004688888887,
          -0.027451232962962955,
          -0.02153830393421053,
          -0.014606537608849559,
          0.052005556,
          -0.033734026250000014,
          -0.014337581352941175,
          0.03727539714285714,
          0.04797137025641025,
          -0.0023277772923076924,
          -0.10715100454545454,
          -0.07004042034482758,
          -0.13691840877192982,
          -0.12903066739130434,
          -0.004168055116666667,
          0.07100556000000001,
          -0.03350833375,
          -0.0313132847826087,
          0.05308318164383561,
          0.011340704224999998,
          0.039822760000000006,
          0.02576746,
          0.21455820263157896,
          0.012564567665071769,
          0.18181645070422534,
          0.1458311052631579,
          -0.07645996000000001,
          0.0427342106569343,
          0.12978125000000004,
          0.1655900833333333,
          0.14867332,
          0.5433275327102803,
          0.040034525000000015,
          0.07564963571428572,
          0.4160792347826088,
          0.22587091610405785,
          0.2040987505546448,
          0.26300677,
          0.09014655000000003,
          0.25676282266390976,
          0.2554871609589041,
          0.17310600000000004,
          -0.05798715641025641,
          0.15734831040849195,
          0.08679918,
          -0.02699249,
          0.09324016098696088,
          0.07050288037037038,
          -0.11478813095238095,
          -0.015705642716267548,
          0.2353130582666667,
          0.32017999274611403,
          0.475680445890411,
          0.2626178793859649,
          -0.04001068,
          0.14183175,
          0.14213977145299145,
          0.07645612000000003,
          0.1146456555045872,
          0.20199914814814812,
          0.13476813756613756,
          0.10684358196457328,
          0.06457891999999997,
          0.09205964393939392,
          -0.00037722040454545453,
          0.0632180177142857,
          -0.031990370440825686,
          0.0192966927270903,
          0.010082550241379313,
          0.017789446666666663,
          0.06761801714285715,
          0.029122782000000007,
          0.052294119428037376,
          -0.0008401827633333334,
          0.04287674833333333,
          0.03468688461538461,
          0.0683727825,
          0.08045611,
          0.06295611307692307,
          0.10342685320073126,
          0.1925828430729167,
          0.19862277,
          0.17577056226415091,
          0.06378944114649683,
          0.12033708108527133,
          0.16686047549019611,
          0.11316392196836556,
          0.14116437802690587,
          0.2449622325581395,
          0.17222002205882356,
          0.13171812106596406,
          0.05373355632478634,
          0.24347577372413795,
          0.22419387080291966,
          0.1045392100943396,
          0.00995182123856655,
          0.07875496961290324,
          0.10376808233576644,
          0.03144692471311476,
          0.1289973731640625,
          -0.03694664370238095,
          0.06466574545454544,
          0.0029990126666666673,
          0.0182268137735849,
          0.026838503703703703,
          -0.03726026444444445,
          -0.07777518870967744,
          -0.08950976842105264,
          -0.1173342,
          -0.01924366005181348,
          0.0012516169000000008,
          -0.09884543546666666,
          -0.05301248120689656,
          -0.061649135,
          0.009184198222222223,
          0.03419053586234718,
          -0.05410089333053221,
          -0.06115971761904763,
          -0.02294542833333333,
          -0.03963193928571429,
          -0.015101143271361504,
          -0.06889142930069929,
          0.007514995384246574,
          -0.029397213018867926,
          -0.031226211756756755,
          0.03962401375,
          -0.0017689606607843137,
          0.013000643117848409,
          0.00184819649122807,
          -0.051662030000000005,
          -0.015134262666666669,
          -0.010131268281879194,
          0.009135331758713141,
          -0.026978716000000003,
          0.022299856213414637,
          0.21174551875,
          0.047003689178531066,
          0.15669403636363635,
          0.07600369353932583,
          0.022777151870270268,
          -0.0021366743913043477,
          0.28360162868852457,
          -0.05425811874863387,
          0.1073678281911263,
          0.05668133185863874,
          0.07057721048387097,
          0.03479166861111112,
          0.034074074861111116,
          0.003108638888888889,
          0.24977516129032265,
          0.2766414871794872,
          0.026755167602941173,
          0.0423679,
          0.04616055439763779,
          0.07235201333333334,
          0.27828361790123457,
          0.15515501987473904,
          0.07253456999999999,
          -0.023785944615384608,
          -0.005965433000000001,
          -0.08511271232558139,
          0.03861214386820277,
          0.09470123400000001,
          0.0012567889,
          0.0998410148387097,
          0.1498037923076923,
          0.055939328095238106,
          0.1388210845597753,
          0.12895966426966293,
          0.016000378974358968,
          0.2282062827878787,
          0.1296634964150943,
          0.11059012166666668,
          0.07570123,
          0.10862743977099236,
          -0.039975237000000004,
          0.100201233,
          0.03359247017957746,
          -0.011667188594736843,
          -0.0089727,
          0.031351635541871925,
          0.009534274791666669,
          0.049598771428571435,
          0.2780088922222222,
          0.06065377241379311,
          0.13440264201680674,
          0.09280287839195983,
          -0.011678093151627909,
          -0.009805998,
          0.005401275383248733,
          0.1387692677419355,
          0.01760628210526316,
          -0.0187504448,
          -0.01926678529411765,
          -0.007719222833884297,
          0.21239097090909093,
          0.4029281586776859,
          0.18974414247787613,
          0.07354806027860697,
          0.1290407225,
          0.039323072706766916,
          0.2502445030303031,
          0.2198909772727273,
          0.09616789469879518,
          -0.010171352186699505,
          -0.027806001000000004,
          -0.03897267,
          0.021128235294117646,
          0.29229463157894736,
          0.29499826315789474,
          0.29066386250000004,
          0.2237471375,
          0.2146238076923077,
          0.2311870072595281,
          0.13260311594202898,
          0.023068310877192987,
          0.09751931,
          -0.0208417015,
          -0.022739849525,
          0.2692565035786436,
          0.0913761102116402,
          0.11008837658653843,
          0.17777530257261412,
          0.3237261800000001,
          0.012985459480555557,
          0.061381238651162774,
          0.1362768218224299,
          0.07495168999999999,
          0.14961216496842109,
          0.024491965920270267,
          0.03647792857142857,
          0.08958101407960198,
          0.045922216184210524,
          0.22744270514444445,
          0.0018357756238532108,
          0.1786342841483198,
          0.124849392760181,
          0.06067217733333333,
          0.12870964333488372,
          0.18787697213930346,
          0.0382327840909091,
          0.07455313,
          0.03689439945555555,
          0.16406884502262445,
          0.21071180052117264,
          0.14416546281407036,
          0.12245953793103448,
          -0.00934098010789474,
          0.015202479090909087,
          0.029473172353731338,
          0.06609374529411764,
          0.027211239359375,
          0.10476907325581396,
          0.3282833,
          0.04383634935064935,
          0.009822074911764707,
          -0.032692612380952384,
          0.217324995522388,
          0.11407033333333333,
          -0.12854079999999998,
          -0.06967955833333334,
          -0.1297785714285714,
          0.2267466803874092,
          -0.09020734,
          -0.12057844528301885,
          0.024287368326224783,
          0.1316890004695122,
          -0.027414246827586204,
          -0.10387401999999997,
          -0.04604606000000002,
          -0.06252810471698113,
          -0.03838683692307692,
          -0.1419730918918919,
          -0.1612073,
          -0.15981845000000006,
          -0.1248088664367816,
          0.1385671843510055,
          0.04646995646223405,
          0.06473015020833332,
          0.22814103511278194,
          0.09269095966101697,
          0.14893155277777775,
          0.10735197457627116,
          0.2091617514010508,
          0.2523023793103448,
          0.20880566666666667,
          0.1151681,
          -0.010813371382550336,
          0.1033418658973384,
          -0.0415401538938053,
          0.08143732446700506,
          0.1740812947368421,
          0.2482841872511849,
          0.12253903389473687,
          0.008153081110000002,
          -0.026448771333333333,
          0.1402406254017668,
          0.11651696891260745,
          0.08885868082621083,
          0.045643465000000015,
          0.020010923639705882,
          -0.0476199694680851,
          -0.04031052135057472,
          0.03142159856111111,
          -0.022013589128653838,
          0.3692544571428572,
          0.32176209375,
          0.08728933631578949,
          0.14377820086956525,
          0.15852605263157896,
          0.13603237980613894,
          0.29711145336787564,
          0.2573250256410256,
          0.19526121222707424,
          0.43144137928802573,
          0.08452264679687503,
          0.0681524355950096,
          0.0013731607756716404,
          0.029995291262458475,
          0.11751060488524592,
          0.08038781166666666,
          0.09816944155092593,
          0.010259863363636363,
          -0.006460038264864867,
          0.13932058468763006,
          0.3308753888130969,
          0.3030503652173913,
          0.17742673943661974,
          0.3600046376442634,
          0.1361903333333333,
          0.1892458846153846,
          0.27643010842105264,
          0.20098832727272728,
          0.1867459,
          0.08899816216216216,
          0.12813481666666665,
          0.08069327526315791,
          0.4557098621621622,
          0.3744731636363637,
          0.4847569042452831,
          0.2209564251461988,
          0.19811844705882356,
          0.26091255,
          0.21863478,
          0.08480146583333333,
          0.18910283476394849,
          0.4105204029411765,
          0.01629652903225807,
          0.128400010625,
          0.11242084951456313,
          0.3861934444444444,
          0.06493603454545456,
          0.20975157142857145,
          0.1775353195121951,
          0.019133571578947368,
          0.15064074753205128,
          0.052847011666666666,
          0.03376467090178571,
          0.05434038623853212,
          0.2066043286842105,
          0.040081718617977526,
          -0.02399059468557693,
          0.016238825,
          -0.0005557645416666665,
          -0.036041875,
          0.06801497093023258,
          0.26067038995136776,
          0.08093091522448981,
          0.01194592830731707,
          -0.08937521,
          -0.031208543394444444,
          -0.042021404665789484,
          0.01787148594140969,
          0.15210994389108912,
          0.014612885182142859,
          0.12505855730769228,
          0.052305832238095235,
          0.08102253953488373,
          0.00988123896331878,
          0.041256611859154926,
          0.04528837647058823,
          -0.0030137653181818184,
          0.09768610743260236,
          0.08139497666666667,
          0.21916045817891366,
          0.11995030223463687,
          0.01425896,
          0.208612450604534,
          0.05877105082984456,
          -0.0013932144514492767,
          0.15521014232323235
         ]
        }
       ],
       "layout": {
        "autosize": true,
        "template": {
         "data": {
          "bar": [
           {
            "error_x": {
             "color": "#2a3f5f"
            },
            "error_y": {
             "color": "#2a3f5f"
            },
            "marker": {
             "line": {
              "color": "#E5ECF6",
              "width": 0.5
             }
            },
            "type": "bar"
           }
          ],
          "barpolar": [
           {
            "marker": {
             "line": {
              "color": "#E5ECF6",
              "width": 0.5
             }
            },
            "type": "barpolar"
           }
          ],
          "carpet": [
           {
            "aaxis": {
             "endlinecolor": "#2a3f5f",
             "gridcolor": "white",
             "linecolor": "white",
             "minorgridcolor": "white",
             "startlinecolor": "#2a3f5f"
            },
            "baxis": {
             "endlinecolor": "#2a3f5f",
             "gridcolor": "white",
             "linecolor": "white",
             "minorgridcolor": "white",
             "startlinecolor": "#2a3f5f"
            },
            "type": "carpet"
           }
          ],
          "choropleth": [
           {
            "colorbar": {
             "outlinewidth": 0,
             "ticks": ""
            },
            "type": "choropleth"
           }
          ],
          "contour": [
           {
            "colorbar": {
             "outlinewidth": 0,
             "ticks": ""
            },
            "colorscale": [
             [
              0,
              "#0d0887"
             ],
             [
              0.1111111111111111,
              "#46039f"
             ],
             [
              0.2222222222222222,
              "#7201a8"
             ],
             [
              0.3333333333333333,
              "#9c179e"
             ],
             [
              0.4444444444444444,
              "#bd3786"
             ],
             [
              0.5555555555555556,
              "#d8576b"
             ],
             [
              0.6666666666666666,
              "#ed7953"
             ],
             [
              0.7777777777777778,
              "#fb9f3a"
             ],
             [
              0.8888888888888888,
              "#fdca26"
             ],
             [
              1,
              "#f0f921"
             ]
            ],
            "type": "contour"
           }
          ],
          "contourcarpet": [
           {
            "colorbar": {
             "outlinewidth": 0,
             "ticks": ""
            },
            "type": "contourcarpet"
           }
          ],
          "heatmap": [
           {
            "colorbar": {
             "outlinewidth": 0,
             "ticks": ""
            },
            "colorscale": [
             [
              0,
              "#0d0887"
             ],
             [
              0.1111111111111111,
              "#46039f"
             ],
             [
              0.2222222222222222,
              "#7201a8"
             ],
             [
              0.3333333333333333,
              "#9c179e"
             ],
             [
              0.4444444444444444,
              "#bd3786"
             ],
             [
              0.5555555555555556,
              "#d8576b"
             ],
             [
              0.6666666666666666,
              "#ed7953"
             ],
             [
              0.7777777777777778,
              "#fb9f3a"
             ],
             [
              0.8888888888888888,
              "#fdca26"
             ],
             [
              1,
              "#f0f921"
             ]
            ],
            "type": "heatmap"
           }
          ],
          "heatmapgl": [
           {
            "colorbar": {
             "outlinewidth": 0,
             "ticks": ""
            },
            "colorscale": [
             [
              0,
              "#0d0887"
             ],
             [
              0.1111111111111111,
              "#46039f"
             ],
             [
              0.2222222222222222,
              "#7201a8"
             ],
             [
              0.3333333333333333,
              "#9c179e"
             ],
             [
              0.4444444444444444,
              "#bd3786"
             ],
             [
              0.5555555555555556,
              "#d8576b"
             ],
             [
              0.6666666666666666,
              "#ed7953"
             ],
             [
              0.7777777777777778,
              "#fb9f3a"
             ],
             [
              0.8888888888888888,
              "#fdca26"
             ],
             [
              1,
              "#f0f921"
             ]
            ],
            "type": "heatmapgl"
           }
          ],
          "histogram": [
           {
            "marker": {
             "colorbar": {
              "outlinewidth": 0,
              "ticks": ""
             }
            },
            "type": "histogram"
           }
          ],
          "histogram2d": [
           {
            "colorbar": {
             "outlinewidth": 0,
             "ticks": ""
            },
            "colorscale": [
             [
              0,
              "#0d0887"
             ],
             [
              0.1111111111111111,
              "#46039f"
             ],
             [
              0.2222222222222222,
              "#7201a8"
             ],
             [
              0.3333333333333333,
              "#9c179e"
             ],
             [
              0.4444444444444444,
              "#bd3786"
             ],
             [
              0.5555555555555556,
              "#d8576b"
             ],
             [
              0.6666666666666666,
              "#ed7953"
             ],
             [
              0.7777777777777778,
              "#fb9f3a"
             ],
             [
              0.8888888888888888,
              "#fdca26"
             ],
             [
              1,
              "#f0f921"
             ]
            ],
            "type": "histogram2d"
           }
          ],
          "histogram2dcontour": [
           {
            "colorbar": {
             "outlinewidth": 0,
             "ticks": ""
            },
            "colorscale": [
             [
              0,
              "#0d0887"
             ],
             [
              0.1111111111111111,
              "#46039f"
             ],
             [
              0.2222222222222222,
              "#7201a8"
             ],
             [
              0.3333333333333333,
              "#9c179e"
             ],
             [
              0.4444444444444444,
              "#bd3786"
             ],
             [
              0.5555555555555556,
              "#d8576b"
             ],
             [
              0.6666666666666666,
              "#ed7953"
             ],
             [
              0.7777777777777778,
              "#fb9f3a"
             ],
             [
              0.8888888888888888,
              "#fdca26"
             ],
             [
              1,
              "#f0f921"
             ]
            ],
            "type": "histogram2dcontour"
           }
          ],
          "mesh3d": [
           {
            "colorbar": {
             "outlinewidth": 0,
             "ticks": ""
            },
            "type": "mesh3d"
           }
          ],
          "parcoords": [
           {
            "line": {
             "colorbar": {
              "outlinewidth": 0,
              "ticks": ""
             }
            },
            "type": "parcoords"
           }
          ],
          "pie": [
           {
            "automargin": true,
            "type": "pie"
           }
          ],
          "scatter": [
           {
            "marker": {
             "colorbar": {
              "outlinewidth": 0,
              "ticks": ""
             }
            },
            "type": "scatter"
           }
          ],
          "scatter3d": [
           {
            "line": {
             "colorbar": {
              "outlinewidth": 0,
              "ticks": ""
             }
            },
            "marker": {
             "colorbar": {
              "outlinewidth": 0,
              "ticks": ""
             }
            },
            "type": "scatter3d"
           }
          ],
          "scattercarpet": [
           {
            "marker": {
             "colorbar": {
              "outlinewidth": 0,
              "ticks": ""
             }
            },
            "type": "scattercarpet"
           }
          ],
          "scattergeo": [
           {
            "marker": {
             "colorbar": {
              "outlinewidth": 0,
              "ticks": ""
             }
            },
            "type": "scattergeo"
           }
          ],
          "scattergl": [
           {
            "marker": {
             "colorbar": {
              "outlinewidth": 0,
              "ticks": ""
             }
            },
            "type": "scattergl"
           }
          ],
          "scattermapbox": [
           {
            "marker": {
             "colorbar": {
              "outlinewidth": 0,
              "ticks": ""
             }
            },
            "type": "scattermapbox"
           }
          ],
          "scatterpolar": [
           {
            "marker": {
             "colorbar": {
              "outlinewidth": 0,
              "ticks": ""
             }
            },
            "type": "scatterpolar"
           }
          ],
          "scatterpolargl": [
           {
            "marker": {
             "colorbar": {
              "outlinewidth": 0,
              "ticks": ""
             }
            },
            "type": "scatterpolargl"
           }
          ],
          "scatterternary": [
           {
            "marker": {
             "colorbar": {
              "outlinewidth": 0,
              "ticks": ""
             }
            },
            "type": "scatterternary"
           }
          ],
          "surface": [
           {
            "colorbar": {
             "outlinewidth": 0,
             "ticks": ""
            },
            "colorscale": [
             [
              0,
              "#0d0887"
             ],
             [
              0.1111111111111111,
              "#46039f"
             ],
             [
              0.2222222222222222,
              "#7201a8"
             ],
             [
              0.3333333333333333,
              "#9c179e"
             ],
             [
              0.4444444444444444,
              "#bd3786"
             ],
             [
              0.5555555555555556,
              "#d8576b"
             ],
             [
              0.6666666666666666,
              "#ed7953"
             ],
             [
              0.7777777777777778,
              "#fb9f3a"
             ],
             [
              0.8888888888888888,
              "#fdca26"
             ],
             [
              1,
              "#f0f921"
             ]
            ],
            "type": "surface"
           }
          ],
          "table": [
           {
            "cells": {
             "fill": {
              "color": "#EBF0F8"
             },
             "line": {
              "color": "white"
             }
            },
            "header": {
             "fill": {
              "color": "#C8D4E3"
             },
             "line": {
              "color": "white"
             }
            },
            "type": "table"
           }
          ]
         },
         "layout": {
          "annotationdefaults": {
           "arrowcolor": "#2a3f5f",
           "arrowhead": 0,
           "arrowwidth": 1
          },
          "autotypenumbers": "strict",
          "coloraxis": {
           "colorbar": {
            "outlinewidth": 0,
            "ticks": ""
           }
          },
          "colorscale": {
           "diverging": [
            [
             0,
             "#8e0152"
            ],
            [
             0.1,
             "#c51b7d"
            ],
            [
             0.2,
             "#de77ae"
            ],
            [
             0.3,
             "#f1b6da"
            ],
            [
             0.4,
             "#fde0ef"
            ],
            [
             0.5,
             "#f7f7f7"
            ],
            [
             0.6,
             "#e6f5d0"
            ],
            [
             0.7,
             "#b8e186"
            ],
            [
             0.8,
             "#7fbc41"
            ],
            [
             0.9,
             "#4d9221"
            ],
            [
             1,
             "#276419"
            ]
           ],
           "sequential": [
            [
             0,
             "#0d0887"
            ],
            [
             0.1111111111111111,
             "#46039f"
            ],
            [
             0.2222222222222222,
             "#7201a8"
            ],
            [
             0.3333333333333333,
             "#9c179e"
            ],
            [
             0.4444444444444444,
             "#bd3786"
            ],
            [
             0.5555555555555556,
             "#d8576b"
            ],
            [
             0.6666666666666666,
             "#ed7953"
            ],
            [
             0.7777777777777778,
             "#fb9f3a"
            ],
            [
             0.8888888888888888,
             "#fdca26"
            ],
            [
             1,
             "#f0f921"
            ]
           ],
           "sequentialminus": [
            [
             0,
             "#0d0887"
            ],
            [
             0.1111111111111111,
             "#46039f"
            ],
            [
             0.2222222222222222,
             "#7201a8"
            ],
            [
             0.3333333333333333,
             "#9c179e"
            ],
            [
             0.4444444444444444,
             "#bd3786"
            ],
            [
             0.5555555555555556,
             "#d8576b"
            ],
            [
             0.6666666666666666,
             "#ed7953"
            ],
            [
             0.7777777777777778,
             "#fb9f3a"
            ],
            [
             0.8888888888888888,
             "#fdca26"
            ],
            [
             1,
             "#f0f921"
            ]
           ]
          },
          "colorway": [
           "#636efa",
           "#EF553B",
           "#00cc96",
           "#ab63fa",
           "#FFA15A",
           "#19d3f3",
           "#FF6692",
           "#B6E880",
           "#FF97FF",
           "#FECB52"
          ],
          "font": {
           "color": "#2a3f5f"
          },
          "geo": {
           "bgcolor": "white",
           "lakecolor": "white",
           "landcolor": "#E5ECF6",
           "showlakes": true,
           "showland": true,
           "subunitcolor": "white"
          },
          "hoverlabel": {
           "align": "left"
          },
          "hovermode": "closest",
          "mapbox": {
           "style": "light"
          },
          "paper_bgcolor": "white",
          "plot_bgcolor": "#E5ECF6",
          "polar": {
           "angularaxis": {
            "gridcolor": "white",
            "linecolor": "white",
            "ticks": ""
           },
           "bgcolor": "#E5ECF6",
           "radialaxis": {
            "gridcolor": "white",
            "linecolor": "white",
            "ticks": ""
           }
          },
          "scene": {
           "xaxis": {
            "backgroundcolor": "#E5ECF6",
            "gridcolor": "white",
            "gridwidth": 2,
            "linecolor": "white",
            "showbackground": true,
            "ticks": "",
            "zerolinecolor": "white"
           },
           "yaxis": {
            "backgroundcolor": "#E5ECF6",
            "gridcolor": "white",
            "gridwidth": 2,
            "linecolor": "white",
            "showbackground": true,
            "ticks": "",
            "zerolinecolor": "white"
           },
           "zaxis": {
            "backgroundcolor": "#E5ECF6",
            "gridcolor": "white",
            "gridwidth": 2,
            "linecolor": "white",
            "showbackground": true,
            "ticks": "",
            "zerolinecolor": "white"
           }
          },
          "shapedefaults": {
           "line": {
            "color": "#2a3f5f"
           }
          },
          "ternary": {
           "aaxis": {
            "gridcolor": "white",
            "linecolor": "white",
            "ticks": ""
           },
           "baxis": {
            "gridcolor": "white",
            "linecolor": "white",
            "ticks": ""
           },
           "bgcolor": "#E5ECF6",
           "caxis": {
            "gridcolor": "white",
            "linecolor": "white",
            "ticks": ""
           }
          },
          "title": {
           "x": 0.05
          },
          "xaxis": {
           "automargin": true,
           "gridcolor": "white",
           "linecolor": "white",
           "ticks": "",
           "title": {
            "standoff": 15
           },
           "zerolinecolor": "white",
           "zerolinewidth": 2
          },
          "yaxis": {
           "automargin": true,
           "gridcolor": "white",
           "linecolor": "white",
           "ticks": "",
           "title": {
            "standoff": 15
           },
           "zerolinecolor": "white",
           "zerolinewidth": 2
          }
         }
        },
        "xaxis": {
         "autorange": true,
         "range": [
          0,
          426
         ]
        },
        "yaxis": {
         "autorange": true,
         "range": [
          -0.20034812403946,
          0.5824683567497404
         ],
         "type": "linear"
        }
       }
      },
      "image/png": "[encoded data removed]",
      "text/html": [
       "<div>                            <div id=\"a16bfdde-564e-45ca-8c31-1068cdfd99af\" class=\"plotly-graph-div\" style=\"height:525px; width:100%;\"></div>            <script type=\"text/javascript\">                require([\"plotly\"], function(Plotly) {                    window.PLOTLYENV=window.PLOTLYENV || {};                                    if (document.getElementById(\"a16bfdde-564e-45ca-8c31-1068cdfd99af\")) {                    Plotly.newPlot(                        \"a16bfdde-564e-45ca-8c31-1068cdfd99af\",                        [{\"mode\": \"lines\", \"name\": \"pred\", \"type\": \"scatter\", \"y\": [0.08409264799251182, 0.08476991670157084, 0.100857160277183, 0.07585110169384351, 0.10168378194041695, 0.07543003967025752, 0.0641239575248609, 0.07696932933955597, 0.11865235873433494, 0.06303783928929596, 0.06637699164938843, 0.061005404869670335, 0.12036199800389548, 0.06625604290417136, 0.1264777462828927, 0.14057656791172984, 0.09277441758120851, 0.06774344324239628, 0.10534911662368428, 0.1178045628743441, 0.07958975639024556, 0.11145932479008858, 0.1094827038558499, 0.12137824338035487, 0.07083365964613063, 0.08974191445272106, 0.11788315403103528, 0.08365110628992117, 0.09269879495943084, 0.044075887348603474, 0.07580269730780674, 0.06410732645372008, 0.10645944726779838, 0.07584270662058727, 0.06604763121408452, 0.06812161742013845, 0.0723637588407947, 0.09916470295599783, 0.08015082217195729, 0.11011996644618144, 0.07154720274665799, 0.07199261701603056, 0.07624586038053915, 0.1221879499545604, 0.07889418841436774, -0.06544260080519952, 0.10019513654794848, 0.07126028406924746, 0.08319474920755908, 0.09233388934746313, 0.05737784039975492, 0.0858137561662553, 0.07882727268454631, 0.0702659557938695, 0.06726425101186552, 0.08545733646843033, 0.09779976851992139, 0.06980972753574527, 0.10826041438588806, 0.0794158829310504, 0.10796074915520332, 0.0643745332084361, 0.067007920743416, 0.15144109361742186, 0.09666175863073967, 0.0719456608834015, 0.10178874608040857, 0.07076407885286518, 0.07872596024175726, 0.07860741444371105, 0.09517526741720089, 0.11871255005700315, 0.11125491867663663, 0.06321458579541238, 0.15213342621050985, 0.06950807307133688, 0.11514232364189769, 0.07833294163604887, 0.054312255262268225, 0.12315931325584834, 0.09060046584367308, 0.053445342885674055, 0.1303773015275772, 0.06030833973988271, 0.07787566598550938, 0.11929128551087992, 0.10532635167871568, 0.12244563039521655, 0.10913534731905893, 0.1040535341033107, 0.09241803127732523, 0.09494947019704197, 0.11382664106645596, 0.07563046650593591, 0.11812157124249668, 0.1183501683301375, 0.10617268840673988, 0.12861712235535971, 0.047611737628317725, 0.06780139811623792, 0.08744984340241835, 0.07030967636749712, 0.10674235235784219, 0.098497074425835, 0.11832347853073731, 0.09649250511242607, 0.12006817736968088, 0.0856439238150202, 0.06874262656189162, 0.08183413826541579, 0.10373051840031994, 0.09459675423537561, 0.009248368211820353, 0.060590462797523906, 0.09257175311392535, 0.1175336706182072, 0.1005115723250073, 0.07344127396590579, 0.08715886199243673, 0.08218714917603308, 0.12653799764972745, 0.09766898147867563, 0.11998959446088114, 0.11070671515744096, 0.09967461176032355, 0.07106630894028632, 0.12114418833259753, 0.12172419671631164, 0.10399703008991273, 0.07533834009033807, 0.07421310231456135, 0.1289781241586498, 0.0897728458189469, 0.1189445296712096, 0.1272571254060343, 0.0962124779818362, 0.0856189348153692, 0.11545039281932096, 0.10307071327103795, 0.1062532323809059, 0.08167256170339075, 0.08540373019589044, 0.08031090107199024, 0.0722770044522074, 0.07905644923496241, 0.12637610291312673, 0.07271380388252184, 0.07367078659160008, 0.08989418859693367, 0.04440686165027462, 0.08651716882879021, 0.10174598710010418, 0.12105156084295578, 0.08357454929053998, 0.06429662929579456, 0.07428021166385804, 0.09628969193206899, 0.08616083965257765, 0.10313335929652591, 0.0755793684513716, 0.11563839459430963, 0.08139350479597726, 0.09359042204223106, 0.09511063326550678, 0.12378148592408539, 0.08676394648073099, 0.0650539587186723, 0.0991388606328435, 0.10661987243689436, 0.021071959832800476, 0.12553205719968652, 0.11278461039534438, 0.1286170537916227, 0.06275400679072353, 0.12104039211197687, 0.05015644766135108, 0.06940950866749057, 0.10036780720057997, 0.06902808957326423, 0.12609129715833722, 0.10635813479265853, 0.10044080990209187, 0.08510763457775637, 0.07511027442024641, 0.06188160495859775, 0.13121665044931902, 0.06501708018663592, 0.07051464360733212, 0.09205652862226521, 0.026411361434456784, 0.0955081796583619, 0.10279376943655825, 0.11478235079275968, 0.09486277637898188, 0.09439773786743383, 0.1779396924866039, 0.12864259600391675, 0.10092515294212435, 0.0638488635088879, 0.07973717043444578, 0.04624404654054237, 0.0587501295568742, 0.07280305614519733, 0.12187509349070008, 0.06674894965150363, 0.1047534962258554, 0.10982415195462734, 0.08738690877499827, 0.04021109182971572, 0.09430328682962111, 0.10684267101176742, 0.09823911341872554, 0.06273820533311884, 0.12395764355470335, 0.09355435034333195, 0.13534816308566597, 0.10986924333513126, 0.062482414195710226, 0.075245754513111, 0.09278540430600979, 0.06937053189973465, 0.10630640336686249, 0.09216715627840431, 0.10404135685337179, 0.06618479985110742, 0.1195453249997363, 0.10074981667877819, 0.07254339372468827, 0.09141376761701059, 0.07892892504410938, 0.11266396002078925, 0.10112618942189856, 0.0620816020521897, 0.08839122149930755, 0.11409755940367788, 0.11922371762324951, 0.0929064191294065, 0.07360929090406626, 0.06978416147715527, 0.06134261136416641, 0.08017777641282385, 0.06289073795127081, 0.07522714103898497, 0.07001101025174074, 0.12417818980023056, 0.07644842249955089, 0.08381933640533325, 0.07246689117795402, 0.07301187525777621, 0.10894978787869314, 0.09126293468420171, 0.08555581911670923, 0.06831650063501159, 0.09187996748869019, 0.09008552227884181, 0.11654589976208013, 0.11809210383130736, 0.07076596784346699, 0.11454499540124446, 0.06782877907517948, 0.06627239208977959, 0.10710241093596712, 0.10869804853132524, 0.0817356639142434, 0.1174544170161807, 0.07482848455934521, 0.12446055156252413, 0.10908081396885261, 0.0705624562752406, 0.0843999380005423, 0.054540613122137996, 0.11371048201804212, 0.10221315848670141, 0.042669109446991635, 0.09022090916036384, 0.10856945270993314, 0.09392443166294112, 0.08083011204393346, 0.07198516285368274, 0.10180253074402551, 0.11318209117542154, 0.11868387413945364, 0.06235200047855483, 0.09325319888301742, 0.07560722826392757, 0.05936035235348647, 0.08125375310343635, 0.0962761352592203, 0.07514459067084436, 0.06080327535521694, 0.10036527230204807, 0.07057779960029398, 0.11245905939560617, 0.09016531533338434, 0.045182509442607585, 0.04776101142223445, 0.07443310645869089, 0.06360882958320856, 0.10015190486575021, 0.07055698037976593, 0.07921958272663904, 0.09576289809684874, 0.08511276953077697, 0.05604065263630649, 0.0995990865684922, 0.12080504754890097, 0.07914243610974442, 0.0915024724643446, 0.09971935486041339, 0.07014183014931247, 0.07620505886049045, 0.07625536278690592, 0.1169040016184007, 0.11740871502207774, 0.06691063514803823, 0.10956275011809141, 0.09432546371858314, 0.11141293116539092, 0.08464554436331619, 0.12368326121015592, 0.10016055513212141, 0.03935276699124614, 0.0940334819591111, 0.06248568919627885, 0.1226434754536379, 0.06588549680770693, 0.12391414078130537, 0.06437924087714776, 0.11138772436886418, 0.06806504853531514, 0.09126194155132841, 0.08379012081851306, 0.08820035014543393, 0.1297785581538377, 0.11707943235586454, 0.07580503861699316, 0.11747005297616181, 0.09110849786987846, 0.06906810971946976, 0.06325568214209176, 0.11035953422407602, 0.12049250362733432, 0.07789485202293872, 0.0930103334288348, 0.10880560063956085, 0.05135893987103818, 0.10345103746205629, 0.11883512132039532, 0.03972827543148229, 0.12406228678510599, 0.11598903209524697, 0.10946041157973013, 0.12520946701740787, 0.11810099482622194, 0.08754526320357103, 0.08415018939113666, 0.08253722153500663, 0.12133907769345699, 0.09638395764852002, 0.06281783526563323, 0.1206380988048335, 0.109646954688705, 0.0587019181439552, 0.10552671294636279, 0.11373735331450596, 0.02447584930582032, 0.07757782962258565, 0.04225469078700307, 0.07994036587149499, 0.06364712650412886, 0.09698645943277276, 0.06905292405396779, 0.07697452461488548, 0.021342232002236852, 0.07726336633239572, 0.11902713895027134, 0.10692489891979745, 0.037915652814259515, 0.07154802835795182, 0.06446746381842648, 0.015766647653420063, 0.11434664951510914, 0.07901695015547326, 0.11731214366250992, 0.11662565533881225, 0.0654172462456938, 0.07324783926074961, 0.12250843587084094, 0.06214990829378621, 0.07272451320922696, 0.09384373284789485, 0.09381422897464087, 0.08063611417799052, 0.07623684419592425, 0.07213324113299026, 0.056504397026219566, 0.12312976247482882, 0.11507883950270598, 0.06790051649739831, 0.05388846991963071, 0.09210357950443893, 0.08826567454032007, 0.1117743577224184, 0.07144414732768388, 0.08210931693025614, 0.069351093587492, 0.10288221275223207, 0.1131752074858272, 0.11864797416712468, 0.08690139598924423, 0.07749517878321022, 0.08128186841415946, 0.10964460634237727, 0.0902428449211121, 0.040464829587847376, 0.11165706392354367, 0.039594142599924345, 0.08000093906735323, 0.11143500526519545, 0.10272713464941768, 0.09728463629161371, 0.11945413973196134, 0.0729219728009271, 0.12831757495277346, 0.10823251348684425, 0.09520344519066354, 0.08208249799008428]}, {\"mode\": \"lines\", \"name\": \"label\", \"type\": \"scatter\", \"y\": [0.02755931450704225, 0.14228789839572192, -0.02242357777777778, -0.06340902500000001, 0.05392990506352086, 0.04790675164473685, 0.1025076, 0.039715967058823534, 0.09129987130136986, 0.100340965, -0.005492369, -0.026956333864864863, 0.01893410080823529, 0.16161547352941175, 0.07771901414634146, 0.035565322326923075, 0.2495076257142857, 0.2439948102564103, 0.06498861355704699, 0.028354982202803736, 0.30254066756756753, 0.12456563663573088, 0.2477826927622377, 0.06702306212962965, 0.03580529371402215, -0.023314008426315792, 0.056986276411764715, 0.0346787, 0.11692503448275862, -0.00438659988235294, 0.0533980435483871, 0.02773922953517588, -0.02176302388429752, -0.04659859375, 0.031751491524475525, 0.03000558245714285, 0.12045004688888887, -0.027451232962962955, -0.02153830393421053, -0.014606537608849559, 0.052005556, -0.033734026250000014, -0.014337581352941175, 0.03727539714285714, 0.04797137025641025, -0.0023277772923076924, -0.10715100454545454, -0.07004042034482758, -0.13691840877192982, -0.12903066739130434, -0.004168055116666667, 0.07100556000000001, -0.03350833375, -0.0313132847826087, 0.05308318164383561, 0.011340704224999998, 0.039822760000000006, 0.02576746, 0.21455820263157896, 0.012564567665071769, 0.18181645070422534, 0.1458311052631579, -0.07645996000000001, 0.0427342106569343, 0.12978125000000004, 0.1655900833333333, 0.14867332, 0.5433275327102803, 0.040034525000000015, 0.07564963571428572, 0.4160792347826088, 0.22587091610405785, 0.2040987505546448, 0.26300677, 0.09014655000000003, 0.25676282266390976, 0.2554871609589041, 0.17310600000000004, -0.05798715641025641, 0.15734831040849195, 0.08679918, -0.02699249, 0.09324016098696088, 0.07050288037037038, -0.11478813095238095, -0.015705642716267548, 0.2353130582666667, 0.32017999274611403, 0.475680445890411, 0.2626178793859649, -0.04001068, 0.14183175, 0.14213977145299145, 0.07645612000000003, 0.1146456555045872, 0.20199914814814812, 0.13476813756613756, 0.10684358196457328, 0.06457891999999997, 0.09205964393939392, -0.00037722040454545453, 0.0632180177142857, -0.031990370440825686, 0.0192966927270903, 0.010082550241379313, 0.017789446666666663, 0.06761801714285715, 0.029122782000000007, 0.052294119428037376, -0.0008401827633333334, 0.04287674833333333, 0.03468688461538461, 0.0683727825, 0.08045611, 0.06295611307692307, 0.10342685320073126, 0.1925828430729167, 0.19862277, 0.17577056226415091, 0.06378944114649683, 0.12033708108527133, 0.16686047549019611, 0.11316392196836556, 0.14116437802690587, 0.2449622325581395, 0.17222002205882356, 0.13171812106596406, 0.05373355632478634, 0.24347577372413795, 0.22419387080291966, 0.1045392100943396, 0.00995182123856655, 0.07875496961290324, 0.10376808233576644, 0.03144692471311476, 0.1289973731640625, -0.03694664370238095, 0.06466574545454544, 0.0029990126666666673, 0.0182268137735849, 0.026838503703703703, -0.03726026444444445, -0.07777518870967744, -0.08950976842105264, -0.1173342, -0.01924366005181348, 0.0012516169000000008, -0.09884543546666666, -0.05301248120689656, -0.061649135, 0.009184198222222223, 0.03419053586234718, -0.05410089333053221, -0.06115971761904763, -0.02294542833333333, -0.03963193928571429, -0.015101143271361504, -0.06889142930069929, 0.007514995384246574, -0.029397213018867926, -0.031226211756756755, 0.03962401375, -0.0017689606607843137, 0.013000643117848409, 0.00184819649122807, -0.051662030000000005, -0.015134262666666669, -0.010131268281879194, 0.009135331758713141, -0.026978716000000003, 0.022299856213414637, 0.21174551875, 0.047003689178531066, 0.15669403636363635, 0.07600369353932583, 0.022777151870270268, -0.0021366743913043477, 0.28360162868852457, -0.05425811874863387, 0.1073678281911263, 0.05668133185863874, 0.07057721048387097, 0.03479166861111112, 0.034074074861111116, 0.003108638888888889, 0.24977516129032265, 0.2766414871794872, 0.026755167602941173, 0.0423679, 0.04616055439763779, 0.07235201333333334, 0.27828361790123457, 0.15515501987473904, 0.07253456999999999, -0.023785944615384608, -0.005965433000000001, -0.08511271232558139, 0.03861214386820277, 0.09470123400000001, 0.0012567889, 0.0998410148387097, 0.1498037923076923, 0.055939328095238106, 0.1388210845597753, 0.12895966426966293, 0.016000378974358968, 0.2282062827878787, 0.1296634964150943, 0.11059012166666668, 0.07570123, 0.10862743977099236, -0.039975237000000004, 0.100201233, 0.03359247017957746, -0.011667188594736843, -0.0089727, 0.031351635541871925, 0.009534274791666669, 0.049598771428571435, 0.2780088922222222, 0.06065377241379311, 0.13440264201680674, 0.09280287839195983, -0.011678093151627909, -0.009805998, 0.005401275383248733, 0.1387692677419355, 0.01760628210526316, -0.0187504448, -0.01926678529411765, -0.007719222833884297, 0.21239097090909093, 0.4029281586776859, 0.18974414247787613, 0.07354806027860697, 0.1290407225, 0.039323072706766916, 0.2502445030303031, 0.2198909772727273, 0.09616789469879518, -0.010171352186699505, -0.027806001000000004, -0.03897267, 0.021128235294117646, 0.29229463157894736, 0.29499826315789474, 0.29066386250000004, 0.2237471375, 0.2146238076923077, 0.2311870072595281, 0.13260311594202898, 0.023068310877192987, 0.09751931, -0.0208417015, -0.022739849525, 0.2692565035786436, 0.0913761102116402, 0.11008837658653843, 0.17777530257261412, 0.3237261800000001, 0.012985459480555557, 0.061381238651162774, 0.1362768218224299, 0.07495168999999999, 0.14961216496842109, 0.024491965920270267, 0.03647792857142857, 0.08958101407960198, 0.045922216184210524, 0.22744270514444445, 0.0018357756238532108, 0.1786342841483198, 0.124849392760181, 0.06067217733333333, 0.12870964333488372, 0.18787697213930346, 0.0382327840909091, 0.07455313, 0.03689439945555555, 0.16406884502262445, 0.21071180052117264, 0.14416546281407036, 0.12245953793103448, -0.00934098010789474, 0.015202479090909087, 0.029473172353731338, 0.06609374529411764, 0.027211239359375, 0.10476907325581396, 0.3282833, 0.04383634935064935, 0.009822074911764707, -0.032692612380952384, 0.217324995522388, 0.11407033333333333, -0.12854079999999998, -0.06967955833333334, -0.1297785714285714, 0.2267466803874092, -0.09020734, -0.12057844528301885, 0.024287368326224783, 0.1316890004695122, -0.027414246827586204, -0.10387401999999997, -0.04604606000000002, -0.06252810471698113, -0.03838683692307692, -0.1419730918918919, -0.1612073, -0.15981845000000006, -0.1248088664367816, 0.1385671843510055, 0.04646995646223405, 0.06473015020833332, 0.22814103511278194, 0.09269095966101697, 0.14893155277777775, 0.10735197457627116, 0.2091617514010508, 0.2523023793103448, 0.20880566666666667, 0.1151681, -0.010813371382550336, 0.1033418658973384, -0.0415401538938053, 0.08143732446700506, 0.1740812947368421, 0.2482841872511849, 0.12253903389473687, 0.008153081110000002, -0.026448771333333333, 0.1402406254017668, 0.11651696891260745, 0.08885868082621083, 0.045643465000000015, 0.020010923639705882, -0.0476199694680851, -0.04031052135057472, 0.03142159856111111, -0.022013589128653838, 0.3692544571428572, 0.32176209375, 0.08728933631578949, 0.14377820086956525, 0.15852605263157896, 0.13603237980613894, 0.29711145336787564, 0.2573250256410256, 0.19526121222707424, 0.43144137928802573, 0.08452264679687503, 0.0681524355950096, 0.0013731607756716404, 0.029995291262458475, 0.11751060488524592, 0.08038781166666666, 0.09816944155092593, 0.010259863363636363, -0.006460038264864867, 0.13932058468763006, 0.3308753888130969, 0.3030503652173913, 0.17742673943661974, 0.3600046376442634, 0.1361903333333333, 0.1892458846153846, 0.27643010842105264, 0.20098832727272728, 0.1867459, 0.08899816216216216, 0.12813481666666665, 0.08069327526315791, 0.4557098621621622, 0.3744731636363637, 0.4847569042452831, 0.2209564251461988, 0.19811844705882356, 0.26091255, 0.21863478, 0.08480146583333333, 0.18910283476394849, 0.4105204029411765, 0.01629652903225807, 0.128400010625, 0.11242084951456313, 0.3861934444444444, 0.06493603454545456, 0.20975157142857145, 0.1775353195121951, 0.019133571578947368, 0.15064074753205128, 0.052847011666666666, 0.03376467090178571, 0.05434038623853212, 0.2066043286842105, 0.040081718617977526, -0.02399059468557693, 0.016238825, -0.0005557645416666665, -0.036041875, 0.06801497093023258, 0.26067038995136776, 0.08093091522448981, 0.01194592830731707, -0.08937521, -0.031208543394444444, -0.042021404665789484, 0.01787148594140969, 0.15210994389108912, 0.014612885182142859, 0.12505855730769228, 0.052305832238095235, 0.08102253953488373, 0.00988123896331878, 0.041256611859154926, 0.04528837647058823, -0.0030137653181818184, 0.09768610743260236, 0.08139497666666667, 0.21916045817891366, 0.11995030223463687, 0.01425896, 0.208612450604534, 0.05877105082984456, -0.0013932144514492767, 0.15521014232323235]}],                        {\"template\": {\"data\": {\"bar\": [{\"error_x\": {\"color\": \"#2a3f5f\"}, \"error_y\": {\"color\": \"#2a3f5f\"}, \"marker\": {\"line\": {\"color\": \"#E5ECF6\", \"width\": 0.5}}, \"type\": \"bar\"}], \"barpolar\": [{\"marker\": {\"line\": {\"color\": \"#E5ECF6\", \"width\": 0.5}}, \"type\": \"barpolar\"}], \"carpet\": [{\"aaxis\": {\"endlinecolor\": \"#2a3f5f\", \"gridcolor\": \"white\", \"linecolor\": \"white\", \"minorgridcolor\": \"white\", \"startlinecolor\": \"#2a3f5f\"}, \"baxis\": {\"endlinecolor\": \"#2a3f5f\", \"gridcolor\": \"white\", \"linecolor\": \"white\", \"minorgridcolor\": \"white\", \"startlinecolor\": \"#2a3f5f\"}, \"type\": \"carpet\"}], \"choropleth\": [{\"colorbar\": {\"outlinewidth\": 0, \"ticks\": \"\"}, \"type\": \"choropleth\"}], \"contour\": [{\"colorbar\": {\"outlinewidth\": 0, \"ticks\": \"\"}, \"colorscale\": [[0.0, \"#0d0887\"], [0.1111111111111111, \"#46039f\"], [0.2222222222222222, \"#7201a8\"], [0.3333333333333333, \"#9c179e\"], [0.4444444444444444, \"#bd3786\"], [0.5555555555555556, \"#d8576b\"], [0.6666666666666666, \"#ed7953\"], [0.7777777777777778, \"#fb9f3a\"], [0.8888888888888888, \"#fdca26\"], [1.0, \"#f0f921\"]], \"type\": \"contour\"}], \"contourcarpet\": [{\"colorbar\": {\"outlinewidth\": 0, \"ticks\": \"\"}, \"type\": \"contourcarpet\"}], \"heatmap\": [{\"colorbar\": {\"outlinewidth\": 0, \"ticks\": \"\"}, \"colorscale\": [[0.0, \"#0d0887\"], [0.1111111111111111, \"#46039f\"], [0.2222222222222222, \"#7201a8\"], [0.3333333333333333, \"#9c179e\"], [0.4444444444444444, \"#bd3786\"], [0.5555555555555556, \"#d8576b\"], [0.6666666666666666, \"#ed7953\"], [0.7777777777777778, \"#fb9f3a\"], [0.8888888888888888, \"#fdca26\"], [1.0, \"#f0f921\"]], \"type\": \"heatmap\"}], \"heatmapgl\": [{\"colorbar\": {\"outlinewidth\": 0, \"ticks\": \"\"}, \"colorscale\": [[0.0, \"#0d0887\"], [0.1111111111111111, \"#46039f\"], [0.2222222222222222, \"#7201a8\"], [0.3333333333333333, \"#9c179e\"], [0.4444444444444444, \"#bd3786\"], [0.5555555555555556, \"#d8576b\"], [0.6666666666666666, \"#ed7953\"], [0.7777777777777778, \"#fb9f3a\"], [0.8888888888888888, \"#fdca26\"], [1.0, \"#f0f921\"]], \"type\": \"heatmapgl\"}], \"histogram\": [{\"marker\": {\"colorbar\": {\"outlinewidth\": 0, \"ticks\": \"\"}}, \"type\": \"histogram\"}], \"histogram2d\": [{\"colorbar\": {\"outlinewidth\": 0, \"ticks\": \"\"}, \"colorscale\": [[0.0, \"#0d0887\"], [0.1111111111111111, \"#46039f\"], [0.2222222222222222, \"#7201a8\"], [0.3333333333333333, \"#9c179e\"], [0.4444444444444444, \"#bd3786\"], [0.5555555555555556, \"#d8576b\"], [0.6666666666666666, \"#ed7953\"], [0.7777777777777778, \"#fb9f3a\"], [0.8888888888888888, \"#fdca26\"], [1.0, \"#f0f921\"]], \"type\": \"histogram2d\"}], \"histogram2dcontour\": [{\"colorbar\": {\"outlinewidth\": 0, \"ticks\": \"\"}, \"colorscale\": [[0.0, \"#0d0887\"], [0.1111111111111111, \"#46039f\"], [0.2222222222222222, \"#7201a8\"], [0.3333333333333333, \"#9c179e\"], [0.4444444444444444, \"#bd3786\"], [0.5555555555555556, \"#d8576b\"], [0.6666666666666666, \"#ed7953\"], [0.7777777777777778, \"#fb9f3a\"], [0.8888888888888888, \"#fdca26\"], [1.0, \"#f0f921\"]], \"type\": \"histogram2dcontour\"}], \"mesh3d\": [{\"colorbar\": {\"outlinewidth\": 0, \"ticks\": \"\"}, \"type\": \"mesh3d\"}], \"parcoords\": [{\"line\": {\"colorbar\": {\"outlinewidth\": 0, \"ticks\": \"\"}}, \"type\": \"parcoords\"}], \"pie\": [{\"automargin\": true, \"type\": \"pie\"}], \"scatter\": [{\"marker\": {\"colorbar\": {\"outlinewidth\": 0, \"ticks\": \"\"}}, \"type\": \"scatter\"}], \"scatter3d\": [{\"line\": {\"colorbar\": {\"outlinewidth\": 0, \"ticks\": \"\"}}, \"marker\": {\"colorbar\": {\"outlinewidth\": 0, \"ticks\": \"\"}}, \"type\": \"scatter3d\"}], \"scattercarpet\": [{\"marker\": {\"colorbar\": {\"outlinewidth\": 0, \"ticks\": \"\"}}, \"type\": \"scattercarpet\"}], \"scattergeo\": [{\"marker\": {\"colorbar\": {\"outlinewidth\": 0, \"ticks\": \"\"}}, \"type\": \"scattergeo\"}], \"scattergl\": [{\"marker\": {\"colorbar\": {\"outlinewidth\": 0, \"ticks\": \"\"}}, \"type\": \"scattergl\"}], \"scattermapbox\": [{\"marker\": {\"colorbar\": {\"outlinewidth\": 0, \"ticks\": \"\"}}, \"type\": \"scattermapbox\"}], \"scatterpolar\": [{\"marker\": {\"colorbar\": {\"outlinewidth\": 0, \"ticks\": \"\"}}, \"type\": \"scatterpolar\"}], \"scatterpolargl\": [{\"marker\": {\"colorbar\": {\"outlinewidth\": 0, \"ticks\": \"\"}}, \"type\": \"scatterpolargl\"}], \"scatterternary\": [{\"marker\": {\"colorbar\": {\"outlinewidth\": 0, \"ticks\": \"\"}}, \"type\": \"scatterternary\"}], \"surface\": [{\"colorbar\": {\"outlinewidth\": 0, \"ticks\": \"\"}, \"colorscale\": [[0.0, \"#0d0887\"], [0.1111111111111111, \"#46039f\"], [0.2222222222222222, \"#7201a8\"], [0.3333333333333333, \"#9c179e\"], [0.4444444444444444, \"#bd3786\"], [0.5555555555555556, \"#d8576b\"], [0.6666666666666666, \"#ed7953\"], [0.7777777777777778, \"#fb9f3a\"], [0.8888888888888888, \"#fdca26\"], [1.0, \"#f0f921\"]], \"type\": \"surface\"}], \"table\": [{\"cells\": {\"fill\": {\"color\": \"#EBF0F8\"}, \"line\": {\"color\": \"white\"}}, \"header\": {\"fill\": {\"color\": \"#C8D4E3\"}, \"line\": {\"color\": \"white\"}}, \"type\": \"table\"}]}, \"layout\": {\"annotationdefaults\": {\"arrowcolor\": \"#2a3f5f\", \"arrowhead\": 0, \"arrowwidth\": 1}, \"autotypenumbers\": \"strict\", \"coloraxis\": {\"colorbar\": {\"outlinewidth\": 0, \"ticks\": \"\"}}, \"colorscale\": {\"diverging\": [[0, \"#8e0152\"], [0.1, \"#c51b7d\"], [0.2, \"#de77ae\"], [0.3, \"#f1b6da\"], [0.4, \"#fde0ef\"], [0.5, \"#f7f7f7\"], [0.6, \"#e6f5d0\"], [0.7, \"#b8e186\"], [0.8, \"#7fbc41\"], [0.9, \"#4d9221\"], [1, \"#276419\"]], \"sequential\": [[0.0, \"#0d0887\"], [0.1111111111111111, \"#46039f\"], [0.2222222222222222, \"#7201a8\"], [0.3333333333333333, \"#9c179e\"], [0.4444444444444444, \"#bd3786\"], [0.5555555555555556, \"#d8576b\"], [0.6666666666666666, \"#ed7953\"], [0.7777777777777778, \"#fb9f3a\"], [0.8888888888888888, \"#fdca26\"], [1.0, \"#f0f921\"]], \"sequentialminus\": [[0.0, \"#0d0887\"], [0.1111111111111111, \"#46039f\"], [0.2222222222222222, \"#7201a8\"], [0.3333333333333333, \"#9c179e\"], [0.4444444444444444, \"#bd3786\"], [0.5555555555555556, \"#d8576b\"], [0.6666666666666666, \"#ed7953\"], [0.7777777777777778, \"#fb9f3a\"], [0.8888888888888888, \"#fdca26\"], [1.0, \"#f0f921\"]]}, \"colorway\": [\"#636efa\", \"#EF553B\", \"#00cc96\", \"#ab63fa\", \"#FFA15A\", \"#19d3f3\", \"#FF6692\", \"#B6E880\", \"#FF97FF\", \"#FECB52\"], \"font\": {\"color\": \"#2a3f5f\"}, \"geo\": {\"bgcolor\": \"white\", \"lakecolor\": \"white\", \"landcolor\": \"#E5ECF6\", \"showlakes\": true, \"showland\": true, \"subunitcolor\": \"white\"}, \"hoverlabel\": {\"align\": \"left\"}, \"hovermode\": \"closest\", \"mapbox\": {\"style\": \"light\"}, \"paper_bgcolor\": \"white\", \"plot_bgcolor\": \"#E5ECF6\", \"polar\": {\"angularaxis\": {\"gridcolor\": \"white\", \"linecolor\": \"white\", \"ticks\": \"\"}, \"bgcolor\": \"#E5ECF6\", \"radialaxis\": {\"gridcolor\": \"white\", \"linecolor\": \"white\", \"ticks\": \"\"}}, \"scene\": {\"xaxis\": {\"backgroundcolor\": \"#E5ECF6\", \"gridcolor\": \"white\", \"gridwidth\": 2, \"linecolor\": \"white\", \"showbackground\": true, \"ticks\": \"\", \"zerolinecolor\": \"white\"}, \"yaxis\": {\"backgroundcolor\": \"#E5ECF6\", \"gridcolor\": \"white\", \"gridwidth\": 2, \"linecolor\": \"white\", \"showbackground\": true, \"ticks\": \"\", \"zerolinecolor\": \"white\"}, \"zaxis\": {\"backgroundcolor\": \"#E5ECF6\", \"gridcolor\": \"white\", \"gridwidth\": 2, \"linecolor\": \"white\", \"showbackground\": true, \"ticks\": \"\", \"zerolinecolor\": \"white\"}}, \"shapedefaults\": {\"line\": {\"color\": \"#2a3f5f\"}}, \"ternary\": {\"aaxis\": {\"gridcolor\": \"white\", \"linecolor\": \"white\", \"ticks\": \"\"}, \"baxis\": {\"gridcolor\": \"white\", \"linecolor\": \"white\", \"ticks\": \"\"}, \"bgcolor\": \"#E5ECF6\", \"caxis\": {\"gridcolor\": \"white\", \"linecolor\": \"white\", \"ticks\": \"\"}}, \"title\": {\"x\": 0.05}, \"xaxis\": {\"automargin\": true, \"gridcolor\": \"white\", \"linecolor\": \"white\", \"ticks\": \"\", \"title\": {\"standoff\": 15}, \"zerolinecolor\": \"white\", \"zerolinewidth\": 2}, \"yaxis\": {\"automargin\": true, \"gridcolor\": \"white\", \"linecolor\": \"white\", \"ticks\": \"\", \"title\": {\"standoff\": 15}, \"zerolinecolor\": \"white\", \"zerolinewidth\": 2}}}},                        {\"responsive\": true}                    ).then(function(){\n",
       "                            \n",
       "var gd = document.getElementById('a16bfdde-564e-45ca-8c31-1068cdfd99af');\n",
       "var x = new MutationObserver(function (mutations, observer) {{\n",
       "        var display = window.getComputedStyle(gd).display;\n",
       "        if (!display || display === 'none') {{\n",
       "            console.log([gd, 'removed!']);\n",
       "            Plotly.purge(gd);\n",
       "            observer.disconnect();\n",
       "        }}\n",
       "}});\n",
       "\n",
       "// Listen for the removal of the full notebook cells\n",
       "var notebookContainer = gd.closest('#notebook-container');\n",
       "if (notebookContainer) {{\n",
       "    x.observe(notebookContainer, {childList: true});\n",
       "}}\n",
       "\n",
       "// Listen for the clearing of the current output cell\n",
       "var outputEl = gd.closest('.output');\n",
       "if (outputEl) {{\n",
       "    x.observe(outputEl, {childList: true});\n",
       "}}\n",
       "\n",
       "                        })                };                });            </script>        </div>"
      ]
     },
     "metadata": {},
     "output_type": "display_data"
    }
   ],
   "source": [
    "fig = go.Figure()\n",
    "fig.add_trace(go.Scatter(y=v_oof_preds,\n",
    "                    mode='lines',\n",
    "                    name='pred'))\n",
    "fig.add_trace(go.Scatter(y=y_valence,\n",
    "                    mode='lines',\n",
    "                    name='label'))\n",
    "fig.show()"
   ]
  },
  {
   "cell_type": "code",
   "execution_count": null,
   "metadata": {},
   "outputs": [],
   "source": []
  }
 ],
 "metadata": {
  "kernelspec": {
   "display_name": "Python 3",
   "language": "python",
   "name": "python3"
  },
  "language_info": {
   "codemirror_mode": {
    "name": "ipython",
    "version": 3
   },
   "file_extension": ".py",
   "mimetype": "text/x-python",
   "name": "python",
   "nbconvert_exporter": "python",
   "pygments_lexer": "ipython3",
   "version": "3.8.5"
  }
 },
 "nbformat": 4,
 "nbformat_minor": 4
}
